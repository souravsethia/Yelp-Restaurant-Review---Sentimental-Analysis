{
  "nbformat": 4,
  "nbformat_minor": 0,
  "metadata": {
    "kernelspec": {
      "display_name": "Python 3",
      "language": "python",
      "name": "python3"
    },
    "colab": {
      "name": "Yelp Project.ipynb",
      "provenance": [],
      "toc_visible": true
    },
    "accelerator": "GPU"
  },
  "cells": [
    {
      "cell_type": "markdown",
      "metadata": {
        "id": "6cdbLdmAJ8x7",
        "colab_type": "text"
      },
      "source": [
        "# Importing Libraries"
      ]
    },
    {
      "cell_type": "code",
      "metadata": {
        "id": "iBG0ZSa8J8x8",
        "colab_type": "code",
        "colab": {}
      },
      "source": [
        "import numpy as np\n",
        "import pandas as pd\n",
        "import nltk\n",
        "import re\n",
        "import string\n",
        "from sklearn.feature_extraction.text import TfidfVectorizer\n",
        "from sklearn.model_selection import train_test_split"
      ],
      "execution_count": 1,
      "outputs": []
    },
    {
      "cell_type": "code",
      "metadata": {
        "id": "IUjGmTe-J-nL",
        "colab_type": "code",
        "colab": {
          "base_uri": "https://localhost:8080/",
          "height": 122
        },
        "outputId": "c3c32b2f-0723-43c4-a587-2dfc9444000b"
      },
      "source": [
        "from google.colab import drive\n",
        "drive.mount('/content/drive')"
      ],
      "execution_count": 3,
      "outputs": [
        {
          "output_type": "stream",
          "text": [
            "Go to this URL in a browser: https://accounts.google.com/o/oauth2/auth?client_id=947318989803-6bn6qk8qdgf4n4g3pfee6491hc0brc4i.apps.googleusercontent.com&redirect_uri=urn%3aietf%3awg%3aoauth%3a2.0%3aoob&scope=email%20https%3a%2f%2fwww.googleapis.com%2fauth%2fdocs.test%20https%3a%2f%2fwww.googleapis.com%2fauth%2fdrive%20https%3a%2f%2fwww.googleapis.com%2fauth%2fdrive.photos.readonly%20https%3a%2f%2fwww.googleapis.com%2fauth%2fpeopleapi.readonly&response_type=code\n",
            "\n",
            "Enter your authorization code:\n",
            "··········\n",
            "Mounted at /content/drive\n"
          ],
          "name": "stdout"
        }
      ]
    },
    {
      "cell_type": "markdown",
      "metadata": {
        "id": "HQi13SuuJ8x_",
        "colab_type": "text"
      },
      "source": [
        "# Read Text"
      ]
    },
    {
      "cell_type": "code",
      "metadata": {
        "id": "1dbxlqOSJ8yA",
        "colab_type": "code",
        "colab": {}
      },
      "source": [
        "#pd.set_option('display.max_colwidth', 150)\n",
        "#stopwords = nltk.corpus.stopwords.words('english')\n",
        "#ps = nltk.PorterStemmer()\n",
        "\n",
        "yelp = pd.read_csv('/content/drive/My Drive/Machine Learning/NLP/yelp.csv',encoding = \"ISO-8859-1\")\n"
      ],
      "execution_count": 2,
      "outputs": []
    },
    {
      "cell_type": "code",
      "metadata": {
        "id": "G1A9lxGbKuY8",
        "colab_type": "code",
        "colab": {
          "base_uri": "https://localhost:8080/",
          "height": 51
        },
        "outputId": "eb88ac66-77a4-4349-a63a-873b6d7e9d0a"
      },
      "source": [
        "import nltk\n",
        "nltk.download('stopwords')\n",
        "pd.set_option('display.max_colwidth',150)\n",
        "stopwords = nltk.corpus.stopwords.words('english')\n",
        "ps = nltk.PorterStemmer()"
      ],
      "execution_count": 3,
      "outputs": [
        {
          "output_type": "stream",
          "text": [
            "[nltk_data] Downloading package stopwords to /root/nltk_data...\n",
            "[nltk_data]   Package stopwords is already up-to-date!\n"
          ],
          "name": "stdout"
        }
      ]
    },
    {
      "cell_type": "code",
      "metadata": {
        "id": "PzCo5H3jrmiN",
        "colab_type": "code",
        "colab": {
          "base_uri": "https://localhost:8080/",
          "height": 34
        },
        "outputId": "f24a0153-1170-42aa-9c96-d894464e420b"
      },
      "source": [
        "print(\"The dataframe has {} rows and {} columns\".format(yelp.shape[0], yelp.shape[1]))"
      ],
      "execution_count": 4,
      "outputs": [
        {
          "output_type": "stream",
          "text": [
            "The dataframe has 10000 rows and 10 columns\n"
          ],
          "name": "stdout"
        }
      ]
    },
    {
      "cell_type": "code",
      "metadata": {
        "id": "u0D8QkDHJ8yC",
        "colab_type": "code",
        "colab": {}
      },
      "source": [
        "yelp.head()"
      ],
      "execution_count": null,
      "outputs": []
    },
    {
      "cell_type": "markdown",
      "metadata": {
        "id": "adzTOcuxJ8yF",
        "colab_type": "text"
      },
      "source": [
        "# Create two features punct % & length"
      ]
    },
    {
      "cell_type": "code",
      "metadata": {
        "id": "mP9dGHJZJ8yF",
        "colab_type": "code",
        "colab": {}
      },
      "source": [
        "def coun_punct(text):\n",
        "    count = sum([1 for char in text if char in string.punctuation])\n",
        "    return round(count/(len(text) - text.count(\" \")),3)*100\n",
        "\n",
        "yelp['punct %'] = yelp['text'].apply(lambda x: coun_punct(x))\n",
        "yelp['length'] = yelp['text'].apply(lambda x: len(x) - x.count(\" \"))"
      ],
      "execution_count": 5,
      "outputs": []
    },
    {
      "cell_type": "code",
      "metadata": {
        "id": "z7rWpcAjsULc",
        "colab_type": "code",
        "colab": {
          "base_uri": "https://localhost:8080/",
          "height": 1000
        },
        "outputId": "b1cd1232-4cb0-4c70-e9cd-f8f48a3ed561"
      },
      "source": [
        "yelp.head()"
      ],
      "execution_count": 7,
      "outputs": [
        {
          "output_type": "execute_result",
          "data": {
            "text/html": [
              "<div>\n",
              "<style scoped>\n",
              "    .dataframe tbody tr th:only-of-type {\n",
              "        vertical-align: middle;\n",
              "    }\n",
              "\n",
              "    .dataframe tbody tr th {\n",
              "        vertical-align: top;\n",
              "    }\n",
              "\n",
              "    .dataframe thead th {\n",
              "        text-align: right;\n",
              "    }\n",
              "</style>\n",
              "<table border=\"1\" class=\"dataframe\">\n",
              "  <thead>\n",
              "    <tr style=\"text-align: right;\">\n",
              "      <th></th>\n",
              "      <th>business_id</th>\n",
              "      <th>date</th>\n",
              "      <th>review_id</th>\n",
              "      <th>stars</th>\n",
              "      <th>text</th>\n",
              "      <th>type</th>\n",
              "      <th>user_id</th>\n",
              "      <th>cool</th>\n",
              "      <th>useful</th>\n",
              "      <th>funny</th>\n",
              "      <th>punct %</th>\n",
              "      <th>length</th>\n",
              "    </tr>\n",
              "  </thead>\n",
              "  <tbody>\n",
              "    <tr>\n",
              "      <th>0</th>\n",
              "      <td>9yKzy9PApeiPPOUJEtnvkg</td>\n",
              "      <td>2011-01-26</td>\n",
              "      <td>fWKvX83p0-ka4JS3dc6E5A</td>\n",
              "      <td>5</td>\n",
              "      <td>My wife took me here on my birthday for breakfast and it was excellent.  The weather was perfect which made sitting outside overlooking their grou...</td>\n",
              "      <td>review</td>\n",
              "      <td>rLtl8ZkDX5vH5nAx9C3q5Q</td>\n",
              "      <td>2</td>\n",
              "      <td>5</td>\n",
              "      <td>0</td>\n",
              "      <td>2.9</td>\n",
              "      <td>730</td>\n",
              "    </tr>\n",
              "    <tr>\n",
              "      <th>1</th>\n",
              "      <td>ZRJwVLyzEJq1VAihDhYiow</td>\n",
              "      <td>2011-07-27</td>\n",
              "      <td>IjZ33sJrzXqU-0X6U8NwyA</td>\n",
              "      <td>5</td>\n",
              "      <td>I have no idea why some people give bad reviews about this place. It goes to show you, you can please everyone. They are probably griping about so...</td>\n",
              "      <td>review</td>\n",
              "      <td>0a2KyEL0d3Yb1V6aivbIuQ</td>\n",
              "      <td>0</td>\n",
              "      <td>0</td>\n",
              "      <td>0</td>\n",
              "      <td>3.3</td>\n",
              "      <td>1090</td>\n",
              "    </tr>\n",
              "    <tr>\n",
              "      <th>2</th>\n",
              "      <td>6oRAC4uyJCsJl1X0WZpVSA</td>\n",
              "      <td>2012-06-14</td>\n",
              "      <td>IESLBzqUCLdSzSqm0eCSxQ</td>\n",
              "      <td>4</td>\n",
              "      <td>love the gyro plate. Rice is so good and I also dig their candy selection :)</td>\n",
              "      <td>review</td>\n",
              "      <td>0hT2KtfLiobPvh6cDC8JQg</td>\n",
              "      <td>0</td>\n",
              "      <td>1</td>\n",
              "      <td>0</td>\n",
              "      <td>4.9</td>\n",
              "      <td>61</td>\n",
              "    </tr>\n",
              "    <tr>\n",
              "      <th>3</th>\n",
              "      <td>_1QQZuf4zZOyFCvXc0o6Vg</td>\n",
              "      <td>2010-05-27</td>\n",
              "      <td>G-WvGaISbqqaMHlNnByodA</td>\n",
              "      <td>5</td>\n",
              "      <td>Rosie, Dakota, and I LOVE Chaparral Dog Park!!! It's very convenient and surrounded by a lot of paths, a desert xeriscape, baseball fields, ballpa...</td>\n",
              "      <td>review</td>\n",
              "      <td>uZetl9T0NcROGOyFfughhg</td>\n",
              "      <td>1</td>\n",
              "      <td>2</td>\n",
              "      <td>0</td>\n",
              "      <td>5.2</td>\n",
              "      <td>345</td>\n",
              "    </tr>\n",
              "    <tr>\n",
              "      <th>4</th>\n",
              "      <td>6ozycU1RpktNG2-1BroVtw</td>\n",
              "      <td>2012-01-05</td>\n",
              "      <td>1uJFq2r5QfJG_6ExMRCaGw</td>\n",
              "      <td>5</td>\n",
              "      <td>General Manager Scott Petello is a good egg!!! Not to go into detail, but let me assure you if you have any issues (albeit rare) speak with Scott ...</td>\n",
              "      <td>review</td>\n",
              "      <td>vYmM4KTsC8ZfQBg-j5MWkw</td>\n",
              "      <td>0</td>\n",
              "      <td>0</td>\n",
              "      <td>0</td>\n",
              "      <td>9.9</td>\n",
              "      <td>385</td>\n",
              "    </tr>\n",
              "  </tbody>\n",
              "</table>\n",
              "</div>"
            ],
            "text/plain": [
              "              business_id        date  ... punct %  length\n",
              "0  9yKzy9PApeiPPOUJEtnvkg  2011-01-26  ...     2.9     730\n",
              "1  ZRJwVLyzEJq1VAihDhYiow  2011-07-27  ...     3.3    1090\n",
              "2  6oRAC4uyJCsJl1X0WZpVSA  2012-06-14  ...     4.9      61\n",
              "3  _1QQZuf4zZOyFCvXc0o6Vg  2010-05-27  ...     5.2     345\n",
              "4  6ozycU1RpktNG2-1BroVtw  2012-01-05  ...     9.9     385\n",
              "\n",
              "[5 rows x 12 columns]"
            ]
          },
          "metadata": {
            "tags": []
          },
          "execution_count": 7
        }
      ]
    },
    {
      "cell_type": "code",
      "metadata": {
        "id": "yXLA5G2zJ8yH",
        "colab_type": "code",
        "colab": {}
      },
      "source": [
        "def clean_text(text):\n",
        "    text = \"\".join([word.lower() for word in text if word not in string.punctuation])\n",
        "    tokens = re.split('\\W+', text)\n",
        "    text = [ps.stem(word) for word in tokens if word not in stopwords]\n",
        "    return text\n",
        "\n",
        "yelp['tokens'] = yelp['text'].apply(lambda x: clean_text(x))\n"
      ],
      "execution_count": 6,
      "outputs": []
    },
    {
      "cell_type": "code",
      "metadata": {
        "id": "9YhXmztDJ8yJ",
        "colab_type": "code",
        "colab": {
          "base_uri": "https://localhost:8080/",
          "height": 1000
        },
        "outputId": "3603acc7-1b10-42bb-c371-1f74e84ce474"
      },
      "source": [
        "pd.set_option('display.max_colwidth',1)\n",
        "yelp.head()"
      ],
      "execution_count": 7,
      "outputs": [
        {
          "output_type": "execute_result",
          "data": {
            "text/html": [
              "<div>\n",
              "<style scoped>\n",
              "    .dataframe tbody tr th:only-of-type {\n",
              "        vertical-align: middle;\n",
              "    }\n",
              "\n",
              "    .dataframe tbody tr th {\n",
              "        vertical-align: top;\n",
              "    }\n",
              "\n",
              "    .dataframe thead th {\n",
              "        text-align: right;\n",
              "    }\n",
              "</style>\n",
              "<table border=\"1\" class=\"dataframe\">\n",
              "  <thead>\n",
              "    <tr style=\"text-align: right;\">\n",
              "      <th></th>\n",
              "      <th>business_id</th>\n",
              "      <th>date</th>\n",
              "      <th>review_id</th>\n",
              "      <th>stars</th>\n",
              "      <th>text</th>\n",
              "      <th>type</th>\n",
              "      <th>user_id</th>\n",
              "      <th>cool</th>\n",
              "      <th>useful</th>\n",
              "      <th>funny</th>\n",
              "      <th>punct %</th>\n",
              "      <th>length</th>\n",
              "      <th>tokens</th>\n",
              "    </tr>\n",
              "  </thead>\n",
              "  <tbody>\n",
              "    <tr>\n",
              "      <th>0</th>\n",
              "      <td>9yKzy9PApeiPPOUJEtnvkg</td>\n",
              "      <td>2011-01-26</td>\n",
              "      <td>fWKvX83p0-ka4JS3dc6E5A</td>\n",
              "      <td>5</td>\n",
              "      <td>My wife took me here on my birthday for breakfast and it was excellent.  The weather was perfect which made sitting outside overlooking their grounds an absolute pleasure.  Our waitress was excellent and our food arrived quickly on the semi-busy Saturday morning.  It looked like the place fills up pretty quickly so the earlier you get here the better.\\n\\nDo yourself a favor and get their Bloody Mary.  It was phenomenal and simply the best I've ever had.  I'm pretty sure they only use ingredients from their garden and blend them fresh when you order it.  It was amazing.\\n\\nWhile EVERYTHING on the menu looks excellent, I had the white truffle scrambled eggs vegetable skillet and it was tasty and delicious.  It came with 2 pieces of their griddled bread with was amazing and it absolutely made the meal complete.  It was the best \"toast\" I've ever had.\\n\\nAnyway, I can't wait to go back!</td>\n",
              "      <td>review</td>\n",
              "      <td>rLtl8ZkDX5vH5nAx9C3q5Q</td>\n",
              "      <td>2</td>\n",
              "      <td>5</td>\n",
              "      <td>0</td>\n",
              "      <td>2.9</td>\n",
              "      <td>730</td>\n",
              "      <td>[wife, took, birthday, breakfast, excel, weather, perfect, made, sit, outsid, overlook, ground, absolut, pleasur, waitress, excel, food, arriv, quickli, semibusi, saturday, morn, look, like, place, fill, pretti, quickli, earlier, get, better, favor, get, bloodi, mari, phenomen, simpli, best, ive, ever, im, pretti, sure, use, ingredi, garden, blend, fresh, order, amaz, everyth, menu, look, excel, white, truffl, scrambl, egg, veget, skillet, tasti, delici, came, 2, piec, griddl, bread, amaz, absolut, made, meal, complet, best, toast, ive, ever, anyway, cant, wait, go, back]</td>\n",
              "    </tr>\n",
              "    <tr>\n",
              "      <th>1</th>\n",
              "      <td>ZRJwVLyzEJq1VAihDhYiow</td>\n",
              "      <td>2011-07-27</td>\n",
              "      <td>IjZ33sJrzXqU-0X6U8NwyA</td>\n",
              "      <td>5</td>\n",
              "      <td>I have no idea why some people give bad reviews about this place. It goes to show you, you can please everyone. They are probably griping about something that their own fault...there are many people like that.\\n\\nIn any case, my friend and I arrived at about 5:50 PM this past Sunday. It was pretty crowded, more than I thought for a Sunday evening and thought we would have to wait forever to get a seat but they said we'll be seated when the girl comes back from seating someone else. We were seated at 5:52 and the waiter came and got our drink orders. Everyone was very pleasant from the host that seated us to the waiter to the server. The prices were very good as well. We placed our orders once we decided what we wanted at 6:02. We shared the baked spaghetti calzone and the small \"Here's The Beef\" pizza so we can both try them. The calzone was huge and we got the smallest one (personal) and got the small 11\" pizza. Both were awesome! My friend liked the pizza better and I liked the calzone better. The calzone does have a sweetish sauce but that's how I like my sauce!\\n\\nWe had to box part of the pizza to take it home and we were out the door by 6:42. So, everything was great and not like these bad reviewers. That goes to show you that  you have to try these things yourself because all these bad reviewers have some serious issues.</td>\n",
              "      <td>review</td>\n",
              "      <td>0a2KyEL0d3Yb1V6aivbIuQ</td>\n",
              "      <td>0</td>\n",
              "      <td>0</td>\n",
              "      <td>0</td>\n",
              "      <td>3.3</td>\n",
              "      <td>1090</td>\n",
              "      <td>[idea, peopl, give, bad, review, place, goe, show, pleas, everyon, probabl, gripe, someth, faultther, mani, peopl, like, case, friend, arriv, 550, pm, past, sunday, pretti, crowd, thought, sunday, even, thought, would, wait, forev, get, seat, said, well, seat, girl, come, back, seat, someon, els, seat, 552, waiter, came, got, drink, order, everyon, pleasant, host, seat, us, waiter, server, price, good, well, place, order, decid, want, 602, share, bake, spaghetti, calzon, small, here, beef, pizza, tri, calzon, huge, got, smallest, one, person, got, small, 11, pizza, awesom, friend, like, pizza, better, like, calzon, better, calzon, sweetish, sauc, that, like, sauc, box, ...]</td>\n",
              "    </tr>\n",
              "    <tr>\n",
              "      <th>2</th>\n",
              "      <td>6oRAC4uyJCsJl1X0WZpVSA</td>\n",
              "      <td>2012-06-14</td>\n",
              "      <td>IESLBzqUCLdSzSqm0eCSxQ</td>\n",
              "      <td>4</td>\n",
              "      <td>love the gyro plate. Rice is so good and I also dig their candy selection :)</td>\n",
              "      <td>review</td>\n",
              "      <td>0hT2KtfLiobPvh6cDC8JQg</td>\n",
              "      <td>0</td>\n",
              "      <td>1</td>\n",
              "      <td>0</td>\n",
              "      <td>4.9</td>\n",
              "      <td>61</td>\n",
              "      <td>[love, gyro, plate, rice, good, also, dig, candi, select, ]</td>\n",
              "    </tr>\n",
              "    <tr>\n",
              "      <th>3</th>\n",
              "      <td>_1QQZuf4zZOyFCvXc0o6Vg</td>\n",
              "      <td>2010-05-27</td>\n",
              "      <td>G-WvGaISbqqaMHlNnByodA</td>\n",
              "      <td>5</td>\n",
              "      <td>Rosie, Dakota, and I LOVE Chaparral Dog Park!!! It's very convenient and surrounded by a lot of paths, a desert xeriscape, baseball fields, ballparks, and a lake with ducks.\\n\\nThe Scottsdale Park and Rec Dept. does a wonderful job of keeping the park clean and shaded.  You can find trash cans and poopy-pick up mitts located all over the park and paths.\\n\\nThe fenced in area is huge to let the dogs run, play, and sniff!</td>\n",
              "      <td>review</td>\n",
              "      <td>uZetl9T0NcROGOyFfughhg</td>\n",
              "      <td>1</td>\n",
              "      <td>2</td>\n",
              "      <td>0</td>\n",
              "      <td>5.2</td>\n",
              "      <td>345</td>\n",
              "      <td>[rosi, dakota, love, chaparr, dog, park, conveni, surround, lot, path, desert, xeriscap, basebal, field, ballpark, lake, duck, scottsdal, park, rec, dept, wonder, job, keep, park, clean, shade, find, trash, can, poopypick, mitt, locat, park, path, fenc, area, huge, let, dog, run, play, sniff]</td>\n",
              "    </tr>\n",
              "    <tr>\n",
              "      <th>4</th>\n",
              "      <td>6ozycU1RpktNG2-1BroVtw</td>\n",
              "      <td>2012-01-05</td>\n",
              "      <td>1uJFq2r5QfJG_6ExMRCaGw</td>\n",
              "      <td>5</td>\n",
              "      <td>General Manager Scott Petello is a good egg!!! Not to go into detail, but let me assure you if you have any issues (albeit rare) speak with Scott and treat the guy with some respect as you state your case and I'd be surprised if you don't walk out totally satisfied as I just did. Like I always say..... \"Mistakes are inevitable, it's how we recover from them that is important\"!!!\\n\\nThanks to Scott and his awesome staff. You've got a customer for life!! .......... :^)</td>\n",
              "      <td>review</td>\n",
              "      <td>vYmM4KTsC8ZfQBg-j5MWkw</td>\n",
              "      <td>0</td>\n",
              "      <td>0</td>\n",
              "      <td>0</td>\n",
              "      <td>9.9</td>\n",
              "      <td>385</td>\n",
              "      <td>[gener, manag, scott, petello, good, egg, go, detail, let, assur, issu, albeit, rare, speak, scott, treat, guy, respect, state, case, id, surpris, dont, walk, total, satisfi, like, alway, say, mistak, inevit, recov, import, thank, scott, awesom, staff, youv, got, custom, life, ]</td>\n",
              "    </tr>\n",
              "  </tbody>\n",
              "</table>\n",
              "</div>"
            ],
            "text/plain": [
              "              business_id  ...                                                                                                                                                                                                                                                                                                                                                                                                                                                                                                                                                                                                                                                                                                      tokens\n",
              "0  9yKzy9PApeiPPOUJEtnvkg  ...  [wife, took, birthday, breakfast, excel, weather, perfect, made, sit, outsid, overlook, ground, absolut, pleasur, waitress, excel, food, arriv, quickli, semibusi, saturday, morn, look, like, place, fill, pretti, quickli, earlier, get, better, favor, get, bloodi, mari, phenomen, simpli, best, ive, ever, im, pretti, sure, use, ingredi, garden, blend, fresh, order, amaz, everyth, menu, look, excel, white, truffl, scrambl, egg, veget, skillet, tasti, delici, came, 2, piec, griddl, bread, amaz, absolut, made, meal, complet, best, toast, ive, ever, anyway, cant, wait, go, back]                                                                                                        \n",
              "1  ZRJwVLyzEJq1VAihDhYiow  ...  [idea, peopl, give, bad, review, place, goe, show, pleas, everyon, probabl, gripe, someth, faultther, mani, peopl, like, case, friend, arriv, 550, pm, past, sunday, pretti, crowd, thought, sunday, even, thought, would, wait, forev, get, seat, said, well, seat, girl, come, back, seat, someon, els, seat, 552, waiter, came, got, drink, order, everyon, pleasant, host, seat, us, waiter, server, price, good, well, place, order, decid, want, 602, share, bake, spaghetti, calzon, small, here, beef, pizza, tri, calzon, huge, got, smallest, one, person, got, small, 11, pizza, awesom, friend, like, pizza, better, like, calzon, better, calzon, sweetish, sauc, that, like, sauc, box, ...]\n",
              "2  6oRAC4uyJCsJl1X0WZpVSA  ...  [love, gyro, plate, rice, good, also, dig, candi, select, ]                                                                                                                                                                                                                                                                                                                                                                                                                                                                                                                                                                                                                                               \n",
              "3  _1QQZuf4zZOyFCvXc0o6Vg  ...  [rosi, dakota, love, chaparr, dog, park, conveni, surround, lot, path, desert, xeriscap, basebal, field, ballpark, lake, duck, scottsdal, park, rec, dept, wonder, job, keep, park, clean, shade, find, trash, can, poopypick, mitt, locat, park, path, fenc, area, huge, let, dog, run, play, sniff]                                                                                                                                                                                                                                                                                                                                                                                                     \n",
              "4  6ozycU1RpktNG2-1BroVtw  ...  [gener, manag, scott, petello, good, egg, go, detail, let, assur, issu, albeit, rare, speak, scott, treat, guy, respect, state, case, id, surpris, dont, walk, total, satisfi, like, alway, say, mistak, inevit, recov, import, thank, scott, awesom, staff, youv, got, custom, life, ]                                                                                                                                                                                                                                                                                                                                                                                                                   \n",
              "\n",
              "[5 rows x 13 columns]"
            ]
          },
          "metadata": {
            "tags": []
          },
          "execution_count": 7
        }
      ]
    },
    {
      "cell_type": "code",
      "metadata": {
        "id": "n9szgL4OJ8yL",
        "colab_type": "code",
        "colab": {
          "base_uri": "https://localhost:8080/",
          "height": 34
        },
        "outputId": "b2393935-139f-4696-a3d9-931363c1703f"
      },
      "source": [
        "yelp.shape"
      ],
      "execution_count": 10,
      "outputs": [
        {
          "output_type": "execute_result",
          "data": {
            "text/plain": [
              "(10000, 13)"
            ]
          },
          "metadata": {
            "tags": []
          },
          "execution_count": 10
        }
      ]
    },
    {
      "cell_type": "code",
      "metadata": {
        "id": "F6xBiVy5J8yO",
        "colab_type": "code",
        "colab": {
          "base_uri": "https://localhost:8080/",
          "height": 297
        },
        "outputId": "4604421e-8b16-4f2c-c0c4-1b9b25be1034"
      },
      "source": [
        "yelp.describe()"
      ],
      "execution_count": 11,
      "outputs": [
        {
          "output_type": "execute_result",
          "data": {
            "text/html": [
              "<div>\n",
              "<style scoped>\n",
              "    .dataframe tbody tr th:only-of-type {\n",
              "        vertical-align: middle;\n",
              "    }\n",
              "\n",
              "    .dataframe tbody tr th {\n",
              "        vertical-align: top;\n",
              "    }\n",
              "\n",
              "    .dataframe thead th {\n",
              "        text-align: right;\n",
              "    }\n",
              "</style>\n",
              "<table border=\"1\" class=\"dataframe\">\n",
              "  <thead>\n",
              "    <tr style=\"text-align: right;\">\n",
              "      <th></th>\n",
              "      <th>stars</th>\n",
              "      <th>cool</th>\n",
              "      <th>useful</th>\n",
              "      <th>funny</th>\n",
              "      <th>punct %</th>\n",
              "      <th>length</th>\n",
              "    </tr>\n",
              "  </thead>\n",
              "  <tbody>\n",
              "    <tr>\n",
              "      <th>count</th>\n",
              "      <td>10000.000000</td>\n",
              "      <td>10000.000000</td>\n",
              "      <td>10000.000000</td>\n",
              "      <td>10000.000000</td>\n",
              "      <td>10000.00000</td>\n",
              "      <td>10000.000000</td>\n",
              "    </tr>\n",
              "    <tr>\n",
              "      <th>mean</th>\n",
              "      <td>3.777500</td>\n",
              "      <td>0.876800</td>\n",
              "      <td>1.409300</td>\n",
              "      <td>0.701300</td>\n",
              "      <td>4.30711</td>\n",
              "      <td>578.880700</td>\n",
              "    </tr>\n",
              "    <tr>\n",
              "      <th>std</th>\n",
              "      <td>1.214636</td>\n",
              "      <td>2.067861</td>\n",
              "      <td>2.336647</td>\n",
              "      <td>1.907942</td>\n",
              "      <td>2.11727</td>\n",
              "      <td>503.062695</td>\n",
              "    </tr>\n",
              "    <tr>\n",
              "      <th>min</th>\n",
              "      <td>1.000000</td>\n",
              "      <td>0.000000</td>\n",
              "      <td>0.000000</td>\n",
              "      <td>0.000000</td>\n",
              "      <td>0.00000</td>\n",
              "      <td>1.000000</td>\n",
              "    </tr>\n",
              "    <tr>\n",
              "      <th>25%</th>\n",
              "      <td>3.000000</td>\n",
              "      <td>0.000000</td>\n",
              "      <td>0.000000</td>\n",
              "      <td>0.000000</td>\n",
              "      <td>3.20000</td>\n",
              "      <td>240.000000</td>\n",
              "    </tr>\n",
              "    <tr>\n",
              "      <th>50%</th>\n",
              "      <td>4.000000</td>\n",
              "      <td>0.000000</td>\n",
              "      <td>1.000000</td>\n",
              "      <td>0.000000</td>\n",
              "      <td>4.00000</td>\n",
              "      <td>441.000000</td>\n",
              "    </tr>\n",
              "    <tr>\n",
              "      <th>75%</th>\n",
              "      <td>5.000000</td>\n",
              "      <td>1.000000</td>\n",
              "      <td>2.000000</td>\n",
              "      <td>1.000000</td>\n",
              "      <td>5.00000</td>\n",
              "      <td>757.000000</td>\n",
              "    </tr>\n",
              "    <tr>\n",
              "      <th>max</th>\n",
              "      <td>5.000000</td>\n",
              "      <td>77.000000</td>\n",
              "      <td>76.000000</td>\n",
              "      <td>57.000000</td>\n",
              "      <td>84.20000</td>\n",
              "      <td>4140.000000</td>\n",
              "    </tr>\n",
              "  </tbody>\n",
              "</table>\n",
              "</div>"
            ],
            "text/plain": [
              "              stars          cool  ...      punct %        length\n",
              "count  10000.000000  10000.000000  ...  10000.00000  10000.000000\n",
              "mean   3.777500      0.876800      ...  4.30711      578.880700  \n",
              "std    1.214636      2.067861      ...  2.11727      503.062695  \n",
              "min    1.000000      0.000000      ...  0.00000      1.000000    \n",
              "25%    3.000000      0.000000      ...  3.20000      240.000000  \n",
              "50%    4.000000      0.000000      ...  4.00000      441.000000  \n",
              "75%    5.000000      1.000000      ...  5.00000      757.000000  \n",
              "max    5.000000      77.000000     ...  84.20000     4140.000000 \n",
              "\n",
              "[8 rows x 6 columns]"
            ]
          },
          "metadata": {
            "tags": []
          },
          "execution_count": 11
        }
      ]
    },
    {
      "cell_type": "markdown",
      "metadata": {
        "id": "JSUDQnB6J8yQ",
        "colab_type": "text"
      },
      "source": [
        "# As we want to classify reviews as 1 or 5 star we take only that rows"
      ]
    },
    {
      "cell_type": "code",
      "metadata": {
        "id": "oS3FnoCvJ8yQ",
        "colab_type": "code",
        "colab": {
          "base_uri": "https://localhost:8080/",
          "height": 34
        },
        "outputId": "4729eebc-f84e-4246-8c8d-b530e2ebc073"
      },
      "source": [
        "yelp_class = yelp[(yelp.stars==1) | (yelp.stars==5)]\n",
        "X = yelp_class['text']\n",
        "X.shape"
      ],
      "execution_count": 8,
      "outputs": [
        {
          "output_type": "execute_result",
          "data": {
            "text/plain": [
              "(4086,)"
            ]
          },
          "metadata": {
            "tags": []
          },
          "execution_count": 8
        }
      ]
    },
    {
      "cell_type": "code",
      "metadata": {
        "id": "lKCG5i67ugW4",
        "colab_type": "code",
        "colab": {
          "base_uri": "https://localhost:8080/",
          "height": 241
        },
        "outputId": "7ecf5476-9aaa-4394-e2b4-058a89e01e0b"
      },
      "source": [
        "X"
      ],
      "execution_count": 9,
      "outputs": [
        {
          "output_type": "execute_result",
          "data": {
            "text/plain": [
              "0       My wife took me here on my birthday for breakfast and it was excellent.  The weather was perfect which made sitting outside overlooking their grounds an absolute pleasure.  Our waitress was excellent and our food arrived quickly on the semi-busy Saturday morning.  It looked like the place fills up pretty quickly so the earlier you get here the better.\\n\\nDo yourself a favor and get their Bloody Mary.  It was phenomenal and simply the best I've ever had.  I'm pretty sure they only use ingredients from their garden and blend them fresh when you order it.  It was amazing.\\n\\nWhile EVERYTHING on the menu looks excellent, I had the white truffle scrambled eggs vegetable skillet and it was tasty and delicious.  It came with 2 pieces of their griddled bread with was amazing and it absolutely made the meal complete.  It was the best \"toast\" I've ever had.\\n\\nAnyway, I can't wait to go back!                                                                                                                                                                                                                                                                                                                                                                                                                                                                                                                                                                                                                                                                                                                                                                                                                                                                                                                                                                                                                                                                                                                         \n",
              "1       I have no idea why some people give bad reviews about this place. It goes to show you, you can please everyone. They are probably griping about something that their own fault...there are many people like that.\\n\\nIn any case, my friend and I arrived at about 5:50 PM this past Sunday. It was pretty crowded, more than I thought for a Sunday evening and thought we would have to wait forever to get a seat but they said we'll be seated when the girl comes back from seating someone else. We were seated at 5:52 and the waiter came and got our drink orders. Everyone was very pleasant from the host that seated us to the waiter to the server. The prices were very good as well. We placed our orders once we decided what we wanted at 6:02. We shared the baked spaghetti calzone and the small \"Here's The Beef\" pizza so we can both try them. The calzone was huge and we got the smallest one (personal) and got the small 11\" pizza. Both were awesome! My friend liked the pizza better and I liked the calzone better. The calzone does have a sweetish sauce but that's how I like my sauce!\\n\\nWe had to box part of the pizza to take it home and we were out the door by 6:42. So, everything was great and not like these bad reviewers. That goes to show you that  you have to try these things yourself because all these bad reviewers have some serious issues.                                                                                                                                                                                                                                                                                                                                                                                                                                                                                                                                                                                                                                                   \n",
              "3       Rosie, Dakota, and I LOVE Chaparral Dog Park!!! It's very convenient and surrounded by a lot of paths, a desert xeriscape, baseball fields, ballparks, and a lake with ducks.\\n\\nThe Scottsdale Park and Rec Dept. does a wonderful job of keeping the park clean and shaded.  You can find trash cans and poopy-pick up mitts located all over the park and paths.\\n\\nThe fenced in area is huge to let the dogs run, play, and sniff!                                                                                                                                                                                                                                                                                                                                                                                                                                                                                                                                                                                                                                                                                                                                                                                                                                                                                                                                                                                                                                                                                                                                                                                                                                                                                                                                                                                                                                                                                                                                                                                                                 \n",
              "4       General Manager Scott Petello is a good egg!!! Not to go into detail, but let me assure you if you have any issues (albeit rare) speak with Scott and treat the guy with some respect as you state your case and I'd be surprised if you don't walk out totally satisfied as I just did. Like I always say..... \"Mistakes are inevitable, it's how we recover from them that is important\"!!!\\n\\nThanks to Scott and his awesome staff. You've got a customer for life!! .......... :^)                                                                                                                                                                                                                                                                                                                                                                                                                                                                                                                                                                                                                                                                                                                                                                                                                                                                                                                                                                                                                                                                                                                                                                                                                                                                                                                                                                                                                                                                                                                                                                 \n",
              "6       Drop what you're doing and drive here. After I ate here I had to go back the next day for more.  The food is that good.\\n\\nThis cute little green building may have gone competely unoticed if I hadn't been driving down Palm Rd to avoid construction.  While waiting to turn onto 16th Street the \"Grand Opening\" sign caught my eye and my little yelping soul leaped for joy!  A new place to try!\\n\\nIt looked desolate from the outside but when I opened the door I was put at easy by the decor, smell and cleanliness inside.  I ordered dinner for two, to go.  The menu was awesome.  I loved seeing all the variety: poblano peppers, mole, mahi mahi, mushrooms...something wrapped in banana leaves.  It made it difficult to choose something.  Here's what I've had so far: La Condesa Shrimp Burro and Baja Sur Dogfish Shark Taco.  They are both were very delicious meals but the shrimp burro stole the show.  So much flavor.  I snagged some bites from my hubbys mole and mahi mahi burros- mmmm such a delight.  The salsa bar is endless.  I really stocked up.  I was excited to try the strawberry salsa but it was too hot, in fact it all was, but I'm a big wimp when it comes to hot peppers. The horchata is handmade and delicious.  They throw pecans and some fruit in there too which is a yummy bonus!\\n\\nAs if the good food wasn't enough to win me over the art in this restaurant sho did!  I'm a sucker for Mexican folk art and Frida Kahlo is my Oprah.  There's a painting of her and Diego hanging over the salsa bar, it's amazing.  All the paintings are great, love the artist.                                                                                                                                                                                                                                                                                                                                                                                                                     \n",
              "                                                                                                                                                                                                                                                                                                                                                                                                                                                                                                                                                                                                                                                                                                                                                                                                                       ...                                                                                                                                                                                                                                                                                                                                                                                                                                                                                                                                                                                                                                                                                                                                                                                                                                                                                                                                                                                                                                                                                                                                                                                                                                      \n",
              "9990    Yes I do rock the hipster joints.  I dig this place.  A little bit of a scene, but the food is solid and the service is great. Hard not like it.  All in all a great spot.  I tend to switch up my favorites but I typically hit this up for breakfast when in the 602.                                                                                                                                                                                                                                                                                                                                                                                                                                                                                                                                                                                                                                                                                                                                                                                                                                                                                                                                                                                                                                                                                                                                                                                                                                                                                                                                                                                                                                                                                                                                                                                                                                                                                                                                                                                 \n",
              "9991    Only 4 stars? \\n\\n(A few notes: The folks that rated this place low must have been isolated incidences and I feel weigh far to heavy on service rather than product. Dining at a restaurant, rate the service a lil' harder, but a coffee shop, hold your tongue.)\\n\\nAnyway, this place rocks. We aren't super close, but we pass up several coffee shops en route to Lola because the quality is top drawer.\\n\\nThe beans, fair trade, and the roast is perfect. The price of a bag of beans is amazing. Doing right by the farmers and then respecting the product with such a solid roast. This is what is all about!\\n\\nI have yet to find a better americano. A splash of cream and a splenda only augments the flavor of the espresso and the richness really shines. I've been to most of the independent coffee shops throughout the area, and if I do find myself elsewhere, I can only compare them to Lola, and Lola wins out each time.                                                                                                                                                                                                                                                                                                                                                                                                                                                                                                                                                                                                                                                                                                                                                                                                                                                                                                                                                                                                                                                                                                    \n",
              "9992    I'm not normally one to jump at reviewing a chain restaurant, especially when there are 3 subways all within a couple blocks of each other.  I felt it was necessary in this case.  My husband and I came here over the weekend after a lovely trip to the dog park.  The two guys working here on the lonely afternoon were awesome.  They were really nice and friendly, and quite chatty.  One of them started helping my husband and the other one was sweeping while I was deciding.  The sweeping boy apparently noticed I was ready and he quickly ran to the back, washed his hands, threw on gloves and asked me what I wanted.  WOW!  This type of service has never happened at the other locations, all of which I have been too.  He chatted with me as I told him what I wanted.  He also joked about my weird sandwich and made me laugh.  It's refreshing to see a couple guys working on a boring day and actually enjoying themselves.  They also have outdoor seating which are perfect to sit at and people watch on beautiful days.  We even met this incredible 90 year old guy who is blind and deaf in both ears but somehow managed to communicate with us perfectly.  He was much more lively than most twenty-somethings you meet.  Amazing.  Only in downtown do you meet people like that.  This is a great Subway.  Go here and skip the others.                                                                                                                                                                                                                                                                                                                                                                                                                                                                                                                                                                                                                                                                          \n",
              "9994    Let's see...what is there NOT to like about Surprise Stadium? Well, $9.50 tall cans of PBR is about all I could come up with and that's not a surprise (pun intended) considering you're attending a sporting event...even spring training. \\n\\nBut as someone who does not living in Arizona, and as someone who doesn't go to MLB baseball games in Southern California due to the fact it costs so damn much, people bitching about the slow service or any other little inconvenience when it comes to seeing a game here. Look, you're lucky enough to have almost an entire month of low cost MLB baseball right in your back yard. If I could, I'd live down here during March just to take in the awesome baseball action that crisscrosses the Phoenix metro area each year. \\n\\nI attended my first spring training game on March 12th, 2012 at Surprise Stadium as the Royals took on the San Francisco Giants (my favorite team). Our seats (Sec. 112, Row J, Seats 13-14-15) were 25 bucks each (around 30 bucks including service fees). I mean, we were maybe 5 or 6 rows back from the Giants dugout (check out some of my pictures). The stadium (funny calling it that since it only holds just over 10,000 people) is big enough so you feel you're at an MLB game but small enough to feel pretty close and intimate with the players. The stadium is well maintained and kept super clean. \\n\\nArriving to the park, I was surprised (pun unintended) to see that parking was free, an oddity when going to an event like this. The stadium staff, as mentioned by other reviews, are mainly made up of senior citizens who were super friendly and helpful. I didn't have to wait long at the concession stands, even if lines were a bit long. The outfield is lined with a lawn area, perfect for people to sit back and have a picnic while taking in a game (Tickets are around 9 bucks each after service fees!!!). \\n\\nI love this place and hope to return next year when visiting family. Oh, Giants won 2-1! Go Giants!!!\n",
              "9999    4-5 locations.. all 4.5 star average.. I think Arizona really has some fantastic Pizza options, and Spinatos is at the top of my pizza fix list.. the semi sweet sauce is addictive, great service, fresh ingredients, The Spicy Italian is my favorite... The chocolate chips cookies are laced with mind altering drugs, that make your body parts\"romantic\" when you think of their cookies.. BTW 5:30pm, on a Tuesday, when we left, a 30 minute wait.. Its on the List..                                                                                                                                                                                                                                                                                                                                                                                                                                                                                                                                                                                                                                                                                                                                                                                                                                                                                                                                                                                                                                                                                                                                                                                                                                                                                                                                                                                                                                                                                                                                                                           \n",
              "Name: text, Length: 4086, dtype: object"
            ]
          },
          "metadata": {
            "tags": []
          },
          "execution_count": 9
        }
      ]
    },
    {
      "cell_type": "code",
      "metadata": {
        "id": "TcSX43tKJ8yS",
        "colab_type": "code",
        "colab": {
          "base_uri": "https://localhost:8080/",
          "height": 221
        },
        "outputId": "71ac1cfd-8b55-4231-fc8d-ec5ca095523f"
      },
      "source": [
        "y = yelp_class['stars']\n",
        "y"
      ],
      "execution_count": 17,
      "outputs": [
        {
          "output_type": "execute_result",
          "data": {
            "text/plain": [
              "0       5\n",
              "1       5\n",
              "3       5\n",
              "4       5\n",
              "6       5\n",
              "       ..\n",
              "9990    5\n",
              "9991    5\n",
              "9992    5\n",
              "9994    5\n",
              "9999    5\n",
              "Name: stars, Length: 4086, dtype: int64"
            ]
          },
          "metadata": {
            "tags": []
          },
          "execution_count": 17
        }
      ]
    },
    {
      "cell_type": "code",
      "metadata": {
        "id": "6u_vO2ZGJ8yZ",
        "colab_type": "code",
        "colab": {
          "base_uri": "https://localhost:8080/",
          "height": 340
        },
        "outputId": "0adb3d8b-7697-40b2-d2ec-686325586cea"
      },
      "source": [
        "yelp_class.info()"
      ],
      "execution_count": null,
      "outputs": [
        {
          "output_type": "stream",
          "text": [
            "<class 'pandas.core.frame.DataFrame'>\n",
            "Int64Index: 4086 entries, 0 to 9999\n",
            "Data columns (total 12 columns):\n",
            " #   Column       Non-Null Count  Dtype  \n",
            "---  ------       --------------  -----  \n",
            " 0   business_id  4086 non-null   object \n",
            " 1   date         4086 non-null   object \n",
            " 2   review_id    4086 non-null   object \n",
            " 3   stars        4086 non-null   int64  \n",
            " 4   text         4086 non-null   object \n",
            " 5   type         4086 non-null   object \n",
            " 6   user_id      4086 non-null   object \n",
            " 7   cool         4086 non-null   int64  \n",
            " 8   useful       4086 non-null   int64  \n",
            " 9   funny        4086 non-null   int64  \n",
            " 10  punct %      4086 non-null   float64\n",
            " 11  length       4086 non-null   int64  \n",
            "dtypes: float64(1), int64(5), object(6)\n",
            "memory usage: 415.0+ KB\n"
          ],
          "name": "stdout"
        }
      ]
    },
    {
      "cell_type": "markdown",
      "metadata": {
        "id": "b9EuZ623J8yb",
        "colab_type": "text"
      },
      "source": [
        "# EDA"
      ]
    },
    {
      "cell_type": "markdown",
      "metadata": {
        "id": "JoInn3UjJ8yb",
        "colab_type": "text"
      },
      "source": [
        "### Importing Data Visualization Library"
      ]
    },
    {
      "cell_type": "code",
      "metadata": {
        "id": "r1Cv0fmdJ8yc",
        "colab_type": "code",
        "colab": {
          "base_uri": "https://localhost:8080/",
          "height": 71
        },
        "outputId": "bcb14d4f-0efa-424a-de63-2f50204e0b17"
      },
      "source": [
        "import matplotlib.pyplot as plt\n",
        "import seaborn as sns\n",
        "sns.set_style('white')\n",
        "%matplotlib inline"
      ],
      "execution_count": null,
      "outputs": [
        {
          "output_type": "stream",
          "text": [
            "/usr/local/lib/python3.6/dist-packages/statsmodels/tools/_testing.py:19: FutureWarning: pandas.util.testing is deprecated. Use the functions in the public API at pandas.testing instead.\n",
            "  import pandas.util.testing as tm\n"
          ],
          "name": "stderr"
        }
      ]
    },
    {
      "cell_type": "code",
      "metadata": {
        "id": "DnVj63rKJ8yd",
        "colab_type": "code",
        "colab": {
          "base_uri": "https://localhost:8080/",
          "height": 231
        },
        "outputId": "69e32c64-96ba-48d7-dad1-37df741fe022"
      },
      "source": [
        "g = sns.FacetGrid(yelp,col='stars')\n",
        "g.map(plt.hist,'length',bins=5)"
      ],
      "execution_count": null,
      "outputs": [
        {
          "output_type": "execute_result",
          "data": {
            "text/plain": [
              "<seaborn.axisgrid.FacetGrid at 0x7fb5e7388128>"
            ]
          },
          "metadata": {
            "tags": []
          },
          "execution_count": 28
        },
        {
          "output_type": "display_data",
          "data": {
            "image/png": "[encoded data removed]",
            "text/plain": [
              "<Figure size 1080x216 with 5 Axes>"
            ]
          },
          "metadata": {
            "tags": [],
            "needs_background": "light"
          }
        }
      ]
    },
    {
      "cell_type": "markdown",
      "metadata": {
        "id": "mdccHliAJ8yg",
        "colab_type": "text"
      },
      "source": [
        "### Boxplot of text length for each star category."
      ]
    },
    {
      "cell_type": "code",
      "metadata": {
        "id": "KOhXfeIYJ8yg",
        "colab_type": "code",
        "colab": {
          "base_uri": "https://localhost:8080/",
          "height": 296
        },
        "outputId": "4b0707aa-8286-497a-cced-732c0f49d88b"
      },
      "source": [
        "sns.boxplot(x='stars',y='length',data=yelp,palette='rainbow')"
      ],
      "execution_count": null,
      "outputs": [
        {
          "output_type": "execute_result",
          "data": {
            "text/plain": [
              "<matplotlib.axes._subplots.AxesSubplot at 0x7fb5e4942f98>"
            ]
          },
          "metadata": {
            "tags": []
          },
          "execution_count": 29
        },
        {
          "output_type": "display_data",
          "data": {
            "image/png": "[encoded data removed]",
            "text/plain": [
              "<Figure size 432x288 with 1 Axes>"
            ]
          },
          "metadata": {
            "tags": [],
            "needs_background": "light"
          }
        }
      ]
    },
    {
      "cell_type": "markdown",
      "metadata": {
        "id": "S8Nfzx2jJ8yi",
        "colab_type": "text"
      },
      "source": [
        "### Countplot of the number of occurrences for each type of star rating."
      ]
    },
    {
      "cell_type": "code",
      "metadata": {
        "id": "XL0hpw0pJ8yi",
        "colab_type": "code",
        "colab": {
          "base_uri": "https://localhost:8080/",
          "height": 296
        },
        "outputId": "89c42b81-ea39-4dec-ca7f-3ea655fae172"
      },
      "source": [
        "sns.countplot(x='stars',data=yelp,palette='rainbow')"
      ],
      "execution_count": null,
      "outputs": [
        {
          "output_type": "execute_result",
          "data": {
            "text/plain": [
              "<matplotlib.axes._subplots.AxesSubplot at 0x7fb5e44316a0>"
            ]
          },
          "metadata": {
            "tags": []
          },
          "execution_count": 30
        },
        {
          "output_type": "display_data",
          "data": {
            "image/png": "[encoded data removed]",
            "text/plain": [
              "<Figure size 432x288 with 1 Axes>"
            ]
          },
          "metadata": {
            "tags": [],
            "needs_background": "light"
          }
        }
      ]
    },
    {
      "cell_type": "markdown",
      "metadata": {
        "id": "_33tMF5AJ8yk",
        "colab_type": "text"
      },
      "source": [
        "### Mean of numerical columns"
      ]
    },
    {
      "cell_type": "code",
      "metadata": {
        "id": "HNv2cc7qJ8yk",
        "colab_type": "code",
        "colab": {
          "base_uri": "https://localhost:8080/",
          "height": 235
        },
        "outputId": "d83ec189-bd5a-4361-b89a-d79ee8ff1a17"
      },
      "source": [
        "stars = yelp.groupby('stars').mean()\n",
        "stars"
      ],
      "execution_count": null,
      "outputs": [
        {
          "output_type": "execute_result",
          "data": {
            "text/html": [
              "<div>\n",
              "<style scoped>\n",
              "    .dataframe tbody tr th:only-of-type {\n",
              "        vertical-align: middle;\n",
              "    }\n",
              "\n",
              "    .dataframe tbody tr th {\n",
              "        vertical-align: top;\n",
              "    }\n",
              "\n",
              "    .dataframe thead th {\n",
              "        text-align: right;\n",
              "    }\n",
              "</style>\n",
              "<table border=\"1\" class=\"dataframe\">\n",
              "  <thead>\n",
              "    <tr style=\"text-align: right;\">\n",
              "      <th></th>\n",
              "      <th>cool</th>\n",
              "      <th>useful</th>\n",
              "      <th>funny</th>\n",
              "      <th>punct %</th>\n",
              "      <th>length</th>\n",
              "    </tr>\n",
              "    <tr>\n",
              "      <th>stars</th>\n",
              "      <th></th>\n",
              "      <th></th>\n",
              "      <th></th>\n",
              "      <th></th>\n",
              "      <th></th>\n",
              "    </tr>\n",
              "  </thead>\n",
              "  <tbody>\n",
              "    <tr>\n",
              "      <th>1</th>\n",
              "      <td>0.576769</td>\n",
              "      <td>1.604806</td>\n",
              "      <td>1.056075</td>\n",
              "      <td>4.351936</td>\n",
              "      <td>671.511348</td>\n",
              "    </tr>\n",
              "    <tr>\n",
              "      <th>2</th>\n",
              "      <td>0.719525</td>\n",
              "      <td>1.563107</td>\n",
              "      <td>0.875944</td>\n",
              "      <td>4.216613</td>\n",
              "      <td>684.757282</td>\n",
              "    </tr>\n",
              "    <tr>\n",
              "      <th>3</th>\n",
              "      <td>0.788501</td>\n",
              "      <td>1.306639</td>\n",
              "      <td>0.694730</td>\n",
              "      <td>4.286927</td>\n",
              "      <td>616.461328</td>\n",
              "    </tr>\n",
              "    <tr>\n",
              "      <th>4</th>\n",
              "      <td>0.954623</td>\n",
              "      <td>1.395916</td>\n",
              "      <td>0.670448</td>\n",
              "      <td>4.250142</td>\n",
              "      <td>581.022689</td>\n",
              "    </tr>\n",
              "    <tr>\n",
              "      <th>5</th>\n",
              "      <td>0.944261</td>\n",
              "      <td>1.381780</td>\n",
              "      <td>0.608631</td>\n",
              "      <td>4.391220</td>\n",
              "      <td>509.960743</td>\n",
              "    </tr>\n",
              "  </tbody>\n",
              "</table>\n",
              "</div>"
            ],
            "text/plain": [
              "           cool    useful     funny   punct %      length\n",
              "stars                                                    \n",
              "1      0.576769  1.604806  1.056075  4.351936  671.511348\n",
              "2      0.719525  1.563107  0.875944  4.216613  684.757282\n",
              "3      0.788501  1.306639  0.694730  4.286927  616.461328\n",
              "4      0.954623  1.395916  0.670448  4.250142  581.022689\n",
              "5      0.944261  1.381780  0.608631  4.391220  509.960743"
            ]
          },
          "metadata": {
            "tags": []
          },
          "execution_count": 36
        }
      ]
    },
    {
      "cell_type": "markdown",
      "metadata": {
        "id": "6f8dwkSGJ8ym",
        "colab_type": "text"
      },
      "source": [
        "### Correlation Plot"
      ]
    },
    {
      "cell_type": "code",
      "metadata": {
        "id": "fbaawB2eJ8yn",
        "colab_type": "code",
        "colab": {
          "base_uri": "https://localhost:8080/",
          "height": 204
        },
        "outputId": "bce1120d-035e-4496-8754-660db07eadff"
      },
      "source": [
        "stars.corr()"
      ],
      "execution_count": null,
      "outputs": [
        {
          "output_type": "execute_result",
          "data": {
            "text/html": [
              "<div>\n",
              "<style scoped>\n",
              "    .dataframe tbody tr th:only-of-type {\n",
              "        vertical-align: middle;\n",
              "    }\n",
              "\n",
              "    .dataframe tbody tr th {\n",
              "        vertical-align: top;\n",
              "    }\n",
              "\n",
              "    .dataframe thead th {\n",
              "        text-align: right;\n",
              "    }\n",
              "</style>\n",
              "<table border=\"1\" class=\"dataframe\">\n",
              "  <thead>\n",
              "    <tr style=\"text-align: right;\">\n",
              "      <th></th>\n",
              "      <th>cool</th>\n",
              "      <th>useful</th>\n",
              "      <th>funny</th>\n",
              "      <th>punct %</th>\n",
              "      <th>length</th>\n",
              "    </tr>\n",
              "  </thead>\n",
              "  <tbody>\n",
              "    <tr>\n",
              "      <th>cool</th>\n",
              "      <td>1.000000</td>\n",
              "      <td>-0.743329</td>\n",
              "      <td>-0.944939</td>\n",
              "      <td>0.015484</td>\n",
              "      <td>-0.855591</td>\n",
              "    </tr>\n",
              "    <tr>\n",
              "      <th>useful</th>\n",
              "      <td>-0.743329</td>\n",
              "      <td>1.000000</td>\n",
              "      <td>0.894506</td>\n",
              "      <td>-0.083164</td>\n",
              "      <td>0.702189</td>\n",
              "    </tr>\n",
              "    <tr>\n",
              "      <th>funny</th>\n",
              "      <td>-0.944939</td>\n",
              "      <td>0.894506</td>\n",
              "      <td>1.000000</td>\n",
              "      <td>-0.051614</td>\n",
              "      <td>0.843223</td>\n",
              "    </tr>\n",
              "    <tr>\n",
              "      <th>punct %</th>\n",
              "      <td>0.015484</td>\n",
              "      <td>-0.083164</td>\n",
              "      <td>-0.051614</td>\n",
              "      <td>1.000000</td>\n",
              "      <td>-0.528574</td>\n",
              "    </tr>\n",
              "    <tr>\n",
              "      <th>length</th>\n",
              "      <td>-0.855591</td>\n",
              "      <td>0.702189</td>\n",
              "      <td>0.843223</td>\n",
              "      <td>-0.528574</td>\n",
              "      <td>1.000000</td>\n",
              "    </tr>\n",
              "  </tbody>\n",
              "</table>\n",
              "</div>"
            ],
            "text/plain": [
              "             cool    useful     funny   punct %    length\n",
              "cool     1.000000 -0.743329 -0.944939  0.015484 -0.855591\n",
              "useful  -0.743329  1.000000  0.894506 -0.083164  0.702189\n",
              "funny   -0.944939  0.894506  1.000000 -0.051614  0.843223\n",
              "punct %  0.015484 -0.083164 -0.051614  1.000000 -0.528574\n",
              "length  -0.855591  0.702189  0.843223 -0.528574  1.000000"
            ]
          },
          "metadata": {
            "tags": []
          },
          "execution_count": 47
        }
      ]
    },
    {
      "cell_type": "code",
      "metadata": {
        "id": "xs2i8Ks6J8yo",
        "colab_type": "code",
        "colab": {
          "base_uri": "https://localhost:8080/",
          "height": 286
        },
        "outputId": "7ddc0166-d08c-42fc-a848-4f388e9619d6"
      },
      "source": [
        "sns.heatmap(stars.corr(),cmap='coolwarm',annot=True,vmin=0, vmax=1,square = True)"
      ],
      "execution_count": null,
      "outputs": [
        {
          "output_type": "execute_result",
          "data": {
            "text/plain": [
              "<matplotlib.axes._subplots.AxesSubplot at 0x7fb5e2bb0eb8>"
            ]
          },
          "metadata": {
            "tags": []
          },
          "execution_count": 48
        },
        {
          "output_type": "display_data",
          "data": {
            "image/png": "[encoded data removed]",
            "text/plain": [
              "<Figure size 432x288 with 2 Axes>"
            ]
          },
          "metadata": {
            "tags": [],
            "needs_background": "light"
          }
        }
      ]
    },
    {
      "cell_type": "code",
      "metadata": {
        "id": "ymgn3VzIJ8yq",
        "colab_type": "code",
        "colab": {
          "base_uri": "https://localhost:8080/",
          "height": 281
        },
        "outputId": "6a5e667d-13dd-46ad-db7b-2f215ab34da3"
      },
      "source": [
        "bins = np.linspace(0, 200, 30)\n",
        "\n",
        "plt.hist(yelp['length'], bins)\n",
        "plt.title(\"Body Length Distribution\")\n",
        "plt.show()"
      ],
      "execution_count": null,
      "outputs": [
        {
          "output_type": "display_data",
          "data": {
            "image/png": "[encoded data removed]",
            "text/plain": [
              "<Figure size 432x288 with 1 Axes>"
            ]
          },
          "metadata": {
            "tags": [],
            "needs_background": "light"
          }
        }
      ]
    },
    {
      "cell_type": "code",
      "metadata": {
        "id": "cm8YH5CqJ8yr",
        "colab_type": "code",
        "colab": {
          "base_uri": "https://localhost:8080/",
          "height": 281
        },
        "outputId": "1eb08dfb-040f-49f0-9755-c261e4c5ddd5"
      },
      "source": [
        "bins = np.linspace(0, 20, 40)\n",
        "\n",
        "plt.hist(yelp['punct %'], bins)\n",
        "plt.title(\"Punctuation Distribution\")\n",
        "plt.show()"
      ],
      "execution_count": null,
      "outputs": [
        {
          "output_type": "display_data",
          "data": {
            "image/png": "[encoded data removed]",
            "text/plain": [
              "<Figure size 432x288 with 1 Axes>"
            ]
          },
          "metadata": {
            "tags": [],
            "needs_background": "light"
          }
        }
      ]
    },
    {
      "cell_type": "markdown",
      "metadata": {
        "id": "MladCgeGJ8yt",
        "colab_type": "text"
      },
      "source": [
        "# Apply Vectorizer to convert text to numbers"
      ]
    },
    {
      "cell_type": "markdown",
      "metadata": {
        "id": "4-diI6yEJ8yt",
        "colab_type": "text"
      },
      "source": [
        "# Apply Count Vectorizer"
      ]
    },
    {
      "cell_type": "code",
      "metadata": {
        "id": "X0uTbN7mJ8yu",
        "colab_type": "code",
        "colab": {
          "base_uri": "https://localhost:8080/",
          "height": 71
        },
        "outputId": "66bec36a-b09d-45dd-fc48-914a0eefec18"
      },
      "source": [
        "yelp_class = yelp[(yelp.stars==1) | (yelp.stars==5)]\n",
        "X = yelp_class['text']\n",
        "from sklearn.feature_extraction.text import CountVectorizer\n",
        "count_vect = CountVectorizer(analyzer=clean_text)\n",
        "X_counts = count_vect.fit_transform(yelp_class['text'])\n",
        "print(X_counts.shape)\n",
        "print(count_vect.get_feature_names())"
      ],
      "execution_count": 38,
      "outputs": [
        {
          "output_type": "stream",
          "text": [
            "(4086, 16114)\n",
            "['', '0', '00', '01042012', '022010', '03342', '05', '050', '06', '07092008', '075', '09', '090', '095', '1', '10', '100', '1000', '10000', '1000am', '1000pm', '1000x', '1001', '100150', '1007', '100th', '101', '1011', '1012', '101412', '1015', '102', '1025', '1030', '103011', '1030pm', '10312012', '105', '105â', '1070', '108', '109', '1095', '1099', '10am', '10am4pm', '10close', '10each', '10gallon', '10ish', '10min', '10minut', '10person', '10pm', '10pm12am', '10shrimp', '10th', '10thand', '10x', '10yard', '10yo', '11', '110', '1100', '1100am', '1103', '111', '1113', '1115', '1118', '111807', '111809', '111909', '111pm', '111th', '112', '112312', '1125', '1130', '1130am', '1135', '1139', '114', '1141', '1145', '115', '1150', '1152', '1154', '1155', '115th', '116', '118', '1182010', '1199', '11991079', '11a3p', '11am', '11ish', '11person', '11pm', '12', '120', '1200', '12000', '1205', '1207', '120year', '121007', '121107', '121207', '1213', '121407', '1216', '122111', '122112', '1230', '1230p', '123110', '1232', '123200', '1240', '1244', '125', '1250', '12712', '128i', '129', '1295', '12am', '12mayb', '12oz', '12pm', '12th', '12year', '12yr', '13', '130', '1300', '131415', '13331', '1361', '13are', '13dont', '13person', '13th', '13year', '14', '140', '1400', '1417', '1418', '147', '149', '1495', '1499', '1499lb', '14half', '14lb', '15', '150', '1500', '15000', '150200', '150mm', '1520', '1520min', '1525', '1530', '1564', '157', '15plate', '15th', '15yard', '16', '160', '1600', '162', '165', '1650', '169', '1699', '16th', '17', '1700', '1719', '175', '17th', '18', '180', '1800', '185', '1850', '1895', '1899', '18lb', '18th', '19', '1900', '1913', '1928', '1929', '1930', '1940', '195', '1952', '1953', '1955', '1956', '1960', '1961', '1968', '1969', '1970', '1978', '1980', '1987', '199', '1990', '1992', '1995', '1996', '1997', '1998', '1999', '199not', '19th', '1cent', '1full', '1i', '1k', '1perscoop', '1pm', '1st', '1to1', '2', '20', '200', '2000', '2002', '2003', '2004', '2005', '2006', '2007', '2008', '2009', '200lb', '2010', '2011', '2012', '2012they', '202', '2025', '2030', '2038', '205', '20mb', '20mile', '20min', '20minut', '20someth', '20th', '20x', '21', '2100', '214', '215', '21but', '21st', '21we', '22', '220', '22312', '2240', '225', '2253', '2295', '22oz', '23', '230', '235', '24', '241', '2412', '247', '249', '249449', '2499', '24and', '24hr', '24st', '24th', '25', '250', '2500', '25000', '250400', '2540', '25min', '25person', '25th', '26', '260', '2600', '2608', '26th', '26whole', '27', '27243', '275', '27th', '28', '285', '29', '295', '299', '2995', '2998', '2999', '29th', '2am', '2fresh', '2i', '2mbp', '2nd', '2pm', '2pound', '2rd', '2top', '2wice', '2x', '3', '30', '300', '3000', '300degre', '3035', '3040', '3045', '3080', '30extra', '30someth', '30th', '30year', '311', '3122669', '315', '316', '32', '3200', '32010becaus', '325', '328', '33', '330', '330pm', '33rd', '34', '3400', '34000', '345pm', '349', '3499', '34th', '35', '350', '350ib', '3540', '35c', '35th', '36', '369', '36pm', '37', '370', '375', '3755', '379', '38', '389', '38th', '39', '3900', '394', '398', '399', '39th', '3also', '3am', '3bean', '3d', '3egg', '3g', '3i', '3k', '3lb', '3p6p', '3pm', '3rd', '3star', '3x', '3xwk', '3xyear', '3year', '4', '40', '400', '4000', '400a', '4050', '40ish', '40lm', '40min', '40th', '40year', '40yearold', '41', '411', '415', '41711', '42', '4200', '420000', '425', '43', '430', '430530', '430pm', '435', '4499', '44th', '45', '450', '450600', '450ish', '455', '45min', '46', '46th', '47', '4730pm', '475', '48', '480', '48th', '49', '490', '491', '495', '499', '4b', '4hr', '4littl', '4pack', '4pm', '4pm7pm', '4s', '4star', '4th', '4that', '4x6', '5', '50', '500', '5000', '50000', '500pm', '5060', '5070', '50cent', '50lm', '50that', '51', '510', '515', '517', '517p', '52', '520', '52010', '5231', '525', '528', '53', '530', '530p', '530pm', '54', '545', '549', '55', '550', '552', '56', '565', '57', '575', '58', '595', '599', '5995', '59th', '5k', '5make', '5min', '5p', '5pm', '5star', '5th', '5yo', '6', '60', '600', '6000', '60000', '600am', '600pm', '601', '602', '6080', '60mile', '610', '612', '615pm', '618', '61st', '620', '62010', '620pm', '623', '6235474655', '6239774458', '625', '63', '630', '630am', '64', '642', '64ish', '64th', '65', '650', '653pm', '65person', '66', '6600', '67', '67000', '68', '69', '699', '6am', '6pack', '6pm', '6th', '7', '70', '700', '700am', '70lb', '70th', '71', '710', '711', '711ish', '715', '719', '71st', '725', '730', '730ish', '730pm', '74th', '75', '750', '7500', '76', '775', '78', '7807', '79', '7am', '7am6pm', '7am9pm', '7pm', '7th', '8', '80', '800', '8000hp', '800am', '8020', '81', '810', '811', '812', '8132010', '814', '815', '815am', '816', '819', '820', '82012', '83', '830', '830pm', '832we', '83rd', '845', '849', '85', '850', '85340', '85year', '86', '875', '88', '89', '895', '899', '8am', '8amagain', '8close', '8pm', '8pm10pm', '8th', '8v', '8x10', '8yo', '9', '90', '900', '9000', '90lower', '90minut', '91', '911', '915', '925', '92nd', '93', '930', '930am', '945', '945am', '95', '950', '950ea', '951pm', '96', '975', '98', '99', '995', '9975', '999', '99999', '999for', '99cent', '9am', '9oz', '9p11p', '9pm', '9th', '9year', '9yo', 'a1', 'a2', 'aa', 'aaa', 'aaaamaz', 'aaammmazz', 'aaron', 'ab', 'aback', 'abandon', 'abbazabba', 'abbi', 'abbrevi', 'abc', 'abdomen', 'abhor', 'abid', 'abil', 'abilti', 'abl', 'abodoba', 'abou', 'abound', 'aboutseri', 'abovehav', 'abras', 'abroad', 'abrupt', 'absenc', 'absent', 'absinth', 'absolout', 'absolut', 'absolutley', 'absolutli', 'absorb', 'absorpt', 'abstain', 'abstract', 'absurd', 'absurd8', 'abuelo', 'abuelosit', 'abund', 'abus', 'abysm', 'ac', 'acacia', 'academi', 'acai', 'acapulco', 'accent', 'accept', 'access', 'accessor', 'accessori', 'accid', 'accident', 'acclaim', 'accolad', 'accommod', 'accomod', 'accompani', 'accomplish', 'accord', 'accordingli', 'account', 'accoutr', 'accredit', 'accross', 'accumul', 'accur', 'accus', 'accustom', 'accutemp', 'ace', 'ach', 'acheat', 'achiev', 'aci', 'acid', 'acknowledg', 'ackward', 'acn', 'acoust', 'acquaint', 'acquir', 'acr', 'acrid', 'across', 'acryl', 'act', 'action', 'activ', 'activehealthi', 'activitiessuch', 'actor', 'actual', 'actuali', 'actulli', 'acut', 'ad', 'adag', 'adam', 'adapt', 'add', 'addd', 'addendum', 'addict', 'addictingli', 'addictionand', 'addit', 'addon', 'addperhap', 'address', 'addressweb', 'adelman', 'adequ', 'adio', 'adjac', 'adjoin', 'adjust', 'administr', 'admir', 'admiss', 'admit', 'admittedli', 'admonish', 'ado', 'adob', 'adobada', 'adobo', 'adolesc', 'adopt', 'ador', 'adorn', 'adovada', 'adquat', 'adrian', 'adriann', 'adrienn', 'adult', 'adulthood', 'advanc', 'advantag', 'adventur', 'advers', 'advert', 'advertis', 'advic', 'advicedo', 'advis', 'advisor', 'advoc', 'aeg', 'aerat', 'aerob', 'aeropress', 'aerosol', 'aesthet', 'affair', 'affect', 'afficianado', 'affili', 'afflict', 'affluent', 'afforad', 'afford', 'aficionado', 'afloat', 'aforement', 'afoul', 'afraid', 'africa', 'afteral', 'afterbar', 'afterdark', 'afterglow', 'afternoon', 'aftertast', 'afterthought', 'afterward', 'againbut', 'againno', 'againramiro', 'againth', 'agap', 'agav', 'age', 'agemi', 'agenc', 'agent', 'aggress', 'agit', 'ago', 'agon', 'agoni', 'agre', 'agreeabl', 'agreement', 'agua', 'aguila', 'agwa', 'ah', 'ahe', 'ahead', 'ahem', 'ahha', 'ahhh', 'ahhhh', 'ahhhhh', 'ahhhhhh', 'ahi', 'ahmaz', 'ahold', 'ahwahtuke', 'ahwatuke', 'aid', 'aiello', 'aiko', 'aim', 'aimlessli', 'aint', 'aioli', 'aiptasia', 'air', 'airand', 'aircondit', 'aircool', 'airfair', 'airfar', 'airi', 'airlin', 'airpark', 'airplan', 'airport', 'airwari', 'airway', 'airwaysnev', 'aisd', 'aisha', 'aisl', 'aj', 'ajar', 'aji', 'ajo', 'ajvar', 'aka', 'aki', 'aknowledg', 'akor', 'al', 'ala', 'alabama', 'aladdin', 'alain', 'alameda', 'alan', 'alarm', 'alas', 'alaska', 'alaskan', 'alastoo', 'alau', 'albacor', 'albeit', 'alber', 'albertson', 'album', 'alcatraz', 'alcohol', 'aldent', 'aldo', 'ale', 'alert', 'alessia', 'alex', 'alexandra', 'alfalfa', 'alfonso', 'alfr', 'alfredo', 'alga', 'ali', 'alic', 'alicia', 'alien', 'alik', 'alittl', 'aliv', 'alla', 'allamerican', 'allay', 'alleg', 'allegi', 'allen', 'allend', 'allerg', 'allergen', 'allergi', 'allesia', 'allevi', 'alley', 'allh', 'alli', 'allig', 'allison', 'allnatur', 'allnight', 'allnightlong', 'alloc', 'allot', 'allow', 'allpredomin', 'allstar', 'allur', 'alluringmayb', 'allyoucaneat', 'almond', 'almondorang', 'almondsthi', 'almost', 'alo', 'aloft', 'aloha', 'alon', 'along', 'alongsid', 'aloo', 'aloof', 'alot', 'aloud', 'alp', 'alphagraph', 'alread', 'alreadi', 'alright', 'also', 'alter', 'alterc', 'altern', 'although', 'altic', 'altogeth', 'alum', 'aluminum', 'alvadora', 'alway', 'alwaysw', 'ama', 'amaaaaaz', 'amaaz', 'amado', 'amaebi', 'amalfi', 'amanda', 'amaretti', 'amarettiomg', 'amaretto', 'amarillo', 'amaro', 'amateur', 'amaz', 'amazebal', 'amazing', 'amazingan', 'amazingh', 'amazingi', 'amazingli', 'amazingtruli', 'amazingw', 'amazon', 'amazoncom', 'ambassador', 'amber', 'ambianc', 'ambienc', 'ambient', 'ambrosia', 'ambul', 'amc', 'amen', 'amend', 'america', 'american', 'americana', 'americanfrench', 'americanizeditalian', 'americano', 'ameritrash', 'amerizona', 'ami', 'amic', 'amid', 'amidst', 'amin', 'amish', 'ammo', 'ammonia', 'amomi', 'among', 'amongst', 'amonst', 'amor', 'amount', 'amp', 'amphitheatr', 'ampl', 'ampm', 'amsterdam', 'amtrack', 'amus', 'amusebouch', 'an', 'anaheim', 'anal', 'anallyretent', 'analog', 'analysi', 'analyz', 'anatom', 'ancho', 'anchor', 'anchovi', 'ancient', 'ancillari', 'andencanto', 'andi', 'andiamo', 'andor', 'andouil', 'andrea', 'andrew', 'andsh', 'andth', 'andwait', 'andyandrew', 'anecdot', 'anem', 'anesthet', 'anew', 'angel', 'angela', 'angelesjust', 'angello', 'anger', 'angi', 'angl', 'anglais', 'angler', 'angri', 'angst', 'anib', 'anim', 'animatron', 'anis', 'aniston', 'ankl', 'ann', 'annett', 'anni', 'annihil', 'anniversari', 'announc', 'annoy', 'annual', 'anomali', 'anonym', 'anoth', 'anotherit', 'anotherwho', 'ansel', 'answer', 'ant', 'antchilada', 'anthem', 'anthoni', 'anti', 'antiag', 'antibiot', 'anticip', 'anticipateda', 'anticipatedth', 'anticlimat', 'antipasta', 'antipasti', 'antipasto', 'antiqu', 'antiqueetc', 'antisept', 'antisoci', 'antithesi', 'antiviru', 'antlerchandeli', 'antonio', 'antono', 'anxieti', 'anxiou', 'anxious', 'anybodi', 'anyday', 'anyhow', 'anymor', 'anyon', 'anyplac', 'anyth', 'anytim', 'anyway', 'anywayit', 'anywaysbut', 'anywaysi', 'anywaysth', 'anywaystheir', 'anywaytri', 'anywher', 'anywho', 'ao', 'aok', 'ap', 'apach', 'apart', 'ape', 'apeel', 'apiec', 'apolog', 'apologet', 'apologizedr', 'apostl', 'apoth', 'apothecari', 'app', 'appal', 'appalachian', 'appar', 'apparantli', 'apparel', 'apparit', 'appaul', 'appeal', 'appear', 'appeas', 'appert', 'appet', 'appetit', 'appetito', 'appetiza', 'appetizerwhich', 'appi', 'appit', 'appl', 'applaud', 'applaus', 'applebe', 'appletini', 'applewood', 'appli', 'applianc', 'applic', 'appoinmtnt', 'appoint', 'appointmentsand', 'appolog', 'apprais', 'appreci', 'apprehens', 'apprehensiveand', 'appreic', 'approach', 'appropri', 'approv', 'approx', 'approxim', 'appt', 'apricot', 'april', 'apron', 'apt', 'aqua', 'aquarium', 'aquir', 'ar', 'arab', 'arai', 'arbol', 'arbor', 'arborio', 'arbuckl', 'arcad', 'arcadia', 'arcadiabiltmorecamelback', 'arcan', 'arch', 'archeri', 'architect', 'architectur', 'archiv', 'archway', 'arco', 'area', 'areaa', 'areacheck', 'areawel', 'areher', 'areif', 'arena', 'arent', 'arentcheck', 'argentin', 'argentinian', 'argu', 'argument', 'argyl', 'ariel', 'arigato', 'aris', 'arizona', 'arizonan', 'arizonian', 'arkansa', 'arlecchino', 'arlin', 'arm', 'armando', 'armi', 'armour', 'armsand', 'arnold', 'aroma', 'aromat', 'aromatherapi', 'around', 'aroundand', 'aroundi', 'arous', 'arpaio', 'arragont', 'arrang', 'array', 'arrest', 'arriba', 'arribasgo', 'arriv', 'arriveddepart', 'arrivederci', 'arrivedsteam', 'arrog', 'arrowhead', 'arroz', 'art', 'artesian', 'arthur', 'arti', 'artichok', 'articl', 'articul', 'artifact', 'artifici', 'artisan', 'artist', 'artistri', 'artoi', 'artsi', 'artwork', 'arugala', 'arugula', 'asada', 'asado', 'asahi', 'asaian', 'asana', 'asap', 'asasda', 'ascend', 'ascent', 'ash', 'asham', 'ashamedli', 'ashley', 'ashtanga', 'ashtray', 'asia', 'asiago', 'asian', 'asianmexican', 'asid', 'ask', 'askchildhood', 'askin', 'asleep', 'asparagu', 'aspargu', 'aspect', 'aspir', 'aspirin', 'ass', 'assault', 'assert', 'assess', 'asset', 'asshat', 'asshol', 'assign', 'assinin', 'assist', 'asskiss', 'assoc', 'associ', 'assort', 'assum', 'assumpt', 'assur', 'assuredli', 'astat', 'asterisk', 'astonish', 'astonishingli', 'astound', 'astrolog', 'astronom', 'asu', 'atari', 'atc', 'ate', 'atf', 'athelet', 'athenian', 'athlet', 'athletica', 'atl', 'atlant', 'atlanta', 'atleast', 'atm', 'atmospher', 'atmosphereblu', 'atmosphereil', 'atmosphereit', 'atmospherejust', 'atmospherewis', 'atom', 'atomospher', 'atop', 'atoyac', 'atrium', 'atroci', 'att', 'attach', 'attack', 'attain', 'attarct', 'attempt', 'attend', 'attendantsi', 'attende', 'attent', 'attest', 'attic', 'attir', 'attitud', 'attitudeth', 'attorney', 'attract', 'attribut', 'atyp', 'au', 'auction', 'audac', 'audienc', 'audio', 'audiobook', 'audiovideo', 'audit', 'auditorium', 'aug', 'augment', 'augratin', 'august', 'aunt', 'aunti', 'aurohau', 'auspic', 'aussi', 'austin', 'australia', 'australian', 'authent', 'authenticabsolut', 'authenticli', 'authenticstyl', 'author', 'autist', 'auto', 'autocross', 'autograph', 'autograt', 'automat', 'automobil', 'automot', 'autumn', 'autumnlik', 'avacado', 'avacodo', 'avadado', 'avail', 'avalanch', 'ave', 'avenu', 'aver', 'averag', 'averagehorr', 'avers', 'avewho', 'avg', 'avid', 'avo', 'avocado', 'avoid', 'avondal', 'aw', 'await', 'awak', 'awaken', 'awar', 'award', 'awardwin', 'away', 'awaybut', 'awaycaus', 'awaz', 'awe', 'awesom', 'awesomeeveryth', 'awesomei', 'awesometh', 'awesometown', 'awfulit', 'awhil', 'awkward', 'awkwardli', 'awn', 'awsom', 'axe', 'az', 'az88', 'azkaban', 'azn', 'azrescu', 'azspagirl', 'azucena', 'azz', 'b', 'ba', 'baaaaaaad', 'baba', 'babaganoush', 'babbo', 'babi', 'babyback', 'babykid', 'babysitt', 'bacado', 'bacardi', 'bachelor', 'bachelorett', 'back', 'backaft', 'backand', 'backdrop', 'backgreat', 'background', 'backi', 'backlit', 'backnin', 'backnot', 'backoffic', 'backpack', 'backsid', 'backsoon', 'backstag', 'backstori', 'backtrack', 'backunless', 'backup', 'backvibr', 'backward', 'backyard', 'bacon', 'baconcheddar', 'baconick', 'baconsausageham', 'baconwrap', 'bacteria', 'bad', 'bad18', 'badass', 'badbut', 'bader', 'badger', 'badli', 'baeley', 'baffl', 'bag', 'bage', 'bagel', 'baggag', 'baggi', 'bagginsey', 'baghlava', 'bagjust', 'baguett', 'bahama', 'bahn', 'bail', 'bailey', 'bait', 'baiz', 'baja', 'bajesu', 'bajillion', 'bajillionair', 'bake', 'baker', 'bakeri', 'bakeriesdistributor', 'baklava', 'balanc', 'balconi', 'bald', 'balid', 'balk', 'ball', 'ballet', 'ballin', 'balloon', 'ballpark', 'ballroom', 'balm', 'balsalm', 'balsam', 'baltimor', 'bam', 'bamboo', 'ban', 'banana', 'bananay', 'bananoffe', 'banco', 'band', 'bandag', 'bandaid', 'bandana', 'banddddeeedo', 'bandera', 'bandido', 'bandit', 'bandito', 'banfield', 'bang', 'banger', 'bangin', 'bangkok', 'bangl', 'banglei', 'bangup', 'bank', 'banker', 'bankruptci', 'bannana', 'banner', 'banquet', 'banquett', 'bant', 'banter', 'bao', 'bap', 'bar', 'barand', 'barb', 'barback', 'barbacoa', 'barbara', 'barbbacoa', 'barbecu', 'barbecuein', 'barbequ', 'barber', 'barbershop', 'barbox', 'barbqu', 'barbut', 'barcelona', 'bare', 'barefac', 'barefoot', 'barelyrecognizableasfood', 'barelytouch', 'bargain', 'bargin', 'bargoer', 'barista', 'bark', 'barley', 'barleywin', 'barlong', 'barn', 'barnesqu', 'barney', 'barnow', 'barq', 'barr', 'barramundi', 'barrel', 'barrelmor', 'barrestaur', 'barri', 'barrier', 'barrio', 'barro', 'barssen', 'bartabl', 'bartend', 'bartenderserv', 'bartenderstay', 'bartenderwaitperson', 'bartholomew', 'bartista', 'bartlett', 'bartop', 'basalm', 'base', 'basebal', 'baselin', 'basement', 'bash', 'basha', 'basi', 'basic', 'basil', 'bask', 'basket', 'basketbal', 'baskin', 'basmati', 'bass', 'bast', 'bastard', 'bastardsoh', 'baston', 'bat', 'batch', 'bath', 'bathbomb', 'bather', 'bathroom', 'batman', 'batmobil', 'baton', 'batter', 'batteri', 'battl', 'battlefoam', 'battler', 'battleship', 'bavaria', 'bavarian', 'bay', 'bb', 'bbb', 'bbbwhat', 'bbq', 'bbqd', 'bbqjoe', 'bc', 'bcbg', 'bday', 'bdsm', 'be', 'bea', 'beach', 'bead', 'beam', 'bean', 'beaneri', 'beansric', 'bear', 'bearabl', 'beard', 'bearyou', 'beast', 'beat', 'beaten', 'beater', 'beati', 'beatl', 'beau', 'beauti', 'beautifulhandsom', 'beaver', 'becam', 'becca', 'bechamel', 'beckett', 'becki', 'beckon', 'becom', 'becut', 'becuz', 'bed', 'bedand', 'bedazzl', 'bedroom', 'bedsid', 'bee', 'beebe', 'beef', 'beefcak', 'beefchicken', 'beefi', 'beefjust', 'beefkung', 'beefsteak', 'beep', 'beepbeep', 'beer', 'beerbread', 'beerliquor', 'beerno', 'beeror', 'beerstyl', 'beet', 'beetl', 'beforeand', 'beforehand', 'befpr', 'beg', 'began', 'beggar', 'begin', 'beginn', 'beginningend', 'begrudgingli', 'begun', 'behalf', 'behav', 'behavior', 'behind', 'behold', 'beig', 'beignet', 'beij', 'bein', 'beirut', 'belabor', 'belgian', 'belief', 'believ', 'beliger', 'belittl', 'beliv', 'bell', 'bella', 'bellboy', 'belli', 'belliger', 'bellini', 'belltown', 'bellycola', 'bellymmmm', 'belmont', 'belong', 'belov', 'belowaverag', 'belowi', 'belt', 'ben', 'bench', 'bend', 'bender', 'beneath', 'benedict', 'benefici', 'benefit', 'benev', 'benign', 'benihana', 'benni', 'bent', 'bento', 'beppo', 'berat', 'berg', 'bergesson', 'berkshir', 'berlin', 'bermuda', 'berri', 'berschler', 'bert', 'bertha', 'berto', 'besid', 'best', 'bestdid', 'besti', 'bestor', 'bestow', 'bestth', 'bestthi', 'bet', 'bethani', 'bethel', 'betito', 'betray', 'bett', 'betta', 'better', 'bettera', 'betterjust', 'betterthey', 'betterw', 'betti', 'betunia', 'betweeen', 'bev', 'beverag', 'beverli', 'bevmo', 'bewar', 'bewareit', 'beyonc', 'beyond', 'bf', 'bfast', 'bff', 'bfg', 'bgf', 'bhel', 'bi', 'bia', 'biacoverd', 'biagga', 'biaggia', 'biagio', 'biali', 'bianco', 'biancocibo', 'biancothough', 'biancoverd', 'bias', 'bibimbap', 'bibl', 'bicker', 'bicycl', 'biden', 'bidet', 'bier', 'biet', 'bifoc', 'big', 'bigass', 'bigastorewithjob', 'bigclear', 'bige', 'bigfatlap', 'bigger', 'biggest', 'biggi', 'biiiiiiiiiiig', 'bike', 'biker', 'bikini', 'bikiniclad', 'bikram', 'bilbo', 'bilini', 'bill', 'billet', 'billiard', 'billthey', 'biltmor', 'bimbo', 'bin', 'bind', 'bing', 'bingo', 'bingsoo', 'binkley', 'biographi', 'biohazard', 'bird', 'birdi', 'birdlif', 'birth', 'birthday', 'birthdaychristma', 'birthdaythey', 'biryani', 'biscotti', 'biscuit', 'bismark', 'bison', 'bisqu', 'bistec', 'bistro', 'bit', 'bitch', 'bitchi', 'bite', 'biteand', 'bitenot', 'bitether', 'bitsi', 'bitten', 'bitter', 'bitti', 'bitttyyi', 'bitze', 'biz', 'bizarr', 'bj', 'bla', 'black', 'blackberri', 'blackboard', 'blacken', 'blackout', 'blackpinto', 'blackric', 'blacksmith', 'blackston', 'blackwidow', 'bladder', 'blade', 'blah', 'blake', 'blame', 'blanc', 'blanca', 'blanco', 'bland', 'blank', 'blanket', 'blankiti', 'blare', 'blase', 'blasphemi', 'blast', 'blastdanc', 'blatantli', 'blaze', 'blazer', 'bleach', 'bleacher', 'blech', 'bleech', 'bleed', 'bleh', 'blemish', 'blend', 'blendini', 'bless', 'bleu', 'blew', 'blimpi', 'blind', 'blindfold', 'blindshotheavi', 'blink', 'bliss', 'blissrebar', 'blister', 'bloat', 'blob', 'block', 'blockbust', 'blog', 'blond', 'blood', 'bloodi', 'bloodymari', 'bloom', 'bloomi', 'blooz', 'blossom', 'blous', 'blow', 'blowdri', 'blower', 'blown', 'blowup', 'blt', 'blu', 'blue', 'blueberri', 'bluechees', 'bluemoon', 'blunt', 'bluntli', 'blur', 'blush', 'blvd', 'bmw', 'bmx', 'bo', 'boa', 'boar', 'board', 'boast', 'boat', 'bob', 'boba', 'bobafi', 'bobahad', 'bobbi', 'boca', 'bocc', 'bocca', 'bock', 'bod', 'bodi', 'bodyguard', 'bodywork', 'bog', 'bogey', 'bogi', 'bogo', 'bogu', 'bohemian', 'boil', 'boister', 'bold', 'bolivia', 'bollywood', 'bolster', 'bolsterless', 'bolt', 'bomb', 'bombard', 'bombaro', 'bombay', 'bomber', 'bombero', 'bombsyou', 'bon', 'bona', 'bonafid', 'bonanza', 'bond', 'bone', 'bonein', 'boneless', 'bonfir', 'bong', 'bonn', 'bonni', 'bonu', 'bonus', 'boo', 'boob', 'boofay', 'boohiney', 'boohoo', 'book', 'bookespeci', 'bookingfront', 'bookletstyl', 'bookman', 'booksauthor', 'bookstor', 'boolgoge', 'boom', 'boooy', 'boop', 'booshelf', 'boost', 'booster', 'boot', 'booth', 'booyah', 'booz', 'boozer', 'boozin', 'boozomet', 'bop', 'borad', 'bordeaux', 'bordelais', 'border', 'borderlin', 'bore', 'born', 'borrow', 'bosa', 'bosch', 'bosco', 'bosnia', 'bosnian', 'bosnianjugoslavian', 'boss', 'bossi', 'bostic', 'boston', 'bosu', 'botan', 'botani', 'bother', 'bothersom', 'botox', 'bottl', 'bottom', 'bottomfeed', 'bottomless', 'bouch', 'bought', 'bouillabaiss', 'boulangeri', 'boulder', 'boulevard', 'boullion', 'bounc', 'bouncer', 'bound', 'bounti', 'bouquet', 'bourban', 'bourbon', 'bourdon', 'bout', 'boutiqu', 'boutonnier', 'bow', 'bowl', 'bowlit', 'bowlplatesalad', 'bowti', 'box', 'boxand', 'boxer', 'boxingmarti', 'boy', 'boycot', 'boyfriend', 'boyfrind', 'boyshort', 'bpa', 'br', 'bra', 'brace', 'brachetto', 'brad', 'bradley', 'brag', 'braill', 'brain', 'brainless', 'brais', 'braiz', 'brak', 'brake', 'bran', 'branch', 'brand', 'brandi', 'brandsprismacolor', 'branzino', 'brass', 'brasseri', 'brat', 'bratwurst', 'brava', 'brave', 'bravo', 'bray', 'brazen', 'brazilian', 'brdiesmaid', 'brea', 'bread', 'breadawesom', 'breadcrumb', 'breadfruit', 'breadit', 'breadstick', 'breadtick', 'break', 'breaker', 'breakfast', 'breakfastbrunch', 'breakfastdang', 'breakfasti', 'breakfastnot', 'breakfastth', 'breaksfastlunch', 'breakthrough', 'breast', 'breastguacamoleprovolon', 'breath', 'breather', 'breathtak', 'bred', 'breed', 'breez', 'breezi', 'brekafast', 'brenda', 'brenden', 'bretheren', 'breve', 'brew', 'brewer', 'breweri', 'brewpub', 'brewski', 'bri', 'brian', 'brianna', 'brick', 'brickandmortar', 'brickoven', 'brickwork', 'bridal', 'bride', 'bridesmaid', 'bridg', 'brie', 'brief', 'briefcas', 'briefli', 'brigg', 'bright', 'brighten', 'brighter', 'brightli', 'brillianc', 'brilliant', 'brim', 'brine', 'bring', 'brini', 'brio', 'brioch', 'brioni', 'brisk', 'brisket', 'brisketboth', 'brit', 'british', 'britishfrench', 'britney', 'brittan', 'brittian', 'brittl', 'brle', 'bro', 'broad', 'broadway', 'broast', 'broccoli', 'broccolini', 'brochett', 'brocolli', 'brodkin', 'broil', 'broiledboil', 'broke', 'broken', 'bronx', 'bronz', 'brooch', 'brooklyn', 'brookston', 'brophi', 'broth', 'brothdivin', 'brother', 'brotherinlaw', 'brothi', 'brough', 'brought', 'broun', 'brow', 'brown', 'brownfri', 'browni', 'brownorang', 'brows', 'browser', 'bruce', 'bruchetta', 'bruder', 'bruis', 'brule', 'brulã', 'brunch', 'brunchlunch', 'brunet', 'brunett', 'bruscetta', 'bruschetta', 'bruschettai', 'brush', 'brushcetta', 'brushetta', 'brusqu', 'brussel', 'brutal', 'brutu', 'bryan', 'brã', 'bs', 'btch', 'btchi', 'btw', 'btwthe', 'bu', 'bubbl', 'bubl', 'buca', 'bucatini', 'bucca', 'bucco', 'buchanan', 'buck', 'bucket', 'bucketload', 'buckey', 'buckhunt', 'buckl', 'buckwheat', 'bud', 'buddhism', 'buddi', 'budg', 'budget', 'budgetfriendli', 'budweis', 'bueno', 'buff', 'buffala', 'buffalo', 'buffer', 'buffet', 'buffett', 'bug', 'bugger', 'bugtussel', 'build', 'buildingi', 'buildinginclud', 'buildyourown', 'built', 'buis', 'bula', 'bulb', 'bulgogi', 'bulk', 'bull', 'bulldog', 'bullet', 'bullion', 'bullrid', 'bullshit', 'bullsht', 'bum', 'bummer', 'bummerth', 'bump', 'bumper', 'bun', 'bunbut', 'bunch', 'bundl', 'bundyno', 'bunni', 'buon', 'buona', 'buran', 'burch', 'buren', 'burger', 'burgernot', 'burial', 'burl', 'burli', 'burlington', 'burmes', 'burn', 'burnt', 'burnthow', 'burp', 'burrata', 'burratta', 'burrito', 'burritoshav', 'burritoswith', 'burro', 'burrow', 'burrrito', 'burst', 'burt', 'burton', 'busan', 'busboy', 'busboygirl', 'buse', 'bush', 'busi', 'busier', 'busiest', 'businessman', 'businessmen', 'businessth', 'businesswoman', 'buss', 'busser', 'bust', 'bustl', 'busyw', 'buta', 'butai', 'butbut', 'butcher', 'buti', 'butka', 'butt', 'butter', 'butterburg', 'buttercream', 'buttercrunch', 'butterfish', 'butterfli', 'butteri', 'butterkã', 'buttermarin', 'buttermilk', 'butternut', 'butterscallopsstrawberri', 'butterscotch', 'button', 'bux', 'buy', 'buybuybabi', 'buyer', 'buyingput', 'buyonegetonefre', 'buzz', 'buzzcat', 'buzzi', 'buzzkil', 'bv500', 'bye', 'bygon', 'byo', 'byob', 'byproduct', 'bytheglass', 'bã', 'c', 'c4', 'ca', 'cab', 'cabagecarrot', 'cabana', 'cabbag', 'cabbi', 'cabela', 'cabernet', 'cabeza', 'cabfabul', 'cabin', 'cabinet', 'cabl', 'cacti', 'cactu', 'cactus40th', 'cactuseveryth', 'caddi', 'caddilac', 'cadillac', 'caesar', 'caesarish', 'caeser', 'cafe', 'cafeloung', 'cafeteria', 'cafeteriaan', 'caff', 'caffein', 'cafã', 'cage', 'cagetrap', 'caitlin', 'cajun', 'cajunstyl', 'cake', 'cakecupcak', 'cakeof', 'cal', 'calabria', 'calamari', 'calamarideliciouslov', 'calamo', 'calcul', 'calcutta', 'calendar', 'calf', 'cali', 'calib', 'calient', 'california', 'californiastyl', 'calimari', 'call', 'calland', 'caller', 'callingm', 'callou', 'callous', 'callsso', 'callu', 'calm', 'calmli', 'calori', 'calorienutrit', 'caloriessatur', 'calv', 'calypso', 'calzon', 'came', 'camel', 'camelback', 'camelbackhappi', 'camelview', 'camera', 'cameraphotographi', 'camil', 'camo', 'camp', 'campaign', 'campbel', 'camper', 'campu', 'campus', 'camu', 'can', 'canada', 'canadian', 'canail', 'canailleflock', 'canal', 'canasta', 'cancel', 'cancer', 'candac', 'candi', 'candid', 'candl', 'candlelight', 'candlelit', 'candlemak', 'candyland', 'cane', 'canida', 'canin', 'canist', 'cannelloni', 'canneloni', 'cannib', 'cannoli', 'cannon', 'cannot', 'cano', 'canoli', 'canopi', 'cant', 'canteen', 'canteloup', 'cantina', 'canton', 'cantones', 'canva', 'canvas', 'canyon', 'cap', 'capabl', 'capac', 'capaccino', 'capellini', 'caper', 'capezio', 'capicolla', 'capit', 'capitol', 'caponata', 'cappella', 'cappicola', 'cappuccino', 'capres', 'capri', 'capriotti', 'capsul', 'captain', 'captiv', 'captur', 'car', 'caradmom', 'caraf', 'caramel', 'caramelcolor', 'carb', 'carbchocol', 'carbheavi', 'carbload', 'carbohydr', 'carbon', 'carbonara', 'carbsugar', 'carburetor', 'carcuz', 'card', 'cardamom', 'cardboard', 'cardiac', 'cardin', 'cardio', 'cardstock', 'cardwhat', 'care', 'career', 'carefre', 'carefreecav', 'caregiv', 'careless', 'cari', 'caribbean', 'carignor', 'carl', 'carla', 'carlo', 'carlsbad', 'carlton', 'carmax', 'carmel', 'carn', 'carnag', 'carnegi', 'carniceria', 'carnita', 'carnivor', 'carnivori', 'carol', 'carolin', 'carolina', 'carousel', 'carpacchio', 'carpaccio', 'carpal', 'carpet', 'carpool', 'carrabba', 'carri', 'carribbean', 'carrier', 'carrot', 'carrott', 'carryout', 'carstyl', 'cart', 'cartel', 'carter', 'carton', 'cartwright', 'carv', 'casa', 'casaslightli', 'case', 'casei', 'casella', 'casement', 'casey', 'cash', 'cashew', 'cashier', 'cashthat', 'casi', 'casino', 'casita', 'cask', 'casserol', 'cast', 'castilla', 'castl', 'casual', 'casualfeel', 'cat', 'cat5', 'cat6', 'catagori', 'catalog', 'catalyt', 'catch', 'categori', 'cater', 'catfish', 'cathedr', 'caucasian', 'caught', 'cauldron', 'cauliflow', 'caus', 'causednot', 'caution', 'cautiou', 'caval', 'cavalleria', 'cave', 'caveat', 'cavelik', 'cavern', 'caviar', 'caviti', 'cayman', 'cb', 'cc', 'cca', 'ccg', 'cco', 'cd', 'cdc', 'cddvd', 'ce', 'ceas', 'ceasar', 'ceaser', 'cede', 'ceil', 'celebr', 'celebratori', 'celeri', 'celiac', 'celina', 'cell', 'cellar', 'cellist', 'cellphon', 'celsiu', 'cement', 'cenpho', 'cenphomid', 'censor', 'cent', 'center', 'centerbarsrestaurantsarena', 'centerit', 'centerphoenix', 'centerpiec', 'centr', 'central', 'centralthi', 'centric', 'centsgallon', 'centuri', 'ceo', 'ceram', 'cereal', 'ceremoni', 'cerignola', 'certain', 'certainli', 'certif', 'certifi', 'cesar', 'cesspool', 'cetera', 'cevap', 'cevich', 'cezann', 'cf', 'cfl', 'cfoo', 'cfu', 'ch', 'cha', 'chaat', 'chaata', 'chace', 'chagrin', 'chai', 'chain', 'chainco', 'chainsaw', 'chair', 'chairsdesk', 'chais', 'chalet', 'chalk', 'chalkboard', 'chalki', 'challah', 'challang', 'challeng', 'chamber', 'chambord', 'chamomil', 'champ', 'champagn', 'champaign', 'champaing', 'champer', 'championship', 'champong', 'chana', 'chanc', 'chancer', 'chancese', 'chandeli', 'chandler', 'chanel', 'chang', 'changei', 'channel', 'chanterel', 'chantreloysterect', 'chao', 'chaoeven', 'chaparr', 'chapouti', 'chapter', 'char', 'charact', 'charbroil', 'charburg', 'charcoal', 'chard', 'chardonnay', 'chardonnayi', 'charg', 'chargernot', 'chargethen', 'chargril', 'chargrilledroast', 'charismat', 'charismaticcam', 'charit', 'chariti', 'charl', 'charleen', 'charlen', 'charleston', 'charli', 'charlott', 'charm', 'chart', 'chase', 'chashu', 'chashumen', 'chashuramen', 'chat', 'chateaux', 'chatney', 'chatter', 'chatti', 'chavez', 'che', 'cheap', 'cheapand', 'cheaper', 'cheapest', 'cheapli', 'cheapskat', 'cheat', 'checca', 'check', 'checkbox', 'checke', 'checkedin', 'checker', 'checkin', 'checklist', 'checkout', 'checkup', 'cheddar', 'cheeeeno', 'cheek', 'cheer', 'cheeri', 'cheerlead', 'chees', 'cheeseagain', 'cheesebacon', 'cheeseboard', 'cheeseburg', 'cheesecak', 'cheesecakeim', 'cheesecakeyum', 'cheesehead', 'cheeseit', 'cheeselettucetomatobacon', 'cheeseoh', 'cheesesteak', 'cheesewhat', 'cheesey', 'cheesi', 'cheez', 'cheezit', 'chef', 'chefe', 'chefown', 'cheftoss', 'chelsea', 'chemex', 'chemic', 'cherish', 'cherri', 'cherryblossom', 'cherrypoppin', 'cheryl', 'chess', 'chest', 'chestnut', 'chew', 'chewi', 'chey', 'chi', 'chiang', 'chianti', 'chic', 'chicago', 'chicagoan', 'chicagostyl', 'chiccharon', 'chichi', 'chick', 'chickafila', 'chicken', 'chickena', 'chickenamaz', 'chickenfri', 'chickeninstead', 'chickenit', 'chickenlot', 'chickenpad', 'chickensubtl', 'chickfila', 'chickpea', 'chiclet', 'chicori', 'chief', 'chiku', 'chilada', 'chilaquil', 'child', 'childbirth', 'childcar', 'childhood', 'childish', 'children', 'childsplay', 'chile', 'chilean', 'chilequil', 'chili', 'chiliadvers', 'chiliglaz', 'chilisoup', 'chill', 'chilli', 'chilulah', 'chime', 'chimi', 'chimichanga', 'chimmichurri', 'chin', 'china', 'chinaberri', 'chinatown', 'chine', 'chines', 'chino', 'chip', 'chipolt', 'chipot', 'chipotl', 'chipotlecid', 'chipotleranch', 'chipssalsa', 'chiptol', 'chiro', 'chiropract', 'chiropractor', 'chirp', 'chit', 'chitchat', 'chive', 'chix', 'chlorin', 'choc', 'chocho', 'chock', 'chockful', 'chocol', 'chocolatecaramelfil', 'chocolatepeanut', 'chocolatestrawberri', 'chocolatewithredchil', 'chocolatey', 'chocolati', 'chocolatiest', 'chodang', 'choic', 'choir', 'choke', 'cholla', 'choloc', 'chomp', 'chompi', 'choo', 'choos', 'chooser', 'chop', 'choppi', 'chopstick', 'chore', 'chorizo', 'chorizohello', 'chorro', 'choru', 'chose', 'chosen', 'choux', 'chow', 'chowder', 'chri', 'chriss', 'christ', 'christi', 'christian', 'christin', 'christma', 'christmastim', 'christoph', 'chrome', 'chronic', 'chronicl', 'chu', 'chualright', 'chuck', 'chuckl', 'chug', 'chump', 'chunk', 'chunki', 'church', 'churn', 'churro', 'chutney', 'chuy', 'chyna', 'chz', 'chã', 'ciabatta', 'ciao', 'cibo', 'cider', 'cien', 'cig', 'cigar', 'cigarett', 'cigarfriendli', 'cilantro', 'cinammo', 'cinderella', 'cindi', 'cine', 'cinema', 'cinemark', 'cinnamon', 'cinnamonspici', 'cioppino', 'circa', 'circl', 'circu', 'circuit', 'circul', 'circular', 'circumst', 'circumv', 'circusrodeo', 'ciroc', 'cisco', 'cite', 'citi', 'citizen', 'citru', 'citrusi', 'citys', 'citywid', 'civic', 'civich', 'ck', 'clad', 'claim', 'clair', 'clam', 'clamp', 'clamshel', 'clang', 'clap', 'claredon', 'clarendon', 'clarif', 'clarifi', 'clariti', 'class', 'classi', 'classic', 'classifi', 'classroom', 'classwork', 'classybutcasu', 'clatter', 'claud', 'claustrophob', 'claw', 'clay', 'clean', 'cleaner', 'cleanest', 'cleaningcan', 'cleanli', 'cleanlinessd', 'cleanser', 'cleansteril', 'cleanth', 'cleanup', 'clear', 'clearanc', 'clearheel', 'cleari', 'clearli', 'cleavag', 'cleaver', 'clement', 'clerk', 'clever', 'cleverli', 'clich', 'click', 'clicquot', 'client', 'clientel', 'clientswow', 'clif', 'cliff', 'climat', 'climax', 'climb', 'climber', 'clincher', 'clingi', 'clinic', 'clint', 'clinton', 'clip', 'clipper', 'cliqu', 'cliquish', 'clock', 'clockminispeak', 'clockwork', 'clog', 'clone', 'clooney', 'clorox', 'close', 'closedlam', 'closefourth', 'closer', 'closest', 'closet', 'closeup', 'clot', 'cloth', 'clothesal', 'clothespursessho', 'clothingpurs', 'cloud', 'cloudi', 'clove', 'clover', 'clown', 'cloy', 'club', 'clubbar', 'clubbi', 'clubhous', 'clubprogram', 'clubswel', 'clue', 'cluedeliveri', 'clueless', 'clump', 'clumpi', 'clumsi', 'clunki', 'cluster', 'clutch', 'clyde', 'cmon', 'cmost', 'co', 'coach', 'coachdefens', 'coagul', 'coal', 'coalfac', 'coalfir', 'coars', 'coast', 'coastal', 'coaster', 'coastmidwest', 'coat', 'coax', 'cob', 'cobak', 'cobb', 'cobbler', 'cobra', 'coc', 'coca', 'cocacola', 'cocain', 'cocina', 'cock', 'cockroach', 'cocktail', 'cocktaila', 'cocktailsw', 'coco', 'cocoa', 'coconut', 'coconutchocol', 'cocstco', 'cod', 'coda', 'code', 'coe', 'cofco', 'coff', 'coffe', 'coffeea', 'coffeeespresso', 'coffeegrind', 'coffeehous', 'coffeeit', 'coffeemeh', 'coffeepul', 'coffeeshop', 'coffeewat', 'cohost', 'coin', 'coincid', 'coke', 'cola', 'colada', 'colbert', 'cold', 'colda', 'coldston', 'cole', 'coleslaw', 'collabor', 'collaps', 'collar', 'collard', 'colleagu', 'collect', 'collector', 'colleen', 'colleg', 'collegeag', 'cologn', 'coloni', 'color', 'colorado', 'colorfulbut', 'colorist', 'colorno', 'colorsdesign', 'coloss', 'colour', 'columbia', 'com', 'coma', 'comb', 'combat', 'combin', 'combo', 'combopepp', 'come', 'comeback', 'comedi', 'comethi', 'comfi', 'comfort', 'comic', 'comin', 'comingsomeday', 'command', 'commenc', 'commend', 'comment', 'commerc', 'commerci', 'commiss', 'commit', 'committe', 'common', 'commonli', 'commun', 'communist', 'communityeasi', 'communitywid', 'commut', 'comp', 'compadr', 'compain', 'compani', 'companion', 'companionship', 'compar', 'comparison', 'compart', 'compasion', 'compass', 'compassion', 'compat', 'compd', 'compel', 'compens', 'compet', 'competit', 'competitor', 'compit', 'compla', 'complain', 'complainoh', 'complainsmi', 'complaint', 'complement', 'complementari', 'complet', 'completelyim', 'completli', 'complex', 'complic', 'complichat', 'complientari', 'compliment', 'complimentari', 'compon', 'compos', 'composit', 'composur', 'compot', 'compound', 'comprehend', 'comprehens', 'compress', 'compressa', 'compressor', 'compris', 'compromis', 'comput', 'computerpad', 'computery', 'comsum', 'con', 'conceal', 'conced', 'concentr', 'concept', 'concern', 'concert', 'concess', 'conchita', 'concierg', 'conclud', 'conclus', 'concoct', 'concret', 'concur', 'condemn', 'condens', 'condesa', 'condescend', 'condiment', 'condit', 'condition', 'condo', 'condol', 'condon', 'conduc', 'conduct', 'cone', 'conemin', 'confect', 'confectionari', 'confer', 'confess', 'confession', 'confid', 'confirm', 'confirmedi', 'confit', 'conflict', 'conform', 'confront', 'confuciu', 'confus', 'conga', 'conge', 'congrat', 'congratul', 'congreg', 'congress', 'coninu', 'conjur', 'connect', 'connecticut', 'conneri', 'connoisseur', 'connoli', 'connosiu', 'conquer', 'conscienc', 'conscienti', 'consciou', 'consecut', 'consequ', 'conservat', 'consid', 'consider', 'consign', 'consist', 'consistantli', 'consol', 'conspir', 'constant', 'constantli', 'constitut', 'constraint', 'construct', 'consult', 'consum', 'consumm', 'consumpt', 'contact', 'contagi', 'contain', 'contemporari', 'contend', 'content', 'contest', 'context', 'contextu', 'continent', 'continu', 'continuetheyr', 'continuosli', 'contract', 'contractor', 'contrari', 'contrarili', 'contrast', 'contribut', 'contriv', 'control', 'controlr', 'controversi', 'conveli', 'conveni', 'convent', 'convers', 'conversingwel', 'convert', 'convey', 'convict', 'convinc', 'convo', 'cook', 'cooker', 'cooki', 'cookiecakechocol', 'cookiesoh', 'cookin', 'cookout', 'cooksmor', 'cool', 'coolant', 'cooler', 'coolest', 'cooney', 'cooper', 'coor', 'coordin', 'cooti', 'coown', 'cop', 'cope', 'copi', 'copic', 'copiou', 'copper', 'copymachin', 'copypast', 'coq', 'cor', 'coral', 'corbin', 'cordial', 'cordon', 'corduroy', 'core', 'corebal', 'coreograph', 'corinthian', 'cork', 'corkag', 'corleon', 'corn', 'cornbread', 'corndog', 'corner', 'cornicopia', 'cornish', 'cornmeal', 'cornonthecob', 'cornstarchi', 'corolla', 'corona', 'coronado', 'coronari', 'corp', 'corpor', 'corral', 'correct', 'correctli', 'correl', 'correspond', 'corridor', 'corrod', 'corrupt', 'corsag', 'corset', 'cortadito', 'corwn', 'cosa', 'cosco', 'cosi', 'cosmet', 'cosmo', 'cosmopolitancool', 'cost', 'costa', 'costco', 'costilla', 'costli', 'costo', 'costum', 'costumethem', 'cotija', 'cotta', 'cottag', 'cotton', 'cottonwood', 'cou', 'couch', 'couchloung', 'cougar', 'cougarmanth', 'cough', 'could', 'couldnt', 'couldso', 'couldv', 'coulter', 'counselor', 'count', 'countdown', 'counter', 'counterheight', 'counterpart', 'counterperson', 'counterservic', 'counti', 'countless', 'countri', 'countrycountri', 'countrysid', 'countrywid', 'coup', 'coupl', 'coupon', 'courag', 'cours', 'coursea', 'courseif', 'court', 'courteou', 'courteous', 'courtesi', 'courtney', 'courtsit', 'courtyard', 'couscou', 'cousin', 'coutur', 'cover', 'coverag', 'covert', 'coverup', 'covet', 'cow', 'cowboy', 'cowgal', 'cowork', 'cowtow', 'cox', 'coy', 'coyot', 'coz', 'cozi', 'cozier', 'cpc', 'cph', 'cpr', 'cpu', 'crab', 'crabcak', 'crabstuf', 'crack', 'crackedout', 'cracker', 'crackerjack', 'crackl', 'crackâ', 'cradl', 'craft', 'craftbrew', 'crafter', 'craftsman', 'craftsmanship', 'craigslist', 'cram', 'cramp', 'cranberri', 'crank', 'cranki', 'cranni', 'crap', 'crappi', 'craptast', 'crash', 'crate', 'crave', 'cravesenzym', 'craveworthi', 'crawfish', 'crawl', 'crayon', 'craze', 'crazi', 'craziest', 'crazyass', 'cream', 'creambut', 'creamer', 'creami', 'creamiest', 'creamooooohhh', 'creamsso', 'creamy', 'creat', 'creation', 'creativ', 'creativedown', 'creator', 'creatur', 'creatureposs', 'cred', 'credenti', 'credibiilti', 'credit', 'creditand', 'creek', 'creep', 'creepi', 'creepili', 'crem', 'crema', 'cremat', 'creme', 'crenel', 'creol', 'crep', 'crepe', 'crepelik', 'crepswhat', 'crept', 'crescendo', 'crescent', 'crew', 'crewthey', 'cri', 'crib', 'cricket', 'crime', 'crimin', 'crimini', 'cring', 'crinkl', 'crippl', 'crisi', 'crisp', 'crispi', 'crisplightin', 'crispyand', 'crisscross', 'cristo', 'criteria', 'critic', 'critter', 'croce', 'crock', 'croissant', 'crook', 'crop', 'croqu', 'crosbi', 'cross', 'crossaint', 'crossfit', 'crossroad', 'crostini', 'crouton', 'crow', 'crowd', 'crown', 'crrraazzyyi', 'cruchi', 'crucial', 'crucifix', 'crudo', 'cruelti', 'crueltyfre', 'cruis', 'cruiser', 'cruller', 'crumb', 'crumbl', 'crummi', 'crunch', 'crunchi', 'crusad', 'crusesel', 'crush', 'crust', 'crustada', 'crusti', 'crustier', 'crustini', 'crustysoft', 'crystal', 'crã', 'cs', 'cu', 'cub', 'cuban', 'cubbi', 'cube', 'cubesthat', 'cubicl', 'cucina', 'cucumb', 'cucumberonion', 'cue', 'cuff', 'cuisin', 'cuisinart', 'cuisinesom', 'cuke', 'culinari', 'culinarili', 'culinaryvoid', 'culmin', 'culprit', 'cultur', 'culver', 'culversim', 'cum', 'cumin', 'cuon', 'cup', 'cupcak', 'cupcakefing', 'cuppot', 'cupstand', 'curat', 'curb', 'curbag', 'curd', 'curdjust', 'cure', 'curios', 'curiou', 'curious', 'curl', 'curler', 'curli', 'curmudgeon', 'currant', 'current', 'curri', 'curriculum', 'curryonli', 'curs', 'curt', 'curtain', 'curtli', 'curv', 'cusack', 'cushi', 'cushier', 'cushion', 'cuss', 'cust', 'custard', 'custardicecustard', 'custardit', 'custardwhil', 'custom', 'custommad', 'custurdlol', 'cut', 'cutat', 'cute', 'cutesi', 'cutest', 'cuti', 'cuticul', 'cutleri', 'cutlet', 'cutoff', 'cutshampoo', 'cutter', 'cutteri', 'cuz', 'cv', 'cycl', 'cyclingetc', 'cyclist', 'cyclo', 'cyl', 'cynic', 'cyr', 'd70', 'da', 'daa', 'dab', 'dac', 'dach', 'dad', 'daddi', 'dagger', 'daikon', 'daili', 'dainti', 'daiquiri', 'dairi', 'dairiki', 'dairyfre', 'dairythey', 'daiya', 'dakota', 'dale', 'dali', 'dalla', 'dalli', 'damag', 'damagedugli', 'dambrosio', 'dame', 'dameven', 'damn', 'damngood', 'damnit', 'damp', 'dan', 'dana', 'danc', 'dancelik', 'dancer', 'dancerthen', 'dancewear', 'dandan', 'dandelion', 'dane', 'dang', 'danger', 'dangli', 'daniel', 'danish', 'dank', 'danni', 'danyluk', 'daphn', 'daquiri', 'dara', 'darade', 'darci', 'dare', 'daredevil', 'daren', 'dariu', 'dark', 'darkbut', 'darkchocol', 'darken', 'darker', 'darkseid', 'darl', 'darla', 'darn', 'darryl', 'dart', 'darykla', 'dash', 'dashboard', 'date', 'datelik', 'datenight', 'datri', 'daughter', 'daughterfath', 'daughterinlawboth', 'daunt', 'dave', 'david', 'davidson', 'dawn', 'day', 'daycar', 'daydream', 'dayeveryday', 'dayflu', 'daylat', 'daylight', 'daynight', 'dayno', 'dayshift', 'daysurpris', 'daytim', 'daz', 'dazbog', 'daze', 'dazzl', 'db', 'dba', 'dbagli', 'dbg', 'dc', 'dcor', 'dd', 'ddd', 'dddinfomaccom', 'ddelish', 'de', 'dead', 'deadbeat', 'deadey', 'deadli', 'deadlin', 'deadon', 'deaf', 'deal', 'dealer', 'dealership', 'dealoftheday', 'dealsth', 'dealt', 'deamon', 'dean', 'dear', 'dearli', 'death', 'deathli', 'deb', 'debacl', 'debat', 'debaucheri', 'debbi', 'debilit', 'debit', 'debitcredit', 'debon', 'debra', 'debri', 'debt', 'debut', 'decad', 'decadesold', 'decaf', 'decaffin', 'decant', 'decapit', 'deceit', 'deceller', 'decemb', 'decent', 'decept', 'decid', 'decidedli', 'decipher', 'decis', 'decisiongo', 'decit', 'deck', 'declar', 'declass', 'declin', 'deco', 'decomiss', 'decompos', 'deconstruct', 'decor', 'decorum', 'decreas', 'decrepit', 'dedic', 'deduct', 'dee', 'deeee', 'deeeeaaallssss', 'deeeelic', 'deelish', 'deep', 'deeper', 'deepfri', 'deepli', 'deer', 'def', 'defacto', 'defalco', 'default', 'defend', 'defens', 'defer', 'defianc', 'defiantli', 'defin', 'definatli', 'definet', 'definetli', 'definilti', 'definit', 'definitli', 'deflat', 'defnit', 'defreakinglici', 'defunct', 'deg', 'degrad', 'degre', 'dehydr', 'deiti', 'dejavu', 'del', 'delay', 'delciou', 'delect', 'delet', 'deli', 'delia', 'deliber', 'delic', 'delicaci', 'delicatessen', 'delici', 'delicii', 'delicioso', 'deliciousand', 'deliciousbut', 'deliciousjust', 'deliciouso', 'delicioussatisfi', 'delight', 'delish', 'delishish', 'delit', 'deliv', 'deliverfre', 'deliveri', 'della', 'delmonico', 'delta', 'deluca', 'delux', 'delv', 'demand', 'demaria', 'demean', 'demeanor', 'demiglac', 'demiglaz', 'demis', 'demo', 'democrat', 'demograph', 'demonstr', 'demot', 'deni', 'denim', 'denni', 'dennystyp', 'dens', 'dent', 'dental', 'dentist', 'dentistri', 'denver', 'deocrat', 'depart', 'departur', 'depend', 'depict', 'deplan', 'deplet', 'deplor', 'deploy', 'deport', 'deposit', 'depot', 'depress', 'dept', 'depth', 'derbi', 'derelict', 'deriv', 'dermabras', 'dermatologist', 'dernmark', 'descend', 'deschut', 'descret', 'describ', 'describecoup', 'descript', 'deseo', 'desert', 'deserthighli', 'desertth', 'deserv', 'deservedli', 'design', 'desir', 'desk', 'deskthey', 'desol', 'despair', 'desper', 'despis', 'despit', 'dessert', 'dessertand', 'dessertbut', 'desserti', 'dessertsth', 'dessertthi', 'desserty', 'dest', 'destin', 'destress', 'destroy', 'detail', 'deter', 'determin', 'detour', 'detract', 'detroit', 'develop', 'devic', 'devil', 'devin', 'devoid', 'devot', 'devour', 'devri', 'dew', 'dewalt', 'dex', 'di', 'dia', 'diabet', 'diablo', 'diabol', 'diagnos', 'diagnosi', 'diagnost', 'dial', 'dialogu', 'diamond', 'diamondback', 'dian', 'diaper', 'diari', 'diarrhea', 'diavola', 'diaya', 'dib', 'dice', 'dicey', 'dick', 'dickhead', 'dicknos', 'dictat', 'diddli', 'didholi', 'didnt', 'die', 'diecisei', 'diefor', 'diego', 'diehard', 'diet', 'dietari', 'dieter', 'difara', 'diff', 'differ', 'differenti', 'differnt', 'difficult', 'difficulti', 'dig', 'digdom', 'digest', 'digestif', 'diggeti', 'diggiti', 'digit', 'digress', 'digressthi', 'dijon', 'dilemma', 'dilig', 'dill', 'dilla', 'dillard', 'dilli', 'dim', 'dime', 'diminish', 'dimli', 'dimlit', 'dimlylit', 'dimmer', 'dimsum', 'din', 'dine', 'dinedin', 'dinedrink', 'dinein', 'dineinazcom', 'diner', 'dinero', 'dinersdrink', 'ding', 'dingi', 'dinki', 'dinn', 'dinnecheck', 'dinner', 'dinnerand', 'dinnerdrink', 'dinnerextrem', 'dinnerit', 'dinnerlunch', 'dinnerlunchbreakfastwhatev', 'dinnersupp', 'dinnerthey', 'dinnerwhat', 'dinnerwhich', 'dip', 'dipboth', 'diplomat', 'dippin', 'dipshit', 'dire', 'direct', 'directli', 'director', 'directori', 'dirt', 'dirti', 'dirtiest', 'disabl', 'disadvantag', 'disagr', 'disagre', 'disappear', 'disappoint', 'disappointin', 'disappointingweird', 'disast', 'disastr', 'disbelief', 'disc', 'discard', 'discharg', 'disciplin', 'disclaim', 'disclos', 'disclosur', 'disco', 'discolor', 'discomfort', 'disconsol', 'discontinu', 'discord', 'discount', 'discourag', 'discov', 'discoveri', 'discret', 'discriminatori', 'discshap', 'discuss', 'discust', 'disdain', 'diseas', 'disengag', 'disgrac', 'disgruntl', 'disguis', 'disgust', 'disgustingdri', 'disgustingli', 'dish', 'dishesaj', 'dishevel', 'dishit', 'dishonest', 'dishwat', 'disintegr', 'disinterest', 'disk', 'dislik', 'disloy', 'dismal', 'dismantl', 'dismay', 'dismiss', 'disney', 'disneyesqu', 'disneyland', 'disorgan', 'disori', 'disown', 'dispens', 'dispers', 'dispit', 'display', 'displaydecor', 'displeas', 'displeasur', 'dispos', 'disproportion', 'disregard', 'disrepair', 'disrespect', 'disrupt', 'dissapoint', 'dissappear', 'dissappoint', 'dissatisfact', 'dissatisfi', 'dissert', 'dissip', 'dissuad', 'distanc', 'distant', 'distast', 'distinct', 'distinctli', 'distinguish', 'distort', 'distract', 'distress', 'distribut', 'distributor', 'district', 'distrito', 'disturb', 'ditto', 'diuret', 'dive', 'diver', 'divers', 'divey', 'divid', 'diviest', 'divin', 'divis', 'dixi', 'dixon', 'diy', 'diyer', 'dizzi', 'dj', 'djwellkindah', 'dk', 'dlish', 'dmoe', 'dmv', 'dnf', 'do', 'doa', 'dobbin', 'dobson', 'doc', 'dock', 'docker', 'doctor', 'document', 'documentari', 'docustom', 'dodg', 'dodger', 'doenst', 'doesand', 'doesi', 'doesnt', 'doesntlik', 'dog', 'dogeatin', 'dogfish', 'dogfishhead', 'dogfood', 'dogfoodadvisorcom', 'dogfriendli', 'doggi', 'dogleg', 'dogsso', 'dogtags', 'doingbut', 'dojo', 'dolc', 'dole', 'doll', 'dollar', 'dollarsish', 'dollhous', 'dollop', 'dolma', 'dolmad', 'dolmeh', 'dolphin', 'dom', 'domest', 'domin', 'dominick', 'dominiqu', 'domino', 'domo', 'donat', 'done', 'donecrispi', 'donedidnt', 'donkey', 'donna', 'donor', 'dont', 'donut', 'doodl', 'doom', 'dooo', 'door', 'doorin', 'doorlittl', 'doorman', 'doorsand', 'doorsusi', 'doortodoor', 'doorway', 'doorwhat', 'doozi', 'dope', 'dorato', 'dori', 'dorm', 'dormous', 'dorri', 'dosa', 'dose', 'dosent', 'dot', 'dote', 'doubl', 'doubledoubl', 'doubleend', 'doublefri', 'doubleshot', 'doubleshow', 'doublestack', 'doublewon', 'doubt', 'douch', 'doudi', 'dough', 'doughboy', 'doughhowev', 'doughi', 'doughnut', 'douh', 'dous', 'douxel', 'dove', 'dow', 'down', 'downer', 'downfal', 'downhil', 'downhom', 'download', 'downright', 'downsid', 'downstair', 'downtim', 'downtown', 'downtrodden', 'downuntil', 'dozen', 'dpov', 'dq', 'dr', 'draft', 'draftanyhoo', 'drafti', 'drag', 'dragon', 'dragonfli', 'drain', 'drama', 'dramat', 'drank', 'drastic', 'draught', 'draw', 'drawback', 'drawer', 'drawn', 'dre', 'dread', 'dream', 'dreamcatch', 'dreami', 'dreamlik', 'dreamtot', 'dreari', 'dreg', 'dremel', 'drench', 'dress', 'dresser', 'dressi', 'dressier', 'dressingdrench', 'dressycasu', 'drew', 'dri', 'drier', 'drift', 'drill', 'drink', 'drinkabl', 'drinkdodey', 'drinker', 'drinksi', 'drinksth', 'drip', 'drive', 'driveand', 'drivebi', 'drivein', 'driven', 'driver', 'drivethrough', 'drivethru', 'driveway', 'drizzl', 'droban', 'drone', 'drool', 'droolin', 'drop', 'dropbi', 'dropin', 'dropout', 'dropthekidsoff', 'drought', 'drove', 'drown', 'drug', 'druginfest', 'drum', 'drummer', 'drunk', 'drunken', 'drunkok', 'drycam', 'dryer', 'dryng', 'dryrub', 'drywal', 'ds', 'dscust', 'dslreportscom', 'dst', 'dt', 'dtown', 'dtpho', 'duan', 'dubba', 'duce', 'duck', 'duckpick', 'duct', 'dud', 'dude', 'dudea', 'dudewher', 'due', 'dug', 'dugout', 'duh', 'duhvin', 'dui', 'duke', 'dulc', 'dulch', 'dull', 'dumb', 'dumbass', 'dumber', 'dumbest', 'dumbfound', 'dummi', 'dump', 'dumpl', 'dumpster', 'dun', 'dung', 'dunk', 'dunkin', 'dunno', 'duo', 'duothey', 'duper', 'duplic', 'durabl', 'durant', 'durat', 'durationwhich', 'durst', 'dusk', 'dust', 'dutch', 'dutchman', 'duti', 'dutton', 'duvalin', 'dv', 'dvd', 'dweller', 'dwindl', 'dy', 'dye', 'dyer', 'dynamit', 'dynasti', 'dysart', 'dzughter', 'dã', 'e', 'eachoth', 'eactual', 'eager', 'eagerli', 'eagl', 'ear', 'earleir', 'earli', 'earlier', 'earliest', 'earlybird', 'earn', 'earnest', 'earth', 'earthi', 'earthif', 'eas', 'easel', 'easi', 'easier', 'easiest', 'easili', 'easiy', 'easley', 'east', 'easter', 'eastern', 'easternmediterranean', 'eastsid', 'eastwood', 'eastyour', 'easygo', 'easytous', 'eat', 'eatabl', 'eaten', 'eater', 'eateri', 'eaterieswil', 'eatin', 'eatnlearn', 'eatthey', 'eattri', 'eavesdrop', 'ebay', 'ebi', 'ecclect', 'echo', 'eclair', 'eclect', 'eclub', 'ecofriendli', 'econom', 'economi', 'ecstaci', 'ecstat', 'ect', 'ed', 'edamam', 'eddi', 'edemam', 'eden', 'edg', 'edgi', 'edgier', 'edibl', 'edison', 'edit', 'edna', 'eduardo', 'educ', 'edupr', 'edward', 'eeew', 'eege', 'eegeesbut', 'eek', 'eel', 'eewwww', 'ef', 'efax', 'eff', 'effect', 'effen', 'efficaci', 'effici', 'effin', 'effort', 'eg', 'egad', 'egadwhi', 'egg', 'eggcheeseonion', 'egge', 'eggfoooo', 'eggi', 'eggless', 'eggplant', 'eggrol', 'eggsfair', 'ego', 'egypt', 'egyptian', 'eh', 'ei', 'eight', 'eighteen', 'einstein', 'eish', 'either', 'eitheri', 'eitherthat', 'eitherthey', 'el', 'elabor', 'elain', 'elast', 'elbow', 'elder', 'elderflow', 'elderli', 'eldest', 'elect', 'elector', 'electr', 'electron', 'eleg', 'element', 'elentra', 'eleph', 'elev', 'eleven', 'elf', 'eli', 'elimin', 'elit', 'elizabeth', 'ella', 'elli', 'elliot', 'elm', 'elmer', 'eloqu', 'elot', 'els', 'elsa', 'elserud', 'elsewher', 'elsewherec', 'elseyour', 'elud', 'elus', 'elv', 'elvi', 'em', 'email', 'emapanada', 'embarass', 'embark', 'embarrass', 'embarrassingli', 'embellish', 'emberass', 'embezzl', 'embodi', 'embrac', 'emce', 'emerald', 'emerg', 'emergencysick', 'emiss', 'emot', 'empanada', 'empath', 'empathet', 'emperor', 'emphas', 'emphasi', 'empir', 'employ', 'employe', 'employess', 'empow', 'empress', 'empti', 'emptor', 'emu', 'emul', 'emuls', 'en', 'enabl', 'encas', 'encebollada', 'encebollado', 'enchalada', 'enchant', 'enchilada', 'enclos', 'encompass', 'encor', 'encount', 'encourag', 'encroach', 'encrust', 'end', 'endear', 'endeavor', 'endless', 'endlessli', 'endors', 'endovenera', 'endur', 'enemi', 'energ', 'energet', 'energi', 'enforc', 'engag', 'engin', 'engine20l', 'england', 'english', 'engross', 'enhanc', 'enigma', 'enigmat', 'enjoy', 'enlarg', 'enlighten', 'enorm', 'enotria', 'enough', 'enoughand', 'enrag', 'enriqu', 'enrol', 'ensalda', 'ensembl', 'ensenada', 'ensu', 'ensur', 'enter', 'enterpris', 'entertain', 'enthusiasm', 'enthusiast', 'entic', 'entir', 'entiti', 'entitl', 'entomologist', 'entr', 'entranc', 'entre', 'entreeprob', 'entreesbut', 'entrepreneur', 'entrepreneuri', 'entrepreneurship', 'entress', 'entri', 'entrã', 'enuf', 'envelop', 'envi', 'enviorn', 'enviro', 'environ', 'environment', 'envis', 'epic', 'epiphani', 'episod', 'epitom', 'eponym', 'equal', 'equi', 'equip', 'equipetc', 'equival', 'er', 'era', 'erb', 'eric', 'erica', 'erin', 'eritrean', 'erni', 'eros', 'erot', 'errant', 'error', 'es', 'escal', 'escap', 'escebech', 'escentu', 'escolar', 'esp', 'espana', 'esparza', 'especi', 'esplanad', 'espn', 'espresso', 'esquir', 'essenc', 'essenti', 'essi', 'esspresso', 'establish', 'estat', 'esteem', 'esthetician', 'estim', 'estrella', 'et', 'eta', 'etc', 'etcetera', 'etcif', 'etcnot', 'etcof', 'etern', 'eternityif', 'ether', 'ethic', 'ethier', 'ethiopia', 'ethiopian', 'ethnic', 'etienn', 'etiquett', 'etoufe', 'etouffe', 'etsi', 'eucalyptu', 'eugen', 'eugenia', 'euphor', 'euphoria', 'euro', 'eurogam', 'europ', 'european', 'eurostandard', 'euthan', 'evalu', 'evang', 'evap', 'eve', 'even', 'event', 'eventeven', 'eventspool', 'eventu', 'ever', 'everday', 'everespeci', 'everett', 'everev', 'everflow', 'everi', 'eversinc', 'everybodi', 'everyday', 'everyday3', 'everyhth', 'everynight', 'everyon', 'everysingleday', 'everyth', 'everytim', 'everywher', 'everyyyyi', 'eveyth', 'evid', 'evil', 'evok', 'evolv', 'evoo', 'ew', 'ewe', 'eww', 'ewww', 'ewwww', 'ewwwwww', 'ex', 'exact', 'exactli', 'exactlyso', 'exager', 'exagger', 'exam', 'examin', 'exampl', 'exasper', 'exce', 'exceed', 'exceedingli', 'excel', 'excellent', 'except', 'exceptionaali', 'excess', 'exchang', 'excit', 'excitedli', 'exclaim', 'exclam', 'exclud', 'exclus', 'excowork', 'excruciatingli', 'exctali', 'excurs', 'excus', 'execucar', 'execut', 'exemplari', 'exercis', 'exfoli', 'exh', 'exhaust', 'exhibit', 'exhibitsi', 'exist', 'existedaft', 'exit', 'exodu', 'exot', 'expand', 'expans', 'expct', 'expeci', 'expect', 'expectaion', 'expectand', 'expedit', 'expen', 'expens', 'expereinc', 'experi', 'experiec', 'experien', 'experienc', 'experiencebecaus', 'experiencedth', 'experienceeveryth', 'experiencefirst', 'experiencei', 'experienceterr', 'experiment', 'expert', 'expertis', 'expertli', 'expir', 'explain', 'explaindefend', 'explan', 'explod', 'exploit', 'explor', 'explos', 'expo', 'export', 'expos', 'exposur', 'express', 'exquisit', 'exsalonc', 'exspens', 'extend', 'extens', 'extent', 'exterior', 'extermin', 'extern', 'extort', 'extra', 'extract', 'extramil', 'extraordinari', 'extraordinarili', 'extrasth', 'extravaganza', 'extrem', 'extremli', 'exud', 'eye', 'eyebal', 'eyebrow', 'eyecandi', 'eyecar', 'eyeopen', 'eyesight', 'eyesor', 'eytan', 'ez', 'f', 'f724', 'fab', 'fabl', 'fabric', 'fabul', 'fabulo', 'fabulu', 'face', 'facebook', 'facelift', 'facepl', 'facewow', 'facial', 'faciati', 'facil', 'facilit', 'fact', 'factor', 'factori', 'fade', 'fag', 'faggot', 'fail', 'failur', 'faint', 'faintli', 'fair', 'fairi', 'fairli', 'fairmont', 'fairtrad', 'fairway', 'fairytal', 'faith', 'fajita', 'fajitasth', 'fajito', 'fake', 'fakefal', 'fakvil', 'falafel', 'fall', 'fallen', 'fallout', 'fals', 'fame', 'famili', 'familiar', 'familiescoupl', 'familyfriend', 'familyown', 'familyrun', 'familys', 'familystyl', 'familythey', 'famish', 'famou', 'fan', 'fanat', 'fanci', 'fancier', 'fanciest', 'fancystyl', 'fandito', 'fanstat', 'fantabul', 'fantas', 'fantasi', 'fantast', 'fantastalist', 'fantasticalway', 'fantastich', 'fantasticyumm', 'far', 'farberwar', 'fare', 'fargin', 'fargo', 'farm', 'farmer', 'farmhous', 'farmland', 'farnsworth', 'fart', 'farther', 'farthest', 'fascia', 'fascin', 'fashion', 'fast', 'faster', 'fastest', 'fastfood', 'fastfriendlyfresh', 'fastish', 'fat', 'fatal', 'fatburg', 'fate', 'fatfat', 'fatfre', 'father', 'fatherinlaw', 'fathom', 'fatten', 'fatti', 'faucet', 'fault', 'faultther', 'faux', 'fauxcowboy', 'fav', 'fave', 'favi', 'favor', 'favorit', 'favoritethough', 'favorito', 'favourit', 'fawn', 'fax', 'fb', 'fck', 'fdown', 'fe', 'fear', 'feast', 'feat', 'featur', 'feb', 'febuari', 'fece', 'fed', 'feddi', 'feder', 'fedex', 'fee', 'feed', 'feedback', 'feeder', 'feel', 'feelgood', 'feellook', 'feenin', 'feet', 'feiend', 'feign', 'feist', 'felin', 'felip', 'fell', 'fella', 'feller', 'fellow', 'felt', 'feltand', 'femal', 'fenc', 'fender', 'feng', 'fennel', 'ferment', 'fermier', 'fern', 'fernidad', 'ferrari', 'ferrit', 'fertil', 'fervor', 'fest', 'festiv', 'fet', 'feta', 'fetash', 'fetch', 'fetoosh', 'fetta', 'fettuccin', 'fettucin', 'fettucini', 'fetzer', 'feuill', 'fever', 'fewer', 'fez', 'ff', 'fh', 'fianc', 'fiance', 'fiancã', 'fibbertygibbet', 'fictici', 'fiction', 'fiddler', 'fide', 'field', 'fieldinclud', 'fiend', 'fierc', 'fieri', 'fiesta', 'fifteen', 'fifth', 'fiftysometh', 'fig', 'fight', 'fighter', 'figur', 'file', 'filep', 'filet', 'filetofish', 'filiberto', 'filibertosumbertosrobertoserni', 'filipino', 'filipinomexican', 'fill', 'fillednot', 'filler', 'fillet', 'filling', 'fillingi', 'fillyb', 'film', 'filmi', 'filter', 'filth', 'filthi', 'fin', 'final', 'finalment', 'financ', 'financi', 'find', 'findslik', 'fine', 'finebut', 'finedin', 'finei', 'fineil', 'finenot', 'finer', 'finess', 'finest', 'fing', 'finger', 'fingerl', 'fingernail', 'fingerprint', 'fingertip', 'fingertipsinclud', 'finish', 'finnali', 'fiorella', 'fire', 'firearm', 'firebird', 'firefli', 'fireinthebungholio', 'firemen', 'firepit', 'fireplac', 'fireston', 'firewood', 'firework', 'firey', 'firm', 'firmdipbit', 'firmer', 'firmli', 'first', 'firsthand', 'firstli', 'firsttim', 'fish', 'fisher', 'fisherman', 'fishhead', 'fishi', 'fist', 'fit', 'fitcent', 'fitter', 'fitzgerald', 'five', 'fivestar', 'fix', 'fixa', 'fixabl', 'fixat', 'fixi', 'fixin', 'fixingsmmmmmmmm', 'fixinsth', 'fixtur', 'fk', 'flag', 'flagstaff', 'flair', 'flake', 'flakey', 'flaki', 'flambe', 'flame', 'flamebroil', 'flamenco', 'flan', 'flank', 'flannel', 'flap', 'flare', 'flash', 'flashback', 'flashfri', 'flashlight', 'flask', 'flat', 'flatbread', 'flatiron', 'flatout', 'flatscreen', 'flatten', 'flatter', 'flauta', 'flautasrol', 'flaver', 'flavor', 'flavorgasm', 'flavorlemonthat', 'flavorless', 'flavorlesserrthat', 'flavors', 'flavorso', 'flavorsodium', 'flavortextur', 'flavour', 'flaw', 'flawjtha', 'flawless', 'flee', 'fleet', 'fleme', 'flemmingseri', 'flew', 'flex', 'flexibl', 'fli', 'flick', 'flier', 'flight', 'flimsi', 'flimsiest', 'flintston', 'flip', 'flipflop', 'flippant', 'flipper', 'flipstick', 'flirt', 'flirtini', 'flo', 'float', 'flock', 'flood', 'floor', 'flop', 'flora', 'floral', 'florenc', 'florentin', 'floresc', 'floret', 'florida', 'floridino', 'florist', 'floss', 'flour', 'flourish', 'flourless', 'flow', 'flower', 'flowinde', 'flown', 'flu', 'fluent', 'fluf', 'fluff', 'fluffi', 'fluffyit', 'fluffytheyl', 'fluke', 'flummox', 'fluoresc', 'flush', 'fluster', 'flute', 'flutter', 'flutteri', 'flw', 'flyer', 'flyoverstateswhitefolk', 'fn', 'fnb', 'fo', 'foam', 'foami', 'fob', 'focaccia', 'focal', 'foccacia', 'foce', 'focu', 'focus', 'focusedsh', 'fodder', 'fogo', 'foi', 'foie', 'foil', 'fold', 'folk', 'folks600', 'folksgo', 'follow', 'followup', 'fond', 'fonda', 'fondant', 'fondest', 'fondu', 'font', 'fontina', 'foo', 'food', 'foodahol', 'foodappstri', 'foodcoffe', 'fooddeliver', 'fooddrink', 'foodgreat', 'foodhav', 'foodhealth', 'foodi', 'foodit', 'foodjust', 'foodlik', 'foodnet', 'foodnot', 'foodprob', 'foodsaf', 'foodso', 'foodstuff', 'foodth', 'foodwis', 'fooey', 'foofi', 'fool', 'foolish', 'foolishli', 'foosbal', 'foot', 'footag', 'footbal', 'foothil', 'footlong', 'footnot', 'footprint', 'forag', 'foray', 'forb', 'forbidden', 'forc', 'ford', 'forearm', 'foreign', 'foremost', 'forese', 'forest', 'forev', 'forewarn', 'forgav', 'forget', 'forgett', 'forgiv', 'forgo', 'forgot', 'forgotten', 'forheck', 'fork', 'forktend', 'form', 'formal', 'format', 'former', 'formerli', 'formid', 'formula', 'fornaio', 'forno', 'forsaken', 'fort', 'forth', 'forthcom', 'forti', 'fortun', 'fortyf', 'forvev', 'forward', 'fossil', 'foster', 'foul', 'fould', 'foulest', 'found', 'foundat', 'founder', 'founderchef', 'fountain', 'four', 'fourfoot', 'foursom', 'fourstar', 'fourteen', 'fourth', 'fourtherli', 'fourtop', 'fouryearold', 'foward', 'fowl', 'fox', 'foxi', 'foxrc', 'foyer', 'fraction', 'frag', 'fragranc', 'fraich', 'frail', 'frame', 'fran', 'franc', 'francesca', 'franchis', 'franci', 'franciscan', 'francisco', 'franco', 'frangipan', 'frank', 'frankfurt', 'frankli', 'frantic', 'frapp', 'frappacino', 'frappuccino', 'frat', 'fray', 'frazzel', 'fraã', 'freak', 'freaken', 'freaki', 'freakin', 'fred', 'freddi', 'free', 'freedom', 'freeeveri', 'freerang', 'freerid', 'freestand', 'freeway', 'freez', 'freezer', 'freezerburn', 'freind', 'freindli', 'french', 'frenchenglish', 'frenchfri', 'frenchfryshap', 'frenchgreeksam', 'frenet', 'frenzi', 'frequent', 'fresca', 'fresco', 'frescolina', 'fresh', 'freshbak', 'freshen', 'fresher', 'freshest', 'fresheveryth', 'freshgrat', 'freshli', 'freshlymad', 'freshlyroast', 'freshmad', 'freshman', 'freshsqueez', 'freshthank', 'freshthi', 'freshwat', 'fret', 'freud', 'fri', 'fricas', 'frickin', 'frida', 'friday', 'fridaydinnerout', 'fridg', 'friend', 'friendli', 'friendlier', 'friendliest', 'friendsfamilykid', 'friendship', 'friessoda', 'frig', 'friggin', 'fright', 'frighten', 'frijol', 'frill', 'fring', 'frisbe', 'frisco', 'frita', 'fritatta', 'frite', 'frito', 'frittata', 'fritter', 'fritti', 'fritto', 'fro', 'frog', 'frogger', 'fromag', 'frommi', 'fromth', 'front', 'frontdesk', 'fronti', 'frontier', 'frontlin', 'frontrow', 'froo', 'froshi', 'frost', 'frosti', 'frostingpil', 'froth', 'frothi', 'froufrou', 'frown', 'froyo', 'froze', 'frozen', 'frozenthenmicrowav', 'frquentli', 'fru', 'fructos', 'frugal', 'frugl', 'fruit', 'fruiti', 'frustrat', 'frybread', 'fryer', 'frypiec', 'frysback', 'fryshel', 'ft', 'ftw', 'fubar', 'fuck', 'fuckhead', 'fuckin', 'fuckyou', 'fuct', 'fuddburg', 'fuddruck', 'fudg', 'fuego', 'fuel', 'fuh', 'fuji', 'fujiwara', 'fujiya', 'fulfil', 'full', 'fulla', 'fullest', 'fulli', 'fullservic', 'fullsiz', 'fullyou', 'fume', 'fun', 'funcr', 'function', 'fund', 'fundido', 'fundito', 'fundrais', 'fungi', 'fungu', 'funk', 'funki', 'funnel', 'funner', 'funni', 'funniest', 'funnyentertain', 'funprofession', 'funsport', 'furi', 'furiou', 'furnac', 'furnish', 'furnitur', 'furnitured', 'furri', 'furrow', 'furthermor', 'fuse', 'fusion', 'fuss', 'fussi', 'futur', 'futurist', 'fuzzi', 'fw', 'fwd', 'fyi', 'g', 'g37', 'ga', 'gabe', 'gabi', 'gabriel', 'gadget', 'gadsden', 'gaeta', 'gag', 'gaga', 'gai', 'gain', 'gainey', 'gak', 'gal', 'galbi', 'galbut', 'gall', 'galleri', 'galleryand', 'gallina', 'gallo', 'gallon', 'galor', 'galz', 'gamba', 'gambl', 'gambler', 'game', 'gameand', 'gamer', 'gamesthey', 'gammag', 'ganach', 'gang', 'gangli', 'gangplank', 'ganoosh', 'ganouj', 'ganoush', 'gansito', 'gap', 'garag', 'garbag', 'garbonzo', 'garc', 'garcia', 'garden', 'gardengrow', 'gardeni', 'gardinn', 'garfield', 'gargantuan', 'gari', 'garland', 'garlic', 'garlicherb', 'garlicki', 'garlickyspici', 'garlictyp', 'garmin', 'garner', 'garnish', 'garsh', 'gasket', 'gasolin', 'gasp', 'gastriqu', 'gastronom', 'gastronomi', 'gastropub', 'gate', 'gateway', 'gather', 'gato', 'gator', 'gauc', 'gaudi', 'gaug', 'gauzi', 'gave', 'gavin', 'gawk', 'gay', 'gayle', 'gaze', 'gazillion', 'gazpacho', 'ge', 'gear', 'geasi', 'gee', 'geek', 'geezerado', 'geisha', 'gel', 'gelati', 'gelatin', 'gelato', 'gelatosorbet', 'gelish', 'gellato', 'gelleto', 'gem', 'gender', 'gene', 'gener', 'generi', 'genet', 'geneves', 'genin', 'geniu', 'genr', 'gent', 'gentl', 'gentleman', 'gentlemen', 'gentli', 'genuin', 'georg', 'georgi', 'georgia', 'geranio', 'germ', 'germain', 'german', 'germani', 'gerri', 'gestur', 'get', 'getaway', 'getsperiod', 'gettin', 'gf', 'ghetto', 'ghirardelli', 'ghost', 'ghostli', 'giant', 'giantsdiamondback', 'giardinara', 'giardiniera', 'gift', 'giftcard', 'giftsdecor', 'gig', 'gigant', 'giggl', 'gil', 'gila', 'gilbert', 'gilda', 'gill', 'gimlet', 'gimm', 'gimmick', 'gimmicki', 'gin', 'gina', 'ginandton', 'ginger', 'gingerbread', 'gingerbreadoh', 'ginhound', 'ginorm', 'gio', 'giorno', 'giraff', 'girdl', 'girl', 'girlfirn', 'girlfriend', 'girli', 'girlsand', 'girlsw', 'girth', 'gisel', 'gist', 'giu', 'giusepp', 'give', 'given', 'giver', 'glacier', 'glad', 'gladli', 'glam', 'glamor', 'glamour', 'glanc', 'gland', 'glare', 'glass', 'glassblow', 'glassbut', 'glasswar', 'glassyey', 'glaze', 'gleam', 'glee', 'glen', 'glendal', 'glib', 'glibert', 'glimps', 'glisten', 'glitch', 'glitter', 'glitteri', 'glitterif', 'global', 'globalpisecur', 'globo', 'glom', 'glop', 'glori', 'gloria', 'glorifi', 'gloriou', 'gloss', 'glossi', 'glove', 'gloveshi', 'glow', 'glu', 'gluten', 'glutenfil', 'glutenfre', 'glutenfreesur', 'glutten', 'glutton', 'gluttoni', 'gm', 'gmo', 'gnarlywhich', 'gnat', 'gnocchi', 'go', 'goal', 'goali', 'goat', 'goaz', 'gob', 'gobbl', 'gobi', 'god', 'goddamn', 'goddess', 'godfath', 'godiva', 'godth', 'goe', 'goer', 'goesi', 'goesth', 'gogo', 'goi', 'goingy', 'gokatgo', 'gold', 'golden', 'goldwat', 'goldwel', 'golf', 'golfcart', 'golfer', 'goliath', 'gomen', 'gomer', 'gon', 'gone', 'goneperman', 'gong', 'gonna', 'gonzal', 'goo', 'goober', 'gooby', 'good', 'goodand', 'goodby', 'goodcent', 'goodcertainli', 'goodeven', 'goodeveryon', 'goodi', 'goodif', 'goodlook', 'goodnatur', 'goodnight', 'goodnoth', 'goodor', 'goodregardlesswhich', 'goodsh', 'goodsmoth', 'goodsprinkl', 'goodth', 'goodthen', 'goodthi', 'goodwil', 'goodyear', 'goodytwo', 'gooey', 'goof', 'goofi', 'googl', 'goona', 'goood', 'goooood', 'gooooooood', 'goooooooood', 'goos', 'goosebump', 'gooydefin', 'gordo', 'gordon', 'goreg', 'gorg', 'gorganzola', 'gorgeou', 'gorgonzola', 'gosh', 'goshawfulgooey', 'gospel', 'gossip', 'got', 'gothic', 'goto', 'gotta', 'gotten', 'gotter', 'gouda', 'goug', 'gourmet', 'govern', 'governor', 'gowel', 'gown', 'gowshrimp', 'gp', 'gpa', 'gr8', 'gra', 'grab', 'grace', 'graciou', 'gracious', 'grad', 'grade', 'grader', 'gradi', 'gradual', 'graduat', 'graffenberg', 'graham', 'grahm', 'grain', 'grainfre', 'graini', 'grand', 'grandad', 'grandchildren', 'granddaddi', 'granddaught', 'grandfath', 'grandios', 'grandma', 'grandmagrandpa', 'grandmoth', 'grandpa', 'grandpar', 'grandson', 'granit', 'granni', 'granola', 'granolay', 'granolayogurtfruit', 'grant', 'grape', 'grapefruit', 'graphic', 'grappa', 'grasp', 'grass', 'grassf', 'grassi', 'grassroot', 'grate', 'grati', 'gratifyingi', 'gratin', 'gratitud', 'gratuiti', 'gratuitu', 'gratzi', 'grave', 'gravel', 'gravelli', 'graveyard', 'gravi', 'graviti', 'gravlax', 'gravylik', 'gravypancakestoast', 'gravywhat', 'gravyy', 'gray', 'grayhawk', 'graze', 'grazi', 'greas', 'greasepaint', 'greasewood', 'greasi', 'greasiest', 'great', 'greatdont', 'greater', 'greatest', 'greatfriendli', 'greatgener', 'greatgrandpar', 'greati', 'greatjust', 'greatli', 'greatso', 'greattast', 'greatth', 'greatthey', 'greatw', 'greec', 'greed', 'greedi', 'greeeeeeat', 'greek', 'greekstyl', 'green', 'greenbelt', 'greenhow', 'greenvil', 'greenway', 'greenwayhayden', 'greet', 'greg', 'gregari', 'grelich', 'grenach', 'greta', 'grew', 'grey', 'gri', 'griddl', 'grief', 'grigio', 'grill', 'grilland', 'griller', 'grillingcook', 'grillyou', 'grimaldi', 'grimaldisbut', 'grimiest', 'grin', 'grind', 'grinda', 'grinder', 'gringa', 'gringo', 'gripe', 'gristl', 'gristli', 'grit', 'gritsiv', 'gritti', 'groan', 'grocer', 'groceri', 'groingrabbingli', 'groom', 'groomer', 'groop', 'groovi', 'gross', 'grossbut', 'grossest', 'grossout', 'grossth', 'grotown', 'ground', 'group', 'groupi', 'groupon', 'groupwork', 'grous', 'grove', 'grow', 'growersfarmerssupport', 'growl', 'growler', 'grown', 'grownup', 'growth', 'grr', 'grrr', 'grub', 'grubbiest', 'grudg', 'grumbl', 'grumpi', 'grunt', 'gruyer', 'gryo', 'grã', 'gs', 'gs3', 'gspot', 'gspotgrapefruit', 'gtfo', 'guac', 'guacamol', 'guacomol', 'guadalup', 'guangdong', 'guarante', 'guard', 'guardian', 'gucci', 'guedo', 'guenther', 'guerrero', 'guess', 'guest', 'guid', 'guidelin', 'guido', 'guild', 'guilt', 'guiltfre', 'guilti', 'guiltili', 'guin', 'guiness', 'guissep', 'guitar', 'gulf', 'gulp', 'gum', 'gumbo', 'gumlin', 'gummi', 'gummitgit', 'gun', 'gunk', 'gunkan', 'gunna', 'gunni', 'gurl', 'gurtud', 'guru', 'gush', 'gushi', 'gust', 'gusta', 'gusto', 'gut', 'gutbust', 'gutsi', 'guy', 'guysgirl', 'guysjam', 'gw', 'gym', 'gymbore', 'gymnast', 'gymsi', 'gyn', 'gynorm', 'gynormu', 'gyoza', 'gyrat', 'gyro', 'gyrotogo', 'gã', 'h', 'h20', 'h2o', 'ha', 'haagen', 'habanero', 'habenaro', 'habenero', 'habit', 'haboob', 'hacienda', 'hack', 'hacki', 'hadan', 'haddefinit', 'haddock', 'hadit', 'hadnt', 'hadso', 'hagard', 'hagen', 'haha', 'hahahahaha', 'hahn', 'haiku', 'hail', 'hair', 'haircot', 'haircut', 'haircutveri', 'hairdress', 'hairi', 'hairless', 'haji', 'hakata', 'haley', 'half', 'halfblacken', 'halfday', 'halfempti', 'halfexpect', 'halfhalf', 'halfindoor', 'halfmarathon', 'halfmoppinghalfattemptingtoclean', 'halfnak', 'halfpric', 'halfway', 'halibut', 'halibutswordfishmiso', 'hall', 'halley', 'hallmark', 'halloween', 'hallway', 'halo', 'halogen', 'ham', 'hamachi', 'hamburg', 'hamburgessa', 'hamiltonbeach', 'hammer', 'hamper', 'hampshir', 'hampton', 'hamwow', 'hana', 'hancock', 'hand', 'handbag', 'handcream', 'handcut', 'handedli', 'handheld', 'handi', 'handicapp', 'handiwork', 'handkerchief', 'handl', 'handlebar', 'handmad', 'handrail', 'handsdown', 'handshak', 'handsom', 'handson', 'handwritten', 'handyman', 'haned', 'haney', 'hang', 'hangar', 'hanger', 'hangout', 'hangov', 'hank', 'hanker', 'hannah', 'hanni', 'hansen', 'hanson', 'haphazardli', 'haphazzard', 'happen', 'happenin', 'happhazardli', 'happi', 'happier', 'happiest', 'happili', 'happygolucki', 'har', 'harass', 'harbor', 'harborunless', 'hard', 'hardboil', 'hardcor', 'hardcov', 'harden', 'harder', 'harderand', 'hardest', 'hardfought', 'hardi', 'hardli', 'hardpress', 'hardtofind', 'hardwar', 'hardwood', 'hardwork', 'harissa', 'harkin', 'harlequin', 'harley', 'harm', 'harmoni', 'harold', 'harp', 'harri', 'harsh', 'harshit', 'hart', 'haru', 'harvest', 'harvil', 'hash', 'hashbrown', 'hashtag', 'hasnt', 'hassl', 'hasslefre', 'hasti', 'hastili', 'hat', 'hatch', 'hate', 'hatefulso', 'hatenot', 'hatha', 'hau', 'haul', 'haunt', 'haupiafil', 'hava', 'havana', 'havarti', 'havebecaus', 'haveh', 'havehad', 'havent', 'havnt', 'havoc', 'hawaii', 'hawaiian', 'hay', 'hayashi', 'hayden', 'hayrid', 'hazelnut', 'haã¼', 'hbo', 'hcg', 'hd', 'he', 'head', 'headach', 'headcheek', 'headfirst', 'headi', 'headphon', 'headquart', 'headset', 'headsplit', 'heafti', 'heal', 'healer', 'health', 'healthcar', 'healthconsci', 'healthhygien', 'healthi', 'healthier', 'healthiest', 'healthydelici', 'healthyish', 'heap', 'hear', 'heard', 'hearingimpair', 'heart', 'heartbeat', 'heartbroken', 'heartburn', 'heartedli', 'heartfelt', 'hearth', 'hearti', 'heartworm', 'heat', 'heater', 'heath', 'heathen', 'heather', 'heatnoth', 'heatviagra', 'heaven', 'heavenit', 'heavenli', 'heavenlyincred', 'heavi', 'heaviest', 'heavili', 'heavyoili', 'heavysweet', 'hebrew', 'heck', 'heckl', 'heckthey', 'hectic', 'hector', 'hed', 'hedg', 'heed', 'heehe', 'heel', 'heelbut', 'hefe', 'hefeweizen', 'heff', 'heft', 'hefti', 'hegel', 'heh', 'heheh', 'heidelberg', 'height', 'heighten', 'heinou', 'heinritz', 'heinz', 'heirloom', 'held', 'helen', 'helicopt', 'hell', 'hellava', 'hellish', 'hellllllllo', 'helllllltotheno', 'hello', 'helloit', 'helm', 'helmet', 'help', 'helper', 'helpful', 'helpfuland', 'helpfulren', 'helpfulth', 'helpless', 'helstrom', 'hem', 'hematoma', 'hemet', 'hemroid', 'hen', 'henc', 'henckel', 'hep', 'her', 'herb', 'herbal', 'herbbutt', 'herberg', 'herbveget', 'herd', 'here', 'here5', 'hereand', 'hereat', 'hereberto', 'herebi', 'herediarrhea', 'herefor', 'herei', 'herelunch', 'hereno', 'hereth', 'herethank', 'herethi', 'herethought', 'herhi', 'heritag', 'herm', 'hernan', 'hernandez', 'hero', 'herselfand', 'hershey', 'hertz', 'hesh', 'hesist', 'hesit', 'hesitantli', 'hey', 'heyday', 'heymayb', 'hh', 'hi', 'hiatu', 'hibachi', 'hiccup', 'hick', 'hickish', 'hickup', 'hid', 'hidden', 'hide', 'hideaway', 'hideawayal', 'hiden', 'hideou', 'hideout', 'hideway', 'hifi', 'high', 'highback', 'highcalib', 'highcalori', 'highchair', 'highend', 'higher', 'highest', 'highga', 'highland', 'highli', 'highlight', 'highlightssh', 'highlymemor', 'highlyrespons', 'highpitch', 'highpric', 'highqual', 'highris', 'highrisk', 'highschool', 'hight', 'hightech', 'hightop', 'highway', 'hike', 'hikeand', 'hiker', 'hilari', 'hill', 'hillard', 'hillier', 'hillston', 'hilo', 'hilton', 'himalayan', 'himherself', 'himwel', 'hinder', 'hint', 'hip', 'hiphop', 'hipp', 'hipper', 'hippi', 'hippieland', 'hippieshipst', 'hipster', 'hipsteri', 'hipstertrendi', 'hire', 'hiro', 'hisherself', 'hispan', 'histor', 'histori', 'hit', 'hitch', 'hitchin', 'hitlist', 'hitormiss', 'hitup', 'hkgb', 'hkguangdong', 'hm', 'hmm', 'hmmm', 'hmmmm', 'hmmmmm', 'hmmmmmm', 'hmmmmmmm', 'hmmmthe', 'hmmph', 'hnnngffff', 'ho', 'hoa', 'hoagi', 'hoan', 'hob', 'hobbi', 'hobo', 'hoboken', 'hock', 'hockey', 'hodgepodg', 'hoegaarden', 'hoffman', 'hog', 'hogi', 'hogwart', 'hohum', 'hoikey', 'hoist', 'hokokum', 'hold', 'holdem', 'holder', 'hole', 'holeinarundownstripmal', 'holeintherock', 'holeinthewal', 'holey', 'holi', 'holiday', 'holist', 'hollandais', 'hollendais', 'holli', 'hollywood', 'holm', 'holocaust', 'holyshit', 'homag', 'home', 'homeand', 'homecook', 'homefri', 'homefriesthey', 'homei', 'homeless', 'homemad', 'homemadealso', 'homemademeatbal', 'homemak', 'homeopath', 'homer', 'homerun', 'homestyl', 'homethey', 'hometown', 'homework', 'homey', 'homi', 'homini', 'homogen', 'homophobia', 'homosexu', 'homou', 'honda', 'hondura', 'hone', 'honeslti', 'honest', 'honesteven', 'honesti', 'honestli', 'honestlypanda', 'honey', 'honeycomb', 'honeydip', 'honeymoon', 'hong', 'honk', 'honor', 'hoo', 'hood', 'hoodlum', 'hook', 'hookah', 'hooker', 'hooligan', 'hoooorray', 'hoopla', 'hooray', 'hoosier', 'hooter', 'hootsuit', 'hop', 'hope', 'hopi', 'hopit', 'hopno', 'hoppin', 'hopshot', 'horatio', 'horchata', 'horizon', 'hormon', 'horn', 'horrend', 'horribl', 'horribleno', 'horrid', 'horrif', 'horrifi', 'horror', 'hors', 'horseback', 'horseradish', 'horsesho', 'horshradish', 'horwitz', 'hose', 'hospit', 'hospitallik', 'host', 'hostag', 'hostess', 'hostessownermanag', 'hostil', 'hostshostess', 'hot', 'hotandsour', 'hotdog', 'hotdogswhat', 'hotel', 'hotelrestaurantbar', 'hotin', 'hotnreadi', 'hotoffthegril', 'hotpeopl', 'hotplat', 'hotpot', 'hotspot', 'hotter', 'hottest', 'hotti', 'hotttt', 'hotw', 'hotwir', 'hotziki', 'hound', 'hour', 'hourguarante', 'hourlong', 'hournev', 'hourof', 'houron', 'hourplu', 'hoursbut', 'hourwhich', 'hous', 'houseblend', 'household', 'househunt', 'housekeep', 'housemad', 'houseorbuild', 'housesitt', 'houseturnedrestaur', 'housewar', 'housewhip', 'housewif', 'houston', 'hover', 'how', 'howard', 'howdi', 'howel', 'howev', 'howl', 'hr', 'hrt', 'hs', 'htc', 'httpcidseengineeringasuedu', 'httpenwikipediaorgwikiburrata', 'httpessencebakerycomessencebakeryenvironmentallyfriendlyshtml', 'httpinteractiveasueduqhom', 'httpmonkeywonderlandcomblog', 'httpnewcollegeasueduharcsdegreesmajorsinterdisciplinaryartsandperformanceprogram', 'httpnewcollegeasuedumnsdegreescomputingappliedcomputingprogram', 'httpphoenixgovbndmapsindexhtml', 'httpphoenixorgwpcontentuploads201004camelbackmountaintrailheadoverflowparkingpng', 'httpschmoozeazcomblogp680', 'httptinyurlcombnd5erj', 'httptinyurlcomc785ykr', 'httptinyurlcomc7pkagm', 'httptinyurlcomc7zwftv', 'httptinyurlcomca765ua', 'httptinyurlcomcmtkood', 'httptinyurlcomcspjnfm', 'httptlivingsocialcomdeals453990refemailjprpi85154658', 'httpwwwautismcenterorgdefaultaspx', 'httpwwwazpbsorgcheckpleas', 'httpwwwbadmouthnetinnoutssecretmenu', 'httpwwwbbfwcom', 'httpwwwchristophersazcom', 'httpwwwcraigslistorgaboutbesthtf755891987html', 'httpwwwdoggiestepsdogtrainingcom', 'httpwwwflickrcompeopletysoncrosbi', 'httpwwwflickrcomphotosryno4113416766', 'httpwwwfourpeakscom', 'httpwwwhalorescueorgindexhtml', 'httpwwwinnoutcomsecretmenuasp', 'httpwwwlocalfirstazcomfallfestiv', 'httpwwwphoenixcitygrillecom', 'httpwwwpizzeriabiancocom', 'httpwwwrestaurantcom', 'httpwwwtexasburgerguycom20050116xtrapattiesandxtracheeseshtml', 'httpwwwultrastarmoviescomparentmoviemorningasp', 'httpwwwyelpcombizlagrandeorangegroceryphoenixhrid4cxbhzxxtmexf9krjmfviqsrcself', 'httpwwwyelpcombizphotos0buxoc0crqjpvkezo3bqogselecto9jiksbmobhcxoimsekqo9jiksbmobhcxoimsekq', 'httpwwwyelpcombizphotos0buxoc0crqjpvkezo3bqogselectrk8m1rxl50pb69c2yqqtgrk8m1rxl50pb69c2yqqtg', 'httpwwwyelpcombizphotos3n9u549zse8upmwkzajaqselectm1wrcux3oouhhrynl8kjqgm1wrcux3oouhhrynl8kjqg', 'httpwwwyelpcombizphotos3n9u549zse8upmwkzajaqselectmmwkpmltbkcwnnlraitgwmmwkpmltbkcwnnlraitgw', 'httpwwwyelpcombizphotos3n9u549zse8upmwkzajaqselectxg8u6fz2e8hu0xq3hf7czgxg8u6fz2e8hu0xq3hf7czg', 'httpwwwyelpcombizrustlersroostephoenixhridgyib8ea4hdfylss17zcg', 'httpwwwyelpcombizseptemberofficehoursatlobbystempehridkqoelzgklmrbayws8lhvfw', 'httpwwwyoutubecomwatchvfsg07smlz5sfeaturerel', 'huauchinango', 'hub', 'hubbard', 'hubbi', 'hubri', 'hubster', 'huckleberri', 'hudson', 'hue', 'huera', 'huevo', 'huff', 'hug', 'huge', 'hugeass', 'hugehad', 'hugh', 'huh', 'hula', 'hullabaloo', 'hum', 'human', 'humanityth', 'humbl', 'humboldt', 'humding', 'humid', 'humidifi', 'humili', 'hummer', 'hummingbird', 'hummou', 'hummu', 'hummuses', 'hummusgrilledmarin', 'hummusnop', 'humor', 'humornot', 'humu', 'hun', 'hundr', 'hundredyearold', 'hung', 'hunger', 'hungov', 'hungri', 'hungrier', 'hungryit', 'hunk', 'hunt', 'hunter', 'hunterd', 'hurrah', 'hurri', 'hurrican', 'hurt', 'husband', 'husbandandwif', 'husbandli', 'hush', 'hushpuppi', 'hussi', 'hustl', 'hut', 'huuuugggee', 'hwi', 'hyatt', 'hyberbol', 'hybrid', 'hyde', 'hydrant', 'hydrat', 'hydrogen', 'hydropon', 'hydropro', 'hygenist', 'hygien', 'hygienist', 'hype', 'hypebest', 'hyperbol', 'hypnot', 'hypocrit', 'hyundai', 'i10', 'i17', 'ia', 'iam', 'iamtimhardi', 'ice', 'iceberg', 'iceburg', 'icecold', 'icecream', 'icecreamlook', 'icecustard', 'icey', 'ichi', 'ichigo', 'ici', 'ick', 'icki', 'ickla', 'icon', 'id', 'idea', 'ideal', 'idem', 'ident', 'identifi', 'idiot', 'idk', 'ie', 'iffi', 'ignacio', 'ignit', 'ignor', 'ihop', 'ii', 'iii', 'iitoi', 'iitttyyi', 'ikea', 'ikeaish', 'ikura', 'il', 'ilb', 'ilk', 'ill', 'illeffect', 'illeg', 'illlll', 'illumin', 'illus', 'illustr', 'ilovethisplac', 'im', 'imag', 'imageri', 'imagin', 'imax', 'imbu', 'imho', 'imit', 'immacul', 'immedi', 'immens', 'immers', 'immigr', 'immin', 'immobil', 'immun', 'imo', 'impact', 'impati', 'impec', 'impecc', 'impend', 'imper', 'imperi', 'imperson', 'impess', 'impetu', 'impli', 'implicitli', 'implicitlyso', 'impolit', 'import', 'importantit', 'importantli', 'importantlymi', 'importantlyy', 'imposs', 'impostor', 'impract', 'impres', 'impress', 'impressedi', 'imprint', 'impromptu', 'improp', 'improv', 'imtoosexyformyself', 'in', 'inabl', 'inact', 'inadequ', 'inadvert', 'inahh', 'inandout', 'inappropri', 'inaugur', 'inauthent', 'inbetween', 'inbox', 'inc', 'incant', 'incap', 'incarn', 'incent', 'incentivebut', 'incess', 'inch', 'incid', 'incident', 'incidentbut', 'incis', 'inclin', 'includ', 'includedwel', 'inclus', 'incom', 'incompet', 'incongru', 'inconsist', 'inconveni', 'inconvenic', 'inconvenienc', 'incorpor', 'incorrect', 'incorrectli', 'increas', 'increasingli', 'incred', 'incredib', 'incredibleworth', 'inde', 'indecis', 'independ', 'indescrib', 'indestruct', 'indi', 'india', 'indian', 'indiana', 'indianpakistani', 'indic', 'indict', 'indiffer', 'indigen', 'indigest', 'indistinguish', 'individu', 'individualno', 'indoor', 'indopak', 'indra', 'induc', 'indulg', 'industri', 'ined', 'inevit', 'inexcus', 'inexpens', 'inexplic', 'infant', 'infantil', 'infect', 'inferior', 'infest', 'infin', 'inflamm', 'inflat', 'inflect', 'influenc', 'influx', 'info', 'infomerci', 'inform', 'informationfact', 'infring', 'infront', 'infuri', 'infus', 'ingeni', 'ingest', 'ingrain', 'ingredi', 'ingredientsa', 'ingregi', 'ingrown', 'inhal', 'inher', 'inhibit', 'inhous', 'inhuman', 'ini', 'init', 'initi', 'inject', 'injera', 'injur', 'injuri', 'ink', 'inlaw', 'inn', 'innear', 'inner', 'innoc', 'innocu', 'innout', 'innov', 'innova', 'innumer', 'inoa', 'inout', 'inoutdon', 'input', 'inputsuggest', 'inquir', 'inquiri', 'inquisit', 'insan', 'inseason', 'insect', 'insecur', 'insert', 'insid', 'insidei', 'insideth', 'insidethat', 'insight', 'insist', 'insofar', 'inspect', 'inspector', 'inspir', 'inst', 'instal', 'instanc', 'instant', 'instantan', 'instantli', 'instantnoodl', 'instatnt', 'instead', 'insteadfelt', 'insteadmi', 'instinct', 'institut', 'instor', 'instruct', 'instructor', 'instrument', 'insuffici', 'insul', 'insult', 'insur', 'intact', 'intak', 'intang', 'integr', 'intel', 'intellectu', 'intellig', 'intend', 'intens', 'intent', 'interact', 'intercontinent', 'interest', 'interfer', 'interior', 'interject', 'interlud', 'intermingl', 'intermiss', 'intern', 'internet', 'internship', 'interpret', 'interrog', 'interrupt', 'interspers', 'intertub', 'intertwin', 'interview', 'intestin', 'inthi', 'intim', 'intimaci', 'intimid', 'intoler', 'intolerancethey', 'inton', 'intox', 'intrigu', 'intriguingli', 'intrins', 'introduc', 'introduct', 'introductori', 'intrud', 'intrus', 'intuit', 'invad', 'invalid', 'invari', 'invas', 'invent', 'inventori', 'inventoryand', 'invergorden', 'invers', 'invert', 'invest', 'investig', 'investor', 'invigor', 'invinc', 'invis', 'invisalign', 'invit', 'involv', 'inwat', 'iodin', 'iolanda', 'iot', 'iowa', 'ipa', 'ipad', 'ipadappar', 'ipaheavi', 'iphon', 'ipic', 'ipod', 'ippei', 'iq', 'ir', 'iranian', 'iraq', 'irat', 'irish', 'irk', 'irl', 'irma', 'iron', 'ironi', 'ironman', 'irrat', 'irrelev', 'irreplac', 'irrig', 'irrit', 'isa', 'isamazzzzzz', 'isbeyond', 'iselect', 'ish', 'isi', 'isl', 'island', 'islandssmal', 'islet', 'isnow', 'isnt', 'isntlet', 'isol', 'isra', 'israel', 'isreal', 'isso', 'issu', 'issuether', 'issuewhen', 'istor', 'isummmwel', 'itali', 'italia', 'italian', 'italianchinesemexicanamerican', 'italiano', 'italianstyl', 'itand', 'itbut', 'itch', 'itd', 'item', 'itemson', 'itemsso', 'iteveryth', 'ithink', 'iti', 'itinerari', 'itisslow', 'itit', 'itlittl', 'itll', 'itlov', 'ito', 'itphoenix', 'itsi', 'itstick', 'itth', 'itthen', 'itthi', 'itti', 'itun', 'itwhat', 'ityou', 'iu', 'iv', 'ivaa', 'ivan', 'ive', 'ivegotthetwangytartwithdrawalshak', 'ivejustbeenbitchslappedbycaffein', 'ivev', 'ivi', 'ivori', 'iwe', 'ixtapazihuatenejo', 'j', 'jaaaad', 'jab', 'jac', 'jack', 'jackass', 'jackedup', 'jacket', 'jacki', 'jackinthebox', 'jackpot', 'jackrabbit', 'jacob', 'jacqu', 'jacqui', 'jacuzzi', 'jade', 'jaeger', 'jagermeist', 'jaim', 'jake', 'jalapeno', 'jalapeã', 'jalepeno', 'jalpeno', 'jam', 'jamaica', 'jamaican', 'jamba', 'jambalaya', 'jamburrito', 'jame', 'jameson', 'jamfig', 'jamkick', 'jamoca', 'jan', 'jane', 'janet', 'jani', 'janslet', 'januari', 'japan', 'japanes', 'japcha', 'jar', 'jare', 'jargon', 'jarvi', 'jasmin', 'jason', 'java', 'jaw', 'jay', 'jayz', 'jazz', 'jazzi', 'jc', 'jcook', 'jcrew', 'jd', 'jealou', 'jealous', 'jean', 'jeansit', 'jedi', 'jeez', 'jeff', 'jefferson', 'jekyl', 'jelli', 'jello', 'jen', 'jenga', 'jenn', 'jenna', 'jennfer', 'jenni', 'jennif', 'jensi', 'jeopard', 'jer', 'jeremiah', 'jerk', 'jerki', 'jerkyscor', 'jerri', 'jerron', 'jersey', 'jess', 'jessi', 'jester', 'jesterz', 'jesu', 'jet', 'jetland', 'jetson', 'jewel', 'jeweleri', 'jewelri', 'jewess', 'jewish', 'jewleri', 'jhane', 'ji', 'jiang', 'jib', 'jiggl', 'jill', 'jillian', 'jim', 'jimmi', 'jist', 'jitter', 'jj', 'jjim', 'jk', 'jo', 'joan', 'job', 'jobbyjob', 'jobingcom', 'jobot', 'jobwould', 'jodi', 'joe', 'joesgift', 'john', 'johnni', 'join', 'joint', 'joke', 'jokingli', 'joli', 'joliet', 'jolla', 'jolli', 'jolt', 'joltachinno', 'jon', 'jonathan', 'jone', 'jonesin', 'jook', 'joplin', 'jordan', 'jose', 'joshua', 'jot', 'jouet', 'journey', 'joust', 'joy', 'joynt', 'jp', 'jr', 'jsut', 'ju', 'juan', 'juba', 'jucey', 'judg', 'judgment', 'judith', 'juggalo', 'juggl', 'juic', 'juicessmoothi', 'juicewhich', 'juicey', 'juici', 'juijitsu', 'juke', 'jukebox', 'jule', 'juli', 'julien', 'julio', 'julyish', 'jumbalaya', 'jumbo', 'jumbotron', 'jump', 'jumpsuit', 'june', 'juneand', 'jungl', 'junior', 'junk', 'junki', 'junkyard', 'jura', 'juror', 'justic', 'justifi', 'justin', 'justina', 'justlensescom', 'justright', 'juxtapos', 'jw', 'jzzed', 'k', 'k56', 'ka', 'kabob', 'kabuki', 'kahlo', 'kahlua', 'kai', 'kaigen', 'kaj', 'kake', 'kalachi', 'kalamata', 'kalbi', 'kale', 'kaleaid', 'kaleand', 'kaley', 'kama', 'kampachi', 'kanarish', 'kang', 'kansa', 'kany', 'kaprow', 'kara', 'karahi', 'karanish', 'karaok', 'karawi', 'karen', 'karey', 'karma', 'karoak', 'karsh', 'karv', 'karyn', 'kasabian', 'kashman', 'kashmer', 'kasra', 'kat', 'katheaw', 'kathi', 'kathleen', 'kati', 'katlan', 'katsu', 'kauai', 'kaya', 'kayle', 'kaz', 'kazilici', 'kazimierz', 'kazmer', 'kebab', 'kee', 'keen', 'keep', 'keg', 'keith', 'kellen', 'keller', 'kelley', 'kelli', 'ken', 'kennan', 'kennebec', 'kennel', 'kentucki', 'kept', 'kerri', 'ketchup', 'kettl', 'keurig', 'kevin', 'key', 'keyboard', 'keypad', 'keyskey', 'kfc', 'kfcsides', 'kha', 'khabibulin', 'khai', 'khaki', 'kia', 'kibbl', 'kick', 'kickass', 'kickasseri', 'kickbox', 'kickboxingyoga', 'kickbutt', 'kickermi', 'kickersaintso', 'kicki', 'kickin', 'kid', 'kiddi', 'kiddo', 'kidfriendli', 'kidless', 'kidnap', 'kidsfamilyth', 'kidspecifc', 'kierland', 'kiersten', 'kik', 'kill', 'killer', 'killin', 'kilt', 'kiltlift', 'kim', 'kimber', 'kimberli', 'kimchi', 'kimpton', 'kin', 'kind', 'kinda', 'kindergarten', 'kindli', 'kindr', 'kindsit', 'kinet', 'king', 'kingdom', 'kingston', 'kink', 'kinko', 'kiosk', 'kirin', 'kisra', 'kiss', 'kitchen', 'kitchenth', 'kitchenthey', 'kitfo', 'kitschi', 'kitten', 'kitti', 'kiwi', 'kk', 'klutzwasnt', 'kmart', 'knack', 'knave', 'knee', 'kneehigh', 'knew', 'knick', 'knickknack', 'knife', 'knive', 'knob', 'knocci', 'knock', 'knook', 'knorr', 'knot', 'knotch', 'know', 'knowa', 'knowand', 'knowledg', 'knowlik', 'known', 'knowsb', 'knowth', 'knowtyp', 'kobe', 'koch', 'kohl', 'koi', 'koko', 'kokopelli', 'kolschmak', 'kona', 'kong', 'kook', 'kool', 'koolaid', 'kore', 'korea', 'korean', 'koreanmom', 'koreanstyl', 'kosher', 'kota', 'kra', 'krab', 'kraft', 'krav', 'kreameri', 'kreme', 'krispi', 'krista', 'kristen', 'kristi', 'kristian', 'kristin', 'krono', 'kruez', 'kruger', 'krã', 'ks', 'ksubi', 'kubrick', 'kudo', 'kudohba', 'kufta', 'kumomato', 'kumquat', 'kun', 'kung', 'kurobuta', 'kurt', 'kwss', 'kyle', 'kyot', 'kyoto', 'kyren', 'l', 'la', 'lab', 'label', 'labor', 'laboratori', 'lace', 'laci', 'lack', 'lacklust', 'lactos', 'lad', 'ladder', 'laden', 'ladi', 'ladiesid', 'ladl', 'lafayett', 'lag', 'lagoon', 'lahna', 'lai', 'laid', 'laidback', 'lair', 'lait', 'lake', 'lake91110', 'lalibela', 'lamar', 'lamb', 'lambbas', 'lambic', 'lame', 'lamest', 'lamin', 'lamp', 'lampshad', 'lan', 'lanc', 'land', 'landfil', 'landi', 'landlock', 'landmark', 'landon', 'landscap', 'lane', 'languag', 'lantana', 'lantern', 'lap', 'lapsang', 'laptop', 'larb', 'lard', 'lardo', 'laredo', 'larg', 'larger', 'largest', 'largewith', 'larissa', 'larpeg', 'larri', 'lasagna', 'lasagnar', 'laser', 'lash', 'lashextend', 'lassi', 'last', 'lastli', 'latch', 'late', 'latenight', 'later', 'latest', 'latilla', 'latin', 'latino', 'latt', 'latter', 'laud', 'laudabl', 'laugh', 'laughter', 'launch', 'laundri', 'laura', 'lava', 'lavend', 'lavishli', 'lavosh', 'law', 'lawannah', 'lawn', 'lawyer', 'lax', 'lay', 'layaway', 'layer', 'layla', 'layout', 'layov', 'lazi', 'lazili', 'lazyasssweets', 'lazyboy', 'lb', 'lc', 'lcd', 'le', 'lead', 'leader', 'leaf', 'leafi', 'leagu', 'leah', 'leak', 'lean', 'leaner', 'leap', 'leari', 'learn', 'leas', 'leash', 'least', 'leastal', 'leather', 'leatheri', 'leatherwork', 'leav', 'leavei', 'leavein', 'leavong', 'lebanesey', 'leberknã', 'lech', 'lechon', 'lectur', 'led', 'ledg', 'lee', 'leek', 'leer', 'leeri', 'left', 'leftov', 'leftoversthat', 'leftright', 'leg', 'legaci', 'legal', 'legend', 'legendari', 'legion', 'legit', 'legitim', 'leguizamo', 'lehong', 'leila', 'leisur', 'lem', 'lemm', 'lemon', 'lemonad', 'lemonadeit', 'lemondadelemon', 'lemongrass', 'lemonherbheaven', 'lemoni', 'len', 'lenart', 'lend', 'length', 'lengthi', 'lengthwis', 'lengua', 'lenni', 'lens', 'lent', 'lentil', 'lenã', 'leonida', 'leotard', 'lepinja', 'lesbiangay', 'lesli', 'less', 'lesser', 'lessglutton', 'lesson', 'lessthanaverag', 'lessyay', 'lest', 'let', 'letter', 'lettuc', 'lettucespr', 'level', 'lever', 'levi', 'leviticu', 'lewi', 'lexu', 'leyva', 'lf', 'lgo', 'liabil', 'liar', 'libat', 'liber', 'liberac', 'liberti', 'libr', 'libra', 'librari', 'librarian', 'librarytak', 'licenc', 'licens', 'licenseprob', 'lick', 'lickin', 'licoric', 'lid', 'lidless', 'lie', 'lienau', 'lieu', 'life', 'lifealt', 'lifechang', 'lifeless', 'lifelong', 'lifesav', 'lifesavor', 'lifestyl', 'lifetim', 'lift', 'lifter', 'light', 'lightbulb', 'lighten', 'lighter', 'lightest', 'lightheart', 'lightli', 'lightn', 'lightrail', 'lightup', 'lightweight', 'lik', 'like', 'likeabl', 'likeddidnt', 'liken', 'likesit', 'liketh', 'likey', 'liklihood', 'lil', 'lilli', 'lilun', 'limb', 'lime', 'limead', 'limey', 'limit', 'limitless', 'limo', 'limon', 'limoncello', 'limp', 'limpest', 'limã³n', 'lincoln', 'linda', 'lindsay', 'lindsey', 'line', 'linen', 'liner', 'lineup', 'linger', 'lingeri', 'lingua', 'lingual', 'linguin', 'linguini', 'linguisa', 'linguist', 'link', 'linkssid', 'lion', 'lionessi', 'lip', 'lipid', 'lipstick', 'liqour', 'liqueur', 'liquid', 'liquidi', 'liquor', 'lisa', 'lisabel', 'lisett', 'lishcurri', 'lisou', 'list', 'listen', 'listenerit', 'listlessli', 'lit', 'litchfield', 'lite', 'liter', 'literatur', 'litmu', 'litter', 'littl', 'littleeh', 'littleknown', 'littlest', 'livabl', 'live', 'liver', 'liveri', 'liverwurst', 'livestock', 'livingsoci', 'liz', 'lizabel', 'lizard', 'lizzi', 'lloyd', 'lmt', 'lo', 'load', 'loaf', 'loan', 'loaner', 'loath', 'loav', 'lobbi', 'lobster', 'local', 'localici', 'locallychang', 'locallyown', 'localsth', 'locat', 'locationand', 'locationatmospher', 'locationloc', 'locationpleas', 'locationsonlin', 'locationviewatmospher', 'locationy', 'lock', 'locker', 'lockhart', 'locksmith', 'loco', 'locoyesp', 'lodg', 'lodi', 'loft', 'logic', 'logo', 'loin', 'loiter', 'lol', 'lola', 'lolcat', 'lolita', 'lollipop', 'lollygag', 'lollypop', 'lolo', 'lomein', 'lon', 'london', 'lone', 'long', 'longday', 'longer', 'longest', 'longgon', 'longish', 'longit', 'longterm', 'longth', 'longtim', 'longvex', 'lonnnnng', 'loo', 'loofah', 'look', 'lookout', 'loooong', 'looooong', 'loooooov', 'loooooung', 'loooov', 'loop', 'loopfat', 'loos', 'loosen', 'loov', 'lora', 'loraco', 'lord', 'loren', 'loretta', 'lori', 'loroco', 'lose', 'loser', 'loss', 'lost', 'lot', 'lotion', 'lotteri', 'lotto', 'lotu', 'loud', 'louder', 'loudi', 'loudli', 'loudspeak', 'louduninspir', 'loughner', 'loui', 'louisiana', 'loung', 'loungego', 'loungelik', 'lounger', 'loungey', 'loungeyi', 'lousi', 'lovabl', 'love', 'lovei', 'loveitloveit', 'loveli', 'loveliest', 'lovelovelov', 'lover', 'lovey', 'lovin', 'lovvvv', 'low', 'lowbrow', 'lowcalori', 'lowcarb', 'lowdown', 'lower', 'lowest', 'lowfat', 'lowfi', 'lowkey', 'lowli', 'lowlight', 'lowqual', 'lox', 'loyal', 'loyalti', 'loyd', 'lozeng', 'ls', 'lshape', 'lsusaint', 'ltf', 'lthe', 'luau', 'lubi', 'lubric', 'luch', 'luci', 'lucia', 'lucil', 'luciou', 'luck', 'lucki', 'luckili', 'lucr', 'luggag', 'lui', 'luigi', 'luke', 'lukewarm', 'lull', 'lulu', 'lululemon', 'luminaria', 'lumpia', 'lumpless', 'luna', 'lunch', 'luncha', 'lunchbreak', 'lunchbrunch', 'lunchdinn', 'luncheon', 'lunchim', 'lunchlight', 'lunchonli', 'lunchso', 'lunchtim', 'lunchwhich', 'lung', 'lurch', 'lure', 'lurid', 'lush', 'lust', 'luster', 'luv', 'lux', 'luxuri', 'lyche', 'lychejito', 'lynn', 'lyric', 'lysol', 'lã', 'maam', 'mabel', 'mac', 'macadamia', 'macadamian', 'macademia', 'macalpin', 'macaron', 'macaroni', 'macaroon', 'macaw', 'macayo', 'macbook', 'macchees', 'macchiato', 'macer', 'machaca', 'machin', 'macho', 'maci', 'mackerel', 'macmillan', 'macmillian', 'macnchees', 'mad', 'madagascar', 'madam', 'madden', 'maddi', 'made', 'madeatthet', 'madelien', 'madera', 'madetoord', 'madiera', 'madonna', 'madr', 'madra', 'madrid', 'maestro', 'mag', 'maga', 'magazin', 'maggi', 'maggiano', 'magic', 'magna', 'magner', 'magnet', 'magnific', 'magnitud', 'magnolia', 'mah', 'mahhh', 'mahi', 'mahimahi', 'mai', 'maid', 'maiden', 'mail', 'mailbox', 'mailin', 'main', 'mainli', 'mainstay', 'mainstream', 'maintain', 'mainten', 'maitai', 'maizi', 'majerl', 'majest', 'major', 'make', 'makeov', 'maker', 'makeshift', 'makeup', 'makeyourown', 'makhani', 'makin', 'makita', 'makok', 'malais', 'malaysian', 'malbec', 'male', 'malfunct', 'malibu', 'mall', 'mallcommon', 'mallesqu', 'malllik', 'malllook', 'mallmad', 'malt', 'maltes', 'mam', 'mama', 'mamma', 'mammal', 'mammoth', 'mamosa', 'mamoth', 'man', 'manag', 'managerand', 'managermissinginact', 'managerown', 'manchego', 'manchurian', 'mandarin', 'mandarincantones', 'mandatori', 'mandi', 'maneuv', 'maneuver', 'manfriend', 'manfrom', 'mangawher', 'manger', 'mangeroper', 'mango', 'mangopomegran', 'manhandl', 'manhattan', 'manheld', 'mani', 'manicur', 'manicurist', 'manikin', 'manipedi', 'manipedii', 'manipul', 'manli', 'manmad', 'mannequin', 'manner', 'manual', 'manuel', 'manufactur', 'manzana', 'manzanita', 'manzi', 'map', 'mapl', 'maplesmok', 'mar', 'maraschino', 'marathon', 'marbl', 'marcellino', 'march', 'marcia', 'marco', 'marcu', 'mardi', 'maretplac', 'marg', 'margaret', 'margareta', 'margarita', 'margarita2nd', 'margaritasam', 'margaritascheck', 'margaritta', 'margherita', 'margin', 'marguerit', 'mari', 'maria', 'mariachi', 'maricopa', 'marilyn', 'marin', 'marinad', 'marinara', 'mario', 'mariott', 'marjust', 'mark', 'markdown', 'markeplac', 'marker', 'market', 'marketmad', 'marketplac', 'marketsthat', 'marki', 'markup', 'marmalad', 'marnier', 'marque', 'marri', 'marriag', 'marriot', 'marriott', 'marrow', 'marsala', 'marscapon', 'marsha', 'marshal', 'marshamallow', 'marshmallow', 'mart', 'marti', 'martin', 'martinez', 'martini', 'martinisnot', 'marvel', 'maryland', 'maryval', 'marz', 'masa', 'masaiesq', 'masala', 'mascara', 'mascarpon', 'mash', 'masiman', 'mask', 'mason', 'masquerad', 'mass', 'massag', 'massamum', 'masseus', 'massiv', 'mast', 'master', 'masteri', 'masterpiec', 'mastro', 'mat', 'matador', 'match', 'matchstick', 'mate', 'mateo', 'mater', 'materi', 'math', 'mathemat', 'matney', 'matrimoni', 'matsumoto', 'matt', 'mattar', 'matter', 'matterit', 'mattress', 'matur', 'matzah', 'matzo', 'mauclerc', 'maui', 'mauiit', 'maureen', 'maurizio', 'mauv', 'mawsh', 'max', 'maxim', 'maximum', 'maxipad', 'maxx', 'may', 'mayan', 'mayb', 'mayo', 'mayobas', 'mayonnais', 'maytag', 'maze', 'mba', 'mbp', 'mc', 'mcc', 'mccac', 'mccain', 'mcclendon', 'mcclintock', 'mccormick', 'mcd', 'mcdonald', 'mcdowel', 'mcgee', 'mcginni', 'mcgrath', 'mcgrittl', 'mckellip', 'mcklintock', 'mcnugget', 'mcrae', 'mdame', 'meager', 'meal', 'mealand', 'mealbett', 'meali', 'mealreflect', 'mealytextur', 'mean', 'meander', 'meaning', 'meansmsg', 'meant', 'meantim', 'meanwhil', 'measli', 'measur', 'meat', 'meatand', 'meatbal', 'meatbeal', 'meatchees', 'meateat', 'meathead', 'meati', 'meatless', 'meatlettucechees', 'meatloaf', 'meatlov', 'meatso', 'meatza', 'mebut', 'mecca', 'mechado', 'mechan', 'mecina', 'med', 'medallion', 'medditeranean', 'media', 'medic', 'medicin', 'medicor', 'mediev', 'mediocr', 'medit', 'mediterranean', 'medium', 'mediumrang', 'mediumrar', 'mediumwel', 'medley', 'meeeeeani', 'meet', 'meetup', 'mega', 'megan', 'meh', 'mehe', 'mei', 'mein', 'meinek', 'meinmedium', 'mekong', 'mel', 'meld', 'mele', 'melissa', 'mellow', 'mellowambi', 'melon', 'melonfishphoto', 'melros', 'melt', 'melti', 'meltingli', 'meltinyour', 'meltinyourmouth', 'member', 'memberat', 'memberown', 'membership', 'membran', 'memi', 'memo', 'memor', 'memorabilia', 'memori', 'memoriesbeauti', 'men', 'menchiesmuch', 'mend', 'mental', 'mention', 'menu', 'menubut', 'menudo', 'menui', 'menuwa', 'meow', 'meowganific', 'merc', 'merced', 'mercedesbmwlexusjaguar', 'merchandis', 'merchant', 'merci', 'mercuri', 'mere', 'meringu', 'merit', 'merrel', 'merri', 'mesa', 'mesagateway', 'mesathey', 'mesh', 'mesha', 'mesmer', 'mesquit', 'mess', 'messag', 'messi', 'met', 'metabol', 'metal', 'metat', 'mete', 'meteocr', 'meter', 'meth', 'methi', 'methink', 'method', 'meticul', 'metric', 'metro', 'metrophx', 'metropolitan', 'metrosexu', 'mex', 'mexicali', 'mexican', 'mexicanstyl', 'mexico', 'mexicono', 'meyer', 'mf', 'mfin', 'mgmt', 'mgr', 'mi', 'mia', 'miagi', 'miami', 'mic', 'michael', 'michel', 'michelada', 'michelina', 'michigan', 'mickey', 'micki', 'micro', 'microb', 'microbrew', 'microbreweri', 'microchip', 'microfoam', 'micromini', 'microscop', 'microwav', 'mid', 'mid1980', 'midcenturi', 'midday', 'middl', 'middleag', 'midget', 'midi', 'midiron', 'midnight', 'midnit', 'mido', 'midpric', 'midrang', 'midst', 'midweek', 'midwest', 'midwestern', 'mien', 'mierda', 'might', 'mighti', 'mightili', 'mightli', 'mignon', 'migrain', 'miguel', 'mikado', 'mike', 'mila', 'milagro', 'milanes', 'milano', 'mild', 'mildli', 'mildtast', 'mile', 'milic', 'militari', 'milk', 'milki', 'milkshak', 'mill', 'millefeuil', 'miller', 'million', 'millwich', 'mim', 'mimi', 'mimic', 'mimosa', 'min', 'mina', 'minc', 'mind', 'mindbodi', 'mindnumbingli', 'mindset', 'mine', 'mineand', 'minenev', 'miner', 'minestron', 'mingl', 'mingross', 'mini', 'miniatur', 'minibar', 'minicoast', 'minicostco', 'minifilet', 'minim', 'minimalist', 'minimalistmodern', 'minimum', 'miniscul', 'minisd', 'ministayc', 'minitaco', 'minna', 'minneapoli', 'minnesota', 'minni', 'minor', 'mint', 'mintchip', 'minti', 'minu', 'minuet', 'minut', 'minutesi', 'miracl', 'miracul', 'mirag', 'miranda', 'mirror', 'mirush', 'miscellan', 'mischa', 'miscommun', 'miser', 'misfit', 'misfortun', 'mish', 'mishandl', 'mishap', 'mishmash', 'mishmosh', 'misinform', 'misinterpret', 'misir', 'misl', 'mislead', 'mismanag', 'mismatch', 'miso', 'misono', 'misplac', 'miss', 'mission', 'mississippi', 'misskeep', 'misstep', 'mist', 'mistak', 'mistaken', 'mistakenli', 'mister', 'misto', 'misunderstand', 'misunderstood', 'misus', 'mitch', 'mitt', 'miu', 'mix', 'mixer', 'mixolog', 'mixto', 'mixtur', 'mixup', 'mj', 'mlb', 'mlbnflnba', 'mm', 'mma', 'mmm', 'mmmghgh', 'mmmm', 'mmmmgood', 'mmmmm', 'mmmmmaze', 'mmmmmm', 'mmmmmmm', 'mmmmmmmm', 'mmmmmmmmmmm', 'mmmmmmmmmmmm', 'mmmmmmmthey', 'mn', 'mnf', 'mni', 'mo', 'moan', 'mob', 'mobil', 'mocchiato', 'mocha', 'mochi', 'mock', 'mockingli', 'moco', 'mode', 'model', 'modelo', 'moder', 'modern', 'modest', 'modestli', 'modif', 'modifi', 'moescow', 'mohawk', 'moist', 'moister', 'moistest', 'moistur', 'mojiot', 'mojito', 'mojitoi', 'mojo', 'mojosmayb', 'molar', 'molass', 'mold', 'moldi', 'mole', 'molet', 'moli', 'molino', 'molli', 'molot', 'molten', 'mom', 'moment', 'momenttri', 'momentum', 'momma', 'mommi', 'mompop', 'mon', 'monarch', 'monday', 'mondayseven', 'money', 'moneygrub', 'moneythen', 'monfri', 'mongolian', 'monitor', 'monk', 'monkey', 'mono', 'monoton', 'monro', 'monsat', 'monsieuror', 'monsoon', 'monster', 'monstros', 'monstrou', 'mont', 'montelucia', 'montenegro', 'monterey', 'monterrey', 'month', 'monthbut', 'monthi', 'monthli', 'monti', 'monton', 'montu', 'monument', 'moo', 'mood', 'moodi', 'moon', 'moonlight', 'moor', 'mop', 'moral', 'moray', 'morbidli', 'mordida', 'moreour', 'moreov', 'moreso', 'moreth', 'morgan', 'mormon', 'morn', 'moroccan', 'moron', 'morph', 'morristown', 'mors', 'morsel', 'mortadella', 'morton', 'moscow', 'mosear', 'moss', 'mostli', 'motel', 'mother', 'motherf', 'motherfk', 'motherinlaw', 'motion', 'motiv', 'moto', 'motor', 'motorcycl', 'motorpestl', 'mound', 'mount', 'mountain', 'mourn', 'mous', 'mouss', 'mouth', 'mouthfeel', 'mouthit', 'mouthwat', 'move', 'movement', 'mover', 'movi', 'moviego', 'mower', 'mozarella', 'mozz', 'mozza', 'mozzarella', 'mozzarellacibo', 'mozzarellaparma', 'mpl', 'mr', 'mrhardtopleas', 'mrlynn', 'ms', 'msg', 'mtg', 'mtn', 'mu', 'muaaah', 'muay', 'much', 'mucho', 'mudd', 'muddl', 'mudslid', 'muerto', 'muffin', 'muffinsbeyond', 'muffler', 'mug', 'muggi', 'mule', 'mull', 'mullet', 'multi', 'multicours', 'multicultur', 'multidimension', 'multifourfoot', 'multigrain', 'multipl', 'multiplex', 'multipli', 'multitud', 'mum', 'mumbl', 'munch', 'munchen', 'munchi', 'mundan', 'munich', 'municip', 'muppet', 'mural', 'murder', 'murderesqu', 'murmur', 'murphi', 'murray', 'musac', 'muscl', 'muse', 'museum', 'museumequ', 'mush', 'mushi', 'mushiest', 'mushrom', 'mushroom', 'mushroomssometh', 'mushroomstoday', 'mushroomswiss', 'mushu', 'music', 'musiccdvinyldvdus', 'musician', 'musicit', 'musket', 'musscl', 'mussel', 'must', 'mustachesonastick', 'mustachio', 'mustard', 'mustdo', 'muster', 'mustord', 'mustreturn', 'musttri', 'mustv', 'mustvisit', 'musubi', 'mutant', 'mutat', 'mute', 'mutil', 'mutt', 'mutter', 'mutton', 'mvp', 'mylissa', 'myriad', 'myselfi', 'myselfit', 'myspac', 'mysteri', 'mystifi', 'mystiqu', 'myth', 'mytholog', 'n', 'na', 'naaaaah', 'naan', 'nacho', 'nachosthi', 'nada', 'nadia', 'nadya', 'naengmyeon', 'nag', 'nail', 'nailridden', 'nailsjimmi', 'nair', 'nak', 'nake', 'nam', 'namast', 'name', 'namecal', 'nametag', 'nami', 'nan', 'nanci', 'nando', 'nanni', 'naot', 'nap', 'napa', 'napful', 'napkin', 'napoleon', 'napolitano', 'narcissist', 'narcisst', 'narrow', 'nascar', 'nasti', 'nastili', 'natal', 'natali', 'natcher', 'nate', 'nathan', 'nation', 'nationwid', 'nationworld', 'nativ', 'natur', 'naturopath', 'naturopathbut', 'natzi', 'nau', 'nausea', 'nauseou', 'nautilu', 'navajo', 'navi', 'navig', 'nay', 'nazi', 'nba', 'nc', 'nchees', 'ncounter', 'nd', 'ne', 'near', 'nearbi', 'nearbrand', 'nearest', 'nearfight', 'nearli', 'nearperfect', 'neat', 'neatli', 'nebbiolo', 'nebraska', 'nebraskabut', 'necess', 'necessari', 'necessarili', 'necessit', 'neck', 'necklac', 'nectar', 'nectarin', 'need', 'needand', 'needi', 'needl', 'needless', 'neednt', 'neesd', 'nefari', 'neg', 'negat', 'neglect', 'negra', 'negress', 'neighbor', 'neighborbut', 'neighborhood', 'neighborhoodsam', 'neiman', 'neither', 'nello', 'nengmyun', 'neo', 'neon', 'neosprin', 'nephew', 'nerd', 'nerdi', 'nervewrack', 'nervou', 'nespresso', 'nest', 'nestl', 'net', 'netflix', 'network', 'networkwir', 'neuter', 'nevada', 'never', 'neverend', 'nevertheless', 'neverwatereddown', 'new', 'newark', 'newbi', 'newborn', 'newcom', 'newer', 'newest', 'newland', 'newli', 'newman', 'newport', 'news', 'newshour', 'newslett', 'newson', 'newspap', 'newsth', 'newyork', 'next', 'nfl', 'ngd', 'ngoc', 'nh', 'nhat', 'nhra', 'nib', 'nibbl', 'niblet', 'nice', 'nicefriendli', 'nicei', 'nicer', 'niceso', 'nicest', 'nicestlook', 'niceth', 'nich', 'nick', 'nickel', 'nickl', 'nicknam', 'nicnac', 'nicois', 'nicol', 'niec', 'nieceal', 'nieman', 'nigeri', 'night', 'nightand', 'nightbas', 'nightcap', 'nightclub', 'nighter', 'nighti', 'nightif', 'nightli', 'nightlif', 'nightmar', 'nightsaturday', 'nightsmondayand', 'nightsound', 'nigiri', 'nigirisashimi', 'niglig', 'nigth', 'niiiic', 'nike', 'nikejust', 'nikki', 'nikolai', 'nikon', 'nile', 'nilli', 'niman', 'nina', 'nine', 'nineteen', 'ninja', 'nippl', 'nippon', 'niro', 'nirvana', 'nit', 'nita', 'nite', 'nitpick', 'nitri', 'nj', 'njni', 'nl', 'nnear', 'nob', 'nobl', 'noblewhich', 'nobodi', 'nobodyand', 'nobuo', 'noca', 'noch', 'nocturn', 'nod', 'nodo', 'noel', 'nog', 'nogal', 'noi', 'noir', 'nois', 'noiseloud', 'noisey', 'noisi', 'noisyquiet', 'nokid', 'nokil', 'nom', 'nomin', 'nomine', 'nomorestudyingatcoffeeshopsduringdinn', 'non', 'nonacrimoni', 'nonalcohol', 'nonamerican', 'noncaffein', 'noncash', 'nonchain', 'nonclean', 'nondescript', 'nondispos', 'nondistinct', 'none', 'nonenthusiast', 'nonetheless', 'nonexist', 'nonfat', 'nongf', 'nongreek', 'nonhelp', 'nonholiday', 'nonindian', 'nonjudgment', 'nonmainstream', 'nonmeat', 'nonmidfirst', 'nonna', 'nononsens', 'nonphoenixmetro', 'nonpizzeria', 'nonprescript', 'nonprofit', 'nonread', 'nonresid', 'nonscottsdaley', 'nonsens', 'nonservic', 'nonsouth', 'nonspecif', 'nonstop', 'nonstopawesom', 'nonsushi', 'nontradit', 'nonvegan', 'nonvegetarian', 'noodl', 'noodlesth', 'nook', 'noon', 'noooo', 'noooooooo', 'nooooooooo', 'nopalito', 'nope', 'nordi', 'nordiqu', 'nordstrom', 'norm', 'normal', 'normalci', 'norman', 'normandi', 'nortena', 'norterra', 'north', 'northeast', 'northern', 'northernnortheast', 'northwest', 'norton', 'nose', 'nosh', 'nosi', 'nostalg', 'nostalgia', 'nostril', 'notabl', 'notari', 'notch', 'note', 'notethi', 'noth', 'notic', 'noticebut', 'notifi', 'notori', 'notoverlysauc', 'notsoglamor', 'notsoshini', 'nott', 'nough', 'nourish', 'nouvel', 'nov', 'nova', 'novel', 'novelti', 'novemb', 'novic', 'novl', 'nowaday', 'nowbut', 'nowcrav', 'nowher', 'nowstay', 'noy', 'nozzl', 'np', 'nsa', 'nt', 'ntn', 'nude', 'nueva', 'nuff', 'nugget', 'nuke', 'nulaid', 'numb', 'number', 'numer', 'numero', 'nun', 'nung', 'nuong', 'nurs', 'nurseri', 'nurtur', 'nut', 'nutcrack', 'nuteila', 'nutella', 'nutjob', 'nutmeg', 'nutrit', 'nutriti', 'nutsack', 'nutsanyth', 'nutshel', 'nuttycrunchi', 'nuvi', 'nw', 'nwash', 'nwohio', 'ny', 'nyc', 'nypd', 'oahu', 'oak', 'oakland', 'oakvil', 'oasi', 'oatmeal', 'oaxaca', 'ob', 'obama', 'obes', 'obgyn', 'object', 'oblig', 'obligatori', 'obliqu', 'oblivion', 'obnoxi', 'obrien', 'obscen', 'obscur', 'observ', 'obsess', 'obstin', 'obstruct', 'obtain', 'obviou', 'obvious', 'occas', 'occasion', 'occass', 'occupi', 'occur', 'ocd', 'ocean', 'oclock', 'ocotillo', 'oct', 'octav', 'octob', 'octomom', 'octopu', 'odd', 'odditi', 'oddli', 'odinian', 'odom', 'odonnel', 'odor', 'odyssey', 'offagain', 'offend', 'offens', 'offer', 'offeveri', 'offhour', 'offic', 'offici', 'offseason', 'offthen', 'offwhit', 'offyou', 'oft', 'often', 'oftentim', 'ofth', 'ofthemo', 'oggi', 'ogl', 'oh', 'ohand', 'ohhh', 'ohhhhkay', 'ohi', 'ohio', 'ohlala', 'ohso', 'ohsochivalr', 'ohsogood', 'ohth', 'oil', 'oili', 'oiliest', 'oink', 'oj', 'ok', 'okaaaaay', 'okay', 'okayfollow', 'okayi', 'okaytalk', 'okbut', 'oki', 'okish', 'oklahoma', 'okra', 'okso', 'oktoberfest', 'ol', 'old', 'older', 'oldest', 'oldfashion', 'oldi', 'oldish', 'oldschool', 'oldsmobuick', 'oldstyl', 'oldtimey', 'ole', 'oleand', 'oli', 'oliv', 'olivesther', 'olivo', 'olli', 'olymp', 'olympia', 'omakas', 'omelet', 'omelett', 'omellet', 'omelt', 'omfg', 'omg', 'omghand', 'omgheaven', 'ominvor', 'omit', 'omlett', 'omnivor', 'omt', 'onand', 'onbecaus', 'onceand', 'oncethey', 'one', 'oneand', 'oneget', 'onehalf', 'onehop', 'onehundr', 'oneim', 'onekeep', 'oneofakind', 'oneofakindit', 'oneonon', 'oneperhap', 'oneplu', 'oneso', 'onestar', 'onestop', 'onesw', 'onethey', 'onetim', 'oneway', 'ongo', 'oni', 'onioin', 'onion', 'onionssom', 'onionwhich', 'onlin', 'onlook', 'onlythey', 'ono', 'onset', 'onsinc', 'onsit', 'onslaught', 'onstar', 'onthi', 'ontim', 'onto', 'onyouv', 'oo', 'oodl', 'ooey', 'ooeygooey', 'ooh', 'oooh', 'ooooh', 'oooohhhh', 'oooooooo', 'ooooowwweee', 'oop', 'oopssometim', 'ooz', 'op', 'opear', 'opelousa', 'open', 'openair', 'openbox', 'openclos', 'openfac', 'openi', 'openingclos', 'openli', 'opent', 'oper', 'opera', 'opi', 'opinion', 'oppinion', 'opportun', 'oppos', 'opposit', 'oppress', 'oprah', 'opt', 'optic', 'optician', 'optim', 'option', 'opto', 'opu', 'opul', 'oral', 'orang', 'orangecello', 'orangehead', 'orangewood', 'orchard', 'orchata', 'orchestr', 'orchestra', 'orchid', 'ord', 'ordeal', 'order', 'orderli', 'orderright', 'orderw', 'ordinari', 'ordinarili', 'ordr', 'orecchiett', 'oreganata', 'oregano', 'oreganympho', 'oregon', 'oregonian', 'oreo', 'organ', 'organical', 'orgasm', 'orgi', 'orient', 'orig', 'origin', 'oriva', 'orlando', 'orlean', 'orleanscajun', 'orleansseri', 'ornament', 'ornat', 'orthodonitc', 'orthodont', 'orthodontist', 'orthoped', 'orvieto', 'orzo', 'oscar', 'osco', 'osetra', 'osf', 'osp', 'osso', 'ostentati', 'osteopath', 'oster', 'osu', 'osullivan', 'ot', 'otaku', 'otb', 'otfm', 'other', 'othersbut', 'otherwis', 'otoro', 'ouch', 'ouchhmi', 'ought', 'ounc', 'out', 'outagain', 'outal', 'outandback', 'outbluesman', 'outburst', 'outclass', 'outcom', 'outdat', 'outdoor', 'outdoorfac', 'outdoorindoor', 'outer', 'outfield', 'outfit', 'outfitt', 'outfront', 'outgo', 'outgrow', 'outgrowth', 'outi', 'outing', 'outlast', 'outlet', 'outli', 'outlook', 'outnot', 'outnumb', 'outofpocket', 'outofthefreezerbag', 'outofthisworld', 'outoftown', 'outrag', 'outreach', 'outrigg', 'outright', 'outshin', 'outsid', 'outsidedont', 'outsideinsid', 'outsideperfect', 'outsourc', 'outstand', 'outstandingsh', 'outstretch', 'outta', 'outthey', 'outweigh', 'oven', 'ovenroast', 'over', 'overal', 'overbear', 'overboard', 'overbook', 'overcharg', 'overcom', 'overcompens', 'overcook', 'overcrowd', 'overdo', 'overdon', 'overdu', 'overflow', 'overfri', 'overgrown', 'overh', 'overhaul', 'overhead', 'overhear', 'overheard', 'overheat', 'overindulg', 'overli', 'overload', 'overlook', 'overloom', 'overlysweati', 'overmicrowav', 'overnight', 'overpow', 'overpr', 'overpric', 'overr', 'overrod', 'overrun', 'overs', 'oversalt', 'overse', 'oversea', 'oversel', 'overshadow', 'oversold', 'overspend', 'overstuf', 'overstuff', 'overtal', 'overthetop', 'overtim', 'overus', 'overview', 'overweight', 'overwhelm', 'overwhelmingli', 'overwhem', 'overwork', 'overzeal', 'ovoid', 'owe', 'owen', 'owl', 'own', 'owner', 'ownerchef', 'ownerdriven', 'ownermanag', 'ownerproprietress', 'ownerscook', 'ownership', 'ownersstaff', 'ownreal', 'oxbow', 'oxid', 'oxtail', 'oy', 'oye', 'oyster', 'oz', 'p', 'p2', 'p3', 'p90x', 'pa', 'pablo', 'pac', 'pace', 'pacif', 'pacifi', 'pacifico', 'pack', 'packag', 'packedand', 'packet', 'pad', 'paddi', 'paddl', 'padi', 'padr', 'paella', 'page', 'pagliacci', 'paid', 'pain', 'painless', 'painstak', 'paint', 'painter', 'pair', 'pajama', 'pakistani', 'pal', 'palabok', 'palac', 'palak', 'palat', 'palatt', 'palc', 'pale', 'paleo', 'paleta', 'palett', 'pallet', 'palm', 'palmer', 'palmsiz', 'palomar', 'palpabl', 'paltri', 'pamper', 'pan', 'pana', 'panang', 'pancak', 'pancetta', 'pancho', 'pancit', 'pancreat', 'panda', 'pane', 'paneer', 'panel', 'panelingt', 'panera', 'panfri', 'pani', 'panic', 'panini', 'panko', 'panna', 'panoram', 'pansear', 'pansi', 'pant', 'pantaloon', 'panti', 'pantri', 'pao', 'paola', 'papa', 'papago', 'papaya', 'papdi', 'paper', 'paperback', 'paperbath', 'paperthin', 'paperwork', 'papgo', 'pappa', 'pappadeaux', 'pappardel', 'paprika', 'par', 'parachut', 'parad', 'paradis', 'paragraph', 'paramount', 'paraphenalia', 'paraphernalia', 'paraphras', 'parasit', 'parasitefre', 'parcel', 'parch', 'pardon', 'parent', 'parfait', 'pari', 'parilla', 'parish', 'pariswith', 'park', 'parka', 'parkandrid', 'parker', 'parkeven', 'parksport', 'parkway', 'parlor', 'parm', 'parma', 'parmagian', 'parmagiana', 'parmesan', 'parmesean', 'parmigiano', 'paroos', 'parsley', 'parsnip', 'part', 'partak', 'parti', 'partial', 'particip', 'particuarli', 'particular', 'particularli', 'partner', 'partnership', 'partsromant', 'pasedena', 'pasena', 'paso', 'pasqual', 'pass', 'passabl', 'passageway', 'passeng', 'passerbi', 'passion', 'passionfruit', 'passiv', 'passport', 'past', 'pasta', 'pastabar', 'pasti', 'pastor', 'pastrami', 'pastri', 'pastthank', 'pastur', 'pat', 'patata', 'patch', 'patchouli', 'path', 'pathand', 'pathet', 'pathway', 'patienc', 'patient', 'patio', 'patioa', 'patiobecaus', 'patisseri', 'patisseriebakeri', 'patrick', 'patrol', 'patron', 'patronag', 'patronagemexican', 'patronsprob', 'pattern', 'patterson', 'patti', 'paul', 'paula', 'paulgstudiocom', 'pauli', 'paus', 'pave', 'pavilion', 'pavillion', 'pavl', 'pavlov', 'pavlovian', 'paw', 'pawn', 'pay', 'payard', 'payatthepump', 'paycheck', 'payday', 'payingand', 'payingshuck', 'payment', 'payoff', 'payton', 'pazooki', 'pb', 'pbj', 'pbr', 'pc', 'pcg', 'pd', 'pea', 'peaberri', 'peac', 'peacemak', 'peach', 'peachblood', 'peak', 'peanut', 'peanutbutt', 'peanutti', 'pear', 'pearl', 'pearli', 'peasi', 'pebbl', 'pecan', 'pecanfig', 'pechuga', 'pecorino', 'pedal', 'peddl', 'pedestrian', 'pedi', 'pediatr', 'pediatrician', 'pedic', 'pedicur', 'pedicuremanicur', 'pedigre', 'pedreg', 'pee', 'peebl', 'peed', 'peek', 'peekaboo', 'peel', 'peep', 'peer', 'peerpressur', 'peev', 'peggi', 'pei', 'peke', 'pellchck', 'pellet', 'pelo', 'pelon', 'pen', 'penal', 'penalti', 'penaltiesmass', 'penang', 'pencil', 'pendant', 'pendemum', 'penetr', 'penh', 'peni', 'penn', 'pennant', 'penni', 'penzey', 'peol', 'peolpl', 'peopl', 'peopleth', 'peoplethank', 'peoplewatch', 'peoria', 'pepita', 'pepl', 'pepper', 'peppercorn', 'pepperi', 'peppermint', 'peppermr', 'pepperocini', 'pepperoni', 'pepperysweet', 'pepsi', 'per', 'percent', 'percent25', 'percentag', 'percept', 'perch', 'perchanc', 'perfect', 'perfectionist', 'perfectli', 'perfectlli', 'perfecto', 'perform', 'perfum', 'perhap', 'perimet', 'period', 'peripher', 'perk', 'perki', 'perman', 'permiss', 'permit', 'permut', 'pernil', 'peroxid', 'perplex', 'perpperoni', 'perrier', 'persev', 'persian', 'persist', 'person', 'personal', 'personali', 'personalityveri', 'personchristin', 'personifi', 'personnel', 'perspect', 'persuas', 'pertain', 'perturb', 'perus', 'peruvian', 'pervert', 'pescatarian', 'peski', 'pest', 'pester', 'pesticid', 'pesto', 'pet', 'petal', 'petco', 'pete', 'petello', 'peter', 'petfriendli', 'petit', 'petrifi', 'petshotel', 'petsit', 'petsitt', 'petsmart', 'petti', 'petticoat', 'pew', 'pf', 'pfd', 'pga', 'phad', 'phadseeew', 'pharmaci', 'pharmacist', 'phase', 'phenom', 'phenomen', 'phhighli', 'phil', 'philadelphia', 'philip', 'philippin', 'philli', 'phillo', 'philosoph', 'philosophi', 'phish', 'phlegm', 'phnom', 'pho', 'phobia', 'phoenicia', 'phoenician', 'phoenix', 'phoenixgo', 'phoenixi', 'phoenixish', 'phoenixmetro', 'phoenixscottsdal', 'phoeniz', 'phojoint', 'phok', 'phone', 'phoneipad', 'phoneix', 'phonet', 'phoni', 'phonomen', 'phoreal', 'photo', 'photograph', 'photographi', 'photomark', 'photomart', 'photoshoot', 'photoshop', 'phoyuck', 'phrase', 'phuket', 'phx', 'phxpay', 'phyllo', 'physic', 'physician', 'physicmedium', 'pi', 'piaggion', 'piano', 'piatto', 'piazza', 'pibb', 'pibil', 'pic', 'picazzo', 'piccola', 'pick', 'picki', 'pickiest', 'pickl', 'pickledpreserv', 'pickthekidsup', 'pickup', 'pickyeat', 'pickypicki', 'picnic', 'pico', 'pictur', 'pictureperfect', 'picturesqu', 'pie', 'piec', 'piecesyoung', 'piecesyummm', 'piedmont', 'pier', 'pierc', 'pierr', 'pierrend', 'piestewa', 'pig', 'pigg', 'piggi', 'pike', 'pil', 'pilat', 'pile', 'pilgrim', 'pilgrimag', 'pillag', 'pillow', 'pillowi', 'pilot', 'pilsner', 'pima', 'pimm', 'pimp', 'pimpercrombi', 'pin', 'pina', 'pinafor', 'pinappl', 'pinata', 'pinbal', 'pinch', 'pine', 'pineappl', 'pineappleperfect', 'ping', 'pinguino', 'pink', 'pinkey', 'pinko', 'pinnacl', 'pinner', 'pinot', 'pinpoint', 'pint', 'pinto', 'pip', 'pipe', 'piper', 'piqu', 'pirat', 'pischk', 'piss', 'pistachio', 'pistol', 'pit', 'pita', 'pitaoh', 'pitch', 'pitcher', 'piti', 'pitt', 'pittsburgh', 'pivot', 'pixi', 'pizza', 'pizzaametro', 'pizzaguacamol', 'pizzait', 'pizzaria', 'pizzasthi', 'pizzathi', 'pizzaw', 'pizzazz', 'pizzeria', 'pizzooki', 'piã', 'pj', 'pjl', 'pkh', 'placard', 'place', 'placeand', 'placebo', 'placec', 'placefun', 'placeit', 'placement', 'placeso', 'placeth', 'placew', 'plagu', 'plain', 'plainli', 'plaintain', 'plaintast', 'plan', 'planb', 'plane', 'planet', 'plank', 'planner', 'plant', 'plantain', 'plantar', 'plantat', 'plantbas', 'plantstre', 'plaqu', 'plasma', 'plaster', 'plastic', 'plasticwar', 'plasticwarepl', 'plate', 'platesplit', 'platesw', 'platewond', 'platform', 'platinum', 'platon', 'platter', 'play', 'playabl', 'playedkinda', 'player', 'playerwho', 'playground', 'playingand', 'playingpet', 'playlist', 'plaza', 'plea', 'pleas', 'pleasant', 'pleasanti', 'pleasantli', 'pleasent', 'pleasur', 'pleather', 'pleeeaaasss', 'plenti', 'plesant', 'plethor', 'plethora', 'plexiglass', 'pley', 'pleydat', 'plight', 'plinko', 'plinkoesqu', 'pllleeeeaaaassseeeee', 'ploenta', 'plop', 'plu', 'pluck', 'plug', 'plum', 'plumb', 'plumber', 'plump', 'plung', 'plunk', 'pluse', 'plush', 'pm', 'pmg', 'pnp', 'pnuemonia', 'po', 'poach', 'poblana', 'poblano', 'poboy', 'poca', 'pocket', 'pod', 'poetic', 'point', 'pointi', 'pointless', 'pois', 'poison', 'poivr', 'poke', 'poker', 'pole', 'polenta', 'polestar', 'polic', 'polici', 'policia', 'polish', 'polishcentr', 'polit', 'politician', 'polka', 'pollack', 'pollo', 'polo', 'polytechn', 'pom', 'pome', 'pomegran', 'pomo', 'pompou', 'poncho', 'pond', 'ponder', 'pong', 'poni', 'pontiac', 'ponzu', 'pooch', 'poodl', 'pooey', 'pool', 'poolal', 'poolsid', 'poop', 'poopypick', 'poor', 'poorer', 'poorli', 'pop', 'popashot', 'popcorn', 'popcorn3', 'popo', 'popper', 'poppi', 'popul', 'popular', 'porch', 'porchetta', 'porcini', 'pore', 'pork', 'porkless', 'porn', 'porridg', 'port', 'portabella', 'portabello', 'porter', 'portfolio', 'portion', 'portionspricey', 'portland', 'portlandia', 'portli', 'porto', 'portobello', 'portrait', 'portugues', 'pose', 'poser', 'posh', 'poshswank', 'posit', 'posol', 'possess', 'possibl', 'possiblei', 'post', 'postcard', 'poster', 'posti', 'postino', 'postinosam', 'postnet', 'postprandi', 'postur', 'posturenot', 'pot', 'potato', 'potatoesa', 'potatoesamaz', 'potbelli', 'potenc', 'potent', 'potenti', 'pothol', 'potholderoven', 'potion', 'potpourri', 'potstick', 'potteri', 'potting', 'poultri', 'pound', 'pour', 'pourov', 'poutin', 'pow', 'powder', 'powderi', 'power', 'pp', 'ppl', 'ppp', 'pr', 'practic', 'practicemean', 'prada', 'prais', 'praisedmostli', 'pranc', 'prank', 'prawn', 'pray', 'prayer', 'pre', 'preach', 'preair', 'prebread', 'precariouslyand', 'preced', 'preciou', 'precis', 'precoc', 'precutcouldnt', 'predat', 'predatorsg', 'predica', 'predict', 'predinn', 'predispos', 'predomin', 'predominantli', 'preemin', 'preet', 'prefabr', 'prefac', 'prefect', 'prefectur', 'prefer', 'preferencesand', 'preferw', 'prefix', 'preform', 'pregam', 'pregnanc', 'pregnant', 'prego', 'prelud', 'premad', 'premeal', 'prement', 'premier', 'premis', 'premium', 'premiumhealthiest', 'prempro', 'preoccupi', 'preorder', 'prep', 'prepackag', 'prepaid', 'prepar', 'preparada', 'prepay', 'preper', 'preplex', 'preprep', 'preprepar', 'preprocess', 'preregistr', 'prerequisit', 'prereserv', 'preschool', 'prescrib', 'prescript', 'presenc', 'present', 'preserv', 'preset', 'presid', 'presidenti', 'presold', 'press', 'pressur', 'prestig', 'prestigi', 'presto', 'presum', 'preteen', 'pretend', 'pretens', 'pretenti', 'prethanksgiv', 'pretsel', 'pretti', 'prettier', 'prettiest', 'pretzel', 'prevent', 'preview', 'previou', 'previous', 'preyelp', 'preystrateg', 'pri', 'price', 'pricehow', 'priceit', 'priceless', 'pricelin', 'pricemi', 'pricepackag', 'pricesand', 'pricesaverag', 'pricescarl', 'priceseven', 'pricesit', 'pricew', 'pricewel', 'pricewis', 'pricey', 'priceya', 'priceybut', 'prici', 'pricier', 'pricingdoenst', 'prick', 'prickli', 'pride', 'prik', 'primari', 'primarili', 'primavera', 'prime', 'primer', 'primera', 'primit', 'primo', 'primp', 'princ', 'princess', 'principl', 'print', 'printer', 'prior', 'prioriti', 'prison', 'pristin', 'privaci', 'privat', 'priveledg', 'priveleg', 'privi', 'priviledg', 'prix', 'prixfix', 'prize', 'pro', 'proactiv', 'prob', 'probabl', 'probalbi', 'probe', 'problem', 'problemat', 'proce', 'procedur', 'procedurewhat', 'proceed', 'process', 'proclaim', 'procur', 'prod', 'produc', 'product', 'productchip', 'productgo', 'profan', 'profesh', 'profesion', 'profess', 'profession', 'professor', 'profil', 'profit', 'profiterol', 'profitmark', 'profoundli', 'profus', 'program', 'programm', 'progress', 'prohibit', 'project', 'prolli', 'prom', 'promin', 'promis', 'promiscu', 'promisether', 'promo', 'promot', 'prompt', 'promptli', 'pronounc', 'pronto', 'pronunci', 'proof', 'prop', 'propan', 'proper', 'properli', 'properti', 'proport', 'propos', 'proprietor', 'prorat', 'prosciutto', 'prosciuttoparmigiano', 'proscuitto', 'prosecco', 'prospect', 'prosper', 'protect', 'protein', 'protip', 'protocol', 'protã', 'proud', 'proudli', 'prove', 'proven', 'provenc', 'proverbi', 'provid', 'provinc', 'provis', 'provision', 'provolon', 'prowl', 'proxi', 'proxim', 'ps', 'pseudo', 'pseudod', 'pseudohipst', 'psguy', 'psthey', 'psych', 'psycho', 'psycholog', 'psychologistmentorbutt', 'pub', 'pube', 'public', 'publiclyunderwritten', 'publicservic', 'publish', 'publix', 'puck', 'pud', 'puddl', 'pudg', 'pueblo', 'puerto', 'puf', 'puff', 'puffi', 'pug', 'puka', 'puke', 'pull', 'pullman', 'pulp', 'pulsat', 'pulver', 'puma', 'pump', 'pumpernickel', 'pumpernickelgolden', 'pumpkin', 'pun', 'punch', 'punchcard', 'punctual', 'punctuat', 'punctur', 'pungent', 'punish', 'punjabi', 'punk', 'puntini', 'pup', 'pupcak', 'puppet', 'puppi', 'puppyhyp', 'pupu', 'pupusa', 'purchas', 'purchasingupgrad', 'pure', 'purel', 'puri', 'purist', 'purista', 'purpl', 'purpleorang', 'purpos', 'purposenot', 'purs', 'pursu', 'pursuit', 'purveyor', 'purã', 'push', 'pushi', 'pushup', 'pussi', 'pussycat', 'put', 'puter', 'putrid', 'putt', 'puttanesca', 'puttanesco', 'puzzl', 'pv', 'pveah', 'pyllo', 'pyramid', 'q', 'qc', 'qdoba', 'qhick', 'qs', 'qt', 'quack', 'quail', 'quaint', 'qualifi', 'qualiti', 'qualm', 'quandari', 'quantiti', 'quarter', 'quarters', 'quartsiz', 'quebec', 'queen', 'queer', 'quench', 'quesadilla', 'quesadlla', 'quesedilla', 'quesiton', 'queso', 'quesoguacamol', 'quest', 'question', 'questionsi', 'queue', 'quibbl', 'quich', 'quick', 'quicken', 'quicker', 'quickest', 'quickli', 'quiessenc', 'quiet', 'quieter', 'quietli', 'quiktrip', 'quinc', 'quinoa', 'quintessenti', 'quiona', 'quirk', 'quirki', 'quirkili', 'quit', 'quiver', 'quizno', 'quorn', 'quot', 'quota', 'qverpric', 'qwest', 'r', 'ra', 'rabbit', 'rabe', 'rabi', 'rabit', 'race', 'racett', 'raceway', 'rachael', 'rachel', 'racial', 'racism', 'rack', 'rackin', 'racquet', 'rad', 'radar', 'radiat', 'radio', 'radish', 'radiu', 'raffl', 'raft', 'rafter', 'rag', 'rage', 'rager', 'ragey', 'ragin', 'ragout', 'rai', 'rail', 'railroad', 'rain', 'rainbow', 'rainforest', 'raini', 'raintre', 'rais', 'raisin', 'raj', 'rake', 'ralph', 'rama', 'ramada', 'rambl', 'rambutan', 'ramen', 'ramikan', 'ramirez', 'ramiro', 'ran', 'rana', 'ranch', 'ranchera', 'ranchero', 'rancid', 'rancilio', 'randi', 'random', 'randomli', 'rang', 'rangoon', 'rank', 'ransack', 'ransom', 'rant', 'rap', 'rapid', 'rapper', 'rare', 'rareplu', 'rarer', 'rariti', 'rasberri', 'raspadotostito', 'raspberri', 'rat', 'ratatouilli', 'rate', 'rather', 'ratio', 'ration', 'ratpack', 'ratsqirrel', 'ratti', 'rattl', 'raucou', 'raunchi', 'ravag', 'rave', 'raven', 'ravioli', 'raviolli', 'raw', 'rawk', 'rawr', 'ray', 'razor', 'razpado', 'rb', 'rbar', 'rbc', 'rc', 'rcvd', 'rd', 'rdh', 'reaaaaalli', 'reach', 'reachabl', 'react', 'reaction', 'read', 'reader', 'readi', 'readili', 'real', 'realdeal', 'realist', 'realiti', 'realiz', 'realli', 'reallli', 'reallllllli', 'realllllllli', 'reallyreallysmart', 'reallyy', 'realrid', 'realryd', 'realti', 'realtor', 'ream', 'reappear', 'reappli', 'rear', 'reason', 'reasonablethey', 'reasonit', 'reassur', 'rebat', 'rebecca', 'rebel', 'rebook', 'rebuild', 'rebutt', 'rec', 'recal', 'recant', 'recap', 'recaptur', 'reccomend', 'reccommend', 'receipt', 'receiptschang', 'receiv', 'recent', 'recept', 'receptacl', 'receptionist', 'recess', 'recharg', 'reciept', 'reciev', 'recip', 'recipei', 'recit', 'recker', 'reclin', 'recogn', 'recognit', 'recomend', 'recommend', 'recompens', 'recongn', 'record', 'recov', 'recoveri', 'recreat', 'recruit', 'rectifi', 'recycl', 'red', 'redbul', 'redchili', 'reddest', 'reddrench', 'reddwarf', 'redecor', 'redeem', 'redefin', 'redempt', 'redicolu', 'redicul', 'redid', 'redneck', 'redo', 'redon', 'redseven', 'reduc', 'reduct', 'redux', 'reeeealli', 'reef', 'reek', 'reel', 'rees', 'reesesy', 'refer', 'referenc', 'referr', 'refil', 'refillpleas', 'refillsalway', 'refin', 'reflect', 'reflex', 'reflux', 'refreez', 'refresh', 'refri', 'refriger', 'refuel', 'refug', 'refuge', 'refund', 'refus', 'reg', 'regal', 'reganera', 'regard', 'regardless', 'reggiano', 'regina', 'regio', 'region', 'regist', 'registri', 'regoddamndicul', 'regress', 'regret', 'regrett', 'regu', 'regul', 'regular', 'regularli', 'regularsjust', 'regularsonc', 'regulatori', 'rehears', 'reheat', 'rehook', 'rehydr', 'reimagin', 'reimburs', 'reina', 'reincarn', 'reinforc', 'reinstal', 'reintroduc', 'reinvest', 'reiter', 'reject', 'rejoic', 'rejuvan', 'rejuven', 'rel', 'relat', 'relationship', 'relax', 'relaxedgreat', 'relaxth', 'relay', 'relearn', 'releas', 'relent', 'relev', 'reli', 'reliabl', 'relianc', 'relic', 'relief', 'reliev', 'religi', 'religion', 'relish', 'relishomg', 'reliv', 'rellano', 'rellena', 'relleno', 'reloc', 'reluct', 'reluctantli', 'remain', 'remaind', 'remak', 'remark', 'remedi', 'rememb', 'remind', 'reminisc', 'remiss', 'remodel', 'remodl', 'remold', 'remors', 'remot', 'remotecontrol', 'remov', 'renaiss', 'renam', 'render', 'renegad', 'renew', 'reno', 'renov', 'rent', 'rental', 'renter', 'reopen', 'reorder', 'rep', 'repair', 'repairsclean', 'reparte', 'repast', 'repeat', 'repeatedli', 'repetit', 'rephras', 'replac', 'replacedfor', 'replant', 'replenish', 'repli', 'replica', 'report', 'repot', 'repres', 'represent', 'repriev', 'reprint', 'reprogram', 'reptil', 'republ', 'republican', 'repuls', 'repurpos', 'reput', 'req', 'request', 'requir', 'reschedul', 'rescu', 'rescueaft', 'research', 'researchor', 'reseat', 'resel', 'resembl', 'reserv', 'reservationthat', 'resid', 'residenti', 'residu', 'residueand', 'resist', 'resl', 'resold', 'resolv', 'reson', 'resort', 'resortour', 'resortspa', 'resourc', 'respect', 'respond', 'respons', 'rest', 'restaraunt', 'restauant', 'restaur', 'restaurantbar', 'restaurantcom', 'restaurantcrush', 'restaurantgo', 'restaurateur', 'resteraunt', 'restless', 'resto', 'restock', 'restor', 'restrict', 'restroom', 'restuar', 'restur', 'resturaunt', 'result', 'retail', 'retain', 'retard', 'retart', 'retent', 'rethink', 'retir', 'retire', 'retort', 'retrain', 'retreat', 'retriev', 'retrievedbak', 'retro', 'retrospect', 'retrovintag', 'return', 'reuben', 'reunion', 'reusabl', 'revamp', 'reveal', 'revel', 'reveng', 'revenu', 'rever', 'revers', 'review', 'reviewbut', 'reviewsth', 'reviewth', 'reviewthey', 'revisit', 'revit', 'reviv', 'reviw', 'revolt', 'revolv', 'reward', 'rewind', 'rey', 'reynold', 'rhino', 'rhonda', 'rhone', 'rhyme', 'rhythm', 'rhythmic', 'rib', 'ribbon', 'ribeeyeeee', 'ribey', 'rican', 'rice', 'ricebas', 'ricehigh', 'ricespici', 'rich', 'richard', 'richardson', 'richardsonsrokerij', 'richest', 'richman', 'richmond', 'rick', 'rico', 'ricotta', 'rid', 'riddanc', 'ridden', 'riddl', 'ride', 'rider', 'ridg', 'ridgemont', 'ridicul', 'riesl', 'rifl', 'rig', 'rigatoni', 'right', 'righteou', 'rightli', 'rightso', 'rightwing', 'rigmarol', 'rim', 'ring', 'ringer', 'ringsor', 'ringvintag', 'rink', 'rinkukiu', 'rins', 'rio', 'rip', 'riparian', 'ripe', 'ripen', 'ripest', 'ripoff', 'rise', 'riser', 'risk', 'riski', 'risotto', 'risser', 'rissottocorrect', 'ristor', 'ristorant', 'rita', 'rito', 'ritual', 'ritz', 'riva', 'rival', 'river', 'riverview', 'rl', 'rm', 'rnr', 'roach', 'road', 'roadhous', 'roadshow', 'roadsid', 'roadtrip', 'roadway', 'roam', 'roar', 'roark', 'roast', 'roaster', 'rob', 'robata', 'robb', 'robbin', 'robe', 'robert', 'roberto', 'robin', 'robot', 'robust', 'robyn', 'rock', 'rockabilli', 'rocker', 'rockerij', 'rocket', 'rocketburg', 'rockin', 'rocknrol', 'rockstar', 'rocksteadi', 'rod', 'rode', 'rodger', 'roeser', 'rogu', 'roka', 'rokerij', 'rolatini', 'role', 'roll', 'rollatini', 'rollbas', 'roller', 'rollin', 'rollsalso', 'rollson', 'rollup', 'rollyourown', 'roma', 'romain', 'roman', 'romanc', 'romanelli', 'romano', 'romant', 'rome', 'romper', 'ron', 'roof', 'rooftop', 'rooibo', 'room', 'roomi', 'roommat', 'roomrecept', 'roomsup', 'roosevelt', 'roost', 'rooster', 'root', 'rootbeerth', 'ropa', 'rope', 'rosa', 'rose', 'rosearoma', 'rosemari', 'rosi', 'rosita', 'ross', 'rosson', 'rot', 'rotari', 'rotat', 'rotc', 'rotd', 'rotisseri', 'rotten', 'rottiesheppard', 'roug', 'rough', 'roughli', 'roughlycut', 'round', 'roundeven', 'roundtrip', 'rous', 'rout', 'routin', 'rove', 'row', 'rowdi', 'roxi', 'roy', 'royal', 'royalti', 'rr', 'rsvp', 'rt', 'rub', 'rubber', 'rubberi', 'ruben', 'rubi', 'rubik', 'rubio', 'rubz', 'rude', 'rudest', 'rudi', 'rue', 'rueben', 'ruffian', 'rug', 'rugbi', 'rugger', 'ruin', 'rula', 'rule', 'rum', 'rumbi', 'rumbl', 'rumor', 'run', 'rundown', 'runner', 'runni', 'runniest', 'runway', 'rupturedissip', 'rural', 'rush', 'russel', 'russet', 'russian', 'rusti', 'rustic', 'rustica', 'rusticana', 'rustler', 'rut', 'rutabaga', 'ruth', 'rx', 'ryan', 'rye', 'sa', 'sabor', 'sabzi', 'sabziwhich', 'sack', 'sacr', 'sacramento', 'sacrif', 'sacrific', 'sad', 'sadden', 'saddl', 'sadli', 'safe', 'safer', 'safeti', 'safeway', 'saffron', 'safley', 'sag', 'saga', 'sagac', 'sage', 'saguaro', 'said', 'saidbut', 'saidown', 'saigon', 'sailor', 'saint', 'saintli', 'sakana', 'sake', 'sakebomb', 'saki', 'sala', 'salad', 'salada', 'saladfresh', 'saladi', 'saladsandwich', 'saladthey', 'salami', 'salari', 'salat', 'salazar', 'salcido', 'sald', 'sale', 'salek', 'salem', 'salesgirl', 'salesman', 'salesperson', 'saleswomen', 'salethink', 'saliv', 'saliva', 'salli', 'salmon', 'salmonyellowtailtuna', 'salon', 'salontrust', 'saloon', 'salsa', 'salsay', 'salscicia', 'salsiccia', 'salt', 'salti', 'saltier', 'saltiest', 'saltimbocca', 'saltin', 'saltwat', 'saltysweet', 'salud', 'salut', 'salvador', 'salvag', 'salvat', 'sam', 'samburg', 'samich', 'sammi', 'sammich', 'samosa', 'sampl', 'sampler', 'samsung', 'samuri', 'san', 'sanctuari', 'sanctuaryth', 'sand', 'sandal', 'sandalwood', 'sandella', 'sandi', 'sando', 'sandston', 'sandstorm', 'sandwhich', 'sandwich', 'sandwichessaladsetc', 'sandwichesthey', 'sandwichhalf', 'sandwichi', 'sane', 'sang', 'sangria', 'sanit', 'sanitari', 'saniti', 'sank', 'sant', 'santa', 'santan', 'santi', 'santisi', 'sao', 'sapl', 'sapporo', 'sar', 'sara', 'sarah', 'sarcasm', 'sarcast', 'sarrc', 'sarsaparilla', 'sashimi', 'sat', 'satay', 'sate', 'satellit', 'satiat', 'satifi', 'satisfact', 'satisfi', 'satisfyingli', 'satori', 'satsun', 'satuday', 'satur', 'saturday', 'saturdaysunday', 'sauc', 'sauce1895', 'saucea', 'sauceamaz', 'saucebut', 'sauceecstasi', 'saucehug', 'saucenot', 'saucer', 'saucespread', 'saucetast', 'saucewa', 'saucey', 'sauci', 'sauerbraten', 'sauerkraut', 'sauna', 'saunter', 'saurkraut', 'sausag', 'sausageev', 'saute', 'sautã', 'sauv', 'sauvignon', 'save', 'saver', 'savor', 'savori', 'savoryth', 'savoy', 'savvi', 'saw', 'sawdust', 'sawthsic', 'saxophon', 'say', 'say15min', 'say850', 'saydont', 'sayi', 'sayin', 'saymaharaja', 'sazerac', 'sb', 'sbux', 'scal', 'scale', 'scallion', 'scallop', 'scalp', 'scam', 'scammedthink', 'scamorza', 'scan', 'scandalesqu', 'scandinavian', 'scant', 'scantili', 'scape', 'scar', 'scardi', 'scare', 'scarey', 'scarf', 'scari', 'scarier', 'scariest', 'scath', 'scatter', 'scenario', 'scene', 'sceneand', 'sceneri', 'sceney', 'scenic', 'scent', 'schedul', 'scheme', 'schmanci', 'schmear', 'schmick', 'schmuck', 'schneiki', 'schnitzel', 'school', 'schoolnot', 'schreiner', 'schwettyand', 'scienc', 'scientif', 'scientificlog', 'scientist', 'scifi', 'scissor', 'scof', 'scold', 'scollop', 'scone', 'sconedri', 'scoop', 'scooter', 'scope', 'scorch', 'score', 'scorpion', 'scotch', 'scothes10', 'scott', 'scottsadal', 'scottsdal', 'scottsdalelincoln', 'scottsdaleparadis', 'scottsdalian', 'scottsdalish', 'scout', 'scowl', 'scraggli', 'scrambl', 'scrambler', 'scrap', 'scrape', 'scrapypointi', 'scratch', 'scratcher', 'scream', 'screen', 'screw', 'screwedup', 'screwup', 'script', 'scroung', 'scrub', 'scruffi', 'scrumptiou', 'scrunch', 'sculpt', 'sculptur', 'scum', 'scuzi', 'sd', 'sdl', 'se', 'sea', 'seabas', 'seabass', 'seafood', 'seagul', 'seal', 'seam', 'seamlessli', 'seamu', 'sean', 'seann', 'sear', 'search', 'searscom', 'season', 'seat', 'seatinglot', 'seattl', 'seawe', 'sebastian', 'sec', 'seclud', 'second', 'secondari', 'secondguess', 'secondi', 'secondli', 'secondworst', 'secret', 'secretari', 'section', 'sectionat', 'sectionnot', 'secur', 'sedat', 'sedona', 'sedonaw', 'see', 'seed', 'seedi', 'seek', 'seem', 'seemingli', 'seen', 'seenand', 'seeni', 'seenworth', 'seetobeseen', 'seewhat', 'segment', 'segway', 'seiz', 'sekong', 'seldom', 'select', 'selectiony', 'selena', 'self', 'selfconsci', 'selfdont', 'selfish', 'selfprofess', 'selfserv', 'selfservic', 'selftaught', 'sell', 'seller', 'selv', 'selvedg', 'semblanc', 'semerdjian', 'semest', 'semi', 'semialacart', 'semiannu', 'semibusi', 'semihealth', 'semilong', 'seminew', 'semitrail', 'sen', 'send', 'sendoff', 'senior', 'senor', 'senorita', 'sens', 'sensat', 'sensibl', 'sensit', 'sensori', 'sensuou', 'sent', 'sentanc', 'sentenc', 'sentiment', 'separ', 'seper', 'sephora', 'septemb', 'sequel', 'sequenc', 'sequin', 'sera', 'serbian', 'seren', 'seri', 'seriou', 'serious', 'seriouslythi', 'seriv', 'serous', 'serpentin', 'serptemb', 'serrano', 'serum', 'serv', 'server', 'serverbartend', 'servergreat', 'serverotherwis', 'serversand', 'serverscomplet', 'serversdang', 'servic', 'serviceand', 'serviceaw', 'serviceif', 'serviceim', 'serviceridicul', 'serviceslow', 'servicesmal', 'servicethey', 'servicew', 'servicewis', 'sesam', 'session', 'set', 'settl', 'setup', 'setwow', 'seven', 'sevenfigur', 'sever', 'severalacapslock', 'sew', 'sewer', 'sewn', 'sex', 'sexi', 'sexiest', 'sexysultri', 'sf', 'sf25b', 'sfo', 'sfthe', 'sh', 'shabbi', 'shabu', 'shack', 'shade', 'shadi', 'shadow', 'shadysi', 'shae', 'shaft', 'shake', 'shaken', 'shaker', 'shall', 'shallot', 'sham', 'shame', 'shameless', 'shampoo', 'shanghai', 'shank', 'shannon', 'shape', 'shapetheir', 'shar', 'share', 'shaream', 'sharer', 'shark', 'sharkfest', 'sharon', 'sharp', 'sharpen', 'sharper', 'sharpi', 'shashimi', 'shasta', 'shatter', 'shave', 'shawarma', 'shawn', 'shazam', 'shazzam', 'she', 'shea', 'shear', 'shed', 'sheen', 'sheep', 'sheer', 'sheesh', 'sheet', 'sheila', 'shelf', 'shell', 'shellac', 'shelley', 'shellfish', 'shelter', 'shelv', 'shenanigan', 'shep', 'shepard', 'shepherd', 'sheraton', 'sheriff', 'sherlock', 'sherri', 'shi', 'shift', 'shifti', 'shimagamo', 'shimp', 'shin', 'shinbay', 'shindig', 'shine', 'shiner', 'shiney', 'shing', 'shini', 'ship', 'shipment', 'shirataki', 'shiraz', 'shirazi', 'shirt', 'shish', 'shishito', 'shit', 'shitak', 'shitaki', 'shithead', 'shitmus', 'shitthen', 'shitti', 'shittier', 'shmanci', 'sho', 'shochu', 'shock', 'shocker', 'shockingli', 'shoe', 'shone', 'shook', 'shooshingsound', 'shoot', 'shooter', 'shootwho', 'shop', 'shopahol', 'shopcasu', 'shopkeep', 'shopp', 'shopparadis', 'shopper', 'shopperiod', 'shoppingdin', 'shoppingnot', 'shorba', 'shoretyp', 'short', 'short13', 'shortag', 'shortbreadtast', 'shorten', 'shorter', 'shorthand', 'shorti', 'shortleashdog', 'shortli', 'shortpar', 'shortrib', 'shot', 'shotgun', 'shotit', 'shoulder', 'shouldnt', 'shouldv', 'shout', 'shoutout', 'shove', 'shovel', 'show', 'showcas', 'shower', 'shown', 'showroom', 'showstopp', 'shrapnel', 'shred', 'shrimp', 'shrimpcrab', 'shrimppork', 'shrine', 'shrink', 'shrivel', 'shroom', 'shrug', 'sht', 'shthole', 'shtti', 'shu', 'shudder', 'shuffl', 'shuffleboard', 'shui', 'shuro', 'shut', 'shuttl', 'shwarma', 'shwarmasp', 'shyness', 'shyt', 'si', 'siam', 'sibl', 'sichuan', 'sicilian', 'sick', 'sicken', 'sickeningli', 'sickest', 'sickli', 'side', 'sideal', 'sideand', 'sideat', 'sidebar', 'sidebarphx', 'sidecar', 'sidego', 'sidekick', 'sidepal', 'sideth', 'sidewalk', 'sideway', 'sidl', 'siduri', 'siebel', 'sierra', 'sift', 'sigh', 'sight', 'sign', 'signag', 'signal', 'signatur', 'signer', 'signi', 'signific', 'significantli', 'signin', 'siider', 'silberschlag', 'silenc', 'silent', 'silicabas', 'silk', 'silki', 'silklin', 'silkysmooth', 'silli', 'silvana', 'silver', 'silvermin', 'silverton', 'silverwar', 'sima', 'similar', 'similarli', 'simmer', 'simpl', 'simplest', 'simpli', 'simplic', 'simplifi', 'simplist', 'simpson', 'simultan', 'sin', 'sinatra', 'sinc', 'sincer', 'sincewel', 'sinfuland', 'sing', 'singapor', 'singer', 'singl', 'singleterriblehostess', 'singleton', 'sink', 'sinker', 'sinner', 'sinsr', 'sip', 'siphon', 'siptast', 'sir', 'sirloin', 'sissi', 'sister', 'sisterinlaw', 'sit', 'sitdown', 'site', 'sitsin', 'sitter', 'situat', 'situationbut', 'siu', 'sivananda', 'six', 'sixteen', 'sixth', 'sixti', 'sixyear', 'sizabl', 'size', 'sizerann', 'sizzl', 'sizzler', 'sj', 'sjcrappi', 'skarderud', 'skate', 'skateboard', 'skeptic', 'sketchbook', 'sketchi', 'skew', 'skewer', 'ski', 'skiba', 'skill', 'skillet', 'skillsal', 'skim', 'skimp', 'skimpi', 'skin', 'skinni', 'skinon', 'skip', 'skirt', 'skit', 'skull', 'sky', 'skylight', 'skylin', 'slab', 'slack', 'slam', 'slander', 'slang', 'slant', 'slap', 'slash', 'slate', 'slather', 'slave', 'slaw', 'slawmi', 'sleazer', 'sleek', 'sleep', 'sleepi', 'sleev', 'slept', 'slew', 'slice', 'slick', 'slicker', 'slid', 'slide', 'slider', 'slight', 'slightest', 'slighti', 'slightli', 'slim', 'slimi', 'slinger', 'slip', 'slipper', 'slipperi', 'sliver', 'sllluuuurrrpp', 'slob', 'slogan', 'slop', 'slope', 'sloppi', 'slot', 'slouch', 'slow', 'slowest', 'slowli', 'slownot', 'slowroast', 'slum', 'slur', 'slurp', 'slurper', 'slushi', 'slutti', 'sm', 'smack', 'small', 'smaller', 'smallest', 'smalli', 'smallish', 'smalll', 'smallonc', 'smallshar', 'smanci', 'smart', 'smarten', 'smarter', 'smash', 'smashboxx', 'smashburg', 'smatter', 'smc', 'smear', 'smedium', 'smeek', 'smell', 'smelli', 'smile', 'smiley', 'smith', 'smitti', 'smock', 'smoke', 'smokehous', 'smokehouseoooh', 'smoker', 'smokey', 'smoki', 'smokin', 'smokingdrink', 'smooshi', 'smooth', 'smoother', 'smoothi', 'smoothli', 'smoothplu', 'smore', 'smother', 'smucker', 'smuggl', 'snaaz', 'snack', 'snag', 'snail', 'snake', 'snap', 'snapper', 'snappi', 'snarf', 'snark', 'snarl', 'snatch', 'sneak', 'sneaker', 'sneaki', 'sneer', 'sneez', 'snicker', 'snickerdoodl', 'snif', 'sniff', 'sniffl', 'sniffster', 'snikerdoodl', 'snob', 'snobberi', 'snobbi', 'snobbish', 'snobbsdaleish', 'snoooti', 'snooti', 'snort', 'snotti', 'snottili', 'snottsdal', 'snow', 'snowbird', 'snowfairi', 'snub', 'soa', 'soak', 'soap', 'soapi', 'soba', 'sober', 'socal', 'soccer', 'social', 'societi', 'societya', 'sock', 'socket', 'soda', 'sodelici', 'sofa', 'sofiait', 'soft', 'softbal', 'softdrink', 'softe', 'soften', 'softer', 'softgreen', 'softshel', 'softwar', 'soggi', 'soi', 'sol', 'solar', 'sold', 'soldier', 'sole', 'solemnli', 'solicit', 'solid', 'solidli', 'solitair', 'solitari', 'solitud', 'solo', 'solstic', 'soluit', 'solut', 'solv', 'solvent', 'som', 'somber', 'sombra', 'sombrero', 'somebodi', 'someday', 'somehow', 'somehwer', 'someon', 'someplac', 'someth', 'somethingsom', 'somethingwellthat', 'sometim', 'somewhat', 'somewher', 'somewherell', 'sommeli', 'sommersault', 'somtim', 'somtum', 'son', 'sone', 'song', 'soni', 'sonic', 'sonni', 'sonora', 'sonoran', 'soo', 'soon', 'soonand', 'sooner', 'soontob', 'sooo', 'soooo', 'sooooo', 'soooooo', 'sooooooo', 'soooooooo', 'sooooooooo', 'sooooow', 'sooth', 'sop', 'sopa', 'sopapilla', 'sophi', 'sophia', 'sophist', 'sophomor', 'soprano', 'sopressata', 'sorbet', 'sordid', 'sore', 'sorento', 'soronan', 'soror', 'sorrentino', 'sorri', 'sorrow', 'sort', 'sorta', 'sosinc', 'soso', 'sou', 'souchong', 'souffl', 'sought', 'soul', 'sound', 'soundtrack', 'soup', 'soupdrool', 'soupi', 'soupnazi', 'soupreal', 'soupsalad', 'soupveri', 'sour', 'sourc', 'sourdough', 'south', 'southbridg', 'southeast', 'southern', 'southernspanish', 'southwest', 'southwestern', 'soutwest', 'souveni', 'souvia', 'souvlaki', 'sowil', 'sox', 'soy', 'soyfre', 'soylent', 'soynami', 'sp', 'spa', 'space', 'spacecadet', 'spacey', 'spaciou', 'spackl', 'spade', 'spaetzl', 'spagetti', 'spaghetti', 'spain', 'spalov', 'spam', 'span', 'spandex', 'spandwex', 'spaniard', 'spanikopita', 'spanish', 'spanishmexican', 'spank', 'spare', 'spark', 'sparkl', 'sparkli', 'spars', 'spashground', 'spastic', 'spat', 'spaten', 'spaw', 'spawn', 'spay', 'speak', 'speakeasi', 'speaker', 'spear', 'spearmint', 'speci', 'special', 'specialan', 'specialist', 'specialord', 'specialstri', 'specialti', 'specialtli', 'specif', 'specifi', 'speckl', 'spectacular', 'spectat', 'spectrum', 'specul', 'speech', 'speechless', 'speed', 'speedi', 'spell', 'spencer', 'spend', 'spendi', 'spent', 'speraticli', 'spew', 'spi', 'spic', 'spice', 'spicedherb', 'spicey', 'spici', 'spicier', 'spicoli', 'spicollilik', 'spicyfood', 'spicylov', 'spicysmooth', 'spicysweet', 'spicyth', 'spiddl', 'spider', 'spiderman', 'spiedini', 'spieker', 'spiiiccyyyy', 'spike', 'spikey', 'spiki', 'spikyheel', 'spill', 'spin', 'spinach', 'spinachy', 'spinal', 'spinato', 'spincach', 'spirit', 'spiritsso', 'spiritu', 'spiro', 'spit', 'spite', 'splash', 'splatter', 'splay', 'splenda', 'splendid', 'splinter', 'split', 'splleeeendid', 'splurg', 'spoil', 'spoilt', 'spoke', 'spoken', 'spongelik', 'spongi', 'sponsor', 'spontan', 'spooki', 'spoon', 'sporad', 'spore', 'sport', 'sportbarpool', 'sportman', 'sportsman', 'spot', 'spotless', 'spotlessli', 'spotoh', 'spoton', 'spotonlemon', 'spotti', 'spotyou', 'spous', 'spout', 'sprawl', 'spray', 'sprayer', 'spread', 'spreadsheet', 'spring', 'springfield', 'springrol', 'sprinkl', 'sprint', 'sprite', 'sprout', 'spudnut', 'spumoni', 'spun', 'spur', 'sq', 'sqawapologist', 'squad', 'squar', 'squash', 'squat', 'squaw', 'squeaki', 'squeal', 'squeege', 'squeek', 'squeez', 'squid', 'squint', 'squirm', 'squirrel', 'squirt', 'squish', 'squishi', 'sr', 'sriacha', 'sriracha', 'ss', 'ssc', 'sslowest', 'ssssshhhhhh', 'st', 'stab', 'stabl', 'stack', 'stadium', 'stadiumjobingcom', 'staf', 'staff', 'staffa', 'staffchef', 'staffer', 'staffeveri', 'staffperson', 'staffth', 'stage', 'stagecoach', 'stageshow', 'stagger', 'stain', 'stainless', 'stair', 'staircas', 'stairmast', 'stake', 'stale', 'stalehard', 'stalelook', 'stalk', 'stall', 'stamina', 'stammer', 'stamp', 'stan', 'stand', 'standard', 'standbi', 'standin', 'standout', 'stanley', 'stapl', 'stapley', 'star', 'starbuck', 'starbucksand', 'starbut', 'starch', 'stardust', 'stare', 'stargaz', 'stark', 'starrbut', 'starri', 'starsperhap', 'starsth', 'start', 'starte', 'starter', 'startersi', 'starti', 'startl', 'startlin', 'startlingli', 'startup', 'starv', 'starvingthi', 'starwhybecaus', 'starwood', 'stash', 'state', 'stateda', 'statement', 'statesid', 'static', 'station', 'stationari', 'statist', 'statu', 'statur', 'stave', 'stay', 'staycat', 'steadi', 'steak', 'steakbon', 'steakburg', 'steakchicken', 'steakhous', 'steakmelt', 'steal', 'stealership', 'stealthi', 'steam', 'steamer', 'stedson', 'steel', 'steelhead', 'steen', 'steep', 'steer', 'steinway', 'stella', 'stellar', 'stem', 'stemwar', 'stench', 'step', 'stepdad', 'stephen', 'stepper', 'stepsist', 'stereo', 'stereotyp', 'steril', 'steroid', 'stetson', 'steve', 'stew', 'stewart', 'stewbut', 'stewth', 'sthttpwwwsonoraveterinaryspecialistscom', 'stick', 'sticker', 'sticki', 'stickler', 'stickonmustach', 'stiff', 'stiffi', 'stigma', 'stigmata', 'still', 'stilll', 'stillwarm', 'stilton', 'stimul', 'stimuli', 'stingi', 'stingray', 'stink', 'stinkey', 'stinki', 'stinkwe', 'stipul', 'stir', 'stirfri', 'stirrup', 'stitch', 'stl', 'stock', 'stockwa', 'stockyard', 'stoke', 'stole', 'stolen', 'stomach', 'stomp', 'stompin', 'stone', 'stood', 'stool', 'stop', 'stopso', 'storag', 'store', 'storebut', 'storedont', 'storefood', 'storefront', 'storesbrew', 'storespark', 'storeto', 'storewhat', 'stori', 'storm', 'stormi', 'stouffer', 'stout', 'stracciatella', 'straddl', 'straight', 'straightaway', 'straightforward', 'strain', 'strait', 'strand', 'strang', 'stranger', 'strangest', 'strap', 'strapless', 'strateg', 'strategi', 'stratifi', 'straw', 'strawberri', 'stray', 'strbuck', 'streak', 'stream', 'streamlin', 'strebe', 'street', 'streetnow', 'streetso', 'streetwalkin', 'strength', 'strenuou', 'strep', 'stress', 'stretch', 'striaght', 'strict', 'strictli', 'stride', 'strike', 'string', 'stringent', 'stringi', 'stringier', 'strip', 'stripe', 'stripmal', 'stripon', 'stripper', 'stripsand', 'strive', 'stroganoff', 'stroke', 'stroll', 'stroller', 'strong', 'strongcheck', 'stronger', 'stronghold', 'strongli', 'strongveri', 'strore', 'struck', 'structur', 'struggl', 'strum', 'strut', 'stub', 'stubb', 'stubborn', 'stucco', 'stuck', 'stucki', 'stud', 'studebak', 'student', 'studi', 'studio', 'stuf', 'stuff', 'stuffi', 'stuffthi', 'stuffwhat', 'stumbl', 'stump', 'stun', 'stunk', 'stunner', 'stupend', 'stupid', 'stupidli', 'stupor', 'sturgeon', 'stutter', 'style', 'stylebabi', 'stylekinda', 'stylish', 'stylist', 'stylush', 'styrofoam', 'su', 'sua', 'sub', 'subaru', 'subcompar', 'subconci', 'subdu', 'suberb', 'subject', 'sublim', 'submit', 'subpar', 'subscrib', 'subscript', 'subsequ', 'subset', 'substanc', 'substandard', 'substanti', 'substitut', 'subtl', 'subtli', 'subtract', 'suburb', 'suburban', 'suburbia', 'subway', 'succe', 'succeed', 'success', 'succul', 'succumb', 'sucha', 'suck', 'sucker', 'sud', 'sudden', 'suddenli', 'sue', 'suffer', 'suffic', 'suffici', 'sugar', 'sugarfre', 'sugari', 'suggest', 'suggestedwhi', 'suicid', 'suit', 'suitabl', 'suitea', 'sullungtang', 'sultryseduct', 'sum', 'sumac', 'sumibiyaki', 'summar', 'summari', 'summer', 'summeri', 'summertim', 'summit', 'summitt', 'sumptuou', 'sun', 'sunburn', 'sunchok', 'sunda', 'sundanc', 'sunday', 'sundayand', 'sundaysboo', 'sundaysfound', 'sundevil', 'sundri', 'sundrop', 'sunflow', 'sunglass', 'sunken', 'sunni', 'sunnysid', 'sunnyslop', 'sunridg', 'sunris', 'sunscreen', 'sunscreensi', 'sunset', 'sunshin', 'sunsin', 'sunthur', 'sup', 'super', 'superb', 'superbl', 'superbowl', 'superbusi', 'supercheap', 'supercut', 'superdri', 'superfantast', 'superfantasticdelici', 'superfood', 'superfoodior', 'superfriendli', 'superhighend', 'superior', 'superman', 'supermarket', 'supershort', 'supersp', 'superspici', 'superstar', 'superstit', 'supervis', 'supervisor', 'supper', 'supplement', 'suppli', 'supplier', 'support', 'supportinvest', 'suppos', 'supposedli', 'suprem', 'supris', 'sur', 'surcharg', 'sure', 'surefir', 'surf', 'surfac', 'surgeri', 'surli', 'surnam', 'surpass', 'surpris', 'surprisedimpress', 'surprisesun', 'surprisethey', 'surprisingli', 'surreal', 'surround', 'suruki', 'surviv', 'susan', 'sushi', 'sushibravo', 'sushigrad', 'sushipoo', 'susi', 'suspect', 'suspend', 'suspens', 'suspici', 'suspicion', 'sustain', 'sustainableorgan', 'sutra', 'sutur', 'suv', 'sv', 'sven', 'sw', 'swadde', 'swade', 'swag', 'swallow', 'swam', 'swamp', 'swank', 'swanki', 'swap', 'sware', 'swarma', 'swash', 'swat', 'sway', 'swb', 'swear', 'sweat', 'sweater', 'sweatfil', 'sweati', 'sweatshop', 'swede', 'sweden', 'swedish', 'sweeet', 'sweep', 'sweet', 'sweetand', 'sweeten', 'sweeter', 'sweetest', 'sweetheart', 'sweeti', 'sweetish', 'sweetishbitterishspici', 'sweetli', 'sweetrepubl', 'sweetsour', 'swelter', 'swift', 'swill', 'swim', 'swimmer', 'swimsuit', 'swindl', 'swing', 'swipe', 'swipeandsign', 'swirl', 'swirland', 'swiss', 'switch', 'switchback', 'switchfezticoz', 'swivel', 'swizzl', 'swollen', 'swoon', 'swooninducingand', 'swoop', 'sword', 'swordfish', 'swore', 'sworn', 'swung', 'syd', 'syllabl', 'symbol', 'sympathet', 'sympathi', 'symphoni', 'symptom', 'sync', 'synergi', 'synthet', 'syrup', 'syrupi', 'syrupmmmm', 'syrupyummmmi', 'sysco', 'system', 'szechuan', 'tab', 'tabasco', 'tabassco', 'tabbouleh', 'tabl', 'tableau', 'tablebar', 'tablecloth', 'tableoh', 'tablesbig', 'tablesbooth', 'tablesfad', 'tablesid', 'tablespoon', 'tablesseri', 'tablet', 'tablewhich', 'tabooli', 'tabooliridicul', 'tabouli', 'tack', 'tacki', 'taco', 'tacoburrito', 'tacoregardless', 'tacoshow', 'tacosmayb', 'tacossssss', 'tacoswow', 'tact', 'tad', 'taffi', 'tag', 'taglin', 'tahini', 'tahiti', 'tai', 'tail', 'tailgat', 'tailor', 'taint', 'taipei', 'taiwanes', 'takamatsu', 'take', 'takeaway', 'takehom', 'takein', 'taken', 'takenoshitbutstilltakecareofy', 'takeout', 'taker', 'takingmak', 'tako', 'takoyaki', 'talavera', 'tale', 'talent', 'talibanish', 'talisha', 'talk', 'talker', 'talkin', 'tall', 'tallest', 'talli', 'tam', 'tamal', 'tamaletaco', 'tamarind', 'tamarindo', 'tame', 'tamfooleri', 'tami', 'tammi', 'tampa', 'tampiquena', 'tampon', 'tan', 'tana', 'tandem', 'tandoori', 'tang', 'tangerin', 'tangi', 'tangibl', 'tango', 'tank', 'tankard', 'tankor', 'tanksi', 'tannat', 'tantal', 'tanzanian', 'tanzi', 'tao', 'taook', 'tap', 'tapa', 'tapcheap', 'tape', 'tapenad', 'tapioca', 'taqueria', 'taquito', 'tar', 'tara', 'tarantino', 'tarbel', 'tardi', 'targer', 'target', 'targetlet', 'taro', 'tart', 'tartar', 'tartiflettewow', 'tartish', 'tartpi', 'tartspi', 'tartsweet', 'tartufa', 'tartufo', 'tasi', 'task', 'tasson', 'tast', 'tasteand', 'tastebud', 'tastegasm', 'tasteless', 'tastelessmess', 'tasteodor', 'taster', 'tastesbetterthanhom', 'tasteslikehom', 'tastetest', 'tastey', 'tasti', 'tastier', 'tastiest', 'tastysound', 'tat', 'tataki', 'tater', 'tatt', 'tatter', 'tattoo', 'tattooer', 'tatum', 'tatumshea', 'tatziki', 'taught', 'taunt', 'tavern', 'tawnya', 'tax', 'taxi', 'taxicab', 'taxidermi', 'taylor', 'taylortasson', 'tazer', 'tb', 'tbone', 'tc', 'tchatchki', 'tcpa', 'tea', 'teaboba', 'teach', 'teacher', 'teacup', 'teak', 'teakwood', 'teal', 'team', 'teamwork', 'teapot', 'tear', 'teas', 'teaspoon', 'teat', 'teatasti', 'teauneufdupap', 'teavana', 'tech', 'technic', 'technician', 'techniqu', 'techno', 'technolog', 'ted', 'teddi', 'tee', 'teed', 'teehe', 'teem', 'teen', 'teenag', 'teenagerinfest', 'teeni', 'teensi', 'teenytini', 'tees', 'teeter', 'teeth', 'teethth', 'teetogreen', 'teff', 'teharu', 'teja', 'telegraph', 'telemarket', 'telenovela', 'telephon', 'televis', 'tell', 'teller', 'telli', 'tellin', 'temp', 'tempemesa', 'tempephoenix', 'temper', 'temperatur', 'temperm', 'temporada', 'temporari', 'tempranillo', 'tempt', 'temptat', 'temptationseri', 'tempur', 'tempura', 'tempuralik', 'ten', 'tenant', 'tenantown', 'tend', 'tendenc', 'tender', 'tenderbelli', 'tenderflavor', 'tenderi', 'tenderlion', 'tenderloin', 'tendon', 'tennese', 'tenni', 'tent', 'tenth', 'tepan', 'tepari', 'tepenyaki', 'teppen', 'teppiniyaki', 'tequila', 'tequilla', 'teresa', 'teriff', 'teriyaki', 'term', 'termial', 'termin', 'terra', 'terrac', 'terracotta', 'terrain', 'terrayki', 'terrazzo', 'terribl', 'terrier', 'terrif', 'terrifi', 'terril', 'terrimisu', 'territori', 'terror', 'terrrif', 'tess', 'test', 'testament', 'testosteron', 'texa', 'texan', 'texasstyl', 'texaz', 'texmex', 'texmexnot', 'text', 'textur', 'tgf', 'th', 'tha', 'thai', 'thaiawesom', 'thaiger', 'thailand', 'thali', 'thang', 'thanh', 'thank', 'thankgsiv', 'thankmi', 'thanksgiv', 'thanksliv', 'thankyou', 'that', 'thatbut', 'thatdonut', 'thatidiot', 'thatoff', 'thaw', 'thay', 'theater', 'theaterse', 'theaterstaff', 'theaterw', 'theatr', 'theatric', 'thedimli', 'thee', 'theft', 'theiv', 'theme', 'themi', 'themselvesextrem', 'themselvesremark', 'themsinc', 'thenthirti', 'theodosopoulo', 'theodosopouloss', 'theori', 'thepanko', 'thepric', 'ther', 'therapeut', 'therapi', 'therapist', 'therapistintr', 'there', 'thereaft', 'therebi', 'thereeat', 'therefor', 'thereim', 'therein', 'therelot', 'theremak', 'theremust', 'thereof', 'thereor', 'therer', 'therey', 'thermostat', 'thestandard', 'they', 'theyd', 'theyll', 'theyr', 'theyv', 'thhe', 'thick', 'thickcut', 'thickdoughi', 'thicker', 'thicknot', 'thie', 'thier', 'thigh', 'thin', 'thincrust', 'thing', 'thingi', 'thingmi', 'thingsi', 'thingsjust', 'thingther', 'thingtheyr', 'think', 'thinker', 'thinkin', 'thinli', 'thinner', 'thinslic', 'third', 'thirdli', 'thirst', 'thirsti', 'thirti', 'thisal', 'thisdid', 'thisgo', 'thisworth', 'thit', 'tho', 'thoma', 'thompson', 'thorough', 'thoroughfar', 'thoroughli', 'thou', 'though', 'thoughgiv', 'thoughit', 'thought', 'thoughth', 'thoughtthrough', 'thouhgt', 'thousand', 'thr', 'thrasher', 'thread', 'threat', 'threaten', 'three', 'threesom', 'threetop', 'threw', 'thrice', 'thrift', 'thrifti', 'thrill', 'thrive', 'throat', 'throne', 'throrugh', 'throughout', 'throught', 'throw', 'throwback', 'throwin', 'thrown', 'thru', 'thruoghout', 'thta', 'thu', 'thug', 'thumb', 'thumbsdown', 'thumbsup', 'thump', 'thunder', 'thunderbird', 'thunderstorm', 'thunk', 'thur', 'thursday', 'thursdayguess', 'thursdaysunday', 'thyme', 'ti', 'tiara', 'tib', 'tibi', 'tick', 'ticket', 'ticketth', 'tickl', 'ticoz', 'tidbit', 'tide', 'tidi', 'tie', 'tier', 'tieu', 'tiffani', 'tiffanysmi', 'tiger', 'tight', 'tighter', 'tijuana', 'tika', 'tike', 'tiki', 'tikil', 'tikka', 'tikki', 'til', 'tilapia', 'tile', 'tiler', 'till', 'tilli', 'tim', 'time', 'timearrowhead', 'timebut', 'timeespeci', 'timefor', 'timefresh', 'timei', 'timeit', 'timeless', 'timer', 'timesav', 'timesavoid', 'timeshar', 'timesnot', 'timetotim', 'timeyik', 'timid', 'timo', 'tin', 'tina', 'tine', 'tinga', 'tingl', 'tini', 'tiniest', 'tinker', 'tinkl', 'tint', 'tip', 'tipalia', 'tiphappi', 'tipif', 'tipoff', 'tipsi', 'tipwith', 'tiramisu', 'tire', 'tirelessli', 'tish', 'tissu', 'tissuemed', 'tit', 'titan', 'titl', 'tix', 'tj', 'tjsnow', 'tk', 'tlc', 'toad', 'toadd', 'toast', 'toastednow', 'toaster', 'toasti', 'tobacco', 'tobasco', 'tobi', 'today', 'todd', 'toddi', 'toddler', 'todiefor', 'todip', 'todo', 'toe', 'toenail', 'toffe', 'tofu', 'togeth', 'togetherbut', 'togetherdoubl', 'togo', 'toilet', 'toiletwatercloset', 'token', 'tokyo', 'told', 'toledo', 'toler', 'toliet', 'tolteca', 'tom', 'tomahawk', 'tomaso', 'tomatillo', 'tomato', 'tomatobas', 'tomatochanterel', 'tomatomozzarella', 'tomb', 'tomi', 'tommi', 'tomorrow', 'ton', 'tone', 'toner', 'tong', 'tongu', 'tonguesound', 'toni', 'tonic', 'tonight', 'tono', 'tonofbrick', 'tooagain', 'toodidnt', 'toodisgustingli', 'tooexpos', 'toof', 'tooh', 'toojust', 'took', 'tool', 'tooooo', 'tooth', 'toothbrush', 'toothey', 'toothless', 'tootin', 'tootsi', 'tootzi', 'top', 'top5', 'topat', 'tope', 'topic', 'topless', 'topnotch', 'topp', 'toppl', 'topqual', 'topslarg', 'torch', 'tore', 'tori', 'torment', 'torn', 'toro', 'torr', 'tort', 'torta', 'tortalini', 'tortellini', 'tortilla', 'tortur', 'torturousattim', 'toshiba', 'toss', 'tossedwond', 'tostada', 'tot', 'total', 'tote', 'tott', 'totti', 'touch', 'touchedi', 'touchup', 'tough', 'tougher', 'toung', 'tour', 'tourism', 'tourist', 'tournament', 'tourney', 'touryou', 'tout', 'tovar', 'tow', 'toward', 'towel', 'towelcom', 'tower', 'town', 'towndowntown', 'towner', 'townhom', 'townin', 'townso', 'townthat', 'toxin', 'toy', 'toyota', 'toyshop', 'tqla', 'trace', 'traci', 'track', 'tract', 'traction', 'tractor', 'trade', 'trademark', 'tradeoff', 'trader', 'tradersthey', 'tradit', 'traditionalbut', 'traffic', 'tragic', 'tragu', 'trail', 'trailhead', 'train', 'trainer', 'trainerbut', 'traips', 'tramadol', 'tranquil', 'transact', 'transactionso', 'transcend', 'transcendent', 'transcript', 'transfer', 'transform', 'transformersveri', 'transgend', 'transient', 'transit', 'translat', 'transmiss', 'transpar', 'transplant', 'transport', 'trap', 'trash', 'trashi', 'trauma', 'traumat', 'travel', 'travelairfar', 'travels', 'travelzoo', 'travers', 'travesti', 'travi', 'tray', 'trayholi', 'tre', 'treacher', 'treacheri', 'tread', 'treadmil', 'treadmillbut', 'treasur', 'treat', 'treat9', 'treati', 'treatment', 'treatyou', 'tree', 'treehous', 'treelin', 'treesmessi', 'trek', 'tremend', 'trend', 'trendi', 'trendier', 'trendyindi', 'trepid', 'treslemm', 'trex', 'tri', 'triangl', 'triangular', 'triathlon', 'tribut', 'trick', 'tricki', 'trickiest', 'tricycl', 'triedit', 'trifecta', 'trifl', 'trigger', 'trike', 'trim', 'trimmer', 'trinket', 'trio', 'trip', 'tripe', 'tripgreat', 'tripl', 'trippin', 'triscuit', 'trish', 'trisha', 'trite', 'tritip', 'triva', 'trivia', 'troon', 'trophi', 'tropic', 'tropicaldesert', 'trot', 'troubl', 'trough', 'trouser', 'trout', 'troutjust', 'troy', 'truant', 'truck', 'truckin', 'trucksoda', 'truckw', 'true', 'trueli', 'truetostyl', 'truffl', 'trufflesi', 'truli', 'trump', 'trumpet', 'trunk', 'trust', 'trusti', 'trustworthi', 'truth', 'tryand', 'tryst', 'ts', 'tsa', 'tshirt', 'tshirtandjeanswear', 'tske', 'tso', 'tsoynami', 'tub', 'tube', 'tubokay', 'tuck', 'tucker', 'tucson', 'tuesday', 'tuition', 'tum', 'tumbl', 'tumer', 'tummi', 'tumor', 'tuna', 'tune', 'tuneup', 'tunnel', 'tupperwar', 'turbo', 'turbul', 'turd', 'tureen', 'turkey', 'turkish', 'turn', 'turner', 'turnov', 'turntabl', 'turtl', 'tuscan', 'tuscana', 'tuscani', 'tush', 'tutelag', 'tutor', 'tutori', 'tutti', 'tv', 'tvsalso', 'tvsfor', 'tvthe', 'twa', 'tweak', 'tweaker', 'tweek', 'tween', 'tweepl', 'tweet', 'tweeter', 'tweez', 'twelv', 'twenti', 'twentysometh', 'twice', 'twicefail', 'twig', 'twilight', 'twin', 'twinkl', 'twinkli', 'twist', 'twisti', 'twitter', 'twix', 'two', 'twoactor', 'twopiec', 'twopound', 'twostori', 'twothre', 'twotop', 'twoyear', 'twozel', 'twss', 'tx', 'tyler', 'tylor', 'type', 'typebut', 'typic', 'tyson', 'tzatziki', 'u', 'ua', 'uber', 'ubersalti', 'ubiquit', 'uchi', 'udder', 'udon', 'udupai', 'udupi', 'ufc', 'ugh', 'ughin', 'ugli', 'uh', 'uhaul', 'uhh', 'uhhh', 'uhmaz', 'uhmazin', 'uk', 'ukrainian', 'ulta', 'ultim', 'ultra', 'ultracool', 'ultrasound', 'ultratend', 'um', 'umami', 'umbrella', 'umbria', 'umm', 'ummm', 'ummmmmmmmcan', 'ummyeah', 'umph', 'umpteen', 'umther', 'un', 'unabl', 'unaccept', 'unadulter', 'unagi', 'unaircondit', 'unanim', 'unannounc', 'unansw', 'unapologet', 'unapp', 'unappet', 'unassum', 'unawar', 'unbear', 'unbeat', 'unbeliev', 'unbelievablei', 'unborn', 'unbridl', 'uncaffein', 'uncanni', 'uncar', 'uncl', 'unclear', 'unclutt', 'uncomfort', 'uncomfortableysweati', 'uncomfot', 'uncommon', 'uncompl', 'uncook', 'uncool', 'uncoop', 'uncount', 'uncouth', 'uncrisp', 'uncrowd', 'uncrumbl', 'uncut', 'undecid', 'under21', 'underag', 'underappreci', 'underarm', 'undercoat', 'undercook', 'underdon', 'undergrad', 'underground', 'underhand', 'underneath', 'underr', 'undersalt', 'underseason', 'underserv', 'underst', 'understaf', 'understand', 'understat', 'understood', 'underwear', 'underwhelm', 'undeserv', 'undet', 'undi', 'undoubtedli', 'undr', 'undress', 'undrink', 'uneasi', 'uneaten', 'uned', 'uneduc', 'unemploy', 'unend', 'unenjoy', 'unentertain', 'uneth', 'unev', 'unexcept', 'unexpect', 'unexpectedli', 'unexplain', 'unfamiliar', 'unfavor', 'unfaz', 'unfin', 'unfinish', 'unflatt', 'unflavor', 'unflex', 'unfocus', 'unforgett', 'unforgiv', 'unfortun', 'unfound', 'unfriendli', 'unfulfil', 'ungreasi', 'unhappi', 'unhealth', 'unhealthi', 'unhealthili', 'unheard', 'unhelp', 'uni', 'unidentifi', 'unidientifi', 'uniform', 'uniformli', 'uniformssometh', 'unimagin', 'unimpress', 'uninspir', 'unintend', 'uninterest', 'uninterrupt', 'uninterupt', 'uninvit', 'union', 'uniqu', 'uniquefun', 'uniquelyarizonan', 'unisex', 'unisexno', 'unison', 'unit', 'univers', 'unkept', 'unknowingli', 'unknown', 'unleash', 'unless', 'unlik', 'unlimit', 'unlock', 'unlucki', 'unmanipul', 'unmark', 'unmatch', 'unmention', 'unmistak', 'unneccesari', 'unnecessari', 'unneut', 'unnot', 'uno', 'unobstruct', 'unoc', 'unoccupi', 'unoffici', 'unorgan', 'unorigin', 'unot', 'unpalat', 'unparallel', 'unparalleledbaklava', 'unphogett', 'unphoghet', 'unpleas', 'unples', 'unpretenti', 'unprocess', 'unprofession', 'unreal', 'unreason', 'unrefin', 'unrel', 'unriv', 'unsanitari', 'unsatisfactori', 'unsatisfi', 'unseason', 'unseen', 'unselfishli', 'unsettl', 'unsolicit', 'unspectacular', 'unstop', 'unstopp', 'unstress', 'unsuccess', 'unsur', 'unsuspect', 'unsweeten', 'unt', 'unthink', 'until', 'untradit', 'untrain', 'untri', 'unus', 'unusu', 'unvalid', 'unwant', 'unwarm', 'unwelcom', 'unwil', 'unwind', 'unyield', 'uopx', 'up', 'upandcom', 'upbeat', 'upbring', 'upc', 'upcharg', 'upchuck', 'upcom', 'updat', 'updateth', 'upfront', 'upgrad', 'uphil', 'upholsteri', 'upload', 'upo', 'upon', 'upper', 'upperclasscomfort', 'uproot', 'upsal', 'upscal', 'upsel', 'upset', 'upseti', 'upsid', 'upsidedown', 'upstag', 'upstair', 'upstairswel', 'uptight', 'upto', 'uptod', 'uptown', 'ur', 'urban', 'urbanspooncom', 'urchin', 'urg', 'urgebut', 'urgent', 'urin', 'uruguay', 'us', 'usa', 'usag', 'usain', 'usairway', 'usd', 'use', 'useless', 'uselessif', 'usemail', 'user', 'userfriendli', 'ushap', 'uslul', 'usp', 'usual', 'usualthen', 'usunfortun', 'usus', 'utah', 'utensil', 'uter', 'uteru', 'util', 'utmost', 'utter', 'utterli', 'utterlyhappi', 'uturn', 'uv', 'ux10', 'uye', 'v', 'va', 'vac', 'vaca', 'vacant', 'vacat', 'vacay', 'vaccil', 'vaccin', 'vacuum', 'vagu', 'vain', 'val', 'valencia', 'valentin', 'valeri', 'valet', 'valid', 'vall', 'valley', 'valleyno', 'valleyor', 'valomilk', 'valu', 'valuabl', 'valuead', 'valueif', 'vampir', 'vampiro', 'van', 'vancouv', 'vandal', 'vang', 'vanilla', 'vaniti', 'vantag', 'vapor', 'vari', 'varianc', 'variat', 'variet', 'varieti', 'varietyallnatur', 'variou', 'vase', 'vast', 'vat', 'vatican', 'vatoci', 'vatra', 'vault', 'vaultoftheheaven', 'vca', 'vday', 'veal', 'vealstuf', 'veer', 'veerrrrrryyyyyyyyi', 'veg', 'vega', 'vegan', 'veganvegetarian', 'veget', 'vegetablesand', 'vegetarian', 'vegetarianthey', 'vegetariantofu', 'vegetarianvegan', 'veggi', 'veggiesmeatfruit', 'vegi', 'vegii', 'vegtabl', 'vehicl', 'veil', 'vein', 'velvet', 'velveta', 'velveti', 'velvety', 'vender', 'vendor', 'vendorsput', 'vener', 'vengenc', 'venic', 'venom', 'vent', 'ventil', 'ventur', 'venu', 'venuewev', 'venys', 'vera', 'verbal', 'verd', 'verdict', 'verdura', 'verg', 'verifi', 'verisimilitud', 'verit', 'verizon', 'vermicelli', 'vermont', 'veronica', 'veroniqu', 'verrado', 'vers', 'versatil', 'version', 'versu', 'vert', 'verv', 'vesper', 'vest', 'vestibul', 'vet', 'veteran', 'veterinari', 'vey', 'via', 'viad', 'viagra', 'vibe', 'vibeif', 'vibrant', 'vibrat', 'vic', 'vice', 'vicin', 'viciou', 'vicki', 'victoria', 'victorian', 'vid', 'vide', 'video', 'videogamegod', 'vieja', 'vien', 'viet', 'vietnam', 'vietnames', 'vietri', 'view', 'viewer', 'viewpoint', 'vig', 'vigazz', 'vignett', 'vike', 'vile', 'villa', 'villag', 'vin', 'vinagerett', 'vinagrett', 'vinaigrett', 'vinaigretteit', 'vincent', 'vindaloo', 'vine', 'vinegar', 'vinegarbas', 'vinegarett', 'vinegari', 'vineyard', 'ving', 'vingerett', 'vino', 'vintag', 'vintagelook', 'viola', 'violat', 'violenc', 'violent', 'vip', 'virgin', 'virginia', 'virtual', 'viru', 'viscou', 'visi', 'visibl', 'vision', 'visit', 'visitor', 'vista', 'vistal', 'visual', 'vital', 'vitamin', 'vittl', 'vivant', 'vivid', 'vocho', 'vodka', 'vodkaging', 'voga', 'voic', 'void', 'voila', 'volcano', 'volleybal', 'volum', 'volunt', 'vomit', 'von', 'voodoo', 'voraci', 'vortex', 'vote', 'voteget', 'vouch', 'voucher', 'vow', 'vs', 'vsc', 'vuev', 'vulgar', 'vultur', 'vw', 'w', 'w2', 'w5', 'wa', 'waaaaaaaaay', 'waaaaaay', 'waaaaay', 'waayi', 'wac', 'wach', 'wacki', 'wacko', 'wad', 'wade', 'wader', 'waffl', 'wafflesa', 'waft', 'wag', 'wager', 'wagnwash', 'wagyu', 'wah', 'wahoo', 'waikiki', 'waist', 'waistband', 'wait', 'waiter', 'waiterbartend', 'waiterhostessmanagerbartend', 'waitermayb', 'waiti', 'waitif', 'waitingth', 'waitless', 'waitor', 'waitress', 'waitressbartend', 'waitresswait', 'waitstaff', 'waitstand', 'waiv', 'wake', 'waldorf', 'walet', 'walgreen', 'walk', 'walkabl', 'walkin', 'walkway', 'wall', 'wallet', 'wallhang', 'walli', 'wallmount', 'wallnut', 'wallow', 'wallpap', 'walmart', 'walnut', 'waltz', 'wand', 'wanda', 'wander', 'wanna', 'wannab', 'want', 'wanteveri', 'wanton', 'war', 'ward', 'warden', 'wardrob', 'ware', 'wareh', 'warehous', 'wargam', 'wari', 'warm', 'warmer', 'warmli', 'warmth', 'warn', 'warner', 'warp', 'warrant', 'warranti', 'warrior', 'wasab', 'wasabi', 'wash', 'washcloth', 'washday', 'washdri', 'washedit', 'washer', 'washington', 'wasi', 'wasit', 'wasnt', 'wasp', 'wast', 'wastebasket', 'waster', 'wasw', 'watch', 'watcher', 'watchingar', 'watchingscottsdal', 'water', 'watera', 'wateranoth', 'waterfal', 'waterfront', 'wateri', 'watermelon', 'waterproof', 'waterslid', 'waterwork', 'watt', 'wave', 'wavel', 'wax', 'waxedwhat', 'way', 'wayeverydayyeeeaaaahhh', 'waygreat', 'wayh', 'wayn', 'wayward', 'wayyy', 'wayyyi', 'wayyyyyyy', 'wazoooo', 'wbacon', 'wbc', 'wcg', 'wcomfi', 'we', 'weak', 'weaknesstoffe', 'wealthier', 'weapon', 'wear', 'wearer', 'weari', 'weather', 'weav', 'web', 'webe', 'websit', 'wed', 'weddingsrecept', 'wedg', 'wednesday', 'wednesdaysaturday', 'wee', 'weed', 'week', 'weekday', 'weekend', 'weekendactu', 'weekendit', 'weekendsi', 'weekgreat', 'weekli', 'weeklong', 'weeknight', 'weeksh', 'wei', 'weigh', 'weight', 'weightedbas', 'weihenstephan', 'weil', 'weird', 'weirdest', 'weirdli', 'weirdo', 'weirdth', 'wekopa', 'welcom', 'welcomeand', 'well', 'wellalso', 'wellbehav', 'wellchil', 'welldecor', 'welldon', 'wellestablish', 'welleven', 'wellhard', 'wellintent', 'wellit', 'wellkept', 'wellknown', 'welllit', 'welllov', 'wellmad', 'wellmaintain', 'wellmarin', 'wellno', 'wellnot', 'wellof', 'wellorgan', 'wellpric', 'wellqualifi', 'wellrespect', 'wellreview', 'wellseason', 'wellstock', 'wellsuit', 'wellvers', 'wellwait', 'wellwritten', 'welly', 'wendi', 'went', 'wentmi', 'wentsom', 'werent', 'wernet', 'west', 'western', 'westgat', 'westin', 'westminst', 'westsid', 'westward', 'wet', 'wetal', 'weve', 'wfireplac', 'wfor', 'wginger', 'wguacamol', 'wha', 'whaat', 'whack', 'whale', 'what', 'whatev', 'whatnot', 'whatsleftoflastseasonscollect', 'whatsoev', 'whatsosev', 'whatsov', 'wheat', 'wheatfre', 'wheel', 'wheez', 'whenev', 'whenharrymets', 'whenwher', 'where', 'wherea', 'whereupon', 'wherev', 'whether', 'whew', 'whi', 'whiff', 'whilea', 'whilst', 'whim', 'whimi', 'whimper', 'whimsic', 'whine', 'whinin', 'whinni', 'whip', 'whipmmmmfood', 'whirl', 'whirlpool', 'whisk', 'whiskey', 'whiskeys8', 'whisper', 'whistl', 'whistlinggotta', 'white', 'whiteboard', 'whitedark', 'whiten', 'whitesand', 'whitetrash', 'whitey', 'whitney', 'whiz', 'who', 'whoa', 'whoah', 'whod', 'whoever', 'whole', 'wholeheartedli', 'wholesom', 'wholli', 'whoop', 'whop', 'whopper', 'whore', 'whoreish', 'whorestyl', 'whose', 'whyd', 'whyse', 'wich', 'wick', 'wicker', 'wide', 'widen', 'wider', 'wideric', 'widow', 'width', 'wiener', 'wierd', 'wife', 'wifelolsinc', 'wifey', 'wifi', 'wig', 'wiggl', 'wigwam', 'wih', 'wii', 'wikipedia', 'wil', 'wild', 'wildcat', 'wilder', 'wildest', 'wildfish', 'wildflow', 'wildhors', 'wildli', 'wildlif', 'will', 'willamett', 'willi', 'willing', 'willow', 'willpow', 'wilma', 'wilt', 'wimp', 'wimper', 'win', 'wind', 'windex', 'windi', 'window', 'windowcan', 'windowpan', 'windshield', 'windsor', 'wine', 'wineb', 'winey', 'wing', 'wink', 'winki', 'winner', 'winningsorri', 'wino', 'winter', 'winwin', 'wipe', 'wiper', 'wipesorri', 'wire', 'wireless', 'wisconsin', 'wisconsinit', 'wisdom', 'wise', 'wiseguy', 'wiser', 'wish', 'wit', 'witch', 'with', 'withaspoon', 'withbut', 'withdraw', 'withdrawn', 'withheld', 'withhi', 'within', 'without', 'withstand', 'witti', 'wive', 'wiz', 'wizard', 'wk', 'wll', 'wm', 'wmushroom', 'wo', 'woah', 'wobbl', 'wobblese', 'woe', 'woefil', 'wok', 'woke', 'woken', 'wolf', 'wolfpack', 'wolverin', 'woman', 'women', 'wonder', 'wonderfuland', 'wonderfulth', 'wonderland', 'wondrou', 'wong', 'wont', 'wonton', 'woo', 'wood', 'woodcarv', 'wooden', 'woodfir', 'woodland', 'woodpanel', 'woodwork', 'woohoo', 'wool', 'wooooooooo', 'word', 'wordexcel', 'wordi', 'wordli', 'wordsit', 'wore', 'work', 'workappropri', 'worker', 'workmanship', 'workout', 'workschool', 'workshop', 'workstudyread', 'world', 'worldand', 'worldloli', 'worldtyson', 'worldwid', 'worm', 'worn', 'worri', 'worrisom', 'wors', 'worship', 'worst', 'worstershir', 'worth', 'worthi', 'worthless', 'worthwhil', 'wott', 'woudnt', 'would', 'woulda', 'wouldnt', 'wouldv', 'wound', 'wow', 'wowd', 'wowexcit', 'wowner', 'wowzer', 'wrap', 'wrapper', 'wrath', 'wreck', 'wrestl', 'wrice', 'wright', 'wrigley', 'wrigleyvillechicago', 'wrinkl', 'wrist', 'wristband', 'write', 'writer', 'written', 'wrkout', 'wrong', 'wrongth', 'wrote', 'ws', 'wt', 'wtf', 'wth', 'wthe', 'wthi', 'wthin', 'wtih', 'wussi', 'wwe', 'wwine', 'wwwaddictionovercomecom', 'wwwdogparkriotcom', 'wwwphoenixrodandgun', 'wã¼rze', 'x', 'x2', 'x5', 'xanax', 'xavier', 'xbox', 'xcp', 'xeriscap', 'xl', 'xlv', 'xma', 'xray', 'xylophon', 'xyz', 'xã', 'ya', 'yaaaaay', 'yack', 'yah', 'yahoo', 'yahumme', 'yakaguru', 'yaki', 'yakisoba', 'yakitorith', 'yall', 'yam', 'yang', 'yank', 'yankin', 'yard', 'yardsal', 'yasu', 'yawn', 'yay', 'yc', 'yd', 'ye', 'yea', 'yeah', 'yeahim', 'yeahlik', 'yeahnotsomuch', 'yeahpleas', 'year', 'yearli', 'yearn', 'yearshow', 'yearsif', 'yearsso', 'yearssup', 'yearsth', 'yearsuntil', 'yearthough', 'yeast', 'yeh', 'yelena', 'yell', 'yellow', 'yellowfin', 'yellowish', 'yellowtail', 'yelp', 'yelpadvertis', 'yelpcom', 'yelper', 'yelpi', 'yen', 'yep', 'yeppi', 'yer', 'yerba', 'yesssss', 'yesterday', 'yet', 'yetd', 'yetth', 'yettobead', 'yew', 'ygl', 'yield', 'yike', 'yikesi', 'yin', 'yippe', 'yknow', 'ymca', 'yo', 'yodel', 'yoga', 'yogal', 'yoghund', 'yogi', 'yogurt', 'yogurtcucumbermint', 'yogurtini', 'yogurtland', 'yogurtolog', 'yogurtopia', 'yoli', 'yolk', 'yon', 'yoohoo', 'york', 'yorker', 'yorki', 'youd', 'youfe', 'youki', 'youll', 'young', 'younger', 'youngest', 'youngggg', 'youngtown', 'younight', 'your', 'yourselfdo', 'youth', 'youtub', 'youv', 'youwhen', 'yow', 'yowza', 'yr', 'yragui', 'yu', 'yuck', 'yucki', 'yuk', 'yukgejang', 'yukon', 'yum', 'yuma', 'yumgasm', 'yumjust', 'yumm', 'yummi', 'yummier', 'yummm', 'yummmayyyi', 'yummmm', 'yummmmm', 'yummmmmm', 'yummmmmmer', 'yummmmmmmm', 'yummo', 'yummyalthough', 'yummydont', 'yummythat', 'yummyw', 'yumo', 'yung', 'yup', 'yupha', 'yuppi', 'yur', 'yuri', 'yusef', 'yuukk', 'yuuuummmma', 'yuuuuummmmmyyi', 'yuuuuuuum', 'yuyuyummi', 'yuzu', 'yyyeeaahhhhsoooooth', 'z', 'z11', 'zach', 'zam', 'zanella', 'zankou', 'zappo', 'zatsiki', 'zen', 'zenlik', 'zenroad', 'zero', 'zerostar', 'zest', 'zesti', 'zexperi', 'zgrill', 'zha', 'zhou', 'zia', 'zichini', 'zilch', 'zillion', 'zin', 'zinburg', 'zinburgergeist', 'zinc', 'zinfandel', 'zing', 'zip', 'zipcar', 'ziploc', 'zipp', 'zipper', 'ziti', 'zoe', 'zombi', 'zone', 'zoner', 'zoo', 'zoom', 'zoyo', 'zucca', 'zucchini', 'zuccini', 'zuchinni', 'zumba', 'zupa', 'zuzu', 'zwiebelkrã', 'ã']\n"
          ],
          "name": "stdout"
        }
      ]
    },
    {
      "cell_type": "code",
      "metadata": {
        "id": "foo-t12xJ8yw",
        "colab_type": "code",
        "colab": {
          "base_uri": "https://localhost:8080/",
          "height": 136
        },
        "outputId": "a3613df2-6225-4d28-a5da-404bfbb3e3d8"
      },
      "source": [
        "X_counts.toarray()"
      ],
      "execution_count": null,
      "outputs": [
        {
          "output_type": "execute_result",
          "data": {
            "text/plain": [
              "array([[0, 0, 0, ..., 0, 0, 0],\n",
              "       [0, 0, 0, ..., 0, 0, 0],\n",
              "       [0, 0, 0, ..., 0, 0, 0],\n",
              "       ...,\n",
              "       [0, 0, 0, ..., 0, 0, 0],\n",
              "       [0, 0, 0, ..., 0, 0, 0],\n",
              "       [0, 0, 0, ..., 0, 0, 0]])"
            ]
          },
          "metadata": {
            "tags": []
          },
          "execution_count": 86
        }
      ]
    },
    {
      "cell_type": "code",
      "metadata": {
        "id": "UHnj_PJtJ8yy",
        "colab_type": "code",
        "colab": {
          "base_uri": "https://localhost:8080/",
          "height": 439
        },
        "outputId": "07708093-f49c-44c3-bb62-7fdbc28e3951"
      },
      "source": [
        "X_counts_df = pd.DataFrame(X_counts.toarray())\n",
        "X_counts_df"
      ],
      "execution_count": 39,
      "outputs": [
        {
          "output_type": "execute_result",
          "data": {
            "text/html": [
              "<div>\n",
              "<style scoped>\n",
              "    .dataframe tbody tr th:only-of-type {\n",
              "        vertical-align: middle;\n",
              "    }\n",
              "\n",
              "    .dataframe tbody tr th {\n",
              "        vertical-align: top;\n",
              "    }\n",
              "\n",
              "    .dataframe thead th {\n",
              "        text-align: right;\n",
              "    }\n",
              "</style>\n",
              "<table border=\"1\" class=\"dataframe\">\n",
              "  <thead>\n",
              "    <tr style=\"text-align: right;\">\n",
              "      <th></th>\n",
              "      <th>0</th>\n",
              "      <th>1</th>\n",
              "      <th>2</th>\n",
              "      <th>3</th>\n",
              "      <th>4</th>\n",
              "      <th>5</th>\n",
              "      <th>6</th>\n",
              "      <th>7</th>\n",
              "      <th>8</th>\n",
              "      <th>9</th>\n",
              "      <th>10</th>\n",
              "      <th>11</th>\n",
              "      <th>12</th>\n",
              "      <th>13</th>\n",
              "      <th>14</th>\n",
              "      <th>15</th>\n",
              "      <th>16</th>\n",
              "      <th>17</th>\n",
              "      <th>18</th>\n",
              "      <th>19</th>\n",
              "      <th>20</th>\n",
              "      <th>21</th>\n",
              "      <th>22</th>\n",
              "      <th>23</th>\n",
              "      <th>24</th>\n",
              "      <th>25</th>\n",
              "      <th>26</th>\n",
              "      <th>27</th>\n",
              "      <th>28</th>\n",
              "      <th>29</th>\n",
              "      <th>30</th>\n",
              "      <th>31</th>\n",
              "      <th>32</th>\n",
              "      <th>33</th>\n",
              "      <th>34</th>\n",
              "      <th>35</th>\n",
              "      <th>36</th>\n",
              "      <th>37</th>\n",
              "      <th>38</th>\n",
              "      <th>39</th>\n",
              "      <th>...</th>\n",
              "      <th>16074</th>\n",
              "      <th>16075</th>\n",
              "      <th>16076</th>\n",
              "      <th>16077</th>\n",
              "      <th>16078</th>\n",
              "      <th>16079</th>\n",
              "      <th>16080</th>\n",
              "      <th>16081</th>\n",
              "      <th>16082</th>\n",
              "      <th>16083</th>\n",
              "      <th>16084</th>\n",
              "      <th>16085</th>\n",
              "      <th>16086</th>\n",
              "      <th>16087</th>\n",
              "      <th>16088</th>\n",
              "      <th>16089</th>\n",
              "      <th>16090</th>\n",
              "      <th>16091</th>\n",
              "      <th>16092</th>\n",
              "      <th>16093</th>\n",
              "      <th>16094</th>\n",
              "      <th>16095</th>\n",
              "      <th>16096</th>\n",
              "      <th>16097</th>\n",
              "      <th>16098</th>\n",
              "      <th>16099</th>\n",
              "      <th>16100</th>\n",
              "      <th>16101</th>\n",
              "      <th>16102</th>\n",
              "      <th>16103</th>\n",
              "      <th>16104</th>\n",
              "      <th>16105</th>\n",
              "      <th>16106</th>\n",
              "      <th>16107</th>\n",
              "      <th>16108</th>\n",
              "      <th>16109</th>\n",
              "      <th>16110</th>\n",
              "      <th>16111</th>\n",
              "      <th>16112</th>\n",
              "      <th>16113</th>\n",
              "    </tr>\n",
              "  </thead>\n",
              "  <tbody>\n",
              "    <tr>\n",
              "      <th>0</th>\n",
              "      <td>0</td>\n",
              "      <td>0</td>\n",
              "      <td>0</td>\n",
              "      <td>0</td>\n",
              "      <td>0</td>\n",
              "      <td>0</td>\n",
              "      <td>0</td>\n",
              "      <td>0</td>\n",
              "      <td>0</td>\n",
              "      <td>0</td>\n",
              "      <td>0</td>\n",
              "      <td>0</td>\n",
              "      <td>0</td>\n",
              "      <td>0</td>\n",
              "      <td>0</td>\n",
              "      <td>0</td>\n",
              "      <td>0</td>\n",
              "      <td>0</td>\n",
              "      <td>0</td>\n",
              "      <td>0</td>\n",
              "      <td>0</td>\n",
              "      <td>0</td>\n",
              "      <td>0</td>\n",
              "      <td>0</td>\n",
              "      <td>0</td>\n",
              "      <td>0</td>\n",
              "      <td>0</td>\n",
              "      <td>0</td>\n",
              "      <td>0</td>\n",
              "      <td>0</td>\n",
              "      <td>0</td>\n",
              "      <td>0</td>\n",
              "      <td>0</td>\n",
              "      <td>0</td>\n",
              "      <td>0</td>\n",
              "      <td>0</td>\n",
              "      <td>0</td>\n",
              "      <td>0</td>\n",
              "      <td>0</td>\n",
              "      <td>0</td>\n",
              "      <td>...</td>\n",
              "      <td>0</td>\n",
              "      <td>0</td>\n",
              "      <td>0</td>\n",
              "      <td>0</td>\n",
              "      <td>0</td>\n",
              "      <td>0</td>\n",
              "      <td>0</td>\n",
              "      <td>0</td>\n",
              "      <td>0</td>\n",
              "      <td>0</td>\n",
              "      <td>0</td>\n",
              "      <td>0</td>\n",
              "      <td>0</td>\n",
              "      <td>0</td>\n",
              "      <td>0</td>\n",
              "      <td>0</td>\n",
              "      <td>0</td>\n",
              "      <td>0</td>\n",
              "      <td>0</td>\n",
              "      <td>0</td>\n",
              "      <td>0</td>\n",
              "      <td>0</td>\n",
              "      <td>0</td>\n",
              "      <td>0</td>\n",
              "      <td>0</td>\n",
              "      <td>0</td>\n",
              "      <td>0</td>\n",
              "      <td>0</td>\n",
              "      <td>0</td>\n",
              "      <td>0</td>\n",
              "      <td>0</td>\n",
              "      <td>0</td>\n",
              "      <td>0</td>\n",
              "      <td>0</td>\n",
              "      <td>0</td>\n",
              "      <td>0</td>\n",
              "      <td>0</td>\n",
              "      <td>0</td>\n",
              "      <td>0</td>\n",
              "      <td>0</td>\n",
              "    </tr>\n",
              "    <tr>\n",
              "      <th>1</th>\n",
              "      <td>0</td>\n",
              "      <td>0</td>\n",
              "      <td>0</td>\n",
              "      <td>0</td>\n",
              "      <td>0</td>\n",
              "      <td>0</td>\n",
              "      <td>0</td>\n",
              "      <td>0</td>\n",
              "      <td>0</td>\n",
              "      <td>0</td>\n",
              "      <td>0</td>\n",
              "      <td>0</td>\n",
              "      <td>0</td>\n",
              "      <td>0</td>\n",
              "      <td>0</td>\n",
              "      <td>0</td>\n",
              "      <td>0</td>\n",
              "      <td>0</td>\n",
              "      <td>0</td>\n",
              "      <td>0</td>\n",
              "      <td>0</td>\n",
              "      <td>0</td>\n",
              "      <td>0</td>\n",
              "      <td>0</td>\n",
              "      <td>0</td>\n",
              "      <td>0</td>\n",
              "      <td>0</td>\n",
              "      <td>0</td>\n",
              "      <td>0</td>\n",
              "      <td>0</td>\n",
              "      <td>0</td>\n",
              "      <td>0</td>\n",
              "      <td>0</td>\n",
              "      <td>0</td>\n",
              "      <td>0</td>\n",
              "      <td>0</td>\n",
              "      <td>0</td>\n",
              "      <td>0</td>\n",
              "      <td>0</td>\n",
              "      <td>0</td>\n",
              "      <td>...</td>\n",
              "      <td>0</td>\n",
              "      <td>0</td>\n",
              "      <td>0</td>\n",
              "      <td>0</td>\n",
              "      <td>0</td>\n",
              "      <td>0</td>\n",
              "      <td>0</td>\n",
              "      <td>0</td>\n",
              "      <td>0</td>\n",
              "      <td>0</td>\n",
              "      <td>0</td>\n",
              "      <td>0</td>\n",
              "      <td>0</td>\n",
              "      <td>0</td>\n",
              "      <td>0</td>\n",
              "      <td>0</td>\n",
              "      <td>0</td>\n",
              "      <td>0</td>\n",
              "      <td>0</td>\n",
              "      <td>0</td>\n",
              "      <td>0</td>\n",
              "      <td>0</td>\n",
              "      <td>0</td>\n",
              "      <td>0</td>\n",
              "      <td>0</td>\n",
              "      <td>0</td>\n",
              "      <td>0</td>\n",
              "      <td>0</td>\n",
              "      <td>0</td>\n",
              "      <td>0</td>\n",
              "      <td>0</td>\n",
              "      <td>0</td>\n",
              "      <td>0</td>\n",
              "      <td>0</td>\n",
              "      <td>0</td>\n",
              "      <td>0</td>\n",
              "      <td>0</td>\n",
              "      <td>0</td>\n",
              "      <td>0</td>\n",
              "      <td>0</td>\n",
              "    </tr>\n",
              "    <tr>\n",
              "      <th>2</th>\n",
              "      <td>0</td>\n",
              "      <td>0</td>\n",
              "      <td>0</td>\n",
              "      <td>0</td>\n",
              "      <td>0</td>\n",
              "      <td>0</td>\n",
              "      <td>0</td>\n",
              "      <td>0</td>\n",
              "      <td>0</td>\n",
              "      <td>0</td>\n",
              "      <td>0</td>\n",
              "      <td>0</td>\n",
              "      <td>0</td>\n",
              "      <td>0</td>\n",
              "      <td>0</td>\n",
              "      <td>0</td>\n",
              "      <td>0</td>\n",
              "      <td>0</td>\n",
              "      <td>0</td>\n",
              "      <td>0</td>\n",
              "      <td>0</td>\n",
              "      <td>0</td>\n",
              "      <td>0</td>\n",
              "      <td>0</td>\n",
              "      <td>0</td>\n",
              "      <td>0</td>\n",
              "      <td>0</td>\n",
              "      <td>0</td>\n",
              "      <td>0</td>\n",
              "      <td>0</td>\n",
              "      <td>0</td>\n",
              "      <td>0</td>\n",
              "      <td>0</td>\n",
              "      <td>0</td>\n",
              "      <td>0</td>\n",
              "      <td>0</td>\n",
              "      <td>0</td>\n",
              "      <td>0</td>\n",
              "      <td>0</td>\n",
              "      <td>0</td>\n",
              "      <td>...</td>\n",
              "      <td>0</td>\n",
              "      <td>0</td>\n",
              "      <td>0</td>\n",
              "      <td>0</td>\n",
              "      <td>0</td>\n",
              "      <td>0</td>\n",
              "      <td>0</td>\n",
              "      <td>0</td>\n",
              "      <td>0</td>\n",
              "      <td>0</td>\n",
              "      <td>0</td>\n",
              "      <td>0</td>\n",
              "      <td>0</td>\n",
              "      <td>0</td>\n",
              "      <td>0</td>\n",
              "      <td>0</td>\n",
              "      <td>0</td>\n",
              "      <td>0</td>\n",
              "      <td>0</td>\n",
              "      <td>0</td>\n",
              "      <td>0</td>\n",
              "      <td>0</td>\n",
              "      <td>0</td>\n",
              "      <td>0</td>\n",
              "      <td>0</td>\n",
              "      <td>0</td>\n",
              "      <td>0</td>\n",
              "      <td>0</td>\n",
              "      <td>0</td>\n",
              "      <td>0</td>\n",
              "      <td>0</td>\n",
              "      <td>0</td>\n",
              "      <td>0</td>\n",
              "      <td>0</td>\n",
              "      <td>0</td>\n",
              "      <td>0</td>\n",
              "      <td>0</td>\n",
              "      <td>0</td>\n",
              "      <td>0</td>\n",
              "      <td>0</td>\n",
              "    </tr>\n",
              "    <tr>\n",
              "      <th>3</th>\n",
              "      <td>1</td>\n",
              "      <td>0</td>\n",
              "      <td>0</td>\n",
              "      <td>0</td>\n",
              "      <td>0</td>\n",
              "      <td>0</td>\n",
              "      <td>0</td>\n",
              "      <td>0</td>\n",
              "      <td>0</td>\n",
              "      <td>0</td>\n",
              "      <td>0</td>\n",
              "      <td>0</td>\n",
              "      <td>0</td>\n",
              "      <td>0</td>\n",
              "      <td>0</td>\n",
              "      <td>0</td>\n",
              "      <td>0</td>\n",
              "      <td>0</td>\n",
              "      <td>0</td>\n",
              "      <td>0</td>\n",
              "      <td>0</td>\n",
              "      <td>0</td>\n",
              "      <td>0</td>\n",
              "      <td>0</td>\n",
              "      <td>0</td>\n",
              "      <td>0</td>\n",
              "      <td>0</td>\n",
              "      <td>0</td>\n",
              "      <td>0</td>\n",
              "      <td>0</td>\n",
              "      <td>0</td>\n",
              "      <td>0</td>\n",
              "      <td>0</td>\n",
              "      <td>0</td>\n",
              "      <td>0</td>\n",
              "      <td>0</td>\n",
              "      <td>0</td>\n",
              "      <td>0</td>\n",
              "      <td>0</td>\n",
              "      <td>0</td>\n",
              "      <td>...</td>\n",
              "      <td>0</td>\n",
              "      <td>0</td>\n",
              "      <td>0</td>\n",
              "      <td>0</td>\n",
              "      <td>0</td>\n",
              "      <td>0</td>\n",
              "      <td>0</td>\n",
              "      <td>0</td>\n",
              "      <td>0</td>\n",
              "      <td>0</td>\n",
              "      <td>0</td>\n",
              "      <td>0</td>\n",
              "      <td>0</td>\n",
              "      <td>0</td>\n",
              "      <td>0</td>\n",
              "      <td>0</td>\n",
              "      <td>0</td>\n",
              "      <td>0</td>\n",
              "      <td>0</td>\n",
              "      <td>0</td>\n",
              "      <td>0</td>\n",
              "      <td>0</td>\n",
              "      <td>0</td>\n",
              "      <td>0</td>\n",
              "      <td>0</td>\n",
              "      <td>0</td>\n",
              "      <td>0</td>\n",
              "      <td>0</td>\n",
              "      <td>0</td>\n",
              "      <td>0</td>\n",
              "      <td>0</td>\n",
              "      <td>0</td>\n",
              "      <td>0</td>\n",
              "      <td>0</td>\n",
              "      <td>0</td>\n",
              "      <td>0</td>\n",
              "      <td>0</td>\n",
              "      <td>0</td>\n",
              "      <td>0</td>\n",
              "      <td>0</td>\n",
              "    </tr>\n",
              "    <tr>\n",
              "      <th>4</th>\n",
              "      <td>0</td>\n",
              "      <td>0</td>\n",
              "      <td>0</td>\n",
              "      <td>0</td>\n",
              "      <td>0</td>\n",
              "      <td>0</td>\n",
              "      <td>0</td>\n",
              "      <td>0</td>\n",
              "      <td>0</td>\n",
              "      <td>0</td>\n",
              "      <td>0</td>\n",
              "      <td>0</td>\n",
              "      <td>0</td>\n",
              "      <td>0</td>\n",
              "      <td>0</td>\n",
              "      <td>0</td>\n",
              "      <td>0</td>\n",
              "      <td>0</td>\n",
              "      <td>0</td>\n",
              "      <td>0</td>\n",
              "      <td>0</td>\n",
              "      <td>0</td>\n",
              "      <td>0</td>\n",
              "      <td>0</td>\n",
              "      <td>0</td>\n",
              "      <td>0</td>\n",
              "      <td>0</td>\n",
              "      <td>0</td>\n",
              "      <td>0</td>\n",
              "      <td>0</td>\n",
              "      <td>0</td>\n",
              "      <td>0</td>\n",
              "      <td>0</td>\n",
              "      <td>0</td>\n",
              "      <td>0</td>\n",
              "      <td>0</td>\n",
              "      <td>0</td>\n",
              "      <td>0</td>\n",
              "      <td>0</td>\n",
              "      <td>0</td>\n",
              "      <td>...</td>\n",
              "      <td>0</td>\n",
              "      <td>0</td>\n",
              "      <td>0</td>\n",
              "      <td>0</td>\n",
              "      <td>0</td>\n",
              "      <td>0</td>\n",
              "      <td>0</td>\n",
              "      <td>0</td>\n",
              "      <td>0</td>\n",
              "      <td>0</td>\n",
              "      <td>0</td>\n",
              "      <td>0</td>\n",
              "      <td>0</td>\n",
              "      <td>0</td>\n",
              "      <td>0</td>\n",
              "      <td>0</td>\n",
              "      <td>0</td>\n",
              "      <td>0</td>\n",
              "      <td>0</td>\n",
              "      <td>0</td>\n",
              "      <td>0</td>\n",
              "      <td>0</td>\n",
              "      <td>0</td>\n",
              "      <td>0</td>\n",
              "      <td>0</td>\n",
              "      <td>0</td>\n",
              "      <td>0</td>\n",
              "      <td>0</td>\n",
              "      <td>0</td>\n",
              "      <td>0</td>\n",
              "      <td>0</td>\n",
              "      <td>0</td>\n",
              "      <td>0</td>\n",
              "      <td>0</td>\n",
              "      <td>0</td>\n",
              "      <td>0</td>\n",
              "      <td>0</td>\n",
              "      <td>0</td>\n",
              "      <td>0</td>\n",
              "      <td>0</td>\n",
              "    </tr>\n",
              "    <tr>\n",
              "      <th>...</th>\n",
              "      <td>...</td>\n",
              "      <td>...</td>\n",
              "      <td>...</td>\n",
              "      <td>...</td>\n",
              "      <td>...</td>\n",
              "      <td>...</td>\n",
              "      <td>...</td>\n",
              "      <td>...</td>\n",
              "      <td>...</td>\n",
              "      <td>...</td>\n",
              "      <td>...</td>\n",
              "      <td>...</td>\n",
              "      <td>...</td>\n",
              "      <td>...</td>\n",
              "      <td>...</td>\n",
              "      <td>...</td>\n",
              "      <td>...</td>\n",
              "      <td>...</td>\n",
              "      <td>...</td>\n",
              "      <td>...</td>\n",
              "      <td>...</td>\n",
              "      <td>...</td>\n",
              "      <td>...</td>\n",
              "      <td>...</td>\n",
              "      <td>...</td>\n",
              "      <td>...</td>\n",
              "      <td>...</td>\n",
              "      <td>...</td>\n",
              "      <td>...</td>\n",
              "      <td>...</td>\n",
              "      <td>...</td>\n",
              "      <td>...</td>\n",
              "      <td>...</td>\n",
              "      <td>...</td>\n",
              "      <td>...</td>\n",
              "      <td>...</td>\n",
              "      <td>...</td>\n",
              "      <td>...</td>\n",
              "      <td>...</td>\n",
              "      <td>...</td>\n",
              "      <td>...</td>\n",
              "      <td>...</td>\n",
              "      <td>...</td>\n",
              "      <td>...</td>\n",
              "      <td>...</td>\n",
              "      <td>...</td>\n",
              "      <td>...</td>\n",
              "      <td>...</td>\n",
              "      <td>...</td>\n",
              "      <td>...</td>\n",
              "      <td>...</td>\n",
              "      <td>...</td>\n",
              "      <td>...</td>\n",
              "      <td>...</td>\n",
              "      <td>...</td>\n",
              "      <td>...</td>\n",
              "      <td>...</td>\n",
              "      <td>...</td>\n",
              "      <td>...</td>\n",
              "      <td>...</td>\n",
              "      <td>...</td>\n",
              "      <td>...</td>\n",
              "      <td>...</td>\n",
              "      <td>...</td>\n",
              "      <td>...</td>\n",
              "      <td>...</td>\n",
              "      <td>...</td>\n",
              "      <td>...</td>\n",
              "      <td>...</td>\n",
              "      <td>...</td>\n",
              "      <td>...</td>\n",
              "      <td>...</td>\n",
              "      <td>...</td>\n",
              "      <td>...</td>\n",
              "      <td>...</td>\n",
              "      <td>...</td>\n",
              "      <td>...</td>\n",
              "      <td>...</td>\n",
              "      <td>...</td>\n",
              "      <td>...</td>\n",
              "      <td>...</td>\n",
              "    </tr>\n",
              "    <tr>\n",
              "      <th>4081</th>\n",
              "      <td>0</td>\n",
              "      <td>0</td>\n",
              "      <td>0</td>\n",
              "      <td>0</td>\n",
              "      <td>0</td>\n",
              "      <td>0</td>\n",
              "      <td>0</td>\n",
              "      <td>0</td>\n",
              "      <td>0</td>\n",
              "      <td>0</td>\n",
              "      <td>0</td>\n",
              "      <td>0</td>\n",
              "      <td>0</td>\n",
              "      <td>0</td>\n",
              "      <td>0</td>\n",
              "      <td>0</td>\n",
              "      <td>0</td>\n",
              "      <td>0</td>\n",
              "      <td>0</td>\n",
              "      <td>0</td>\n",
              "      <td>0</td>\n",
              "      <td>0</td>\n",
              "      <td>0</td>\n",
              "      <td>0</td>\n",
              "      <td>0</td>\n",
              "      <td>0</td>\n",
              "      <td>0</td>\n",
              "      <td>0</td>\n",
              "      <td>0</td>\n",
              "      <td>0</td>\n",
              "      <td>0</td>\n",
              "      <td>0</td>\n",
              "      <td>0</td>\n",
              "      <td>0</td>\n",
              "      <td>0</td>\n",
              "      <td>0</td>\n",
              "      <td>0</td>\n",
              "      <td>0</td>\n",
              "      <td>0</td>\n",
              "      <td>0</td>\n",
              "      <td>...</td>\n",
              "      <td>0</td>\n",
              "      <td>0</td>\n",
              "      <td>0</td>\n",
              "      <td>0</td>\n",
              "      <td>0</td>\n",
              "      <td>0</td>\n",
              "      <td>0</td>\n",
              "      <td>0</td>\n",
              "      <td>0</td>\n",
              "      <td>0</td>\n",
              "      <td>0</td>\n",
              "      <td>0</td>\n",
              "      <td>0</td>\n",
              "      <td>0</td>\n",
              "      <td>0</td>\n",
              "      <td>0</td>\n",
              "      <td>0</td>\n",
              "      <td>0</td>\n",
              "      <td>0</td>\n",
              "      <td>0</td>\n",
              "      <td>0</td>\n",
              "      <td>0</td>\n",
              "      <td>0</td>\n",
              "      <td>0</td>\n",
              "      <td>0</td>\n",
              "      <td>0</td>\n",
              "      <td>0</td>\n",
              "      <td>0</td>\n",
              "      <td>0</td>\n",
              "      <td>0</td>\n",
              "      <td>0</td>\n",
              "      <td>0</td>\n",
              "      <td>0</td>\n",
              "      <td>0</td>\n",
              "      <td>0</td>\n",
              "      <td>0</td>\n",
              "      <td>0</td>\n",
              "      <td>0</td>\n",
              "      <td>0</td>\n",
              "      <td>0</td>\n",
              "    </tr>\n",
              "    <tr>\n",
              "      <th>4082</th>\n",
              "      <td>0</td>\n",
              "      <td>0</td>\n",
              "      <td>0</td>\n",
              "      <td>0</td>\n",
              "      <td>0</td>\n",
              "      <td>0</td>\n",
              "      <td>0</td>\n",
              "      <td>0</td>\n",
              "      <td>0</td>\n",
              "      <td>0</td>\n",
              "      <td>0</td>\n",
              "      <td>0</td>\n",
              "      <td>0</td>\n",
              "      <td>0</td>\n",
              "      <td>0</td>\n",
              "      <td>0</td>\n",
              "      <td>0</td>\n",
              "      <td>0</td>\n",
              "      <td>0</td>\n",
              "      <td>0</td>\n",
              "      <td>0</td>\n",
              "      <td>0</td>\n",
              "      <td>0</td>\n",
              "      <td>0</td>\n",
              "      <td>0</td>\n",
              "      <td>0</td>\n",
              "      <td>0</td>\n",
              "      <td>0</td>\n",
              "      <td>0</td>\n",
              "      <td>0</td>\n",
              "      <td>0</td>\n",
              "      <td>0</td>\n",
              "      <td>0</td>\n",
              "      <td>0</td>\n",
              "      <td>0</td>\n",
              "      <td>0</td>\n",
              "      <td>0</td>\n",
              "      <td>0</td>\n",
              "      <td>0</td>\n",
              "      <td>0</td>\n",
              "      <td>...</td>\n",
              "      <td>0</td>\n",
              "      <td>0</td>\n",
              "      <td>0</td>\n",
              "      <td>0</td>\n",
              "      <td>0</td>\n",
              "      <td>0</td>\n",
              "      <td>0</td>\n",
              "      <td>0</td>\n",
              "      <td>0</td>\n",
              "      <td>0</td>\n",
              "      <td>0</td>\n",
              "      <td>0</td>\n",
              "      <td>0</td>\n",
              "      <td>0</td>\n",
              "      <td>0</td>\n",
              "      <td>0</td>\n",
              "      <td>0</td>\n",
              "      <td>0</td>\n",
              "      <td>0</td>\n",
              "      <td>0</td>\n",
              "      <td>0</td>\n",
              "      <td>0</td>\n",
              "      <td>0</td>\n",
              "      <td>0</td>\n",
              "      <td>0</td>\n",
              "      <td>0</td>\n",
              "      <td>0</td>\n",
              "      <td>0</td>\n",
              "      <td>0</td>\n",
              "      <td>0</td>\n",
              "      <td>0</td>\n",
              "      <td>0</td>\n",
              "      <td>0</td>\n",
              "      <td>0</td>\n",
              "      <td>0</td>\n",
              "      <td>0</td>\n",
              "      <td>0</td>\n",
              "      <td>0</td>\n",
              "      <td>0</td>\n",
              "      <td>0</td>\n",
              "    </tr>\n",
              "    <tr>\n",
              "      <th>4083</th>\n",
              "      <td>0</td>\n",
              "      <td>0</td>\n",
              "      <td>0</td>\n",
              "      <td>0</td>\n",
              "      <td>0</td>\n",
              "      <td>0</td>\n",
              "      <td>0</td>\n",
              "      <td>0</td>\n",
              "      <td>0</td>\n",
              "      <td>0</td>\n",
              "      <td>0</td>\n",
              "      <td>0</td>\n",
              "      <td>0</td>\n",
              "      <td>0</td>\n",
              "      <td>0</td>\n",
              "      <td>0</td>\n",
              "      <td>0</td>\n",
              "      <td>0</td>\n",
              "      <td>0</td>\n",
              "      <td>0</td>\n",
              "      <td>0</td>\n",
              "      <td>0</td>\n",
              "      <td>0</td>\n",
              "      <td>0</td>\n",
              "      <td>0</td>\n",
              "      <td>0</td>\n",
              "      <td>0</td>\n",
              "      <td>0</td>\n",
              "      <td>0</td>\n",
              "      <td>0</td>\n",
              "      <td>0</td>\n",
              "      <td>0</td>\n",
              "      <td>0</td>\n",
              "      <td>0</td>\n",
              "      <td>0</td>\n",
              "      <td>0</td>\n",
              "      <td>0</td>\n",
              "      <td>0</td>\n",
              "      <td>0</td>\n",
              "      <td>0</td>\n",
              "      <td>...</td>\n",
              "      <td>0</td>\n",
              "      <td>0</td>\n",
              "      <td>0</td>\n",
              "      <td>0</td>\n",
              "      <td>0</td>\n",
              "      <td>0</td>\n",
              "      <td>0</td>\n",
              "      <td>0</td>\n",
              "      <td>0</td>\n",
              "      <td>0</td>\n",
              "      <td>0</td>\n",
              "      <td>0</td>\n",
              "      <td>0</td>\n",
              "      <td>0</td>\n",
              "      <td>0</td>\n",
              "      <td>0</td>\n",
              "      <td>0</td>\n",
              "      <td>0</td>\n",
              "      <td>0</td>\n",
              "      <td>0</td>\n",
              "      <td>0</td>\n",
              "      <td>0</td>\n",
              "      <td>0</td>\n",
              "      <td>0</td>\n",
              "      <td>0</td>\n",
              "      <td>0</td>\n",
              "      <td>0</td>\n",
              "      <td>0</td>\n",
              "      <td>0</td>\n",
              "      <td>0</td>\n",
              "      <td>0</td>\n",
              "      <td>0</td>\n",
              "      <td>0</td>\n",
              "      <td>0</td>\n",
              "      <td>0</td>\n",
              "      <td>0</td>\n",
              "      <td>0</td>\n",
              "      <td>0</td>\n",
              "      <td>0</td>\n",
              "      <td>0</td>\n",
              "    </tr>\n",
              "    <tr>\n",
              "      <th>4084</th>\n",
              "      <td>0</td>\n",
              "      <td>0</td>\n",
              "      <td>0</td>\n",
              "      <td>0</td>\n",
              "      <td>0</td>\n",
              "      <td>0</td>\n",
              "      <td>0</td>\n",
              "      <td>0</td>\n",
              "      <td>0</td>\n",
              "      <td>0</td>\n",
              "      <td>0</td>\n",
              "      <td>0</td>\n",
              "      <td>0</td>\n",
              "      <td>0</td>\n",
              "      <td>0</td>\n",
              "      <td>0</td>\n",
              "      <td>0</td>\n",
              "      <td>0</td>\n",
              "      <td>1</td>\n",
              "      <td>0</td>\n",
              "      <td>0</td>\n",
              "      <td>0</td>\n",
              "      <td>0</td>\n",
              "      <td>0</td>\n",
              "      <td>0</td>\n",
              "      <td>0</td>\n",
              "      <td>0</td>\n",
              "      <td>0</td>\n",
              "      <td>0</td>\n",
              "      <td>0</td>\n",
              "      <td>0</td>\n",
              "      <td>0</td>\n",
              "      <td>0</td>\n",
              "      <td>0</td>\n",
              "      <td>0</td>\n",
              "      <td>0</td>\n",
              "      <td>0</td>\n",
              "      <td>0</td>\n",
              "      <td>0</td>\n",
              "      <td>0</td>\n",
              "      <td>...</td>\n",
              "      <td>0</td>\n",
              "      <td>0</td>\n",
              "      <td>0</td>\n",
              "      <td>0</td>\n",
              "      <td>0</td>\n",
              "      <td>0</td>\n",
              "      <td>0</td>\n",
              "      <td>0</td>\n",
              "      <td>0</td>\n",
              "      <td>0</td>\n",
              "      <td>0</td>\n",
              "      <td>0</td>\n",
              "      <td>0</td>\n",
              "      <td>0</td>\n",
              "      <td>0</td>\n",
              "      <td>0</td>\n",
              "      <td>0</td>\n",
              "      <td>0</td>\n",
              "      <td>0</td>\n",
              "      <td>0</td>\n",
              "      <td>0</td>\n",
              "      <td>0</td>\n",
              "      <td>0</td>\n",
              "      <td>0</td>\n",
              "      <td>0</td>\n",
              "      <td>0</td>\n",
              "      <td>0</td>\n",
              "      <td>0</td>\n",
              "      <td>0</td>\n",
              "      <td>0</td>\n",
              "      <td>0</td>\n",
              "      <td>0</td>\n",
              "      <td>0</td>\n",
              "      <td>0</td>\n",
              "      <td>0</td>\n",
              "      <td>0</td>\n",
              "      <td>0</td>\n",
              "      <td>0</td>\n",
              "      <td>0</td>\n",
              "      <td>0</td>\n",
              "    </tr>\n",
              "    <tr>\n",
              "      <th>4085</th>\n",
              "      <td>0</td>\n",
              "      <td>0</td>\n",
              "      <td>0</td>\n",
              "      <td>0</td>\n",
              "      <td>0</td>\n",
              "      <td>0</td>\n",
              "      <td>0</td>\n",
              "      <td>0</td>\n",
              "      <td>0</td>\n",
              "      <td>0</td>\n",
              "      <td>0</td>\n",
              "      <td>0</td>\n",
              "      <td>0</td>\n",
              "      <td>0</td>\n",
              "      <td>0</td>\n",
              "      <td>0</td>\n",
              "      <td>0</td>\n",
              "      <td>0</td>\n",
              "      <td>0</td>\n",
              "      <td>0</td>\n",
              "      <td>0</td>\n",
              "      <td>0</td>\n",
              "      <td>0</td>\n",
              "      <td>0</td>\n",
              "      <td>0</td>\n",
              "      <td>0</td>\n",
              "      <td>0</td>\n",
              "      <td>0</td>\n",
              "      <td>0</td>\n",
              "      <td>0</td>\n",
              "      <td>0</td>\n",
              "      <td>0</td>\n",
              "      <td>0</td>\n",
              "      <td>0</td>\n",
              "      <td>0</td>\n",
              "      <td>0</td>\n",
              "      <td>0</td>\n",
              "      <td>0</td>\n",
              "      <td>0</td>\n",
              "      <td>0</td>\n",
              "      <td>...</td>\n",
              "      <td>0</td>\n",
              "      <td>0</td>\n",
              "      <td>0</td>\n",
              "      <td>0</td>\n",
              "      <td>0</td>\n",
              "      <td>0</td>\n",
              "      <td>0</td>\n",
              "      <td>0</td>\n",
              "      <td>0</td>\n",
              "      <td>0</td>\n",
              "      <td>0</td>\n",
              "      <td>0</td>\n",
              "      <td>0</td>\n",
              "      <td>0</td>\n",
              "      <td>0</td>\n",
              "      <td>0</td>\n",
              "      <td>0</td>\n",
              "      <td>0</td>\n",
              "      <td>0</td>\n",
              "      <td>0</td>\n",
              "      <td>0</td>\n",
              "      <td>0</td>\n",
              "      <td>0</td>\n",
              "      <td>0</td>\n",
              "      <td>0</td>\n",
              "      <td>0</td>\n",
              "      <td>0</td>\n",
              "      <td>0</td>\n",
              "      <td>0</td>\n",
              "      <td>0</td>\n",
              "      <td>0</td>\n",
              "      <td>0</td>\n",
              "      <td>0</td>\n",
              "      <td>0</td>\n",
              "      <td>0</td>\n",
              "      <td>0</td>\n",
              "      <td>0</td>\n",
              "      <td>0</td>\n",
              "      <td>0</td>\n",
              "      <td>0</td>\n",
              "    </tr>\n",
              "  </tbody>\n",
              "</table>\n",
              "<p>4086 rows × 16114 columns</p>\n",
              "</div>"
            ],
            "text/plain": [
              "      0  1  2  3  4  5  6  ...  16107  16108  16109  16110  16111  16112  16113\n",
              "0     0  0  0  0  0  0  0  ...  0      0      0      0      0      0      0    \n",
              "1     0  0  0  0  0  0  0  ...  0      0      0      0      0      0      0    \n",
              "2     0  0  0  0  0  0  0  ...  0      0      0      0      0      0      0    \n",
              "3     1  0  0  0  0  0  0  ...  0      0      0      0      0      0      0    \n",
              "4     0  0  0  0  0  0  0  ...  0      0      0      0      0      0      0    \n",
              "...  .. .. .. .. .. .. ..  ... ..     ..     ..     ..     ..     ..     ..    \n",
              "4081  0  0  0  0  0  0  0  ...  0      0      0      0      0      0      0    \n",
              "4082  0  0  0  0  0  0  0  ...  0      0      0      0      0      0      0    \n",
              "4083  0  0  0  0  0  0  0  ...  0      0      0      0      0      0      0    \n",
              "4084  0  0  0  0  0  0  0  ...  0      0      0      0      0      0      0    \n",
              "4085  0  0  0  0  0  0  0  ...  0      0      0      0      0      0      0    \n",
              "\n",
              "[4086 rows x 16114 columns]"
            ]
          },
          "metadata": {
            "tags": []
          },
          "execution_count": 39
        }
      ]
    },
    {
      "cell_type": "code",
      "metadata": {
        "id": "fhOJMI73J8y0",
        "colab_type": "code",
        "colab": {
          "base_uri": "https://localhost:8080/",
          "height": 181
        },
        "outputId": "d5918723-56ee-45c9-e629-ea653d3d34bc"
      },
      "source": [
        "X_counts_df.columns = count_vect.get_feature_names()\n",
        "X_counts_df"
      ],
      "execution_count": 23,
      "outputs": [
        {
          "output_type": "error",
          "ename": "NameError",
          "evalue": "ignored",
          "traceback": [
            "\u001b[0;31m---------------------------------------------------------------------------\u001b[0m",
            "\u001b[0;31mNameError\u001b[0m                                 Traceback (most recent call last)",
            "\u001b[0;32m<ipython-input-23-18138ca13253>\u001b[0m in \u001b[0;36m<module>\u001b[0;34m()\u001b[0m\n\u001b[0;32m----> 1\u001b[0;31m \u001b[0mX_counts_df\u001b[0m\u001b[0;34m.\u001b[0m\u001b[0mcolumns\u001b[0m \u001b[0;34m=\u001b[0m \u001b[0mcount_vect\u001b[0m\u001b[0;34m.\u001b[0m\u001b[0mget_feature_names\u001b[0m\u001b[0;34m(\u001b[0m\u001b[0;34m)\u001b[0m\u001b[0;34m\u001b[0m\u001b[0;34m\u001b[0m\u001b[0m\n\u001b[0m\u001b[1;32m      2\u001b[0m \u001b[0mX_counts_df\u001b[0m\u001b[0;34m\u001b[0m\u001b[0;34m\u001b[0m\u001b[0m\n",
            "\u001b[0;31mNameError\u001b[0m: name 'count_vect' is not defined"
          ]
        }
      ]
    },
    {
      "cell_type": "code",
      "metadata": {
        "id": "y0xJyEGEJ8y2",
        "colab_type": "code",
        "colab": {}
      },
      "source": [
        "from sklearn.model_selection import train_test_split"
      ],
      "execution_count": 41,
      "outputs": []
    },
    {
      "cell_type": "code",
      "metadata": {
        "id": "QDwMWy_jJ8y3",
        "colab_type": "code",
        "colab": {}
      },
      "source": [
        "X_train, X_test, y_train, y_test = train_test_split(X_counts_df, y,test_size=0.3,random_state=101)"
      ],
      "execution_count": 43,
      "outputs": []
    },
    {
      "cell_type": "markdown",
      "metadata": {
        "id": "eNJ_H2iTSBUQ",
        "colab_type": "text"
      },
      "source": [
        "##MultinomialNB"
      ]
    },
    {
      "cell_type": "code",
      "metadata": {
        "id": "Kdnqb8GwJ8y4",
        "colab_type": "code",
        "colab": {
          "base_uri": "https://localhost:8080/",
          "height": 51
        },
        "outputId": "8e7b6298-cc13-41fc-ca3b-a948b6bc95cd"
      },
      "source": [
        "from sklearn.naive_bayes import MultinomialNB\n",
        "nb = MultinomialNB()\n",
        "scores = cross_val_score(nb, X_train, y_train, cv=6, scoring=\"f1\")\n",
        "scores"
      ],
      "execution_count": 51,
      "outputs": [
        {
          "output_type": "execute_result",
          "data": {
            "text/plain": [
              "array([0.72108844, 0.74172185, 0.74213836, 0.58394161, 0.67132867,\n",
              "       0.77108434])"
            ]
          },
          "metadata": {
            "tags": []
          },
          "execution_count": 51
        }
      ]
    },
    {
      "cell_type": "markdown",
      "metadata": {
        "id": "HxTWBAa-SFwy",
        "colab_type": "text"
      },
      "source": [
        "##Gaussian NB"
      ]
    },
    {
      "cell_type": "code",
      "metadata": {
        "id": "LcwhGoyl3hVn",
        "colab_type": "code",
        "colab": {
          "base_uri": "https://localhost:8080/",
          "height": 34
        },
        "outputId": "c3a9df7c-9e87-4e9e-8001-3b34e364f5f0"
      },
      "source": [
        "from sklearn.naive_bayes import GaussianNB\n",
        "nb = GaussianNB()\n",
        "\n",
        "scores_nb = cross_val_score(nb, X_train, y_train, cv=5, scoring=\"f1\")\n",
        "scores_nb"
      ],
      "execution_count": 50,
      "outputs": [
        {
          "output_type": "execute_result",
          "data": {
            "text/plain": [
              "array([0.38211382, 0.38735178, 0.33944954, 0.31355932, 0.32743363])"
            ]
          },
          "metadata": {
            "tags": []
          },
          "execution_count": 50
        }
      ]
    },
    {
      "cell_type": "markdown",
      "metadata": {
        "id": "wj4KB1ypSJfG",
        "colab_type": "text"
      },
      "source": [
        "##Support Vector Classifier"
      ]
    },
    {
      "cell_type": "code",
      "metadata": {
        "id": "mOwgzKxj4t5w",
        "colab_type": "code",
        "colab": {
          "base_uri": "https://localhost:8080/",
          "height": 34
        },
        "outputId": "249e9d41-b1ef-4a34-9ea3-3001205d3aa1"
      },
      "source": [
        "from sklearn.svm import SVC\n",
        "svc_rbf = SVC(kernel=\"rbf\", C=0.025)\n",
        "\n",
        "scores_svm = cross_val_score(svc_rbf, X_train, y_train, cv=5, scoring=\"f1\")\n",
        "scores_svm"
      ],
      "execution_count": 52,
      "outputs": [
        {
          "output_type": "execute_result",
          "data": {
            "text/plain": [
              "array([0., 0., 0., 0., 0.])"
            ]
          },
          "metadata": {
            "tags": []
          },
          "execution_count": 52
        }
      ]
    },
    {
      "cell_type": "markdown",
      "metadata": {
        "id": "Raf06vgvSRyC",
        "colab_type": "text"
      },
      "source": [
        "##Logistic Regression"
      ]
    },
    {
      "cell_type": "code",
      "metadata": {
        "id": "86ksaKOr5rya",
        "colab_type": "code",
        "colab": {
          "base_uri": "https://localhost:8080/",
          "height": 34
        },
        "outputId": "90a4a4cf-4b2d-434e-ec2b-b6f25c8404a9"
      },
      "source": [
        "from sklearn.linear_model import LogisticRegression\n",
        "lr = LogisticRegression(C=1.0, max_iter=10000)\n",
        "scores = cross_val_score(lr, X_train, y_train, cv=5, scoring=\"f1\")\n",
        "scores"
      ],
      "execution_count": 54,
      "outputs": [
        {
          "output_type": "execute_result",
          "data": {
            "text/plain": [
              "array([0.75789474, 0.7434555 , 0.75675676, 0.73033708, 0.73958333])"
            ]
          },
          "metadata": {
            "tags": []
          },
          "execution_count": 54
        }
      ]
    },
    {
      "cell_type": "markdown",
      "metadata": {
        "id": "brUkPCghSVPj",
        "colab_type": "text"
      },
      "source": [
        "##Random Forest Classifier"
      ]
    },
    {
      "cell_type": "code",
      "metadata": {
        "id": "t6nq-FJ17E9W",
        "colab_type": "code",
        "colab": {
          "base_uri": "https://localhost:8080/",
          "height": 34
        },
        "outputId": "bce99304-db3d-481b-d617-57ebb023c41d"
      },
      "source": [
        "from sklearn.ensemble import RandomForestClassifier\n",
        "rfc = RandomForestClassifier(n_estimators=150, max_depth=None, n_jobs=1)\n",
        "\n",
        "scores_rf = cross_val_score(rfc, X_train, y_train, cv=5, scoring=\"f1\")\n",
        "scores_rf"
      ],
      "execution_count": 67,
      "outputs": [
        {
          "output_type": "execute_result",
          "data": {
            "text/plain": [
              "array([0.48175182, 0.50704225, 0.51388889, 0.5       , 0.54054054])"
            ]
          },
          "metadata": {
            "tags": []
          },
          "execution_count": 67
        }
      ]
    },
    {
      "cell_type": "markdown",
      "metadata": {
        "id": "qgaXa4dvSXt0",
        "colab_type": "text"
      },
      "source": [
        "##Gradient Boosting Classifier"
      ]
    },
    {
      "cell_type": "code",
      "metadata": {
        "id": "YkhtCxsSEqz3",
        "colab_type": "code",
        "colab": {
          "base_uri": "https://localhost:8080/",
          "height": 34
        },
        "outputId": "2f80a45d-dd8c-426f-cf87-1f8ceef91a24"
      },
      "source": [
        "from sklearn.ensemble import GradientBoostingClassifier\n",
        "gbcc = GradientBoostingClassifier( n_estimators=150, max_depth=11)\n",
        "\n",
        "scores_rf = cross_val_score(gbcc, X_train, y_train, cv=5, scoring=\"f1\")\n",
        "scores_rf"
      ],
      "execution_count": 62,
      "outputs": [
        {
          "output_type": "execute_result",
          "data": {
            "text/plain": [
              "array([0.65868263, 0.65060241, 0.62576687, 0.66257669, 0.6519337 ])"
            ]
          },
          "metadata": {
            "tags": []
          },
          "execution_count": 62
        }
      ]
    },
    {
      "cell_type": "markdown",
      "metadata": {
        "id": "YuOXfJa3EaU_",
        "colab_type": "text"
      },
      "source": [
        "We see that Logistics Regression has a very good score. Hence, we use this to predict."
      ]
    },
    {
      "cell_type": "code",
      "metadata": {
        "id": "nxil85GlJ8y8",
        "colab_type": "code",
        "colab": {}
      },
      "source": [
        "lr.fit(X_train,y_train)\n",
        "predictions = lr.predict(X_test)\n",
        "from sklearn.metrics import confusion_matrix,classification_report,accuracy_score"
      ],
      "execution_count": 60,
      "outputs": []
    },
    {
      "cell_type": "code",
      "metadata": {
        "id": "4EeTKmwVbOlX",
        "colab_type": "code",
        "colab": {
          "base_uri": "https://localhost:8080/",
          "height": 255
        },
        "outputId": "de019733-0fa5-4b2b-fb22-77ce30c29c7e"
      },
      "source": [
        "matrix=confusion_matrix(y_test,predictions)\n",
        "print(matrix)\n",
        "print('\\n')\n",
        "score=accuracy_score(y_test,predictions)\n",
        "print(score)\n",
        "report=classification_report(y_test,predictions)\n",
        "print(report)"
      ],
      "execution_count": 61,
      "outputs": [
        {
          "output_type": "stream",
          "text": [
            "[[168  60]\n",
            " [ 22 976]]\n",
            "\n",
            "\n",
            "0.933115823817292\n",
            "              precision    recall  f1-score   support\n",
            "\n",
            "           1       0.88      0.74      0.80       228\n",
            "           5       0.94      0.98      0.96       998\n",
            "\n",
            "    accuracy                           0.93      1226\n",
            "   macro avg       0.91      0.86      0.88      1226\n",
            "weighted avg       0.93      0.93      0.93      1226\n",
            "\n"
          ],
          "name": "stdout"
        }
      ]
    },
    {
      "cell_type": "code",
      "metadata": {
        "id": "HIyGQTcKO-fO",
        "colab_type": "code",
        "colab": {}
      },
      "source": [
        "gbcc.fit(X_train,y_train)\n",
        "predictions = gbcc.predict(X_test)\n",
        "from sklearn.metrics import confusion_matrix,classification_report,accuracy_score"
      ],
      "execution_count": 63,
      "outputs": []
    },
    {
      "cell_type": "code",
      "metadata": {
        "id": "9XpqKTIzPD1W",
        "colab_type": "code",
        "colab": {
          "base_uri": "https://localhost:8080/",
          "height": 255
        },
        "outputId": "f0cac8b5-1551-42c1-c78d-746f92c64656"
      },
      "source": [
        "matrix=confusion_matrix(y_test,predictions)\n",
        "print(matrix)\n",
        "print('\\n')\n",
        "score=accuracy_score(y_test,predictions)\n",
        "print(score)\n",
        "report=classification_report(y_test,predictions)\n",
        "print(report)"
      ],
      "execution_count": 64,
      "outputs": [
        {
          "output_type": "stream",
          "text": [
            "[[131  97]\n",
            " [ 20 978]]\n",
            "\n",
            "\n",
            "0.9045676998368679\n",
            "              precision    recall  f1-score   support\n",
            "\n",
            "           1       0.87      0.57      0.69       228\n",
            "           5       0.91      0.98      0.94       998\n",
            "\n",
            "    accuracy                           0.90      1226\n",
            "   macro avg       0.89      0.78      0.82      1226\n",
            "weighted avg       0.90      0.90      0.90      1226\n",
            "\n"
          ],
          "name": "stdout"
        }
      ]
    },
    {
      "cell_type": "markdown",
      "metadata": {
        "id": "v3vtOQsHJ8zH",
        "colab_type": "text"
      },
      "source": [
        "### Using Grid Search CV"
      ]
    },
    {
      "cell_type": "code",
      "metadata": {
        "id": "WP755AI6J8zI",
        "colab_type": "code",
        "colab": {}
      },
      "source": [
        "import warnings\n",
        "warnings.filterwarnings(\"ignore\", category=DeprecationWarning)\n",
        "from sklearn.ensemble import RandomForestClassifier\n",
        "from sklearn.model_selection import GridSearchCV"
      ],
      "execution_count": 65,
      "outputs": []
    },
    {
      "cell_type": "code",
      "metadata": {
        "id": "Ckzj4GUvJ8zJ",
        "colab_type": "code",
        "colab": {
          "base_uri": "https://localhost:8080/",
          "height": 479
        },
        "outputId": "f22aea68-b55d-42cc-d8a1-41b39a25ad77"
      },
      "source": [
        "rf = RandomForestClassifier()\n",
        "param = {'n_estimators': [10, 150, 300],\n",
        "        'max_depth': [30, 60, 90, None]}\n",
        "\n",
        "gs = GridSearchCV(rf, param, cv=5, n_jobs=-1)\n",
        "gs_fit = gs.fit(X_train, y_train)\n",
        "pd.DataFrame(gs_fit.cv_results_).sort_values('mean_test_score', ascending=False)[0:5]"
      ],
      "execution_count": 66,
      "outputs": [
        {
          "output_type": "execute_result",
          "data": {
            "text/html": [
              "<div>\n",
              "<style scoped>\n",
              "    .dataframe tbody tr th:only-of-type {\n",
              "        vertical-align: middle;\n",
              "    }\n",
              "\n",
              "    .dataframe tbody tr th {\n",
              "        vertical-align: top;\n",
              "    }\n",
              "\n",
              "    .dataframe thead th {\n",
              "        text-align: right;\n",
              "    }\n",
              "</style>\n",
              "<table border=\"1\" class=\"dataframe\">\n",
              "  <thead>\n",
              "    <tr style=\"text-align: right;\">\n",
              "      <th></th>\n",
              "      <th>mean_fit_time</th>\n",
              "      <th>std_fit_time</th>\n",
              "      <th>mean_score_time</th>\n",
              "      <th>std_score_time</th>\n",
              "      <th>param_max_depth</th>\n",
              "      <th>param_n_estimators</th>\n",
              "      <th>params</th>\n",
              "      <th>split0_test_score</th>\n",
              "      <th>split1_test_score</th>\n",
              "      <th>split2_test_score</th>\n",
              "      <th>split3_test_score</th>\n",
              "      <th>split4_test_score</th>\n",
              "      <th>mean_test_score</th>\n",
              "      <th>std_test_score</th>\n",
              "      <th>rank_test_score</th>\n",
              "    </tr>\n",
              "  </thead>\n",
              "  <tbody>\n",
              "    <tr>\n",
              "      <th>10</th>\n",
              "      <td>25.738414</td>\n",
              "      <td>0.399107</td>\n",
              "      <td>0.186568</td>\n",
              "      <td>0.005796</td>\n",
              "      <td>None</td>\n",
              "      <td>150</td>\n",
              "      <td>{'max_depth': None, 'n_estimators': 150}</td>\n",
              "      <td>0.882867</td>\n",
              "      <td>0.884615</td>\n",
              "      <td>0.882867</td>\n",
              "      <td>0.875874</td>\n",
              "      <td>0.874126</td>\n",
              "      <td>0.880070</td>\n",
              "      <td>0.004225</td>\n",
              "      <td>1</td>\n",
              "    </tr>\n",
              "    <tr>\n",
              "      <th>11</th>\n",
              "      <td>46.997212</td>\n",
              "      <td>8.333351</td>\n",
              "      <td>0.293729</td>\n",
              "      <td>0.069381</td>\n",
              "      <td>None</td>\n",
              "      <td>300</td>\n",
              "      <td>{'max_depth': None, 'n_estimators': 300}</td>\n",
              "      <td>0.872378</td>\n",
              "      <td>0.882867</td>\n",
              "      <td>0.865385</td>\n",
              "      <td>0.879371</td>\n",
              "      <td>0.888112</td>\n",
              "      <td>0.877622</td>\n",
              "      <td>0.007973</td>\n",
              "      <td>2</td>\n",
              "    </tr>\n",
              "    <tr>\n",
              "      <th>7</th>\n",
              "      <td>24.454699</td>\n",
              "      <td>0.314234</td>\n",
              "      <td>0.183772</td>\n",
              "      <td>0.005530</td>\n",
              "      <td>90</td>\n",
              "      <td>150</td>\n",
              "      <td>{'max_depth': 90, 'n_estimators': 150}</td>\n",
              "      <td>0.877622</td>\n",
              "      <td>0.877622</td>\n",
              "      <td>0.870629</td>\n",
              "      <td>0.867133</td>\n",
              "      <td>0.872378</td>\n",
              "      <td>0.873077</td>\n",
              "      <td>0.004078</td>\n",
              "      <td>3</td>\n",
              "    </tr>\n",
              "    <tr>\n",
              "      <th>8</th>\n",
              "      <td>48.966899</td>\n",
              "      <td>0.744209</td>\n",
              "      <td>0.296630</td>\n",
              "      <td>0.002930</td>\n",
              "      <td>90</td>\n",
              "      <td>300</td>\n",
              "      <td>{'max_depth': 90, 'n_estimators': 300}</td>\n",
              "      <td>0.875874</td>\n",
              "      <td>0.884615</td>\n",
              "      <td>0.867133</td>\n",
              "      <td>0.870629</td>\n",
              "      <td>0.867133</td>\n",
              "      <td>0.873077</td>\n",
              "      <td>0.006597</td>\n",
              "      <td>3</td>\n",
              "    </tr>\n",
              "    <tr>\n",
              "      <th>9</th>\n",
              "      <td>2.047455</td>\n",
              "      <td>0.069835</td>\n",
              "      <td>0.064358</td>\n",
              "      <td>0.001719</td>\n",
              "      <td>None</td>\n",
              "      <td>10</td>\n",
              "      <td>{'max_depth': None, 'n_estimators': 10}</td>\n",
              "      <td>0.874126</td>\n",
              "      <td>0.858392</td>\n",
              "      <td>0.879371</td>\n",
              "      <td>0.879371</td>\n",
              "      <td>0.863636</td>\n",
              "      <td>0.870979</td>\n",
              "      <td>0.008522</td>\n",
              "      <td>5</td>\n",
              "    </tr>\n",
              "  </tbody>\n",
              "</table>\n",
              "</div>"
            ],
            "text/plain": [
              "    mean_fit_time  std_fit_time  ...  std_test_score  rank_test_score\n",
              "10  25.738414      0.399107      ...  0.004225        1              \n",
              "11  46.997212      8.333351      ...  0.007973        2              \n",
              "7   24.454699      0.314234      ...  0.004078        3              \n",
              "8   48.966899      0.744209      ...  0.006597        3              \n",
              "9   2.047455       0.069835      ...  0.008522        5              \n",
              "\n",
              "[5 rows x 15 columns]"
            ]
          },
          "metadata": {
            "tags": []
          },
          "execution_count": 66
        }
      ]
    },
    {
      "cell_type": "markdown",
      "metadata": {
        "id": "EEhRBgqKJ8zL",
        "colab_type": "text"
      },
      "source": [
        "# Apply N-gram Vectorization\n"
      ]
    },
    {
      "cell_type": "code",
      "metadata": {
        "id": "a5AwwowMJ8zL",
        "colab_type": "code",
        "colab": {}
      },
      "source": [
        "\n",
        "yelp_class = yelp[(yelp.stars==1) | (yelp.stars==5)]\n",
        "X = yelp_class['text']\n",
        "\n",
        "def clean_text(text):\n",
        "    text = \"\".join([word.lower() for word in text if word not in string.punctuation])\n",
        "    tokens = re.split('\\W+', text)\n",
        "    text = \" \".join([ps.stem(word) for word in tokens if word not in stopwords])\n",
        "    return text\n",
        "\n",
        "yelp_class['cleaned_text'] = yelp_class['text'].apply(lambda x: clean_text(x))\n",
        "yelp_class.info()"
      ],
      "execution_count": null,
      "outputs": []
    },
    {
      "cell_type": "code",
      "metadata": {
        "id": "CFzmDJYZkUmp",
        "colab_type": "code",
        "colab": {}
      },
      "source": [
        "X_train, X_test, y_train, y_test = train_test_split(yelp_class['cleaned_text'], y,test_size=0.3,random_state=101)"
      ],
      "execution_count": 35,
      "outputs": []
    },
    {
      "cell_type": "code",
      "metadata": {
        "id": "cRwYd1pmJ8zN",
        "colab_type": "code",
        "colab": {
          "base_uri": "https://localhost:8080/",
          "height": 122
        },
        "outputId": "fbe93738-c9f8-46bd-9e6c-e0f36d34d6a8"
      },
      "source": [
        "from sklearn.feature_extraction.text import CountVectorizer\n",
        "\n",
        "ngram_vect = CountVectorizer(ngram_range=(1,1))\n",
        "X_new = ngram_vect.fit_transform(X_train).toarray()\n",
        "X_test_new = ngram_vect.transform(X_test)\n",
        "print(X_new.shape)\n",
        "print(X_test_new.shape)\n",
        "print(y_train.shape)\n",
        "print(y_test.shape)\n",
        "print(ngram_vect.get_feature_names())"
      ],
      "execution_count": 42,
      "outputs": [
        {
          "output_type": "stream",
          "text": [
            "(2860, 13257)\n",
            "(1226, 13257)\n",
            "(2860,)\n",
            "(1226,)\n",
            "['00', '01042012', '022010', '05', '050', '06', '07092008', '075', '090', '095', '10', '100', '1000', '10000', '1000pm', '1000x', '1001', '100150', '1007', '100th', '101', '101412', '1015', '102', '1025', '1030', '103011', '1030pm', '10312012', '105', '1070', '108', '109', '1095', '1099', '10am', '10am4pm', '10close', '10each', '10gallon', '10ish', '10min', '10person', '10pm', '10pm12am', '10th', '10thand', '10x', '10yard', '10yo', '11', '110', '1100', '1103', '1113', '1115', '1118', '111809', '111909', '111pm', '111th', '112', '112312', '1130', '1130am', '114', '1145', '115', '1150', '1154', '115th', '116', '1199', '11991079', '11a3p', '11am', '11ish', '11person', '11pm', '12', '120', '1200', '12000', '1207', '120year', '1213', '122111', '122112', '1230', '1230p', '123110', '1240', '1244', '1250', '12712', '128i', '129', '1295', '12am', '12mayb', '12oz', '12pm', '12th', '12year', '12yr', '13', '130', '1300', '131415', '13331', '1361', '13are', '13dont', '13person', '13th', '13year', '14', '140', '1400', '1417', '1418', '147', '1495', '1499', '1499lb', '14half', '14lb', '15', '150', '1500', '15000', '1520', '1520min', '1525', '1530', '1564', '157', '15yard', '16', '160', '1600', '162', '165', '1650', '169', '1699', '16th', '17', '1700', '175', '17th', '18', '180', '1800', '185', '1895', '18lb', '19', '1913', '1928', '1930', '195', '1952', '1953', '1970', '1980', '1987', '199', '1990', '1992', '1995', '1996', '1998', '1999', '199not', '19th', '1cent', '1full', '1k', '1perscoop', '1pm', '1st', '1to1', '20', '200', '2000', '2002', '2003', '2004', '2006', '2007', '2008', '2009', '200lb', '2010', '2011', '2012', '2012they', '2025', '2030', '2038', '205', '20mb', '20mile', '20min', '20minut', '20th', '20x', '21', '2100', '214', '215', '21but', '21st', '21we', '22', '220', '22312', '225', '2295', '22oz', '23', '230', '235', '24', '2412', '247', '249', '2499', '24hr', '24st', '24th', '25', '250', '2500', '25000', '250400', '25min', '25person', '26', '260', '2600', '2608', '26th', '26whole', '27', '27243', '275', '28', '285', '29', '295', '299', '2995', '2998', '29th', '2am', '2fresh', '2mbp', '2nd', '2pm', '2pound', '2rd', '2top', '30', '300', '3000', '300degre', '3040', '3045', '3080', '30extra', '30th', '311', '3122669', '315', '316', '32', '3200', '32010becaus', '325', '328', '33', '330', '33rd', '34', '3400', '349', '3499', '34th', '35', '350', '350ib', '3540', '35c', '35th', '36', '369', '36pm', '37', '370', '375', '3755', '38', '38th', '398', '399', '39th', '3also', '3am', '3bean', '3d', '3g', '3k', '3lb', '3pm', '3rd', '3x', '3xyear', '3year', '40', '400', '4000', '400a', '4050', '40ish', '40lm', '40min', '40th', '40yearold', '41', '411', '415', '41711', '42', '4200', '420000', '425', '43', '430530', '430pm', '435', '4499', '44th', '45', '450', '450ish', '455', '45min', '46', '47', '4730pm', '475', '48', '480', '48th', '49', '490', '491', '495', '499', '4b', '4hr', '4littl', '4pack', '4pm', '4pm7pm', '4s', '4star', '4th', '4x6', '50', '500', '5000', '50000', '500pm', '5060', '5070', '50cent', '50lm', '50that', '51', '510', '515', '517p', '52', '520', '52010', '5231', '528', '530', '530p', '530pm', '54', '549', '55', '550', '552', '56', '565', '575', '58', '595', '599', '5995', '5make', '5p', '5pm', '5star', '5th', '5yo', '60', '600', '6000', '60000', '600am', '600pm', '602', '60mile', '610', '612', '615pm', '61st', '62010', '623', '6235474655', '6239774458', '625', '63', '630', '630am', '64', '642', '64ish', '64th', '65', '650', '6600', '67', '67000', '68', '69', '699', '6am', '6pack', '6pm', '6th', '70', '700', '70lb', '710', '711', '711ish', '719', '730', '730ish', '730pm', '74th', '75', '750', '7500', '775', '7807', '79', '7am', '7am6pm', '7am9pm', '7pm', '7th', '80', '800', '8000hp', '800am', '8020', '810', '812', '8132010', '814', '815', '816', '819', '83', '830', '83rd', '845', '85', '850', '85340', '85year', '875', '88', '89', '899', '8am', '8amagain', '8close', '8pm', '8th', '8v', '8x10', '8yo', '90', '9000', '90lower', '90minut', '91', '925', '93', '930', '930am', '95', '950', '951pm', '975', '98', '99', '995', '999', '99999', '999for', '99cent', '9am', '9oz', '9pm', '9year', '9yo', 'aa', 'aaammmazz', 'aaron', 'ab', 'aback', 'abandon', 'abbazabba', 'abbi', 'abbrevi', 'abc', 'abdomen', 'abhor', 'abid', 'abil', 'abl', 'abodoba', 'abound', 'aboutseri', 'abovehav', 'abroad', 'abrupt', 'absent', 'absinth', 'absolut', 'absolutley', 'absolutli', 'absorb', 'absorpt', 'abstain', 'abstract', 'absurd', 'abuelo', 'abuelosit', 'abund', 'abus', 'ac', 'acacia', 'academi', 'acai', 'accent', 'accept', 'access', 'accessor', 'accessori', 'accid', 'accident', 'acclaim', 'accommod', 'accomod', 'accompani', 'accomplish', 'accord', 'accordingli', 'account', 'accredit', 'accross', 'accumul', 'accur', 'accus', 'accustom', 'ace', 'ach', 'acheat', 'achiev', 'aci', 'acid', 'acknowledg', 'acn', 'acoust', 'acquaint', 'acr', 'acrid', 'across', 'acryl', 'act', 'action', 'activ', 'activehealthi', 'activitiessuch', 'actor', 'actual', 'actulli', 'ad', 'adag', 'adam', 'adapt', 'add', 'addict', 'addictingli', 'addictionand', 'addit', 'addperhap', 'address', 'adelman', 'adequ', 'adio', 'adjac', 'adjoin', 'adjust', 'administr', 'admir', 'admiss', 'admit', 'admittedli', 'admonish', 'ado', 'adob', 'adobo', 'adolesc', 'adopt', 'ador', 'adorn', 'adovada', 'adquat', 'adrian', 'adriann', 'adrienn', 'adult', 'advanc', 'advantag', 'adventur', 'advert', 'advertis', 'advic', 'advicedo', 'advis', 'advisor', 'advoc', 'aeg', 'aerat', 'aerob', 'aeropress', 'aerosol', 'aesthet', 'affair', 'affect', 'afficianado', 'affili', 'afford', 'aficionado', 'afloat', 'aforement', 'afoul', 'afraid', 'africa', 'afteral', 'afterbar', 'afterdark', 'afternoon', 'afterthought', 'afterward', 'againramiro', 'againth', 'agap', 'agav', 'age', 'agenc', 'agent', 'aggress', 'ago', 'agon', 'agre', 'agreeabl', 'agreement', 'agua', 'aguila', 'ah', 'ahead', 'ahha', 'ahhh', 'ahhhh', 'ahhhhh', 'ahhhhhh', 'ahi', 'ahmaz', 'ahwahtuke', 'ahwatuke', 'aid', 'aiello', 'aiko', 'aim', 'aimlessli', 'aint', 'aioli', 'air', 'airand', 'aircool', 'airfair', 'airfar', 'airi', 'airlin', 'airpark', 'airplan', 'airport', 'airwari', 'airway', 'airwaysnev', 'aisha', 'aisl', 'aj', 'ajar', 'aji', 'ajo', 'ajvar', 'aka', 'aknowledg', 'akor', 'al', 'ala', 'alabama', 'alain', 'alameda', 'alan', 'alaska', 'alaskan', 'alastoo', 'albacor', 'albeit', 'alber', 'album', 'alcatraz', 'alcohol', 'aldo', 'ale', 'alert', 'alex', 'alfr', 'alfredo', 'alga', 'ali', 'alic', 'alicia', 'alien', 'alik', 'alittl', 'aliv', 'alla', 'allamerican', 'allay', 'allegi', 'allen', 'allend', 'allerg', 'allergi', 'allesia', 'allevi', 'alley', 'allh', 'allig', 'allnatur', 'allnight', 'allnightlong', 'alloc', 'allot', 'allow', 'allpredomin', 'allstar', 'allur', 'alluringmayb', 'almond', 'almondorang', 'almondsthi', 'almost', 'alo', 'aloft', 'aloha', 'alon', 'along', 'alongsid', 'aloo', 'aloof', 'alot', 'aloud', 'alphagraph', 'alreadi', 'alright', 'also', 'alter', 'alterc', 'altern', 'although', 'altic', 'alum', 'aluminum', 'alvadora', 'alway', 'alwaysw', 'amaaaaaz', 'amaaz', 'amado', 'amaebi', 'amalfi', 'amanda', 'amaretti', 'amarettiomg', 'amaretto', 'amarillo', 'amaro', 'amaz', 'amazing', 'amazingli', 'amazingtruli', 'amazingw', 'amazon', 'amazoncom', 'amber', 'ambianc', 'ambienc', 'ambient', 'ambrosia', 'amc', 'amen', 'amend', 'america', 'american', 'americanizeditalian', 'americano', 'amerizona', 'ami', 'amid', 'amidst', 'amish', 'ammo', 'amomi', 'among', 'amongst', 'amor', 'amount', 'amp', 'amphitheatr', 'ampl', 'ampm', 'amtrack', 'amus', 'amusebouch', 'an', 'anaheim', 'anal', 'anallyretent', 'analog', 'anatom', 'ancho', 'anchor', 'anchovi', 'ancient', 'andiamo', 'andor', 'andouil', 'andrea', 'andrew', 'andwait', 'andyandrew', 'anem', 'anew', 'angel', 'angela', 'angi', 'angl', 'anglais', 'angri', 'angst', 'anib', 'anim', 'animatron', 'anis', 'aniston', 'ankl', 'ann', 'anni', 'annihil', 'anniversari', 'announc', 'annoy', 'annual', 'anomali', 'anoth', 'anotherit', 'anotherwho', 'answer', 'ant', 'antchilada', 'anthem', 'anthoni', 'anti', 'antiag', 'anticip', 'anticipateda', 'anticipatedth', 'anticlimat', 'antipasta', 'antipasti', 'antipasto', 'antiqu', 'antiqueetc', 'antisept', 'antisoci', 'antithesi', 'antlerchandeli', 'antonio', 'anxieti', 'anxiou', 'anybodi', 'anyday', 'anyhow', 'anymor', 'anyon', 'anyth', 'anytim', 'anyway', 'anywayit', 'anywaysi', 'anywaysth', 'anywaystheir', 'anywaytri', 'anywher', 'anywho', 'ao', 'ap', 'apach', 'apart', 'apeel', 'apolog', 'apologet', 'apologizedr', 'apostl', 'apothecari', 'app', 'appal', 'appar', 'apparantli', 'apparel', 'apparit', 'appaul', 'appeal', 'appear', 'appet', 'appetit', 'appetito', 'appetizerwhich', 'appi', 'appit', 'appl', 'applaud', 'applaus', 'applebe', 'appletini', 'applewood', 'appli', 'applianc', 'applic', 'appoinmtnt', 'appoint', 'appointmentsand', 'apprais', 'appreci', 'apprehens', 'apprehensiveand', 'appreic', 'approach', 'appropri', 'approv', 'approx', 'approxim', 'appt', 'apricot', 'april', 'apron', 'apt', 'aqua', 'aquir', 'ar', 'arab', 'arbor', 'arborio', 'arbuckl', 'arcad', 'arcadia', 'arch', 'architect', 'architectur', 'archiv', 'arco', 'area', 'areawel', 'areif', 'arena', 'arent', 'argentin', 'argentinian', 'argu', 'argument', 'argyl', 'ariel', 'aris', 'arizona', 'arizonan', 'arizonian', 'arkansa', 'arlecchino', 'arlin', 'arm', 'armi', 'armour', 'armsand', 'arnold', 'aroma', 'aromat', 'around', 'aroundand', 'aroundi', 'arpaio', 'arragont', 'arrang', 'array', 'arrest', 'arriba', 'arribasgo', 'arriv', 'arriveddepart', 'arrivederci', 'arrog', 'arrowhead', 'arroz', 'art', 'artesian', 'arthur', 'arti', 'artichok', 'articl', 'artifact', 'artifici', 'artisan', 'artist', 'artistri', 'artoi', 'artsi', 'artwork', 'arugula', 'asada', 'asado', 'asahi', 'asana', 'asap', 'ascent', 'ash', 'asham', 'ashley', 'ashtanga', 'ashtray', 'asia', 'asian', 'asianmexican', 'asid', 'ask', 'askchildhood', 'askin', 'asleep', 'asparagu', 'aspargu', 'aspect', 'aspir', 'aspirin', 'ass', 'assault', 'assess', 'asset', 'asshat', 'asshol', 'assign', 'assinin', 'assist', 'asskiss', 'assoc', 'associ', 'assort', 'assum', 'assumpt', 'assur', 'astat', 'asterisk', 'astonish', 'astound', 'astrolog', 'asu', 'atari', 'atc', 'ate', 'athelet', 'athenian', 'athlet', 'atl', 'atlant', 'atlanta', 'atleast', 'atm', 'atmospher', 'atmosphereil', 'atmospherejust', 'atmospherewis', 'atom', 'atomospher', 'atop', 'atoyac', 'atrium', 'atroci', 'att', 'attach', 'attack', 'attain', 'attarct', 'attempt', 'attend', 'attende', 'attent', 'attest', 'attic', 'attir', 'attitud', 'attorney', 'attract', 'attribut', 'au', 'audac', 'audienc', 'audio', 'audiobook', 'audiovideo', 'audit', 'auditorium', 'aug', 'august', 'aunt', 'aunti', 'auspic', 'aussi', 'austin', 'australia', 'australian', 'authent', 'authenticabsolut', 'authenticstyl', 'author', 'autist', 'auto', 'autocross', 'autograph', 'automat', 'automobil', 'automot', 'autumn', 'avacado', 'avacodo', 'avadado', 'avail', 'avalanch', 'ave', 'avenu', 'averag', 'averagehorr', 'avers', 'avid', 'avo', 'avocado', 'avoid', 'avondal', 'aw', 'await', 'awak', 'awaken', 'awar', 'award', 'awardwin', 'away', 'awaybut', 'awaycaus', 'awe', 'awesom', 'awesomeeveryth', 'awesomei', 'awesometown', 'awfulit', 'awhil', 'awkward', 'awn', 'awsom', 'az', 'az88', 'azkaban', 'azn', 'azrescu', 'azspagirl', 'azucena', 'azz', 'ba', 'baba', 'babaganoush', 'babi', 'babyback', 'babykid', 'babysitt', 'bacardi', 'bachelor', 'bachelorett', 'back', 'background', 'backlit', 'backnin', 'backnot', 'backpack', 'backsid', 'backsoon', 'backstori', 'backunless', 'backvibr', 'backward', 'backyard', 'bacon', 'baconcheddar', 'baconick', 'baconsausageham', 'baconwrap', 'bad', 'bad18', 'badass', 'badger', 'badli', 'baeley', 'baffl', 'bag', 'bage', 'bagel', 'baggag', 'baggi', 'bagginsey', 'baghlava', 'bagjust', 'baguett', 'bahama', 'bahn', 'bail', 'bailey', 'bait', 'baiz', 'baja', 'bajesu', 'bajillion', 'bajillionair', 'bake', 'baker', 'bakeri', 'baklava', 'balanc', 'balconi', 'bald', 'ball', 'ballet', 'balloon', 'ballpark', 'ballroom', 'balm', 'balsam', 'baltimor', 'bam', 'bamboo', 'ban', 'banana', 'bananay', 'bananoffe', 'banco', 'band', 'bandera', 'bandido', 'bandit', 'bandito', 'banfield', 'bang', 'bangin', 'bangkok', 'bank', 'banker', 'bankruptci', 'bannana', 'banner', 'banquet', 'banquett', 'bant', 'banter', 'bap', 'bar', 'barand', 'barb', 'barback', 'barbacoa', 'barbara', 'barbecu', 'barbequ', 'barber', 'barbershop', 'barbqu', 'barcelona', 'bare', 'barefac', 'barefoot', 'barelyrecognizableasfood', 'barelytouch', 'bargain', 'bargin', 'bargoer', 'barista', 'bark', 'barley', 'barleywin', 'barn', 'barnesqu', 'barney', 'barnow', 'barr', 'barramundi', 'barrel', 'barrelmor', 'barrestaur', 'barri', 'barrier', 'barrio', 'barro', 'barssen', 'bartabl', 'bartend', 'bartenderserv', 'bartenderstay', 'bartenderwaitperson', 'bartista', 'bartlett', 'bartop', 'base', 'basebal', 'baselin', 'basement', 'bash', 'basha', 'basi', 'basic', 'basil', 'bask', 'basket', 'basketbal', 'baskin', 'basmati', 'bass', 'bast', 'bastard', 'bastardsoh', 'baston', 'bat', 'batch', 'bath', 'bathroom', 'batman', 'batmobil', 'baton', 'batter', 'batteri', 'battl', 'bavaria', 'bavarian', 'bay', 'bb', 'bbb', 'bbq', 'bbqd', 'bbqjoe', 'bc', 'bday', 'be', 'bea', 'beach', 'beam', 'bean', 'beansric', 'bear', 'bearabl', 'beard', 'bearyou', 'beast', 'beat', 'beaten', 'beater', 'beatl', 'beau', 'beauti', 'beaver', 'becam', 'becca', 'bechamel', 'beckett', 'becki', 'becom', 'becuz', 'bed', 'bedand', 'bedazzl', 'bedroom', 'bee', 'beef', 'beefchicken', 'beefi', 'beefsteak', 'beep', 'beepbeep', 'beer', 'beerbread', 'beerno', 'beeror', 'beerstyl', 'beet', 'beetl', 'beforeand', 'beforehand', 'befpr', 'beg', 'began', 'beggar', 'begin', 'beginn', 'beginningend', 'begrudgingli', 'begun', 'behalf', 'behav', 'behavior', 'behind', 'behold', 'beig', 'beignet', 'beij', 'bein', 'beirut', 'belgian', 'belief', 'believ', 'beliv', 'bell', 'bella', 'belli', 'belliger', 'bellini', 'belltown', 'belong', 'belov', 'belt', 'ben', 'bench', 'bend', 'bender', 'beneath', 'benedict', 'benefici', 'benefit', 'benev', 'benihana', 'benni', 'bent', 'bento', 'beppo', 'berat', 'berg', 'bergesson', 'berlin', 'bermuda', 'berri', 'berschler', 'bert', 'bertha', 'berto', 'besid', 'best', 'besti', 'bestor', 'bestow', 'bestth', 'bestthi', 'bet', 'bethel', 'betito', 'betta', 'better', 'bettera', 'betterjust', 'betterw', 'betti', 'betweeen', 'bev', 'beverag', 'beverli', 'bevmo', 'bewar', 'bewareit', 'beyonc', 'beyond', 'bf', 'bfast', 'bff', 'bfg', 'bgf', 'bhel', 'bi', 'biacoverd', 'biaggia', 'biagio', 'biali', 'bianco', 'biancocibo', 'biancothough', 'bias', 'bibimbap', 'bibl', 'bicycl', 'biden', 'bier', 'biet', 'big', 'bigass', 'bigastorewithjob', 'bigclear', 'bigger', 'biggest', 'biggi', 'bike', 'biker', 'bikini', 'bikiniclad', 'bikram', 'bilbo', 'bilini', 'bill', 'billet', 'billthey', 'biltmor', 'bimbo', 'bin', 'bind', 'bing', 'bingo', 'bingsoo', 'binkley', 'biographi', 'bird', 'birdi', 'birdlif', 'birth', 'birthday', 'birthdaychristma', 'birthdaythey', 'biryani', 'biscotti', 'biscuit', 'bismark', 'bison', 'bisqu', 'bistec', 'bistro', 'bit', 'bitch', 'bitchi', 'bite', 'bitten', 'bitter', 'bitti', 'bitttyyi', 'bitze', 'biz', 'bizarr', 'bj', 'bla', 'black', 'blackberri', 'blackboard', 'blacken', 'blackout', 'blackpinto', 'blackric', 'blacksmith', 'blackston', 'blade', 'blah', 'blame', 'blanc', 'blanca', 'blanco', 'bland', 'blank', 'blanket', 'blankiti', 'blare', 'blase', 'blasphemi', 'blast', 'blastdanc', 'blatantli', 'blaze', 'blazer', 'bleach', 'bleacher', 'blech', 'bleech', 'bleed', 'bleh', 'blemish', 'blend', 'blendini', 'bless', 'bleu', 'blew', 'blimpi', 'blind', 'blindfold', 'blindshotheavi', 'blink', 'bliss', 'blissrebar', 'blister', 'bloat', 'block', 'blockbust', 'blog', 'blond', 'blood', 'bloodi', 'bloodymari', 'bloom', 'blooz', 'blossom', 'blous', 'blow', 'blowdri', 'blower', 'blown', 'blowup', 'blt', 'blu', 'blue', 'blueberri', 'bluechees', 'bluemoon', 'blunt', 'blur', 'blush', 'blvd', 'bmw', 'bmx', 'bo', 'boa', 'boar', 'board', 'boast', 'boat', 'bob', 'boba', 'bobafi', 'bobahad', 'bobbi', 'boca', 'bocca', 'bock', 'bodi', 'bodyguard', 'bodywork', 'bog', 'bogey', 'bogi', 'bogo', 'bohemian', 'boil', 'boister', 'bold', 'bollywood', 'bolster', 'bolt', 'bomb', 'bombard', 'bombay', 'bomber', 'bombero', 'bombsyou', 'bon', 'bona', 'bonafid', 'bonanza', 'bond', 'bone', 'bonein', 'boneless', 'bonfir', 'bonn', 'bonni', 'bonu', 'bonus', 'boo', 'boob', 'boohiney', 'boohoo', 'book', 'bookingfront', 'bookletstyl', 'bookman', 'bookstor', 'boom', 'boooy', 'booshelf', 'boost', 'booster', 'boot', 'booth', 'booyah', 'booz', 'boozer', 'boozin', 'boozomet', 'bop', 'borad', 'bordeaux', 'border', 'bore', 'born', 'borrow', 'bosa', 'bosch', 'bosco', 'bosnia', 'bosnianjugoslavian', 'boss', 'bossi', 'bostic', 'boston', 'bosu', 'botan', 'botani', 'bother', 'bothersom', 'botox', 'bottl', 'bottom', 'bottomfeed', 'bottomless', 'bouch', 'bought', 'bouillabaiss', 'boulangeri', 'boulder', 'bounc', 'bouncer', 'bound', 'bounti', 'bouquet', 'bourbon', 'bourdon', 'bout', 'boutiqu', 'boutonnier', 'bow', 'bowl', 'bowlit', 'bowlplatesalad', 'bowti', 'box', 'boxand', 'boxer', 'boy', 'boycot', 'boyfriend', 'boyshort', 'bpa', 'bra', 'brace', 'brad', 'brag', 'braill', 'brain', 'brainless', 'brais', 'brak', 'brake', 'bran', 'branch', 'brand', 'brandi', 'branzino', 'brass', 'brasseri', 'brat', 'bratwurst', 'brave', 'bravo', 'bray', 'brazen', 'brazilian', 'brea', 'bread', 'breadawesom', 'breadcrumb', 'breadfruit', 'breadit', 'breadstick', 'breadtick', 'break', 'breaker', 'breakfast', 'breakfastbrunch', 'breakfastdang', 'breakfasti', 'breakfastnot', 'breakfastth', 'breaksfastlunch', 'breakthrough', 'breast', 'breath', 'breather', 'breathtak', 'breed', 'breez', 'breezi', 'brekafast', 'brenden', 'bretheren', 'breve', 'brew', 'brewer', 'breweri', 'brewpub', 'brewski', 'brianna', 'brick', 'brickoven', 'bridal', 'bride', 'bridesmaid', 'bridg', 'brie', 'brief', 'briefcas', 'briefli', 'brigg', 'bright', 'brighten', 'brighter', 'brightli', 'brillianc', 'brilliant', 'brim', 'brine', 'bring', 'brini', 'brio', 'brioch', 'brioni', 'brisk', 'brisket', 'british', 'britishfrench', 'brittan', 'brittl', 'brle', 'bro', 'broad', 'broadway', 'broast', 'broccoli', 'broccolini', 'brochett', 'brocolli', 'brodkin', 'broil', 'broke', 'broken', 'bronz', 'brooklyn', 'brookston', 'brophi', 'broth', 'brothdivin', 'brother', 'brotherinlaw', 'brothi', 'brough', 'brought', 'broun', 'brow', 'brown', 'brownfri', 'browni', 'brows', 'browser', 'bruchetta', 'bruder', 'brule', 'brulã', 'brunch', 'brunet', 'brunett', 'bruscetta', 'bruschetta', 'bruschettai', 'brush', 'brushetta', 'brussel', 'brutal', 'brutu', 'bryan', 'brã', 'bs', 'btch', 'btw', 'btwthe', 'bu', 'bubbl', 'bubl', 'buca', 'bucatini', 'bucco', 'buchanan', 'buck', 'bucket', 'buckey', 'buckhunt', 'buckl', 'buckwheat', 'bud', 'buddi', 'budget', 'budgetfriendli', 'budweis', 'bueno', 'buff', 'buffala', 'buffalo', 'buffet', 'buffett', 'bug', 'bugger', 'bugtussel', 'build', 'buildyourown', 'built', 'bulb', 'bulgogi', 'bulk', 'bull', 'bulldog', 'bullet', 'bullion', 'bullrid', 'bullshit', 'bullsht', 'bum', 'bummer', 'bump', 'bumper', 'bun', 'bunbut', 'bunch', 'bundl', 'bundyno', 'bunni', 'buona', 'buran', 'burger', 'burial', 'burl', 'burli', 'burlington', 'burn', 'burnt', 'burp', 'burrata', 'burrito', 'burritoshav', 'burritoswith', 'burro', 'burst', 'burton', 'busan', 'busboy', 'busboygirl', 'bush', 'busi', 'busier', 'busiest', 'businessman', 'businessth', 'buss', 'busser', 'bust', 'bustl', 'busyw', 'buta', 'butai', 'butbut', 'butcher', 'buti', 'butka', 'butt', 'butter', 'buttercream', 'buttercrunch', 'butterfish', 'butterfli', 'butteri', 'buttermarin', 'buttermilk', 'butternut', 'butterscallopsstrawberri', 'butterscotch', 'button', 'bux', 'buy', 'buybuybabi', 'buyer', 'buyingput', 'buzz', 'buzzi', 'bv500', 'bye', 'bygon', 'byob', 'byproduct', 'bytheglass', 'bã', 'c4', 'ca', 'cab', 'cabana', 'cabbag', 'cabbi', 'cabernet', 'cabeza', 'cabfabul', 'cabin', 'cabinet', 'cabl', 'cacti', 'cactu', 'cadillac', 'caesar', 'caesarish', 'caeser', 'cafe', 'cafeteria', 'caffein', 'cafã', 'cage', 'cagetrap', 'cajun', 'cajunstyl', 'cake', 'cakeof', 'cal', 'calabria', 'calamari', 'calamo', 'calcul', 'calendar', 'calf', 'cali', 'calib', 'calient', 'california', 'californiastyl', 'call', 'calland', 'caller', 'callingm', 'callou', 'calm', 'calori', 'calorienutrit', 'caloriessatur', 'calv', 'calypso', 'calzon', 'came', 'camel', 'camelback', 'camelbackhappi', 'camelview', 'camera', 'cameraphotographi', 'camil', 'camp', 'campaign', 'campbel', 'campu', 'campus', 'camu', 'can', 'canada', 'canail', 'canailleflock', 'canal', 'canasta', 'cancel', 'cancer', 'candac', 'candi', 'candid', 'candl', 'candlelit', 'candlemak', 'cane', 'canida', 'canin', 'canneloni', 'cannib', 'cannoli', 'cannon', 'cannot', 'cano', 'canoli', 'canopi', 'cant', 'canteen', 'cantina', 'canton', 'cantones', 'canyon', 'cap', 'capabl', 'capac', 'capaccino', 'caper', 'capicolla', 'capit', 'caponata', 'cappuccino', 'capres', 'capri', 'capriotti', 'capsul', 'captain', 'captiv', 'car', 'caradmom', 'caraf', 'caramel', 'caramelcolor', 'carb', 'carbchocol', 'carbload', 'carbohydr', 'carbon', 'carbonara', 'carbsugar', 'card', 'cardamom', 'cardboard', 'cardin', 'cardio', 'cardstock', 'care', 'career', 'carefre', 'caregiv', 'careless', 'cari', 'caribbean', 'carignor', 'carl', 'carla', 'carlo', 'carlton', 'carmax', 'carmel', 'carn', 'carnag', 'carnegi', 'carniceria', 'carnita', 'carnivor', 'carnivori', 'carol', 'carolina', 'carousel', 'carpacchio', 'carpaccio', 'carpal', 'carpet', 'carpool', 'carrabba', 'carri', 'carribbean', 'carrier', 'carrot', 'carrott', 'carryout', 'cart', 'cartel', 'carter', 'carton', 'cartwright', 'carv', 'casa', 'casaslightli', 'case', 'casella', 'casey', 'cash', 'cashew', 'cashier', 'casi', 'casino', 'casita', 'cask', 'casserol', 'cast', 'casual', 'casualfeel', 'cat', 'catagori', 'catalog', 'catalyt', 'catch', 'categori', 'cater', 'catfish', 'cathedr', 'caucasian', 'caught', 'cauldron', 'cauliflow', 'caus', 'causednot', 'caution', 'cautiou', 'caval', 'cavalleria', 'cave', 'caveat', 'cavelik', 'cavern', 'caviar', 'caviti', 'cayman', 'cb', 'cc', 'cd', 'cdc', 'cddvd', 'ceas', 'ceasar', 'ceaser', 'ceil', 'celebr', 'celebratori', 'celeri', 'celiac', 'celina', 'cell', 'cellar', 'cellist', 'cellphon', 'celsiu', 'cement', 'cenpho', 'censor', 'cent', 'center', 'centerbarsrestaurantsarena', 'centerphoenix', 'centr', 'central', 'centralthi', 'centric', 'centsgallon', 'centuri', 'ceram', 'cereal', 'ceremoni', 'cerignola', 'certain', 'certainli', 'certif', 'certifi', 'cesar', 'cesspool', 'cevap', 'cevich', 'cezann', 'cf', 'cfoo', 'cha', 'chaat', 'chaata', 'chagrin', 'chai', 'chain', 'chainsaw', 'chair', 'chairsdesk', 'chais', 'chalet', 'chalkboard', 'chalki', 'challah', 'challang', 'challeng', 'chamber', 'chambord', 'chamomil', 'champagn', 'champer', 'championship', 'champong', 'chana', 'chanc', 'chandeli', 'chandler', 'chang', 'changei', 'channel', 'chanterel', 'chantreloysterect', 'chao', 'chaoeven', 'chaparr', 'chapouti', 'chapter', 'char', 'charact', 'charburg', 'charcoal', 'chard', 'chardonnayi', 'charg', 'chargethen', 'chargril', 'charismaticcam', 'charit', 'chariti', 'charleen', 'charlen', 'charleston', 'charli', 'charlott', 'charm', 'chart', 'chase', 'chashu', 'chat', 'chatney', 'chatter', 'chatti', 'chavez', 'che', 'cheap', 'cheapand', 'cheaper', 'cheapest', 'cheapli', 'cheapskat', 'cheat', 'check', 'checke', 'checkedin', 'checker', 'checkin', 'checklist', 'checkout', 'checkup', 'cheddar', 'cheek', 'cheer', 'cheeri', 'cheerlead', 'chees', 'cheeseagain', 'cheeseboard', 'cheeseburg', 'cheesecak', 'cheesecakeim', 'cheeseit', 'cheeseoh', 'cheesesteak', 'cheesewhat', 'cheesey', 'cheesi', 'cheezit', 'chef', 'chefe', 'chefown', 'cheftoss', 'chelsea', 'chemex', 'chemic', 'cherish', 'cherri', 'cherryblossom', 'cheryl', 'chess', 'chestnut', 'chew', 'chewi', 'chiang', 'chianti', 'chic', 'chicago', 'chicagoan', 'chicagostyl', 'chiccharon', 'chichi', 'chick', 'chickafila', 'chicken', 'chickena', 'chickenamaz', 'chickenfri', 'chickeninstead', 'chickenit', 'chickensubtl', 'chickfila', 'chickpea', 'chiclet', 'chicori', 'chief', 'chilada', 'chilaquil', 'child', 'childbirth', 'childcar', 'childhood', 'childish', 'children', 'childsplay', 'chile', 'chilean', 'chilequil', 'chili', 'chiliadvers', 'chill', 'chilli', 'chilulah', 'chimi', 'chimichanga', 'chimmichurri', 'chin', 'china', 'chinaberri', 'chinatown', 'chine', 'chines', 'chino', 'chip', 'chipot', 'chipotl', 'chipotleranch', 'chipssalsa', 'chiptol', 'chiropract', 'chirp', 'chit', 'chitchat', 'chive', 'chix', 'chlorin', 'chock', 'chockful', 'chocol', 'chocolatecaramelfil', 'chocolatepeanut', 'chocolatestrawberri', 'chocolati', 'chocolatiest', 'chodang', 'choic', 'choir', 'choke', 'cholla', 'choloc', 'chomp', 'chompi', 'choos', 'chooser', 'chop', 'choppi', 'chopstick', 'chore', 'chorizo', 'chorizohello', 'chorro', 'choru', 'chose', 'chosen', 'chow', 'chowder', 'chri', 'chriss', 'christ', 'christian', 'christin', 'christma', 'christmastim', 'christoph', 'chrome', 'chronic', 'chronicl', 'chu', 'chualright', 'chuck', 'chuckl', 'chug', 'chump', 'chunk', 'chunki', 'church', 'churn', 'churro', 'chutney', 'chuy', 'chyna', 'chz', 'chã', 'ciabatta', 'ciao', 'cibo', 'cider', 'cigar', 'cigarett', 'cigarfriendli', 'cilantro', 'cinammo', 'cinderella', 'cindi', 'cinema', 'cinemark', 'cinnamon', 'cinnamonspici', 'cioppino', 'circa', 'circl', 'circu', 'circuit', 'circul', 'circumst', 'circusrodeo', 'cisco', 'cite', 'citi', 'citizen', 'citru', 'citrusi', 'citys', 'citywid', 'civic', 'civich', 'ck', 'clad', 'claim', 'clair', 'clam', 'clamp', 'clamshel', 'clang', 'clarendon', 'clarif', 'clarifi', 'clariti', 'class', 'classi', 'classic', 'classroom', 'classwork', 'classybutcasu', 'clatter', 'claud', 'claw', 'clean', 'cleaner', 'cleanest', 'cleanli', 'cleanlinessd', 'cleanser', 'cleanth', 'cleanup', 'clear', 'clearanc', 'clearheel', 'cleari', 'clearli', 'cleaver', 'clement', 'clerk', 'clever', 'cleverli', 'clich', 'click', 'clicquot', 'client', 'clientel', 'clif', 'cliff', 'climat', 'climax', 'climb', 'clincher', 'clingi', 'clinic', 'clint', 'clinton', 'clip', 'clock', 'clockminispeak', 'clockwork', 'clog', 'clooney', 'clorox', 'close', 'closedlam', 'closer', 'closest', 'closet', 'closeup', 'clot', 'cloth', 'cloud', 'cloudi', 'clove', 'clown', 'cloy', 'club', 'clubbar', 'clubbi', 'clubhous', 'clubprogram', 'clubswel', 'clue', 'cluedeliveri', 'clueless', 'clump', 'clumpi', 'clumsi', 'clunki', 'cluster', 'clutch', 'clyde', 'cmon', 'cmost', 'co', 'coach', 'coachdefens', 'coagul', 'coal', 'coalfac', 'coars', 'coast', 'coastal', 'coaster', 'coastmidwest', 'coat', 'coax', 'cob', 'cobak', 'cobb', 'cobbler', 'cobra', 'coc', 'coca', 'cocacola', 'cocain', 'cock', 'cockroach', 'cocktail', 'cocktailsw', 'cocoa', 'coconut', 'coconutchocol', 'cod', 'code', 'coe', 'cofco', 'coffe', 'coffeea', 'coffeeespresso', 'coffeegrind', 'coffeehous', 'coffeeit', 'coffeepul', 'coffeeshop', 'coffeewat', 'cohost', 'coin', 'coincid', 'coke', 'cola', 'colada', 'colbert', 'cold', 'coldston', 'cole', 'coleslaw', 'collabor', 'collaps', 'collar', 'collard', 'colleagu', 'collect', 'colleen', 'colleg', 'cologn', 'color', 'colorado', 'colorfulbut', 'colorist', 'colorno', 'colorsdesign', 'coloss', 'com', 'coma', 'comb', 'combat', 'combin', 'combo', 'combopepp', 'come', 'comeback', 'comedi', 'comfi', 'comfort', 'comic', 'comingsomeday', 'command', 'commenc', 'comment', 'commerc', 'commerci', 'commiss', 'commit', 'committe', 'common', 'commonli', 'commun', 'communist', 'communityeasi', 'communitywid', 'commut', 'comp', 'compadr', 'compain', 'compani', 'companion', 'compar', 'comparison', 'compart', 'compasion', 'compass', 'compassion', 'compat', 'compel', 'compens', 'compet', 'competit', 'competitor', 'compla', 'complain', 'complainoh', 'complaint', 'complement', 'complementari', 'complet', 'completelyim', 'complex', 'complic', 'compliment', 'complimentari', 'compon', 'compos', 'composit', 'composur', 'compot', 'comprehens', 'compress', 'compressa', 'compressor', 'compris', 'compromis', 'comput', 'computery', 'con', 'conceal', 'conced', 'concentr', 'concept', 'concern', 'concert', 'concess', 'conchita', 'concierg', 'conclud', 'conclus', 'concoct', 'concret', 'concur', 'condemn', 'condens', 'condesa', 'condescend', 'condiment', 'condit', 'condition', 'condo', 'condol', 'conduc', 'cone', 'confect', 'confectionari', 'confer', 'confess', 'confession', 'confid', 'confirm', 'confit', 'conflict', 'conform', 'confront', 'confuciu', 'confus', 'conge', 'congrat', 'congratul', 'congreg', 'congress', 'coninu', 'conjur', 'connect', 'connecticut', 'conneri', 'connoisseur', 'connoli', 'conscienc', 'conscienti', 'consciou', 'consecut', 'consequ', 'conservat', 'consid', 'consider', 'consign', 'consist', 'consistantli', 'consol', 'conspir', 'constant', 'constantli', 'constitut', 'construct', 'consult', 'consum', 'consumm', 'consumpt', 'contact', 'contagi', 'contain', 'contemporari', 'contend', 'content', 'contest', 'context', 'continent', 'continu', 'contract', 'contractor', 'contrari', 'contrarili', 'contrast', 'contribut', 'control', 'controlr', 'controversi', 'conveni', 'convent', 'convers', 'conversingwel', 'convert', 'convey', 'convict', 'convinc', 'cook', 'cooker', 'cooki', 'cookiecakechocol', 'cookiesoh', 'cookin', 'cookout', 'cooksmor', 'cool', 'coolant', 'cooler', 'coolest', 'cooney', 'cooper', 'coor', 'coordin', 'cooti', 'coown', 'cop', 'cope', 'copi', 'copic', 'copiou', 'copper', 'copypast', 'cor', 'cordial', 'cordon', 'corduroy', 'core', 'coreograph', 'corinthian', 'cork', 'corkag', 'corleon', 'corn', 'cornbread', 'corndog', 'corner', 'cornicopia', 'cornish', 'cornonthecob', 'corona', 'coronado', 'corp', 'corpor', 'correct', 'correctli', 'correl', 'correspond', 'corridor', 'corrod', 'corsag', 'corset', 'cortadito', 'corwn', 'cosa', 'cosmet', 'cosmo', 'cost', 'costa', 'costco', 'costli', 'costo', 'costum', 'cotija', 'cotta', 'cottag', 'cotton', 'cottonwood', 'cou', 'couch', 'cougar', 'cougarmanth', 'cough', 'could', 'couldnt', 'couldso', 'couldv', 'count', 'counter', 'counterheight', 'counterperson', 'counterservic', 'counti', 'countless', 'countri', 'countrycountri', 'countrysid', 'countrywid', 'coup', 'coupl', 'coupon', 'courag', 'cours', 'courseif', 'court', 'courteou', 'courtesi', 'courtney', 'courtyard', 'couscou', 'cousin', 'coutur', 'cover', 'coverag', 'coverup', 'covet', 'cow', 'cowboy', 'cowgal', 'cowork', 'cowtow', 'cox', 'coy', 'coyot', 'coz', 'cozi', 'cozier', 'cpc', 'cph', 'cpr', 'cpu', 'crab', 'crabstuf', 'crack', 'cracker', 'crackl', 'crackâ', 'cradl', 'craft', 'crafter', 'craftsman', 'craftsmanship', 'craigslist', 'cram', 'cramp', 'cranberri', 'crank', 'cranki', 'cranni', 'crap', 'crappi', 'crash', 'crate', 'crave', 'cravesenzym', 'craveworthi', 'crawfish', 'crawl', 'crayon', 'craze', 'crazi', 'cream', 'creamer', 'creami', 'creamiest', 'creamooooohhh', 'creamsso', 'creamy', 'creat', 'creation', 'creativ', 'creativedown', 'creator', 'creatur', 'cred', 'credenti', 'credibiilti', 'credit', 'creek', 'creep', 'creepi', 'creepili', 'crem', 'crema', 'creme', 'crenel', 'crep', 'crepe', 'crepelik', 'crepswhat', 'crept', 'crescent', 'crew', 'cri', 'crib', 'cricket', 'crime', 'crimin', 'crimini', 'crinkl', 'crisi', 'crisp', 'crispi', 'crisplightin', 'crispyand', 'crisscross', 'cristo', 'critic', 'critter', 'croce', 'crock', 'croissant', 'crook', 'crop', 'croqu', 'crosbi', 'cross', 'crossaint', 'crossfit', 'crossroad', 'crostini', 'crouton', 'crowd', 'crown', 'crrraazzyyi', 'cruchi', 'crucial', 'crucifix', 'crudo', 'cruelti', 'cruis', 'cruiser', 'cruller', 'crumb', 'crumbl', 'crummi', 'crunch', 'crunchi', 'crusad', 'crusesel', 'crush', 'crust', 'crustada', 'crusti', 'crustier', 'crustini', 'crustysoft', 'crystal', 'crã', 'cs', 'cub', 'cuban', 'cubbi', 'cube', 'cubesthat', 'cubicl', 'cucina', 'cucumb', 'cucumberonion', 'cue', 'cuff', 'cuisin', 'cuisinart', 'cuke', 'culinari', 'culinarili', 'culinaryvoid', 'culprit', 'cultur', 'culver', 'cum', 'cumin', 'cuon', 'cup', 'cupcak', 'cupcakefing', 'cuppot', 'cupstand', 'curat', 'curb', 'curd', 'cure', 'curios', 'curiou', 'curious', 'curl', 'curler', 'curli', 'currant', 'current', 'curri', 'curt', 'curtain', 'curtli', 'curv', 'cusack', 'cushi', 'cushion', 'cust', 'custard', 'custardicecustard', 'custom', 'custommad', 'cut', 'cutat', 'cute', 'cuti', 'cuticul', 'cutleri', 'cutlet', 'cutoff', 'cutshampoo', 'cutter', 'cutteri', 'cuz', 'cv', 'cycl', 'cyclingetc', 'cyclist', 'cyclo', 'cyl', 'cynic', 'd70', 'da', 'daa', 'dab', 'dac', 'dad', 'daddi', 'dagger', 'daikon', 'daili', 'dainti', 'dairi', 'dairyfre', 'dairythey', 'daiya', 'dakota', 'dale', 'dali', 'dalla', 'damag', 'damn', 'dan', 'dana', 'danc', 'dancelik', 'dancer', 'dancerthen', 'dandan', 'dandelion', 'dang', 'danger', 'daniel', 'danish', 'dank', 'danni', 'daphn', 'daquiri', 'darade', 'darci', 'dare', 'daredevil', 'dark', 'darkbut', 'darkchocol', 'darken', 'darker', 'darl', 'darla', 'darn', 'darryl', 'dart', 'dash', 'dashboard', 'date', 'datri', 'daughter', 'daughterfath', 'daughterinlawboth', 'daunt', 'dave', 'david', 'dawn', 'day', 'daycar', 'dayeveryday', 'dayflu', 'daylat', 'daylight', 'daynight', 'dayno', 'daytim', 'dazbog', 'daze', 'dazzl', 'db', 'dbagli', 'dbg', 'dc', 'dd', 'ddd', 'de', 'dead', 'deadbeat', 'deadlin', 'deadon', 'deaf', 'deal', 'dealer', 'dealership', 'dealt', 'deamon', 'dean', 'dear', 'dearli', 'death', 'deb', 'debacl', 'debat', 'debaucheri', 'debbi', 'debit', 'debitcredit', 'debra', 'debri', 'debt', 'debut', 'decad', 'decadesold', 'decaffin', 'decapit', 'deceller', 'decemb', 'decent', 'decept', 'decid', 'decidedli', 'decipher', 'decis', 'decisiongo', 'decit', 'deck', 'declar', 'declass', 'declin', 'decomiss', 'deconstruct', 'decor', 'decorum', 'decreas', 'decrepit', 'dedic', 'deduct', 'dee', 'deeeelic', 'deelish', 'deep', 'deeper', 'deepfri', 'deepli', 'deer', 'def', 'defalco', 'default', 'defend', 'defens', 'defer', 'defianc', 'defiantli', 'defin', 'definet', 'definetli', 'definilti', 'definit', 'definitli', 'defreakinglici', 'defunct', 'deg', 'degrad', 'degre', 'dehydr', 'deiti', 'dejavu', 'del', 'delay', 'delciou', 'delect', 'deli', 'deliber', 'delic', 'delicaci', 'delicatessen', 'delici', 'delicii', 'deliciousand', 'deliciousbut', 'deliciouso', 'delicioussatisfi', 'delight', 'delish', 'delishish', 'delit', 'deliv', 'deliverfre', 'deliveri', 'della', 'delmonico', 'delta', 'delux', 'demand', 'demeanor', 'demiglac', 'demis', 'demo', 'democrat', 'demograph', 'demonstr', 'deni', 'dennystyp', 'dens', 'dent', 'dental', 'dentist', 'dentistri', 'denver', 'deocrat', 'depart', 'departur', 'depend', 'depict', 'deplan', 'deplet', 'deplor', 'deposit', 'depot', 'depress', 'dept', 'depth', 'derelict', 'dermabras', 'dermatologist', 'dernmark', 'descend', 'deschut', 'describ', 'describecoup', 'descript', 'deseo', 'desert', 'deserthighli', 'desertth', 'deserv', 'deservedli', 'design', 'desir', 'desk', 'deskthey', 'despair', 'desper', 'despis', 'despit', 'dessert', 'dessertand', 'dessertbut', 'desserti', 'dessertthi', 'desserty', 'dest', 'destin', 'destress', 'destroy', 'detail', 'deter', 'determin', 'detroit', 'develop', 'devic', 'devil', 'devot', 'devour', 'devri', 'dewalt', 'dex', 'di', 'dia', 'diabet', 'diablo', 'diagnos', 'diagnosi', 'diagnost', 'dial', 'diamond', 'diamondback', 'dian', 'diari', 'diavola', 'diaya', 'dice', 'dicey', 'dick', 'dicknos', 'diddli', 'didholi', 'didnt', 'die', 'diecisei', 'diefor', 'diego', 'diehard', 'diet', 'dietari', 'dieter', 'difara', 'diff', 'differ', 'differenti', 'difficult', 'difficulti', 'dig', 'digdom', 'digestif', 'diggeti', 'diggiti', 'digit', 'digress', 'digressthi', 'dilemma', 'dilig', 'dill', 'dilla', 'dillard', 'dilli', 'dim', 'dime', 'diminish', 'dimli', 'dimlylit', 'dimmer', 'dimsum', 'din', 'dine', 'dinedin', 'dinedrink', 'dinein', 'diner', 'dinersdrink', 'ding', 'dingi', 'dinki', 'dinn', 'dinnecheck', 'dinner', 'dinnerand', 'dinnerdrink', 'dinnerlunch', 'dinnerlunchbreakfastwhatev', 'dinnersupp', 'dinnerwhat', 'dip', 'diplomat', 'dippin', 'dipshit', 'dire', 'direct', 'directli', 'director', 'dirt', 'dirti', 'dirtiest', 'disabl', 'disadvantag', 'disagre', 'disappear', 'disappoint', 'disappointingweird', 'disast', 'disastr', 'disbelief', 'discharg', 'disciplin', 'disclaim', 'disclos', 'disclosur', 'disco', 'discolor', 'discomfort', 'discontinu', 'discord', 'discount', 'discourag', 'discov', 'discoveri', 'discret', 'discriminatori', 'discshap', 'discuss', 'disdain', 'diseas', 'disengag', 'disgrac', 'disguis', 'disgust', 'disgustingdri', 'disgustingli', 'dish', 'dishesaj', 'dishit', 'dishonest', 'dishwat', 'disintegr', 'disinterest', 'disk', 'dislik', 'disloy', 'dismal', 'dismantl', 'dismay', 'dismiss', 'disney', 'disneyesqu', 'disneyland', 'disorgan', 'dispens', 'display', 'displaydecor', 'displeas', 'displeasur', 'dispos', 'disproportion', 'disregard', 'disrepair', 'disrespect', 'disrupt', 'dissapoint', 'dissatisfi', 'dissert', 'dissuad', 'distanc', 'distant', 'distast', 'distinct', 'distinctli', 'distinguish', 'distort', 'distract', 'distress', 'distribut', 'distributor', 'district', 'disturb', 'ditto', 'dive', 'diver', 'divers', 'divey', 'divid', 'divin', 'divis', 'dixi', 'dixon', 'diyer', 'dizzi', 'dj', 'djwellkindah', 'dk', 'dlish', 'dmoe', 'dmv', 'dnf', 'do', 'dobbin', 'dobson', 'doc', 'dock', 'docker', 'doctor', 'document', 'documentari', 'docustom', 'dodg', 'dodger', 'doesnt', 'doesntlik', 'dog', 'dogeatin', 'dogfish', 'dogfishhead', 'dogfoodadvisorcom', 'doggi', 'dogleg', 'dogsso', 'dogtags', 'doingbut', 'dolc', 'dole', 'doll', 'dollar', 'dollhous', 'dollop', 'dolma', 'dolmad', 'dolmeh', 'dolphin', 'dom', 'domest', 'domin', 'dominick', 'domino', 'donat', 'done', 'donedidnt', 'donkey', 'donor', 'dont', 'donut', 'doodl', 'doom', 'dooo', 'door', 'doorin', 'doorlittl', 'doorsand', 'doorsusi', 'doortodoor', 'doorway', 'doorwhat', 'doozi', 'dope', 'dorm', 'dorri', 'dose', 'dot', 'dote', 'doubl', 'doubledoubl', 'doubleend', 'doublefri', 'doublestack', 'doublewon', 'doubt', 'douch', 'doudi', 'dough', 'doughboy', 'doughhowev', 'doughnut', 'douh', 'dous', 'douxel', 'dove', 'dow', 'down', 'downer', 'downfal', 'downhil', 'downhom', 'download', 'downright', 'downsid', 'downstair', 'downtown', 'downtrodden', 'downuntil', 'dozen', 'dq', 'dr', 'draft', 'draftanyhoo', 'drag', 'dragon', 'dragonfli', 'drain', 'drama', 'dramat', 'drank', 'drastic', 'draught', 'draw', 'drawback', 'drawn', 'dre', 'dread', 'dream', 'dreami', 'dreamtot', 'dreg', 'dremel', 'drench', 'dress', 'dresser', 'dressier', 'dressingdrench', 'dressycasu', 'drew', 'dri', 'drier', 'drift', 'drill', 'drink', 'drinkdodey', 'drinker', 'drinksi', 'drinksth', 'drip', 'drive', 'driveand', 'drivebi', 'drivein', 'driven', 'driver', 'drivethrough', 'drivethru', 'driveway', 'drizzl', 'droban', 'drone', 'drool', 'drop', 'dropbi', 'dropin', 'dropout', 'drought', 'drove', 'drown', 'drug', 'druginfest', 'drum', 'drummer', 'drunk', 'drunken', 'drunkok', 'drycam', 'dryer', 'dryng', 'dryrub', 'drywal', 'ds', 'dscust', 'dslreportscom', 'dt', 'dtpho', 'duan', 'dubba', 'duce', 'duck', 'duckpick', 'dude', 'dudea', 'dudewher', 'due', 'dug', 'dugout', 'duh', 'duke', 'dulc', 'dulch', 'dumb', 'dumber', 'dumbest', 'dumbfound', 'dummi', 'dump', 'dumpl', 'dumpster', 'dun', 'dung', 'dunkin', 'dunno', 'duo', 'duothey', 'duper', 'duplic', 'durant', 'durat', 'durationwhich', 'dusk', 'dust', 'dutch', 'dutchman', 'duti', 'dutton', 'duvalin', 'dvd', 'dwindl', 'dy', 'dye', 'dyer', 'dynamit', 'dysart', 'dzughter', 'dã', 'eachoth', 'eager', 'eagerli', 'eagl', 'ear', 'earleir', 'earli', 'earlier', 'earlybird', 'earn', 'earnest', 'earth', 'earthi', 'earthif', 'eas', 'easi', 'easier', 'easiest', 'easili', 'easiy', 'easley', 'east', 'easter', 'eastern', 'easternmediterranean', 'eastsid', 'eastwood', 'easygo', 'easytous', 'eat', 'eatabl', 'eaten', 'eater', 'eateri', 'eatin', 'eatnlearn', 'eattri', 'eavesdrop', 'ebay', 'ecclect', 'echo', 'eclect', 'eclub', 'ecofriendli', 'econom', 'economi', 'ecstaci', 'ecstat', 'ect', 'ed', 'edamam', 'eddi', 'edemam', 'eden', 'edg', 'edgier', 'edibl', 'edison', 'edit', 'eduardo', 'educ', 'edupr', 'edward', 'eek', 'eel', 'ef', 'efax', 'eff', 'effect', 'effen', 'efficaci', 'effici', 'effin', 'effort', 'eg', 'egad', 'egg', 'eggcheeseonion', 'eggless', 'eggplant', 'eggrol', 'eggsfair', 'egypt', 'egyptian', 'eh', 'ei', 'eight', 'eighteen', 'einstein', 'eish', 'either', 'eitheri', 'eitherthat', 'eitherthey', 'el', 'elabor', 'elain', 'elast', 'elbow', 'elder', 'elderflow', 'elderli', 'eldest', 'elect', 'elector', 'electr', 'electron', 'eleg', 'element', 'elentra', 'eleph', 'elev', 'eleven', 'elizabeth', 'ella', 'elli', 'elliot', 'elm', 'elmer', 'eloqu', 'elot', 'els', 'elsa', 'elserud', 'elsewher', 'elseyour', 'elud', 'elus', 'elv', 'elvi', 'em', 'email', 'emapanada', 'embarass', 'embark', 'embarrass', 'embarrassingli', 'embellish', 'embezzl', 'embrac', 'emce', 'emerald', 'emerg', 'emiss', 'emot', 'empanada', 'empath', 'empathet', 'emphasi', 'empir', 'employ', 'employe', 'employess', 'empow', 'empti', 'emptor', 'emu', 'encas', 'encebollado', 'enchant', 'enchilada', 'enclos', 'encor', 'encount', 'encourag', 'encroach', 'encrust', 'end', 'endear', 'endeavor', 'endless', 'endlessli', 'endors', 'endovenera', 'endur', 'enemi', 'energet', 'energi', 'enforc', 'engag', 'engin', 'engine20l', 'england', 'english', 'engross', 'enhanc', 'enigma', 'enigmat', 'enjoy', 'enlarg', 'enlighten', 'enorm', 'enotria', 'enough', 'enoughand', 'enrag', 'enrol', 'ensalda', 'ensu', 'ensur', 'enter', 'entertain', 'enthusiasm', 'enthusiast', 'entic', 'entir', 'entiti', 'entitl', 'entomologist', 'entranc', 'entre', 'entreeprob', 'entreesbut', 'entrepreneur', 'entrepreneuri', 'entrepreneurship', 'entri', 'entrã', 'envelop', 'envi', 'enviorn', 'enviro', 'environ', 'environment', 'envis', 'epic', 'epiphani', 'episod', 'epitom', 'eponym', 'equal', 'equi', 'equip', 'equipetc', 'equival', 'er', 'era', 'erb', 'eric', 'erica', 'erin', 'erot', 'error', 'es', 'escap', 'escebech', 'escentu', 'esp', 'espana', 'esparza', 'especi', 'esplanad', 'espresso', 'essenc', 'essenti', 'esspresso', 'establish', 'estat', 'esteem', 'esthetician', 'estim', 'estrella', 'et', 'eta', 'etc', 'etcnot', 'etern', 'ether', 'ethic', 'ethiopian', 'ethnic', 'etienn', 'etiquett', 'etoufe', 'etouffe', 'eucalyptu', 'eugen', 'eugenia', 'euphoria', 'euro', 'europ', 'european', 'euthan', 'evalu', 'evang', 'evap', 'eve', 'even', 'event', 'eventeven', 'eventu', 'ever', 'everday', 'everespeci', 'everev', 'everi', 'eversinc', 'everybodi', 'everyday', 'everyday3', 'everyhth', 'everyon', 'everyth', 'everytim', 'everywher', 'everyyyyi', 'eveyth', 'evid', 'evil', 'evolv', 'evoo', 'ew', 'ewww', 'ewwww', 'ewwwwww', 'ex', 'exact', 'exactli', 'exactlyso', 'exager', 'exagger', 'exam', 'examin', 'exampl', 'exasper', 'exceed', 'exceedingli', 'excel', 'except', 'exceptionaali', 'excess', 'exchang', 'excit', 'exclaim', 'exclam', 'exclus', 'excowork', 'excruciatingli', 'excurs', 'excus', 'execut', 'exemplari', 'exercis', 'exfoli', 'exh', 'exhaust', 'exhibit', 'exist', 'exit', 'exodu', 'exot', 'expand', 'expans', 'expct', 'expect', 'expectaion', 'expectand', 'expedit', 'expens', 'expereinc', 'experi', 'experien', 'experienc', 'experiencedth', 'experienceeveryth', 'experiencefirst', 'experienceterr', 'experiment', 'expert', 'expertis', 'expertli', 'expir', 'explain', 'explaindefend', 'explan', 'explod', 'explor', 'explos', 'expo', 'export', 'expos', 'exposur', 'express', 'exquisit', 'exspens', 'extend', 'extens', 'extent', 'exterior', 'extort', 'extra', 'extract', 'extramil', 'extraordinari', 'extraordinarili', 'extrasth', 'extravaganza', 'extrem', 'extremli', 'exud', 'eye', 'eyebal', 'eyebrow', 'eyecandi', 'eyecar', 'eyeopen', 'eyesor', 'ez', 'f724', 'fab', 'fabric', 'fabul', 'fabulo', 'fabulu', 'face', 'facebook', 'facelift', 'facial', 'faciati', 'facil', 'facilit', 'fact', 'factor', 'factori', 'fade', 'faggot', 'fail', 'failur', 'faint', 'fair', 'fairi', 'fairli', 'fairmont', 'fairtrad', 'fairway', 'fairytal', 'faith', 'fajita', 'fajitasth', 'fajito', 'fake', 'fakefal', 'fakvil', 'falafel', 'fall', 'fallen', 'fals', 'fame', 'famili', 'familiar', 'familiescoupl', 'familyfriend', 'familyown', 'familyrun', 'familys', 'familystyl', 'familythey', 'famish', 'famou', 'fan', 'fanat', 'fanci', 'fancier', 'fanciest', 'fancystyl', 'fandito', 'fantabul', 'fantas', 'fantasi', 'fantast', 'fantastalist', 'fantasticalway', 'fantastich', 'fantasticyumm', 'far', 'farberwar', 'fare', 'fargin', 'fargo', 'farm', 'farmer', 'farmhous', 'farmland', 'farnsworth', 'fart', 'farther', 'farthest', 'fascia', 'fascin', 'fashion', 'fast', 'faster', 'fastest', 'fastfood', 'fastfriendlyfresh', 'fastish', 'fat', 'fatal', 'fatburg', 'fate', 'fatfat', 'fatfre', 'father', 'fatherinlaw', 'fathom', 'fatten', 'fatti', 'faucet', 'fault', 'faultther', 'faux', 'fav', 'fave', 'favi', 'favor', 'favorit', 'favoritethough', 'favorito', 'favourit', 'fawn', 'fax', 'fb', 'fck', 'fdown', 'fe', 'fear', 'feast', 'feat', 'featur', 'feb', 'febuari', 'fece', 'fed', 'feddi', 'feder', 'fee', 'feed', 'feedback', 'feeder', 'feel', 'feelgood', 'feellook', 'feenin', 'feet', 'feiend', 'feign', 'feist', 'felin', 'felip', 'fell', 'fella', 'feller', 'fellow', 'felt', 'femal', 'fenc', 'fender', 'feng', 'fennel', 'ferment', 'fermier', 'fern', 'fernidad', 'ferrari', 'ferrit', 'fertil', 'fervor', 'fest', 'festiv', 'fet', 'feta', 'fetch', 'fetoosh', 'fetta', 'fettucin', 'fettucini', 'fever', 'fewer', 'fez', 'ff', 'fh', 'fianc', 'fiance', 'fiancã', 'fictici', 'fiddler', 'fide', 'field', 'fiend', 'fieri', 'fiesta', 'fifteen', 'fifth', 'fiftysometh', 'fig', 'fight', 'fighter', 'figur', 'file', 'filet', 'filetofish', 'filiberto', 'filipino', 'filipinomexican', 'fill', 'fillednot', 'filler', 'fillet', 'filling', 'fillingi', 'fillyb', 'film', 'filmi', 'filthi', 'fin', 'final', 'finalment', 'financ', 'financi', 'find', 'fine', 'finedin', 'finei', 'fineil', 'finenot', 'finer', 'finess', 'finest', 'finger', 'fingerl', 'fingerprint', 'fingertip', 'finish', 'fire', 'firearm', 'firebird', 'firefli', 'firepit', 'fireplac', 'firewood', 'firework', 'firey', 'firm', 'firmdipbit', 'firmer', 'first', 'firsthand', 'firstli', 'firsttim', 'fish', 'fisherman', 'fishhead', 'fishi', 'fist', 'fit', 'fitcent', 'fitter', 'fitzgerald', 'five', 'fivestar', 'fix', 'fixa', 'fixabl', 'fixat', 'fixingsmmmmmmmm', 'fixtur', 'flag', 'flagstaff', 'flair', 'flake', 'flakey', 'flaki', 'flame', 'flamebroil', 'flamenco', 'flan', 'flank', 'flannel', 'flap', 'flare', 'flash', 'flashback', 'flashfri', 'flashlight', 'flask', 'flat', 'flatbread', 'flatiron', 'flatscreen', 'flatten', 'flatter', 'flauta', 'flautasrol', 'flaver', 'flavor', 'flavorgasm', 'flavorless', 'flavorlesserrthat', 'flavors', 'flavorso', 'flavorsodium', 'flavortextur', 'flavour', 'flaw', 'flawless', 'flee', 'fleet', 'fleme', 'flemmingseri', 'flew', 'flex', 'flexibl', 'fli', 'flick', 'flier', 'flight', 'flimsi', 'flimsiest', 'flip', 'flipper', 'flipstick', 'flirt', 'flirtini', 'flo', 'float', 'flock', 'flood', 'floor', 'flop', 'flora', 'floral', 'florenc', 'florentin', 'floret', 'florida', 'florist', 'floss', 'flour', 'flourless', 'flow', 'flower', 'flown', 'flu', 'fluent', 'fluf', 'fluff', 'fluffi', 'fluffyit', 'fluffytheyl', 'fluke', 'flummox', 'fluoresc', 'flush', 'fluster', 'flute', 'flutteri', 'flw', 'flyoverstateswhitefolk', 'fn', 'fnb', 'fo', 'foam', 'fob', 'focaccia', 'focal', 'foccacia', 'focu', 'focus', 'focusedsh', 'fodder', 'fogo', 'foi', 'foie', 'foil', 'fold', 'folk', 'folks600', 'folksgo', 'follow', 'followup', 'fond', 'fondant', 'fondest', 'fondu', 'font', 'fontina', 'foo', 'food', 'foodahol', 'foodappstri', 'foodcoffe', 'fooddrink', 'foodhav', 'foodhealth', 'foodi', 'foodit', 'foodjust', 'foodlik', 'foodnet', 'foodnot', 'foodprob', 'foodso', 'foodstuff', 'foodth', 'foodwis', 'foofi', 'fool', 'foolishli', 'foot', 'footag', 'footbal', 'foothil', 'footlong', 'footnot', 'forag', 'foray', 'forb', 'forbidden', 'forc', 'ford', 'forearm', 'foreign', 'foremost', 'forest', 'forev', 'forewarn', 'forgav', 'forget', 'forgett', 'forgiv', 'forgo', 'forgot', 'forgotten', 'fork', 'forktend', 'form', 'formal', 'format', 'former', 'formerli', 'formid', 'formula', 'fornaio', 'forno', 'forsaken', 'fort', 'forth', 'forthcom', 'forti', 'fortun', 'forvev', 'forward', 'fossil', 'foster', 'foul', 'foulest', 'found', 'foundat', 'founder', 'founderchef', 'fountain', 'four', 'fourfoot', 'fourstar', 'fourteen', 'fourth', 'fourtop', 'fouryearold', 'foward', 'fowl', 'fox', 'foxi', 'foxrc', 'foyer', 'fraction', 'fragranc', 'fraich', 'frail', 'frame', 'fran', 'franc', 'francesca', 'franchis', 'franci', 'franciscan', 'francisco', 'franco', 'frank', 'frankli', 'frantic', 'frapp', 'frappacino', 'frappuccino', 'frat', 'fray', 'frazzel', 'fraã', 'freak', 'freaki', 'freakin', 'fred', 'freddi', 'free', 'freedom', 'freeeveri', 'freerang', 'freerid', 'freestand', 'freeway', 'freez', 'freezer', 'freezerburn', 'french', 'frenchfri', 'frenchfryshap', 'frenchgreeksam', 'frenet', 'frenzi', 'frequent', 'fresca', 'fresco', 'frescolina', 'fresh', 'freshbak', 'freshen', 'fresher', 'freshest', 'freshgrat', 'freshli', 'freshlymad', 'freshlyroast', 'freshmad', 'freshman', 'freshsqueez', 'freshthank', 'freshthi', 'fret', 'freud', 'fri', 'fricas', 'frida', 'friday', 'fridaydinnerout', 'fridg', 'friend', 'friendli', 'friendlier', 'friendliest', 'friendsfamilykid', 'friendship', 'friessoda', 'frig', 'friggin', 'fright', 'frighten', 'frijol', 'frill', 'fring', 'frisco', 'fritatta', 'frite', 'frittata', 'fritter', 'fritto', 'fro', 'frog', 'frogger', 'fromag', 'frommi', 'fromth', 'front', 'frontier', 'frontlin', 'froo', 'froshi', 'frost', 'frosti', 'frostingpil', 'froth', 'frothi', 'froufrou', 'froyo', 'froze', 'frozen', 'frozenthenmicrowav', 'fru', 'fructos', 'frugal', 'frugl', 'fruit', 'fruiti', 'frustrat', 'frybread', 'fryer', 'frypiec', 'fryshel', 'ft', 'ftw', 'fubar', 'fuck', 'fuckhead', 'fuckyou', 'fuct', 'fuddruck', 'fudg', 'fuego', 'fuel', 'fuh', 'fuji', 'fujiya', 'fulfil', 'full', 'fulla', 'fullest', 'fulli', 'fullservic', 'fullsiz', 'fullyou', 'fume', 'fun', 'funcr', 'function', 'fund', 'fundido', 'fundito', 'fundrais', 'fungi', 'fungu', 'funki', 'funnel', 'funner', 'funni', 'funniest', 'funnyentertain', 'funprofession', 'furi', 'furiou', 'furnac', 'furnish', 'furnitur', 'furnitured', 'furri', 'furrow', 'furthermor', 'fuse', 'fusion', 'fuss', 'fussi', 'futur', 'fuzzi', 'fw', 'fwd', 'fyi', 'ga', 'gabe', 'gabi', 'gabriel', 'gadget', 'gadsden', 'gaeta', 'gag', 'gai', 'gain', 'gainey', 'gak', 'gal', 'galbi', 'galbut', 'galleri', 'galleryand', 'gallina', 'gallo', 'gallon', 'galor', 'galz', 'gambl', 'game', 'gameand', 'gamesthey', 'gammag', 'ganach', 'gang', 'gangli', 'gangplank', 'ganoosh', 'ganouj', 'ganoush', 'gansito', 'gap', 'garag', 'garbag', 'garbonzo', 'garden', 'gardengrow', 'gardeni', 'gardinn', 'garfield', 'gargantuan', 'gari', 'garland', 'garlic', 'garlicherb', 'garlickyspici', 'garlictyp', 'garmin', 'garner', 'garnish', 'gasket', 'gastriqu', 'gastronom', 'gastronomi', 'gastropub', 'gate', 'gateway', 'gather', 'gator', 'gauc', 'gaudi', 'gaug', 'gave', 'gawk', 'gay', 'gayle', 'gaze', 'gazillion', 'gazpacho', 'ge', 'gear', 'geasi', 'gee', 'geezerado', 'geisha', 'gel', 'gelati', 'gelato', 'gelatosorbet', 'gelish', 'gellato', 'gelleto', 'gem', 'gender', 'gene', 'gener', 'generi', 'geneves', 'geniu', 'genr', 'gent', 'gentl', 'gentleman', 'gentlemen', 'gentli', 'genuin', 'georg', 'georgi', 'georgia', 'germ', 'germain', 'german', 'germani', 'gerri', 'gestur', 'get', 'getaway', 'getsperiod', 'gettin', 'gf', 'ghetto', 'ghost', 'ghostli', 'giant', 'giardinara', 'giardiniera', 'gift', 'giftsdecor', 'gig', 'gigant', 'giggl', 'gil', 'gila', 'gilbert', 'gilda', 'gill', 'gimmick', 'gimmicki', 'gin', 'gina', 'ginandton', 'ginger', 'gingerbread', 'gingerbreadoh', 'ginhound', 'ginorm', 'gio', 'giorno', 'giraff', 'girl', 'girlfirn', 'girlfriend', 'girli', 'girlsand', 'gist', 'giu', 'giusepp', 'give', 'given', 'giver', 'glad', 'gladli', 'glam', 'glamor', 'glamour', 'glanc', 'gland', 'glare', 'glass', 'glassblow', 'glassbut', 'glasswar', 'glaze', 'gleam', 'glee', 'glendal', 'glib', 'glimps', 'glitch', 'glitter', 'glitteri', 'global', 'globalpisecur', 'globo', 'glom', 'glori', 'gloria', 'gloriou', 'gloss', 'glossi', 'glove', 'glow', 'gluten', 'glutenfil', 'glutenfre', 'glutenfreesur', 'glutton', 'gluttoni', 'gm', 'gnarlywhich', 'gnat', 'gnocchi', 'go', 'goal', 'goali', 'goat', 'goaz', 'gob', 'gobbl', 'gobi', 'god', 'goddamn', 'goddess', 'godfath', 'godiva', 'godth', 'goe', 'goer', 'goesi', 'goesth', 'gogo', 'goi', 'goingy', 'gokatgo', 'gold', 'golden', 'goldwat', 'golf', 'golfcart', 'golfer', 'gomen', 'gomer', 'gon', 'gone', 'goneperman', 'gong', 'gonna', 'goo', 'goober', 'gooby', 'good', 'goodand', 'goodby', 'goodcent', 'goodeveryon', 'goodi', 'goodif', 'goodnatur', 'goodnoth', 'goodor', 'goodsh', 'goodth', 'goodthi', 'goodwil', 'goodyear', 'gooey', 'goof', 'goofi', 'googl', 'goona', 'goood', 'goooood', 'gooooooood', 'goooooooood', 'goos', 'goosebump', 'gooydefin', 'goreg', 'gorganzola', 'gorgeou', 'gorgonzola', 'gosh', 'goshawfulgooey', 'gospel', 'gossip', 'got', 'gothic', 'goto', 'gotta', 'gotten', 'gotter', 'gouda', 'gourmet', 'governor', 'gowel', 'gown', 'gowshrimp', 'gp', 'gpa', 'gr8', 'gra', 'grab', 'grace', 'graciou', 'gracious', 'grad', 'grade', 'grader', 'gradi', 'gradual', 'graduat', 'graffenberg', 'graham', 'grain', 'grainfre', 'graini', 'grand', 'grandad', 'grandchildren', 'granddaddi', 'grandfath', 'grandios', 'grandma', 'grandmagrandpa', 'grandmoth', 'grandpar', 'grandson', 'granit', 'granola', 'grant', 'grape', 'grapefruit', 'graphic', 'grappa', 'grasp', 'grass', 'grassf', 'grassi', 'grassroot', 'grate', 'gratifyingi', 'gratin', 'gratitud', 'gratuiti', 'gratuitu', 'grave', 'gravel', 'gravelli', 'graveyard', 'gravi', 'gravlax', 'gravylik', 'gravypancakestoast', 'gravywhat', 'gravyy', 'gray', 'grayhawk', 'grazi', 'greas', 'greasepaint', 'greasewood', 'greasi', 'great', 'greatdont', 'greater', 'greatest', 'greatgener', 'greatgrandpar', 'greatjust', 'greatli', 'greatso', 'greatth', 'greatthey', 'greatw', 'greed', 'greedi', 'greeeeeeat', 'greek', 'greekstyl', 'green', 'greenbelt', 'greenvil', 'greenway', 'greenwayhayden', 'greet', 'greg', 'grelich', 'greta', 'grew', 'grey', 'gri', 'grigio', 'grill', 'griller', 'grimaldi', 'grimaldisbut', 'grin', 'grind', 'grinda', 'grinder', 'gringa', 'gringo', 'gripe', 'gristl', 'gristli', 'grit', 'gritsiv', 'gritti', 'grocer', 'groceri', 'groingrabbingli', 'groom', 'groomer', 'gross', 'grossbut', 'grossout', 'grossth', 'grotown', 'ground', 'group', 'groupi', 'groupon', 'groupwork', 'grous', 'grove', 'grow', 'growersfarmerssupport', 'growl', 'growler', 'grown', 'grownup', 'grr', 'grrr', 'grub', 'grudg', 'grumbl', 'grumpi', 'gruyer', 'gryo', 'gs', 'gs3', 'gspot', 'gspotgrapefruit', 'gtfo', 'guac', 'guacamol', 'guadalup', 'guangdong', 'guarante', 'guard', 'guardian', 'gucci', 'guenther', 'guerrero', 'guess', 'guest', 'guid', 'guido', 'guild', 'guilt', 'guiltfre', 'guilti', 'guin', 'guiness', 'guissep', 'guitar', 'gulf', 'gulp', 'gum', 'gumbo', 'gummi', 'gun', 'gunk', 'gunkan', 'gurl', 'guru', 'gush', 'gushi', 'gust', 'gusta', 'gusto', 'gut', 'gutbust', 'gutsi', 'guy', 'guysjam', 'gym', 'gymbore', 'gymnast', 'gyn', 'gynorm', 'gynormu', 'gyoza', 'gyrat', 'gyro', 'gã', 'h20', 'h2o', 'ha', 'habanero', 'habenaro', 'habenero', 'habit', 'haboob', 'hacienda', 'hacki', 'haddefinit', 'haddock', 'hadit', 'hadnt', 'hagard', 'hagen', 'haha', 'hahahahaha', 'hail', 'hair', 'haircot', 'haircut', 'haircutveri', 'hairi', 'hairless', 'haji', 'haley', 'half', 'halfblacken', 'halfday', 'halfempti', 'halfexpect', 'halfhalf', 'halfindoor', 'halfmoppinghalfattemptingtoclean', 'halfnak', 'halfpric', 'halfway', 'halibut', 'hall', 'halley', 'hallmark', 'halloween', 'hallway', 'halo', 'ham', 'hamachi', 'hamburg', 'hamburgessa', 'hamiltonbeach', 'hampshir', 'hana', 'hancock', 'hand', 'handbag', 'handedli', 'handheld', 'handi', 'handiwork', 'handkerchief', 'handl', 'handlebar', 'handmad', 'handrail', 'handsdown', 'handsom', 'handson', 'handwritten', 'handyman', 'haned', 'haney', 'hang', 'hangar', 'hangout', 'hangov', 'hank', 'hanker', 'hannah', 'hansen', 'hanson', 'haphazardli', 'haphazzard', 'happen', 'happenin', 'happhazardli', 'happi', 'happier', 'happiest', 'happili', 'happygolucki', 'har', 'harass', 'harbor', 'hard', 'hardboil', 'hardcor', 'harden', 'harder', 'harderand', 'hardest', 'hardi', 'hardli', 'hardpress', 'hardtofind', 'hardwar', 'hardwood', 'hardwork', 'harissa', 'harkin', 'harley', 'harm', 'harmoni', 'harold', 'harp', 'harri', 'harsh', 'harshit', 'hart', 'haru', 'harvest', 'harvil', 'hash', 'hashbrown', 'hashtag', 'hasnt', 'hassl', 'hasti', 'hastili', 'hat', 'hatch', 'hate', 'hatenot', 'hatha', 'hau', 'haul', 'haupiafil', 'hava', 'havana', 'havarti', 'havebecaus', 'haveh', 'havehad', 'havent', 'havnt', 'hawaii', 'hawaiian', 'hay', 'hayashi', 'hayden', 'hayrid', 'hazelnut', 'hbo', 'hcg', 'he', 'head', 'headach', 'headcheek', 'headi', 'headphon', 'headset', 'headsplit', 'heafti', 'heal', 'healer', 'health', 'healthcar', 'healthhygien', 'healthi', 'healthier', 'healthiest', 'healthydelici', 'healthyish', 'heap', 'hear', 'heard', 'hearingimpair', 'heart', 'heartbeat', 'heartbroken', 'heartburn', 'heartedli', 'heartfelt', 'hearth', 'hearti', 'heartworm', 'heat', 'heater', 'heath', 'heathen', 'heather', 'heatnoth', 'heatviagra', 'heaven', 'heavenit', 'heavenli', 'heavenlyincred', 'heavi', 'heavili', 'heck', 'heckthey', 'hectic', 'hector', 'hed', 'hedg', 'heed', 'heehe', 'heel', 'heelbut', 'hefeweizen', 'heff', 'heft', 'hefti', 'hegel', 'heh', 'heheh', 'heidelberg', 'height', 'heinou', 'heirloom', 'held', 'helen', 'hell', 'hellava', 'hellish', 'helllllltotheno', 'hello', 'helloit', 'helm', 'helmet', 'help', 'helper', 'helpful', 'helpfulren', 'helpless', 'helstrom', 'hem', 'hemet', 'hemroid', 'hen', 'henc', 'herb', 'herbal', 'herberg', 'herbveget', 'here', 'here5', 'hereberto', 'herebi', 'herediarrhea', 'herefor', 'herei', 'herelunch', 'herethank', 'herethi', 'herethought', 'herhi', 'heritag', 'hernandez', 'hero', 'herselfand', 'hershey', 'hertz', 'hesh', 'hesist', 'hesit', 'hesitantli', 'hey', 'heyday', 'heymayb', 'hh', 'hi', 'hiatu', 'hibachi', 'hiccup', 'hick', 'hickish', 'hickup', 'hidden', 'hide', 'hideaway', 'hideawayal', 'hideou', 'hideway', 'hifi', 'high', 'highback', 'highcalib', 'highcalori', 'highchair', 'highend', 'higher', 'highest', 'highga', 'highland', 'highli', 'highlight', 'highlymemor', 'highlyrespons', 'highpitch', 'highpric', 'highqual', 'highschool', 'hightech', 'highway', 'hike', 'hikeand', 'hiker', 'hilari', 'hill', 'hillard', 'hillston', 'hilo', 'hilton', 'himalayan', 'himherself', 'himwel', 'hinder', 'hint', 'hip', 'hiphop', 'hipper', 'hippi', 'hipster', 'hipsteri', 'hipstertrendi', 'hire', 'hiro', 'hisherself', 'hispan', 'histor', 'histori', 'hit', 'hitchin', 'hitormiss', 'hitup', 'hkguangdong', 'hm', 'hmm', 'hmmm', 'hmmmm', 'hmmmmm', 'hmmmmmmm', 'hmmph', 'hnnngffff', 'ho', 'hoagi', 'hoan', 'hob', 'hobbi', 'hobo', 'hock', 'hockey', 'hodgepodg', 'hoegaarden', 'hoffman', 'hog', 'hogwart', 'hohum', 'hoikey', 'hoist', 'hokokum', 'hold', 'holdem', 'holder', 'hole', 'holeinthewal', 'holey', 'holi', 'holiday', 'hollandais', 'holli', 'hollywood', 'holocaust', 'holyshit', 'homag', 'home', 'homecook', 'homefri', 'homefriesthey', 'homeless', 'homemad', 'homemadealso', 'homemak', 'homeopath', 'homer', 'homerun', 'homestyl', 'hometown', 'homework', 'homey', 'homini', 'homophobia', 'homou', 'honda', 'hondura', 'hone', 'honeslti', 'honest', 'honesti', 'honestli', 'honestlypanda', 'honey', 'honeycomb', 'honeydip', 'honeymoon', 'hong', 'honk', 'honor', 'hoo', 'hood', 'hoodlum', 'hook', 'hookah', 'hoooorray', 'hoopla', 'hooray', 'hoosier', 'hooter', 'hootsuit', 'hop', 'hope', 'hopi', 'hopit', 'hopno', 'hoppin', 'horatio', 'horchata', 'horizon', 'hormon', 'horn', 'horrend', 'horribl', 'horribleno', 'horrid', 'horrif', 'horrifi', 'horror', 'hors', 'horseback', 'horseradish', 'horsesho', 'horshradish', 'hose', 'hospit', 'hospitallik', 'host', 'hostag', 'hostess', 'hostessownermanag', 'hostil', 'hot', 'hotandsour', 'hotdog', 'hotel', 'hotelrestaurantbar', 'hotnreadi', 'hotpeopl', 'hotplat', 'hotpot', 'hotspot', 'hotter', 'hottest', 'hotti', 'hotw', 'hotziki', 'hound', 'hour', 'hourlong', 'hournev', 'hourof', 'hoursbut', 'hourwhich', 'hous', 'household', 'househunt', 'housemad', 'housesitt', 'houseturnedrestaur', 'housewar', 'housewif', 'houston', 'hover', 'how', 'howard', 'howdi', 'howel', 'howev', 'howl', 'hr', 'hs', 'htc', 'httpcidseengineeringasuedu', 'httpenwikipediaorgwikiburrata', 'httpessencebakerycomessencebakeryenvironmentallyfriendlyshtml', 'httpinteractiveasueduqhom', 'httpmonkeywonderlandcomblog', 'httpnewcollegeasueduharcsdegreesmajorsinterdisciplinaryartsandperformanceprogram', 'httpnewcollegeasuedumnsdegreescomputingappliedcomputingprogram', 'httpphoenixgovbndmapsindexhtml', 'httpphoenixorgwpcontentuploads201004camelbackmountaintrailheadoverflowparkingpng', 'httpschmoozeazcomblogp680', 'httptlivingsocialcomdeals453990refemailjprpi85154658', 'httpwwwautismcenterorgdefaultaspx', 'httpwwwazpbsorgcheckpleas', 'httpwwwbadmouthnetinnoutssecretmenu', 'httpwwwbbfwcom', 'httpwwwchristophersazcom', 'httpwwwcraigslistorgaboutbesthtf755891987html', 'httpwwwdoggiestepsdogtrainingcom', 'httpwwwflickrcompeopletysoncrosbi', 'httpwwwflickrcomphotosryno4113416766', 'httpwwwfourpeakscom', 'httpwwwhalorescueorgindexhtml', 'httpwwwinnoutcomsecretmenuasp', 'httpwwwlocalfirstazcomfallfestiv', 'httpwwwpizzeriabiancocom', 'httpwwwrestaurantcom', 'httpwwwtexasburgerguycom20050116xtrapattiesandxtracheeseshtml', 'httpwwwultrastarmoviescomparentmoviemorningasp', 'httpwwwyelpcombizphotos0buxoc0crqjpvkezo3bqogselecto9jiksbmobhcxoimsekqo9jiksbmobhcxoimsekq', 'httpwwwyelpcombizphotos0buxoc0crqjpvkezo3bqogselectrk8m1rxl50pb69c2yqqtgrk8m1rxl50pb69c2yqqtg', 'httpwwwyelpcombizrustlersroostephoenixhridgyib8ea4hdfylss17zcg', 'hub', 'hubbard', 'hubbi', 'hubri', 'hubster', 'huckleberri', 'hudson', 'hue', 'huera', 'huevo', 'hug', 'huge', 'hugeass', 'hugh', 'huh', 'hula', 'hullabaloo', 'hum', 'human', 'humbl', 'humboldt', 'humding', 'humid', 'humidifi', 'hummer', 'hummingbird', 'hummu', 'hummuses', 'hummusgrilledmarin', 'hummusnop', 'humor', 'humu', 'hundr', 'hung', 'hunger', 'hungov', 'hungri', 'hungrier', 'hungryit', 'hunk', 'hunt', 'hunter', 'hurrah', 'hurri', 'hurrican', 'hurt', 'husband', 'husbandli', 'hushpuppi', 'hussi', 'hustl', 'hut', 'huuuugggee', 'hyatt', 'hyberbol', 'hybrid', 'hyde', 'hydrant', 'hydrat', 'hydrogen', 'hydropon', 'hydropro', 'hygenist', 'hygien', 'hygienist', 'hype', 'hypnot', 'hypocrit', 'hyundai', 'i10', 'i17', 'ia', 'iam', 'iamtimhardi', 'ice', 'iceberg', 'icecold', 'icecream', 'icecreamlook', 'icecustard', 'ichi', 'ichigo', 'ici', 'icki', 'ickla', 'icon', 'id', 'idea', 'ideal', 'ident', 'idiot', 'idk', 'ie', 'iffi', 'ignit', 'ignor', 'ii', 'iii', 'iitoi', 'iitttyyi', 'ikea', 'il', 'ilb', 'ill', 'illeffect', 'illeg', 'illlll', 'illustr', 'im', 'imag', 'imageri', 'imagin', 'imax', 'imbu', 'imho', 'imit', 'immacul', 'immedi', 'immens', 'immers', 'immigr', 'immin', 'immobil', 'immun', 'imo', 'impact', 'impati', 'impecc', 'impend', 'imperi', 'imperson', 'impli', 'implicitlyso', 'import', 'importantit', 'importantli', 'importantlymi', 'importantlyy', 'imposs', 'impostor', 'impract', 'impres', 'impress', 'impressedi', 'imprint', 'impromptu', 'improp', 'improv', 'imtoosexyformyself', 'in', 'inabl', 'inact', 'inadequ', 'inandout', 'inappropri', 'inaugur', 'inauthent', 'inbetween', 'inbox', 'inc', 'incant', 'incarn', 'incent', 'incentivebut', 'inch', 'incid', 'incident', 'incidentbut', 'inclin', 'includ', 'includedwel', 'inclus', 'incom', 'incompet', 'incongru', 'inconsist', 'inconveni', 'inconvenic', 'inconvenienc', 'incorpor', 'incorrect', 'incorrectli', 'increas', 'increasingli', 'incred', 'incredib', 'inde', 'indecis', 'independ', 'indescrib', 'indestruct', 'indi', 'india', 'indian', 'indiana', 'indianpakistani', 'indic', 'indict', 'indiffer', 'indistinguish', 'individu', 'indoor', 'indopak', 'indra', 'induc', 'indulg', 'industri', 'ined', 'inevit', 'inexcus', 'inexpens', 'inexplic', 'infant', 'infantil', 'infect', 'inferior', 'infest', 'infin', 'inflamm', 'inflat', 'inflect', 'influenc', 'influx', 'info', 'inform', 'infront', 'infuri', 'infus', 'ingeni', 'ingest', 'ingrain', 'ingredi', 'ingredientsa', 'ingregi', 'ingrown', 'inhal', 'inhibit', 'inhous', 'inhuman', 'ini', 'initi', 'injera', 'injur', 'ink', 'inn', 'innear', 'inner', 'innoc', 'innocu', 'innout', 'innov', 'innova', 'innumer', 'inoa', 'inout', 'inoutdon', 'input', 'inquir', 'inquiri', 'inquisit', 'insan', 'inseason', 'insect', 'insecur', 'insert', 'insid', 'insideth', 'insidethat', 'insight', 'insist', 'insofar', 'inspect', 'inspector', 'inspir', 'inst', 'instal', 'instanc', 'instant', 'instantan', 'instantli', 'instantnoodl', 'instatnt', 'instead', 'instinct', 'institut', 'instor', 'instruct', 'instructor', 'instrument', 'insul', 'insult', 'insur', 'intact', 'intak', 'intang', 'integr', 'intel', 'intellectu', 'intellig', 'intend', 'intens', 'intent', 'interact', 'interest', 'interior', 'interject', 'interlud', 'intermingl', 'intermiss', 'intern', 'internet', 'internship', 'interpret', 'interrupt', 'interspers', 'intertub', 'interview', 'intim', 'intimaci', 'intimid', 'intoler', 'intolerancethey', 'intox', 'intrigu', 'intriguingli', 'intrins', 'introduc', 'introduct', 'intrud', 'intrus', 'intuit', 'invalid', 'invari', 'invas', 'invent', 'inventori', 'invergorden', 'invers', 'invest', 'investig', 'investor', 'invigor', 'invis', 'invit', 'involv', 'iodin', 'iolanda', 'ipa', 'ipad', 'ipadappar', 'iphon', 'ipic', 'ipod', 'ippei', 'iq', 'ir', 'iranian', 'iraq', 'irish', 'irk', 'irl', 'iron', 'ironi', 'irrat', 'irrelev', 'irreplac', 'irrig', 'irrit', 'isamazzzzzz', 'iselect', 'ish', 'isl', 'island', 'islet', 'isnow', 'isnt', 'isntlet', 'isra', 'israel', 'isso', 'issu', 'issuether', 'issuewhen', 'istor', 'isummmwel', 'itali', 'italia', 'italian', 'italianchinesemexicanamerican', 'italiano', 'italianstyl', 'itand', 'itbut', 'itch', 'itd', 'item', 'itemson', 'itemsso', 'iteveryth', 'iti', 'itinerari', 'itisslow', 'itit', 'itlittl', 'itll', 'itlov', 'ito', 'itphoenix', 'itstick', 'itth', 'itti', 'itun', 'ityou', 'iu', 'iv', 'ivaa', 'ivan', 'ive', 'ivegotthetwangytartwithdrawalshak', 'ivejustbeenbitchslappedbycaffein', 'ivev', 'ivi', 'ivori', 'jab', 'jack', 'jackass', 'jackedup', 'jacket', 'jacki', 'jackinthebox', 'jackrabbit', 'jacob', 'jacqu', 'jacuzzi', 'jade', 'jaim', 'jake', 'jalapeno', 'jalapeã', 'jalepeno', 'jalpeno', 'jam', 'jamaica', 'jamaican', 'jamba', 'jambalaya', 'jame', 'jameson', 'jamfig', 'jamoca', 'jan', 'jane', 'janet', 'jani', 'januari', 'japan', 'japanes', 'japcha', 'jar', 'jare', 'jargon', 'jasmin', 'jason', 'java', 'jaw', 'jay', 'jayz', 'jazz', 'jazzi', 'jcrew', 'jd', 'jealou', 'jealous', 'jean', 'jeansit', 'jedi', 'jeez', 'jeff', 'jefferson', 'jekyl', 'jelli', 'jello', 'jen', 'jenga', 'jenn', 'jenna', 'jennfer', 'jenni', 'jennif', 'jensi', 'jer', 'jeremiah', 'jerk', 'jerki', 'jerkyscor', 'jerri', 'jersey', 'jess', 'jesterz', 'jesu', 'jet', 'jetland', 'jetson', 'jewel', 'jewelri', 'jewess', 'jewish', 'jhane', 'jiang', 'jib', 'jiggl', 'jill', 'jillian', 'jim', 'jimmi', 'jist', 'jj', 'jk', 'joan', 'job', 'jobingcom', 'jobot', 'jodi', 'joe', 'joesgift', 'john', 'johnni', 'join', 'joint', 'joke', 'jokingli', 'joli', 'joliet', 'jolla', 'joltachinno', 'jon', 'jonathan', 'jone', 'jonesin', 'jook', 'joplin', 'jose', 'joshua', 'jouet', 'journey', 'joust', 'joy', 'jr', 'ju', 'juan', 'juba', 'jucey', 'judg', 'judith', 'juggl', 'juic', 'juicessmoothi', 'juici', 'juijitsu', 'jukebox', 'juli', 'julien', 'julio', 'julyish', 'jumbalaya', 'jumbo', 'jumbotron', 'jump', 'june', 'juneand', 'jungl', 'junior', 'junk', 'junki', 'junkyard', 'jura', 'juror', 'justic', 'justifi', 'justin', 'justina', 'justlensescom', 'justright', 'juxtapos', 'jw', 'jzzed', 'k56', 'ka', 'kabob', 'kahlo', 'kai', 'kalachi', 'kalamata', 'kale', 'kaleaid', 'kaleand', 'kaley', 'kama', 'kampachi', 'kang', 'kansa', 'kany', 'kaprow', 'kara', 'karahi', 'karaok', 'karawi', 'karen', 'karey', 'karma', 'karoak', 'karsh', 'karv', 'kasabian', 'kashman', 'kashmer', 'kasra', 'kat', 'katheaw', 'kathi', 'kathleen', 'kati', 'katlan', 'katsu', 'kaya', 'kayle', 'kaz', 'kazilici', 'kazimierz', 'kazmer', 'kebab', 'kee', 'keep', 'keg', 'keith', 'kellen', 'keller', 'kelley', 'kelli', 'ken', 'kennebec', 'kennel', 'kentucki', 'kept', 'kerri', 'ketchup', 'kettl', 'keurig', 'kevin', 'key', 'keyboard', 'keypad', 'keyskey', 'kfc', 'kfcsides', 'kha', 'khabibulin', 'khai', 'kia', 'kibbl', 'kick', 'kickass', 'kickasseri', 'kickbox', 'kickboxingyoga', 'kickbutt', 'kickermi', 'kickersaintso', 'kicki', 'kickin', 'kid', 'kiddi', 'kiddo', 'kidfriendli', 'kidnap', 'kidspecifc', 'kierland', 'kiersten', 'kik', 'kill', 'killer', 'killin', 'kilt', 'kiltlift', 'kim', 'kimber', 'kimberli', 'kimchi', 'kin', 'kind', 'kinda', 'kindli', 'kindr', 'kindsit', 'kinet', 'king', 'kingdom', 'kingston', 'kink', 'kinko', 'kiosk', 'kisra', 'kiss', 'kitchen', 'kitchenth', 'kitschi', 'kitten', 'kitti', 'kiwi', 'kk', 'klutzwasnt', 'knack', 'knee', 'kneehigh', 'knew', 'knick', 'knickknack', 'knob', 'knocci', 'knock', 'knook', 'knorr', 'knot', 'know', 'knowa', 'knowand', 'knowledg', 'knowlik', 'known', 'knowsb', 'kobe', 'koch', 'koi', 'koko', 'kokopelli', 'kona', 'kong', 'kool', 'koolaid', 'korea', 'korean', 'koreanmom', 'kosher', 'kota', 'kra', 'krab', 'kreameri', 'kreme', 'krispi', 'krista', 'kristen', 'kristian', 'kruez', 'kruger', 'krã', 'ks', 'ksubi', 'kubrick', 'kudo', 'kudohba', 'kufta', 'kumomato', 'kumquat', 'kung', 'kurobuta', 'kwss', 'kyle', 'kyot', 'kyoto', 'kyren', 'la', 'lab', 'label', 'labor', 'lace', 'laci', 'lack', 'lacklust', 'lactos', 'laden', 'ladi', 'ladl', 'lafayett', 'lagoon', 'lahna', 'lai', 'laid', 'laidback', 'lair', 'lait', 'lake', 'lake91110', 'lalibela', 'lamar', 'lamb', 'lambbas', 'lambic', 'lame', 'lamest', 'lamin', 'lamp', 'lan', 'land', 'landi', 'landmark', 'landon', 'landscap', 'lane', 'languag', 'lantana', 'lantern', 'lap', 'lapsang', 'laptop', 'lard', 'lardo', 'laredo', 'larg', 'larger', 'largest', 'larri', 'lasagna', 'lasagnar', 'laser', 'lash', 'lashextend', 'lassi', 'last', 'lastli', 'latch', 'late', 'latenight', 'later', 'latest', 'latilla', 'latin', 'latt', 'latter', 'laud', 'laudabl', 'laugh', 'laughter', 'launch', 'laundri', 'laura', 'lava', 'lavend', 'lavishli', 'lavosh', 'law', 'lawannah', 'lawn', 'lawyer', 'lax', 'lay', 'layaway', 'layer', 'layla', 'layout', 'layov', 'lazi', 'lazili', 'lazyasssweets', 'lb', 'lc', 'lcd', 'le', 'lead', 'leader', 'leaf', 'leafi', 'leagu', 'leah', 'leak', 'lean', 'leaner', 'leap', 'learn', 'leas', 'leash', 'least', 'leather', 'leatheri', 'leatherwork', 'leav', 'leavein', 'leavong', 'lebanesey', 'leberknã', 'lech', 'lechon', 'lectur', 'led', 'ledg', 'lee', 'leek', 'left', 'leftov', 'leg', 'legaci', 'legal', 'legend', 'legendari', 'legit', 'legitim', 'leguizamo', 'leila', 'lem', 'lemm', 'lemon', 'lemonad', 'lemonadeit', 'lemondadelemon', 'lemongrass', 'lemonherbheaven', 'lemoni', 'len', 'lenart', 'lend', 'length', 'lengthi', 'lengthwis', 'lengua', 'lens', 'lent', 'lentil', 'leonida', 'leotard', 'lepinja', 'lesbiangay', 'lesli', 'less', 'lesser', 'lesson', 'lessthanaverag', 'lest', 'let', 'letter', 'lettuc', 'lettucespr', 'level', 'lever', 'levi', 'leviticu', 'lewi', 'lexu', 'leyva', 'lgo', 'liabil', 'liar', 'libat', 'liber', 'liberac', 'liberti', 'libr', 'libra', 'librari', 'librarian', 'licenc', 'licens', 'lick', 'lickin', 'licoric', 'lid', 'lidless', 'lie', 'lienau', 'lieu', 'life', 'lifealt', 'lifechang', 'lifeless', 'lifelong', 'lifesav', 'lifestyl', 'lifetim', 'lift', 'lifter', 'light', 'lighter', 'lightli', 'lightn', 'lightrail', 'lightup', 'lightweight', 'like', 'likeabl', 'likeddidnt', 'liken', 'liketh', 'likey', 'liklihood', 'lil', 'lilli', 'lime', 'limead', 'limey', 'limit', 'limitless', 'limoncello', 'limp', 'limã³n', 'lincoln', 'linda', 'lindsay', 'lindsey', 'line', 'linen', 'liner', 'lineup', 'linger', 'lingeri', 'lingua', 'linguin', 'linguini', 'linguisa', 'linguist', 'link', 'lion', 'lionessi', 'lip', 'lipstick', 'liqour', 'liqueur', 'liquid', 'liquidi', 'liquor', 'lisa', 'lishcurri', 'lisou', 'list', 'listen', 'listlessli', 'lit', 'litchfield', 'lite', 'liter', 'literatur', 'litter', 'littl', 'littleeh', 'littleknown', 'littlest', 'live', 'liver', 'liverwurst', 'livestock', 'livingsoci', 'liz', 'lizard', 'lloyd', 'lmt', 'lo', 'load', 'loaf', 'loaner', 'loath', 'loav', 'lobbi', 'lobster', 'local', 'localici', 'locallychang', 'locallyown', 'locat', 'locationand', 'locationatmospher', 'locationloc', 'locationpleas', 'locationsonlin', 'locationviewatmospher', 'lock', 'locker', 'lockhart', 'locksmith', 'loco', 'locoyesp', 'lodg', 'lodi', 'loft', 'logic', 'logo', 'loin', 'loiter', 'lol', 'lola', 'lolcat', 'lolita', 'lollipop', 'lollypop', 'lolo', 'lomein', 'lon', 'london', 'lone', 'long', 'longer', 'longest', 'longgon', 'longish', 'longit', 'longterm', 'longtim', 'longvex', 'loo', 'loofah', 'look', 'lookout', 'loooong', 'looooong', 'loooooov', 'loooooung', 'loooov', 'loop', 'loopfat', 'loos', 'loosen', 'loov', 'lord', 'loren', 'loretta', 'lori', 'loroco', 'lose', 'loser', 'loss', 'lost', 'lot', 'lotion', 'lotteri', 'lotu', 'loud', 'loudi', 'loudli', 'loudspeak', 'loughner', 'loui', 'louisiana', 'loung', 'loungego', 'loungelik', 'lounger', 'loungey', 'lousi', 'lovabl', 'love', 'lovei', 'loveitloveit', 'loveli', 'lovelovelov', 'lover', 'lovey', 'lovin', 'lovvvv', 'low', 'lowbrow', 'lowcalori', 'lowcarb', 'lower', 'lowest', 'lowfat', 'lowfi', 'lowkey', 'lowli', 'lowlight', 'lox', 'loyal', 'loyalti', 'loyd', 'lozeng', 'ls', 'lsusaint', 'ltf', 'lthe', 'luau', 'lubi', 'lubric', 'luch', 'lucia', 'luciou', 'luck', 'lucki', 'luckili', 'lucr', 'luggag', 'lui', 'luke', 'lukewarm', 'lull', 'lulu', 'lululemon', 'luminaria', 'lumpia', 'lunch', 'luncha', 'lunchbrunch', 'lunchdinn', 'luncheon', 'lunchim', 'lunchonli', 'lunchtim', 'lung', 'lurch', 'lure', 'lurid', 'lush', 'lust', 'luster', 'luv', 'lux', 'luxuri', 'lyche', 'lynn', 'lyric', 'lysol', 'lã', 'maam', 'mabel', 'mac', 'macadamia', 'macademia', 'macalpin', 'macaron', 'macaroni', 'macaroon', 'macaw', 'macayo', 'macbook', 'macchees', 'macer', 'machaca', 'machin', 'maci', 'mackerel', 'macmillan', 'macmillian', 'macnchees', 'mad', 'madagascar', 'madam', 'madden', 'maddi', 'made', 'madeatthet', 'madetoord', 'madiera', 'madonna', 'madr', 'madra', 'madrid', 'maestro', 'mag', 'magazin', 'maggi', 'maggiano', 'magic', 'magna', 'magner', 'magnet', 'magnific', 'magnitud', 'magnolia', 'mah', 'mahhh', 'mahi', 'mahimahi', 'mai', 'maid', 'mail', 'mailbox', 'mailin', 'main', 'mainli', 'mainstay', 'mainstream', 'maintain', 'mainten', 'maitai', 'maizi', 'majerl', 'majest', 'major', 'make', 'makeov', 'maker', 'makeup', 'makeyourown', 'makin', 'makita', 'makok', 'malais', 'malaysian', 'malbec', 'male', 'malfunct', 'malibu', 'mall', 'mallcommon', 'mallesqu', 'mallmad', 'malt', 'mam', 'mama', 'mamma', 'mammal', 'mammoth', 'mamosa', 'man', 'manag', 'managermissinginact', 'managerown', 'manchego', 'manchurian', 'mandarin', 'mandatori', 'mandi', 'maneuv', 'manfriend', 'mangawher', 'manger', 'mangeroper', 'mango', 'mangopomegran', 'manhattan', 'manheld', 'mani', 'manicur', 'manicurist', 'manikin', 'manipedi', 'manipul', 'manmad', 'mannequin', 'manner', 'manual', 'manuel', 'manufactur', 'manzana', 'manzanita', 'manzi', 'map', 'mapl', 'maplesmok', 'mar', 'maraschino', 'marathon', 'marbl', 'marcellino', 'march', 'marco', 'mardi', 'maretplac', 'marg', 'margaret', 'margareta', 'margarita', 'margarita2nd', 'margaritasam', 'margherita', 'margin', 'marguerit', 'mari', 'maria', 'mariachi', 'maricopa', 'marilyn', 'marin', 'marinad', 'marinara', 'mariott', 'marjust', 'mark', 'markeplac', 'marker', 'market', 'marketplac', 'marketsthat', 'markup', 'marmalad', 'marnier', 'marque', 'marri', 'marriot', 'marriott', 'marrow', 'marsala', 'marshal', 'marshamallow', 'marshmallow', 'mart', 'martin', 'martinez', 'martini', 'martinisnot', 'marvel', 'maryland', 'maryval', 'marz', 'masa', 'masala', 'mascara', 'mascarpon', 'mash', 'masiman', 'mask', 'mason', 'mass', 'massag', 'masseus', 'massiv', 'master', 'masteri', 'masterpiec', 'mastro', 'mat', 'match', 'matchstick', 'mate', 'mateo', 'mater', 'materi', 'mathemat', 'matney', 'matt', 'mattar', 'matter', 'matterit', 'mattress', 'matur', 'matzo', 'mauclerc', 'maui', 'mauiit', 'maureen', 'maurizio', 'mauv', 'mawsh', 'max', 'maximum', 'maxipad', 'maxx', 'may', 'mayan', 'mayb', 'mayo', 'mayobas', 'mayonnais', 'maytag', 'mbp', 'mc', 'mccac', 'mccain', 'mcclendon', 'mcclintock', 'mccormick', 'mcd', 'mcdonald', 'mcdowel', 'mcgee', 'mcginni', 'mcgrath', 'mckellip', 'mcnugget', 'mcrae', 'mdame', 'meager', 'meal', 'mealreflect', 'mealytextur', 'mean', 'meander', 'meaning', 'meansmsg', 'meant', 'meantim', 'meanwhil', 'measli', 'measur', 'meat', 'meatbal', 'meatbeal', 'meathead', 'meati', 'meatless', 'meatlettucechees', 'meatloaf', 'meatlov', 'meatso', 'meatza', 'mecca', 'mechado', 'mechan', 'mecina', 'med', 'medallion', 'medditeranean', 'media', 'medic', 'medicin', 'medicor', 'mediev', 'mediocr', 'medit', 'mediterranean', 'medium', 'mediumrang', 'mediumrar', 'medley', 'meeeeeani', 'meet', 'meetup', 'mega', 'megan', 'meh', 'mein', 'meinmedium', 'mekong', 'mel', 'meld', 'mellow', 'melon', 'melonfishphoto', 'melt', 'melti', 'meltingli', 'meltinyour', 'meltinyourmouth', 'member', 'memberown', 'membership', 'memi', 'memo', 'memor', 'memorabilia', 'memori', 'men', 'mend', 'mental', 'mention', 'menu', 'menudo', 'menui', 'meow', 'meowganific', 'merc', 'merchandis', 'merchant', 'merci', 'mere', 'meringu', 'merit', 'merri', 'mesa', 'mesagateway', 'mesathey', 'mesha', 'mesquit', 'mess', 'messag', 'messi', 'met', 'metal', 'metat', 'mete', 'meteocr', 'meter', 'meth', 'methink', 'method', 'meticul', 'metro', 'metrophx', 'metropolitan', 'metrosexu', 'mex', 'mexicali', 'mexican', 'mexicanstyl', 'mexico', 'meyer', 'mf', 'mfin', 'mgr', 'mi', 'mia', 'miagi', 'miami', 'mic', 'michael', 'michel', 'michelina', 'michigan', 'mickey', 'micki', 'micro', 'microb', 'microbrew', 'microbreweri', 'microchip', 'microfoam', 'micromini', 'microwav', 'mid', 'mid1980', 'midday', 'middl', 'middleag', 'midget', 'midiron', 'midnight', 'midpric', 'midrang', 'midst', 'midweek', 'midwestern', 'mien', 'mierda', 'might', 'mighti', 'mightili', 'mightli', 'mignon', 'migrain', 'miguel', 'mikado', 'mike', 'mila', 'milanes', 'milano', 'mild', 'mildli', 'mildtast', 'mile', 'milic', 'militari', 'milk', 'milki', 'milkshak', 'mill', 'miller', 'million', 'mim', 'mimi', 'mimic', 'mimosa', 'min', 'mina', 'minc', 'mind', 'mindbodi', 'mindnumbingli', 'mindset', 'mine', 'mineand', 'minenev', 'miner', 'minestron', 'mingl', 'mingross', 'mini', 'miniatur', 'minicostco', 'minim', 'minimalist', 'minimalistmodern', 'minimum', 'miniscul', 'minisd', 'ministayc', 'minitaco', 'minna', 'minneapoli', 'minnesota', 'minni', 'minor', 'mint', 'mintchip', 'minti', 'minu', 'minuet', 'minut', 'minutesi', 'miracl', 'miracul', 'mirror', 'miscommun', 'miser', 'misfit', 'misfortun', 'mish', 'mishap', 'mishmash', 'mishmosh', 'misinform', 'misinterpret', 'misir', 'mislead', 'mismanag', 'mismatch', 'miso', 'miss', 'mission', 'mississippi', 'mist', 'mistak', 'mistaken', 'mistakenli', 'mister', 'misto', 'misunderstand', 'misunderstood', 'mitch', 'mitt', 'mix', 'mixer', 'mixtur', 'mj', 'mlb', 'mlbnflnba', 'mm', 'mma', 'mmm', 'mmmghgh', 'mmmm', 'mmmmgood', 'mmmmm', 'mmmmmm', 'mmmmmmm', 'mmmmmmmm', 'mmmmmmmmmmm', 'mmmmmmmmmmmm', 'mmmmmmmthey', 'mn', 'mnf', 'mni', 'mo', 'mobil', 'mocchiato', 'mocha', 'mochi', 'mock', 'mockingli', 'moco', 'mode', 'model', 'modelo', 'moder', 'modern', 'modest', 'modestli', 'modif', 'modifi', 'moescow', 'moist', 'moister', 'moistest', 'moistur', 'mojiot', 'mojito', 'mojo', 'molar', 'molass', 'mold', 'moldi', 'mole', 'molet', 'moli', 'molino', 'molli', 'molot', 'molten', 'mom', 'moment', 'momentum', 'momma', 'mommi', 'mompop', 'mon', 'monarch', 'monday', 'mondayseven', 'money', 'monfri', 'mongolian', 'monitor', 'monk', 'monkey', 'mono', 'monoton', 'monro', 'monsat', 'monster', 'monstrou', 'mont', 'montelucia', 'montenegro', 'monterey', 'monterrey', 'month', 'monthbut', 'monthli', 'monton', 'montu', 'monument', 'moo', 'mood', 'moodi', 'moon', 'moonlight', 'moor', 'mop', 'moral', 'moray', 'mordida', 'moreov', 'moreth', 'morgan', 'mormon', 'morn', 'moron', 'morph', 'morristown', 'mors', 'morsel', 'mortadella', 'morton', 'mostli', 'motel', 'mother', 'motherf', 'motherinlaw', 'motion', 'motiv', 'moto', 'motor', 'motorcycl', 'motorpestl', 'mound', 'mount', 'mountain', 'mourn', 'mous', 'mouss', 'mouth', 'mouthfeel', 'mouthit', 'mouthwat', 'move', 'movement', 'mover', 'movi', 'mower', 'mozarella', 'mozz', 'mozza', 'mozzarella', 'mozzarellaparma', 'mr', 'mrhardtopleas', 'mrlynn', 'ms', 'msg', 'mtn', 'mu', 'muay', 'much', 'mucho', 'mudslid', 'muerto', 'muffin', 'mug', 'muggi', 'mule', 'mullet', 'multi', 'multidimension', 'multigrain', 'multipl', 'multiplex', 'multipli', 'multitud', 'mum', 'mumbl', 'munch', 'munchi', 'mundan', 'munich', 'municip', 'muppet', 'mural', 'murder', 'murmur', 'murphi', 'murray', 'musac', 'muscl', 'muse', 'museum', 'mush', 'mushi', 'mushiest', 'mushrom', 'mushroom', 'mushu', 'music', 'musiccdvinyldvdus', 'musician', 'musket', 'musscl', 'mussel', 'must', 'mustachio', 'mustard', 'mustdo', 'muster', 'mustreturn', 'musttri', 'mustv', 'mustvisit', 'musubi', 'mutant', 'mute', 'mutil', 'mutt', 'mutter', 'mutton', 'mvp', 'mylissa', 'myselfit', 'mysteri', 'mystifi', 'mystiqu', 'myth', 'mytholog', 'na', 'naaaaah', 'naan', 'nacho', 'nada', 'nadia', 'nadya', 'naengmyeon', 'nag', 'nail', 'nailsjimmi', 'nair', 'nake', 'nam', 'namast', 'name', 'namecal', 'nametag', 'nami', 'nan', 'nando', 'nanni', 'naot', 'nap', 'napful', 'napkin', 'napoleon', 'napolitano', 'narcissist', 'narcisst', 'narrow', 'nascar', 'nasti', 'natali', 'nate', 'nathan', 'nation', 'nationwid', 'nationworld', 'nativ', 'natur', 'naturopath', 'naturopathbut', 'nau', 'nausea', 'nauseou', 'navajo', 'navig', 'nay', 'nba', 'nc', 'nchees', 'ncounter', 'ne', 'near', 'nearbi', 'nearest', 'nearli', 'nearperfect', 'neat', 'neatli', 'nebbiolo', 'necess', 'necessari', 'necessarili', 'necessit', 'neck', 'necklac', 'nectar', 'nectarin', 'need', 'needand', 'needi', 'needl', 'needless', 'neednt', 'neesd', 'nefari', 'neg', 'negat', 'neglect', 'negra', 'negress', 'neighbor', 'neighborhood', 'neiman', 'neither', 'nello', 'nengmyun', 'neo', 'neon', 'nephew', 'nerd', 'nervewrack', 'nervou', 'nespresso', 'nest', 'nestl', 'net', 'netflix', 'network', 'neuter', 'never', 'neverend', 'nevertheless', 'new', 'newark', 'newbi', 'newcom', 'newer', 'newest', 'newland', 'newli', 'newman', 'news', 'newshour', 'newslett', 'newson', 'newspap', 'newyork', 'next', 'nfl', 'ngd', 'ngoc', 'nh', 'nhat', 'nhra', 'nibbl', 'nice', 'nicefriendli', 'nicer', 'nicest', 'nicestlook', 'niceth', 'nick', 'nickel', 'nickl', 'nicknam', 'nicois', 'nicol', 'niec', 'nieceal', 'nigeri', 'night', 'nightand', 'nightbas', 'nightcap', 'nightclub', 'nighter', 'nighti', 'nightif', 'nightlif', 'nightmar', 'nightsmondayand', 'nightsound', 'nigiri', 'nigirisashimi', 'niglig', 'nigth', 'nike', 'nikejust', 'nikki', 'nikolai', 'nikon', 'nile', 'niman', 'nine', 'nineteen', 'ninja', 'nippl', 'nippon', 'niro', 'nirvana', 'nit', 'nita', 'nite', 'nitpick', 'nj', 'njni', 'nl', 'nob', 'nobl', 'noblewhich', 'nobodi', 'nobodyand', 'nobuo', 'noca', 'nocturn', 'nod', 'noel', 'nog', 'nogal', 'noir', 'nois', 'noiseloud', 'noisi', 'noisyquiet', 'nokid', 'nokil', 'nom', 'nomorestudyingatcoffeeshopsduringdinn', 'non', 'nonacrimoni', 'nonamerican', 'noncaffein', 'nonchain', 'nonclean', 'nondescript', 'none', 'nonetheless', 'nonexist', 'nonfat', 'nongf', 'nongreek', 'nonmainstream', 'nonmeat', 'nonmidfirst', 'nonna', 'nononsens', 'nonphoenixmetro', 'nonpizzeria', 'nonprofit', 'nonread', 'nonresid', 'nonscottsdaley', 'nonsens', 'nonservic', 'nonspecif', 'nonstop', 'nonstopawesom', 'nonsushi', 'nontradit', 'nonvegan', 'nonvegetarian', 'noodl', 'nook', 'noon', 'noooo', 'noooooooo', 'nope', 'nordi', 'nordiqu', 'nordstrom', 'norm', 'normal', 'norman', 'norterra', 'north', 'northern', 'northernnortheast', 'northwest', 'norton', 'nose', 'nosh', 'nosi', 'nostalg', 'nostalgia', 'nostril', 'notari', 'notch', 'note', 'notethi', 'noth', 'notic', 'notifi', 'notori', 'notoverlysauc', 'nott', 'nourish', 'nouvel', 'nov', 'nova', 'novel', 'novelti', 'novemb', 'novic', 'nowaday', 'nowbut', 'nowcrav', 'nowher', 'nowstay', 'nozzl', 'nsa', 'nt', 'ntn', 'nude', 'nueva', 'nuff', 'nugget', 'nuke', 'nulaid', 'numb', 'number', 'numer', 'numero', 'nun', 'nung', 'nurs', 'nurseri', 'nurtur', 'nut', 'nutcrack', 'nuteila', 'nutella', 'nutmeg', 'nutrit', 'nutriti', 'nutsack', 'nutsanyth', 'nutshel', 'nuttycrunchi', 'nuvi', 'nw', 'nwohio', 'ny', 'nyc', 'nypd', 'oahu', 'oak', 'oakvil', 'oasi', 'oatmeal', 'oaxaca', 'ob', 'obama', 'obgyn', 'object', 'oblig', 'obligatori', 'oblivion', 'obnoxi', 'obrien', 'obscen', 'obscur', 'observ', 'obsess', 'obstin', 'obstruct', 'obtain', 'obviou', 'obvious', 'occas', 'occasion', 'occass', 'occupi', 'occur', 'ocd', 'ocean', 'oclock', 'ocotillo', 'oct', 'octob', 'octomom', 'octopu', 'odd', 'odditi', 'oddli', 'odinian', 'odom', 'odonnel', 'odor', 'odyssey', 'offagain', 'offend', 'offens', 'offer', 'offic', 'offici', 'offseason', 'offwhit', 'oft', 'often', 'oftentim', 'ofthemo', 'oggi', 'ogl', 'oh', 'ohhh', 'ohhhhkay', 'ohi', 'ohio', 'ohlala', 'ohso', 'ohsochivalr', 'ohsogood', 'ohth', 'oil', 'oili', 'oiliest', 'oj', 'ok', 'okaaaaay', 'okay', 'okayi', 'okish', 'oklahoma', 'okra', 'okso', 'oktoberfest', 'ol', 'old', 'older', 'oldest', 'oldfashion', 'oldschool', 'oldsmobuick', 'oldstyl', 'oldtimey', 'ole', 'oleand', 'oli', 'oliv', 'olivesther', 'olivo', 'olli', 'olymp', 'omakas', 'omelet', 'omelett', 'omellet', 'omfg', 'omg', 'ominvor', 'omnivor', 'omt', 'onbecaus', 'onceand', 'oncethey', 'one', 'oneand', 'onehalf', 'onehundr', 'onekeep', 'oneofakind', 'oneofakindit', 'oneonon', 'oneperhap', 'oneplu', 'onestar', 'onethey', 'onetim', 'oneway', 'ongo', 'oni', 'onion', 'onionssom', 'onlin', 'onlook', 'ono', 'onset', 'onsinc', 'onsit', 'onslaught', 'onstar', 'onthi', 'ontim', 'onto', 'oo', 'oodl', 'ooey', 'ooh', 'oooh', 'ooooh', 'oooohhhh', 'oooooooo', 'ooooowwweee', 'oop', 'oopssometim', 'ooz', 'op', 'opelousa', 'open', 'openair', 'openclos', 'opent', 'oper', 'opera', 'opi', 'opinion', 'oppinion', 'opportun', 'oppos', 'opposit', 'oprah', 'opt', 'optic', 'optician', 'option', 'opto', 'opu', 'opul', 'oral', 'orang', 'orangecello', 'orangehead', 'orchard', 'orchestr', 'orchestra', 'orchid', 'ord', 'ordeal', 'order', 'orderli', 'orderright', 'orderw', 'ordinari', 'ordinarili', 'orecchiett', 'oreganata', 'oregano', 'oregon', 'oregonian', 'oreo', 'organ', 'organical', 'orgasm', 'orgi', 'orient', 'origin', 'oriva', 'orlando', 'orlean', 'orleanscajun', 'orleansseri', 'ornament', 'ornat', 'orthodontist', 'orvieto', 'orzo', 'oscar', 'osp', 'osso', 'ostentati', 'osteopath', 'oster', 'osu', 'osullivan', 'otaku', 'otfm', 'other', 'othersbut', 'otherwis', 'otoro', 'ouch', 'ought', 'ounc', 'out', 'outagain', 'outal', 'outbluesman', 'outclass', 'outcom', 'outdat', 'outdoor', 'outdoorfac', 'outdoorindoor', 'outer', 'outfield', 'outfit', 'outfitt', 'outgo', 'outgrow', 'outi', 'outing', 'outlook', 'outnot', 'outofthisworld', 'outoftown', 'outrag', 'outreach', 'outright', 'outshin', 'outsid', 'outsidedont', 'outsideinsid', 'outsourc', 'outstand', 'outstandingsh', 'outstretch', 'outta', 'outthey', 'oven', 'over', 'overal', 'overbear', 'overboard', 'overbook', 'overcharg', 'overcom', 'overcompens', 'overcook', 'overcrowd', 'overdo', 'overdon', 'overdu', 'overflow', 'overfri', 'overgrown', 'overh', 'overhaul', 'overhead', 'overhear', 'overheard', 'overheat', 'overli', 'overload', 'overlook', 'overlysweati', 'overnight', 'overpow', 'overpr', 'overr', 'overrod', 'overrun', 'overs', 'overse', 'oversea', 'oversold', 'overstuf', 'overtal', 'overthetop', 'overtim', 'overus', 'overview', 'overweight', 'overwhelm', 'overwhelmingli', 'ovoid', 'owe', 'owen', 'owl', 'own', 'owner', 'ownerchef', 'ownermanag', 'ownerproprietress', 'ownerscook', 'ownership', 'ownersstaff', 'ownreal', 'oxbow', 'oxid', 'oxtail', 'oy', 'oye', 'oyster', 'oz', 'pa', 'pablo', 'pac', 'pace', 'pacif', 'pacifi', 'pacifico', 'pack', 'packag', 'packedand', 'packet', 'pad', 'paddl', 'padi', 'padr', 'paella', 'page', 'pagliacci', 'paid', 'pain', 'painless', 'painstak', 'paint', 'painter', 'pair', 'pajama', 'pal', 'palabok', 'palac', 'palat', 'palatt', 'palc', 'pale', 'paleta', 'palett', 'pallet', 'palm', 'palmer', 'palomar', 'palpabl', 'paltri', 'pamper', 'pan', 'pana', 'panang', 'pancak', 'pancetta', 'pancho', 'pancit', 'pancreat', 'panda', 'pane', 'paneer', 'panel', 'panera', 'panfri', 'pani', 'panic', 'panini', 'panko', 'panna', 'panoram', 'pansear', 'pansi', 'pant', 'pantaloon', 'panti', 'pantri', 'pao', 'paola', 'papa', 'papago', 'papaya', 'papdi', 'paper', 'paperbath', 'paperthin', 'paperwork', 'pappa', 'pappadeaux', 'pappardel', 'par', 'parad', 'paradis', 'paramount', 'paraphenalia', 'paraphernalia', 'paraphras', 'parasit', 'parasitefre', 'parcel', 'parch', 'pardon', 'parent', 'parfait', 'pari', 'parilla', 'parish', 'park', 'parkandrid', 'parker', 'parksport', 'parkway', 'parlor', 'parm', 'parma', 'parmagian', 'parmagiana', 'parmesan', 'parmesean', 'parsley', 'parsnip', 'part', 'partak', 'parti', 'partial', 'particip', 'particuarli', 'particular', 'particularli', 'partner', 'partnership', 'partsromant', 'pasedena', 'pasena', 'paso', 'pasqual', 'pass', 'passabl', 'passageway', 'passeng', 'passerbi', 'passion', 'passionfruit', 'passiv', 'past', 'pasta', 'pastabar', 'pasti', 'pastor', 'pastrami', 'pastri', 'pastur', 'pat', 'patch', 'path', 'pathet', 'pathway', 'patienc', 'patient', 'patio', 'patioa', 'patrick', 'patrol', 'patron', 'patronag', 'patronsprob', 'pattern', 'patti', 'paul', 'paula', 'paulgstudiocom', 'pave', 'pavillion', 'pavl', 'pavlov', 'pavlovian', 'paw', 'pawn', 'pay', 'payatthepump', 'paycheck', 'payday', 'payingand', 'payingshuck', 'payment', 'payoff', 'payton', 'pazooki', 'pb', 'pbj', 'pbr', 'pc', 'pcg', 'pd', 'pea', 'peaberri', 'peac', 'peacemak', 'peach', 'peak', 'peanut', 'peanutbutt', 'peanutti', 'pear', 'pearl', 'pearli', 'peasi', 'pecan', 'pecanfig', 'pechuga', 'pecorino', 'pedal', 'peddl', 'pedestrian', 'pedi', 'pediatr', 'pedic', 'pedicur', 'pedigre', 'pedreg', 'pee', 'peed', 'peek', 'peekaboo', 'peel', 'peep', 'peer', 'peerpressur', 'peev', 'peggi', 'pei', 'peke', 'pellchck', 'pellet', 'pelo', 'pelon', 'pen', 'penal', 'penalti', 'penaltiesmass', 'pencil', 'pendant', 'penetr', 'penh', 'peni', 'penn', 'pennant', 'penni', 'penzey', 'peol', 'peolpl', 'peopl', 'peopleth', 'peoplethank', 'peoplewatch', 'peoria', 'pepl', 'pepper', 'peppercorn', 'pepperi', 'peppermint', 'peppermr', 'pepperocini', 'pepperoni', 'pepperysweet', 'pepsi', 'per', 'percent', 'perch', 'perchanc', 'perfect', 'perfectionist', 'perfectli', 'perfecto', 'perform', 'perfum', 'perhap', 'perimet', 'period', 'peripher', 'perk', 'perki', 'perman', 'permiss', 'permit', 'peroxid', 'perplex', 'perrier', 'persev', 'persian', 'persist', 'person', 'personal', 'personchristin', 'personnel', 'perspect', 'persuas', 'perturb', 'perus', 'pervert', 'pescatarian', 'pest', 'pester', 'pesto', 'pet', 'petal', 'pete', 'petello', 'peter', 'petfriendli', 'petit', 'petrifi', 'petshotel', 'petsit', 'petsitt', 'petti', 'petticoat', 'pew', 'pf', 'phad', 'phadseeew', 'pharmaci', 'phase', 'phenom', 'phenomen', 'phhighli', 'phil', 'philip', 'philippin', 'philli', 'phillo', 'philosoph', 'philosophi', 'phlegm', 'phnom', 'pho', 'phoenician', 'phoenix', 'phoenixgo', 'phoenixi', 'phoenixish', 'phoenixmetro', 'phoenixscottsdal', 'phoeniz', 'phok', 'phone', 'phoneipad', 'phoneix', 'phoni', 'phonomen', 'photo', 'photograph', 'photographi', 'photomark', 'photomart', 'photoshoot', 'photoshop', 'phoyuck', 'phrase', 'phuket', 'phx', 'physic', 'physician', 'physicmedium', 'pi', 'piaggion', 'piano', 'piatto', 'pibb', 'pibil', 'pic', 'picazzo', 'piccola', 'pick', 'picki', 'pickiest', 'pickl', 'pickledpreserv', 'pickup', 'pickypicki', 'picnic', 'pico', 'pictur', 'pictureperfect', 'picturesqu', 'pie', 'piec', 'piecesyoung', 'piecesyummm', 'piedmont', 'pier', 'pierc', 'pierrend', 'piestewa', 'pig', 'pigg', 'piggi', 'pilat', 'pile', 'pilgrim', 'pilgrimag', 'pillag', 'pillow', 'pillowi', 'pilot', 'pilsner', 'pima', 'pimp', 'pimpercrombi', 'pinafor', 'pinata', 'pinch', 'pine', 'pineappl', 'pineappleperfect', 'pinguino', 'pink', 'pinko', 'pinnacl', 'pinner', 'pinot', 'pinpoint', 'pint', 'pinto', 'pipe', 'piper', 'piqu', 'pirat', 'pischk', 'piss', 'pistachio', 'pistol', 'pit', 'pita', 'pitaoh', 'pitch', 'pitcher', 'piti', 'pitt', 'pizza', 'pizzaametro', 'pizzaguacamol', 'pizzait', 'pizzaria', 'pizzasthi', 'pizzaw', 'pizzazz', 'pizzeria', 'pizzooki', 'piã', 'pjl', 'placard', 'place', 'placeand', 'placebo', 'placec', 'placeit', 'placement', 'placeth', 'placew', 'plagu', 'plain', 'plainli', 'plaintain', 'plaintast', 'plan', 'plane', 'planet', 'plank', 'planner', 'plant', 'plantain', 'plantar', 'plantat', 'plantbas', 'plantstre', 'plasma', 'plaster', 'plastic', 'plasticwar', 'plate', 'platesplit', 'platesw', 'platewond', 'platform', 'platinum', 'platter', 'play', 'playabl', 'player', 'playerwho', 'playground', 'playingand', 'playingpet', 'playlist', 'plaza', 'plea', 'pleas', 'pleasant', 'pleasanti', 'pleasantli', 'pleasent', 'pleasur', 'pleather', 'pleeeaaasss', 'plenti', 'plesant', 'plethora', 'pley', 'plight', 'plinko', 'plinkoesqu', 'pllleeeeaaaassseeeee', 'ploenta', 'plop', 'plu', 'plug', 'plum', 'plumb', 'plumber', 'plump', 'plung', 'pluse', 'plush', 'pm', 'pmg', 'pnp', 'po', 'poach', 'poblana', 'poblano', 'poboy', 'poca', 'pocket', 'poetic', 'point', 'pointless', 'pois', 'poison', 'poivr', 'poke', 'poker', 'pole', 'polenta', 'polestar', 'polic', 'polici', 'policia', 'polish', 'polishcentr', 'polit', 'politician', 'polka', 'pollo', 'polo', 'polytechn', 'pom', 'pome', 'pomegran', 'pomo', 'pompou', 'poncho', 'pond', 'ponder', 'pong', 'poni', 'ponzu', 'pooch', 'poodl', 'pool', 'poolal', 'poolsid', 'poop', 'poopypick', 'poor', 'poorer', 'poorli', 'pop', 'popashot', 'popcorn', 'popcorn3', 'popo', 'popper', 'poppi', 'popul', 'popular', 'porch', 'porcini', 'pore', 'pork', 'porkless', 'porn', 'porridg', 'port', 'portabella', 'portabello', 'porter', 'portfolio', 'portion', 'portland', 'portlandia', 'portli', 'porto', 'portrait', 'portugues', 'pose', 'posh', 'poshswank', 'posit', 'posol', 'possess', 'possibl', 'post', 'postcard', 'poster', 'postino', 'postinosam', 'postnet', 'postprandi', 'postur', 'posturenot', 'pot', 'potato', 'potatoesa', 'potatoesamaz', 'potbelli', 'potenc', 'potent', 'potenti', 'pothol', 'potholderoven', 'potstick', 'potteri', 'poultri', 'pound', 'pour', 'pourov', 'poutin', 'pow', 'powder', 'powderi', 'power', 'pp', 'ppl', 'ppp', 'practic', 'practicemean', 'prada', 'prais', 'praisedmostli', 'pranc', 'prank', 'prawn', 'pray', 'prayer', 'pre', 'preach', 'prebread', 'precariouslyand', 'preced', 'preciou', 'precis', 'precoc', 'precutcouldnt', 'predat', 'predatorsg', 'predict', 'predinn', 'predispos', 'predomin', 'predominantli', 'preet', 'prefabr', 'prefac', 'prefect', 'prefectur', 'prefer', 'preferencesand', 'preferw', 'pregam', 'pregnanc', 'pregnant', 'prego', 'prelud', 'premad', 'premier', 'premis', 'premium', 'premiumhealthiest', 'preorder', 'prep', 'prepackag', 'prepaid', 'prepar', 'preparada', 'preper', 'preplex', 'preprep', 'preprepar', 'preprocess', 'preregistr', 'prerequisit', 'prereserv', 'prescrib', 'prescript', 'presenc', 'present', 'preserv', 'presid', 'presidenti', 'press', 'pressur', 'prestig', 'prestigi', 'presto', 'presum', 'pretend', 'pretens', 'pretenti', 'prethanksgiv', 'pretsel', 'pretti', 'prettier', 'prettiest', 'pretzel', 'prevent', 'previou', 'previous', 'preyelp', 'preystrateg', 'pri', 'price', 'priceit', 'pricelin', 'pricemi', 'pricepackag', 'pricesand', 'pricew', 'pricewel', 'pricewis', 'pricey', 'priceya', 'priceybut', 'prici', 'pricier', 'pricingdoenst', 'prick', 'prickli', 'pride', 'primari', 'primarili', 'primavera', 'prime', 'primer', 'primera', 'primo', 'princ', 'princess', 'principl', 'print', 'prior', 'prioriti', 'prison', 'pristin', 'privaci', 'privat', 'priveledg', 'priveleg', 'privi', 'priviledg', 'prixfix', 'pro', 'proactiv', 'prob', 'probabl', 'probalbi', 'probe', 'problem', 'problemat', 'proce', 'procedur', 'proceed', 'process', 'proclaim', 'procur', 'produc', 'product', 'productchip', 'profesh', 'profesion', 'profess', 'profession', 'professor', 'profil', 'profit', 'profitmark', 'profoundli', 'profus', 'program', 'programm', 'progress', 'prohibit', 'project', 'prolli', 'promin', 'promis', 'promiscu', 'promisether', 'promo', 'promot', 'prompt', 'promptli', 'pronounc', 'pronto', 'pronunci', 'proof', 'prop', 'propan', 'proper', 'properli', 'properti', 'proport', 'propos', 'proprietor', 'prosciutto', 'prosciuttoparmigiano', 'proscuitto', 'prospect', 'protect', 'protein', 'protip', 'protã', 'proud', 'proudli', 'prove', 'proven', 'provenc', 'proverbi', 'provid', 'provinc', 'provis', 'provision', 'provolon', 'prowl', 'proxi', 'proxim', 'ps', 'pseudo', 'pseudohipst', 'psguy', 'psycholog', 'psychologistmentorbutt', 'pub', 'public', 'publicservic', 'publish', 'publix', 'pud', 'puddl', 'pudg', 'pueblo', 'puerto', 'puff', 'puffi', 'pug', 'puka', 'puke', 'pull', 'pulver', 'pump', 'pumpernickel', 'pumpkin', 'pun', 'punch', 'punctual', 'punctur', 'punish', 'punjabi', 'punk', 'puntini', 'pup', 'puppet', 'puppi', 'puppyhyp', 'pupu', 'pupusa', 'purchas', 'purchasingupgrad', 'pure', 'purel', 'puri', 'purist', 'purista', 'purpl', 'purpos', 'purs', 'pursu', 'purveyor', 'purã', 'push', 'pushi', 'pushup', 'pussi', 'pussycat', 'put', 'puter', 'putrid', 'putt', 'puttanesca', 'puttanesco', 'puzzl', 'pv', 'pyllo', 'qc', 'qdoba', 'qhick', 'qs', 'qt', 'quack', 'quail', 'quaint', 'qualifi', 'qualiti', 'qualm', 'quandari', 'quantiti', 'quarter', 'quartsiz', 'quebec', 'queen', 'queer', 'quench', 'quesadilla', 'quesadlla', 'queso', 'quest', 'question', 'questionsi', 'queue', 'quibbl', 'quich', 'quick', 'quicker', 'quickli', 'quiessenc', 'quiet', 'quieter', 'quietli', 'quiktrip', 'quinc', 'quinoa', 'quintessenti', 'quirk', 'quirki', 'quirkili', 'quit', 'quiver', 'quizno', 'quot', 'qverpric', 'qwest', 'ra', 'rabbit', 'rabe', 'rabi', 'rabit', 'race', 'raceway', 'rachel', 'racial', 'rack', 'rackin', 'rad', 'radar', 'radiat', 'radio', 'radish', 'radiu', 'raffl', 'raft', 'rafter', 'rag', 'rage', 'rager', 'ragey', 'ragin', 'ragout', 'rai', 'rail', 'railroad', 'rain', 'rainbow', 'rainforest', 'raini', 'rais', 'raisin', 'raj', 'rake', 'ralph', 'rama', 'ramada', 'rambl', 'rambutan', 'ramen', 'ramikan', 'ramiro', 'ran', 'rana', 'ranch', 'ranchera', 'ranchero', 'rancid', 'randi', 'random', 'randomli', 'rang', 'rangoon', 'rank', 'ransack', 'ransom', 'rant', 'rapid', 'rare', 'rareplu', 'rarer', 'rariti', 'raspadotostito', 'raspberri', 'rat', 'rate', 'rather', 'ration', 'ratti', 'rattl', 'raunchi', 'ravag', 'rave', 'raven', 'ravioli', 'raw', 'rawk', 'rawr', 'ray', 'razor', 'razpado', 'rb', 'rc', 'rd', 'reaaaaalli', 'reach', 'reachabl', 'react', 'reaction', 'read', 'reader', 'readi', 'readili', 'real', 'realdeal', 'realist', 'realiti', 'realiz', 'realli', 'reallli', 'reallllllli', 'realllllllli', 'reallyreallysmart', 'realti', 'realtor', 'ream', 'reappear', 'reappli', 'rear', 'reason', 'reasonit', 'reassur', 'rebat', 'rebecca', 'rebel', 'rebook', 'rebutt', 'rec', 'recal', 'recant', 'recap', 'recaptur', 'reccomend', 'reccommend', 'receipt', 'receiptschang', 'receiv', 'recent', 'recept', 'receptacl', 'receptionist', 'recess', 'recharg', 'reciept', 'recip', 'recipei', 'recit', 'recker', 'reclin', 'recogn', 'recomend', 'recommend', 'recompens', 'recongn', 'record', 'recov', 'recoveri', 'recreat', 'recruit', 'rectifi', 'recycl', 'red', 'redchili', 'reddrench', 'reddwarf', 'redeem', 'redefin', 'redempt', 'redicul', 'redneck', 'redo', 'redon', 'redseven', 'reduc', 'reduct', 'redux', 'reeeealli', 'reef', 'reek', 'rees', 'reesesy', 'refer', 'referenc', 'referr', 'refil', 'refillpleas', 'refillsalway', 'refin', 'reflect', 'reflex', 'reflux', 'refreez', 'refresh', 'refri', 'refriger', 'refuel', 'refuge', 'refund', 'refus', 'reg', 'reganera', 'regard', 'regardless', 'reggiano', 'regina', 'regio', 'region', 'regist', 'registri', 'regress', 'regret', 'regrett', 'regul', 'regular', 'regularli', 'regularsjust', 'regularsonc', 'rehears', 'reheat', 'rehook', 'reimagin', 'reimburs', 'reina', 'reincarn', 'reinstal', 'reintroduc', 'reinvest', 'reiter', 'reject', 'rejoic', 'rejuvan', 'rejuven', 'rel', 'relat', 'relationship', 'relax', 'relay', 'relearn', 'releas', 'relent', 'relev', 'reli', 'reliabl', 'relianc', 'relief', 'reliev', 'religi', 'religion', 'relish', 'reliv', 'rellano', 'relleno', 'reluct', 'reluctantli', 'remain', 'remak', 'remark', 'remedi', 'rememb', 'remind', 'reminisc', 'remodel', 'remold', 'remors', 'remot', 'remov', 'renaiss', 'renam', 'render', 'renegad', 'renew', 'reno', 'renov', 'rent', 'rental', 'reopen', 'reorder', 'rep', 'repair', 'reparte', 'repeat', 'repeatedli', 'repetit', 'rephras', 'replac', 'replacedfor', 'replant', 'replenish', 'repli', 'replica', 'report', 'repot', 'repres', 'represent', 'repriev', 'reprogram', 'reptil', 'republ', 'republican', 'repuls', 'repurpos', 'reput', 'req', 'request', 'requir', 'reschedul', 'rescu', 'research', 'researchor', 'reseat', 'resembl', 'reserv', 'reservationthat', 'resid', 'residenti', 'resist', 'resl', 'resolv', 'resort', 'resortspa', 'resourc', 'respect', 'respond', 'respons', 'rest', 'restaraunt', 'restauant', 'restaur', 'restaurantbar', 'restaurantcom', 'restaurantcrush', 'restaurantgo', 'restaurateur', 'resteraunt', 'resto', 'restock', 'restor', 'restrict', 'restroom', 'restuar', 'restur', 'resturaunt', 'result', 'retail', 'retain', 'retard', 'retart', 'retent', 'rethink', 'retir', 'retort', 'retrain', 'retriev', 'retro', 'retrospect', 'retrovintag', 'return', 'reuben', 'reunion', 'reusabl', 'reveal', 'reveng', 'revers', 'review', 'reviewbut', 'reviewth', 'reviewthey', 'revisit', 'revit', 'reviv', 'revolv', 'reward', 'rey', 'rhonda', 'rhone', 'rhyme', 'rhythm', 'rhythmic', 'rib', 'ribbon', 'ribeeyeeee', 'ribey', 'rican', 'rice', 'ricehigh', 'ricespici', 'rich', 'richard', 'richardson', 'richardsonsrokerij', 'richest', 'richman', 'richmond', 'rick', 'rico', 'ricotta', 'rid', 'riddanc', 'ridden', 'riddl', 'ride', 'rider', 'ridg', 'ridgemont', 'ridicul', 'riesl', 'rifl', 'rig', 'rigatoni', 'right', 'rightli', 'rightso', 'rightwing', 'rigmarol', 'ring', 'rink', 'rins', 'rio', 'rip', 'riparian', 'ripe', 'ripen', 'ripest', 'ripoff', 'rise', 'riser', 'risk', 'riski', 'risotto', 'risser', 'rissottocorrect', 'ristor', 'ristorant', 'rita', 'rito', 'ritual', 'ritz', 'riva', 'rival', 'river', 'rnr', 'roach', 'road', 'roadhous', 'roadshow', 'roam', 'roar', 'roark', 'roast', 'roaster', 'rob', 'robata', 'robb', 'robbin', 'robe', 'robert', 'roberto', 'robot', 'robust', 'robyn', 'rock', 'rockabilli', 'rocker', 'rockerij', 'rocket', 'rocketburg', 'rockin', 'rocknrol', 'rocksteadi', 'rod', 'rode', 'roeser', 'rogu', 'roka', 'rokerij', 'roll', 'rollatini', 'rollbas', 'roller', 'rollin', 'rollsalso', 'rollson', 'rollup', 'rollyourown', 'roma', 'romain', 'roman', 'romanc', 'romanelli', 'romano', 'romant', 'rome', 'romper', 'ron', 'roof', 'rooftop', 'rooibo', 'room', 'roomi', 'roommat', 'roomrecept', 'roomsup', 'roosevelt', 'roost', 'rooster', 'root', 'rootbeerth', 'ropa', 'rope', 'rosa', 'rose', 'rosearoma', 'rosemari', 'rosi', 'rosita', 'ross', 'rosson', 'rot', 'rotari', 'rotat', 'rotc', 'rotd', 'rotisseri', 'rotten', 'rottiesheppard', 'roug', 'rough', 'roughli', 'round', 'roundtrip', 'rout', 'routin', 'rove', 'row', 'rowdi', 'roy', 'royal', 'royalti', 'rsvp', 'rt', 'rub', 'rubber', 'rubberi', 'ruben', 'rubi', 'rubio', 'rubz', 'rude', 'rudi', 'rueben', 'rug', 'rugbi', 'rugger', 'ruin', 'rule', 'rum', 'rumbi', 'rumbl', 'rumor', 'run', 'rundown', 'runni', 'runniest', 'runway', 'rural', 'rush', 'russian', 'rusti', 'rustic', 'rustica', 'rusticana', 'rustler', 'rutabaga', 'ruth', 'rx', 'rye', 'sa', 'sack', 'sacr', 'sacramento', 'sacrif', 'sad', 'sadden', 'saddl', 'sadli', 'safe', 'safer', 'safeti', 'safeway', 'saffron', 'safley', 'saga', 'sage', 'saguaro', 'said', 'saidbut', 'saigon', 'saint', 'saintli', 'sakana', 'sake', 'saki', 'sala', 'salad', 'saladfresh', 'saladi', 'saladsandwich', 'saladthey', 'salami', 'salari', 'salat', 'salazar', 'salcido', 'sald', 'sale', 'salek', 'salem', 'salesgirl', 'salesman', 'salesperson', 'saliv', 'saliva', 'salli', 'salmon', 'salmonyellowtailtuna', 'salon', 'salontrust', 'saloon', 'salsa', 'salscicia', 'salsiccia', 'salt', 'salti', 'saltiest', 'saltimbocca', 'saltin', 'salud', 'salut', 'salvag', 'sam', 'samburg', 'sammi', 'sammich', 'samosa', 'sampl', 'sampler', 'samuri', 'san', 'sanctuari', 'sand', 'sandal', 'sandalwood', 'sandi', 'sando', 'sandwhich', 'sandwich', 'sandwichessaladsetc', 'sandwichesthey', 'sandwichi', 'sane', 'sang', 'sangria', 'sanitari', 'sank', 'sant', 'santa', 'santan', 'santisi', 'sapl', 'sapporo', 'sar', 'sara', 'sarah', 'sarcasm', 'sarcast', 'sarrc', 'sarsaparilla', 'sashimi', 'sat', 'satay', 'sate', 'satellit', 'satiat', 'satifi', 'satisfact', 'satisfi', 'satisfyingli', 'satsun', 'satuday', 'satur', 'saturday', 'saturdaysunday', 'sauc', 'sauce1895', 'saucea', 'saucebut', 'sauceecstasi', 'saucer', 'saucespread', 'saucetast', 'saucey', 'sauci', 'sauerbraten', 'sauerkraut', 'sauna', 'saurkraut', 'sausag', 'sausageev', 'saute', 'sautã', 'sauv', 'save', 'saver', 'savor', 'savori', 'saw', 'sawdust', 'saxophon', 'say', 'say15min', 'saydont', 'sayi', 'sayin', 'sazerac', 'sb', 'sbux', 'scale', 'scallion', 'scallop', 'scam', 'scammedthink', 'scamorza', 'scan', 'scandalesqu', 'scandinavian', 'scant', 'scantili', 'scape', 'scar', 'scare', 'scarf', 'scari', 'scarier', 'scariest', 'scath', 'scatter', 'scenario', 'scene', 'sceneand', 'sceneri', 'sceney', 'scenic', 'scent', 'schedul', 'scheme', 'schmanci', 'schmear', 'schmick', 'schmuck', 'schnitzel', 'school', 'schoolnot', 'schreiner', 'schwettyand', 'scienc', 'scientif', 'scientificlog', 'scientist', 'scifi', 'scissor', 'scof', 'scold', 'scollop', 'scone', 'scoop', 'scooter', 'scope', 'scorch', 'score', 'scorpion', 'scotch', 'scothes10', 'scott', 'scottsadal', 'scottsdal', 'scottsdalelincoln', 'scottsdalian', 'scottsdalish', 'scowl', 'scraggli', 'scrambl', 'scrambler', 'scrap', 'scrape', 'scratch', 'scratcher', 'scream', 'screen', 'screw', 'script', 'scroung', 'scrub', 'scrumptiou', 'scrunch', 'sculptur', 'scum', 'scuzi', 'sd', 'sdl', 'se', 'sea', 'seabas', 'seabass', 'seafood', 'seal', 'seam', 'seamlessli', 'seamu', 'sean', 'sear', 'search', 'searscom', 'season', 'seat', 'seatinglot', 'seattl', 'seawe', 'sebastian', 'sec', 'second', 'secondari', 'secondi', 'secondli', 'secondworst', 'secret', 'secretari', 'section', 'sectionat', 'secur', 'sedona', 'see', 'seed', 'seedi', 'seek', 'seem', 'seemingli', 'seen', 'seeni', 'seenworth', 'seewhat', 'segment', 'segway', 'sekong', 'select', 'selectiony', 'selena', 'self', 'selfconsci', 'selfserv', 'selfservic', 'selftaught', 'sell', 'seller', 'semblanc', 'semerdjian', 'semest', 'semi', 'semialacart', 'semiannu', 'semihealth', 'semilong', 'seminew', 'semitrail', 'sen', 'send', 'sendoff', 'senior', 'senor', 'senorita', 'sens', 'sensat', 'sensibl', 'sensit', 'sensori', 'sensuou', 'sent', 'sentenc', 'sentiment', 'separ', 'sephora', 'septemb', 'sequenc', 'sera', 'serbian', 'seri', 'seriou', 'serious', 'seriouslythi', 'seriv', 'serous', 'serpentin', 'serrano', 'serum', 'serv', 'server', 'servergreat', 'serverscomplet', 'servic', 'serviceand', 'serviceif', 'serviceslow', 'servicew', 'servicewis', 'sesam', 'session', 'set', 'settl', 'setup', 'setwow', 'seven', 'sevenfigur', 'sever', 'sew', 'sewn', 'sex', 'sexi', 'sexiest', 'sexysultri', 'sf', 'sf25b', 'sfo', 'sfthe', 'sh', 'shabbi', 'shack', 'shade', 'shadi', 'shadow', 'shae', 'shaft', 'shake', 'shaken', 'shaker', 'shall', 'shallot', 'shame', 'shampoo', 'shanghai', 'shank', 'shannon', 'shape', 'shapetheir', 'shar', 'share', 'sharp', 'sharper', 'shasta', 'shatter', 'shave', 'shawarma', 'shazzam', 'she', 'shea', 'shed', 'sheen', 'sheep', 'sheer', 'sheesh', 'sheet', 'sheila', 'shelf', 'shell', 'shellac', 'shelley', 'shelter', 'shelv', 'shenanigan', 'shep', 'shepard', 'shepherd', 'sheraton', 'sheriff', 'sherlock', 'sherri', 'shi', 'shift', 'shifti', 'shimp', 'shin', 'shindig', 'shine', 'shiner', 'shini', 'ship', 'shipment', 'shirataki', 'shiraz', 'shirt', 'shishito', 'shit', 'shithead', 'shitmus', 'shitthen', 'shitti', 'shittier', 'shochu', 'shock', 'shocker', 'shockingli', 'shoe', 'shone', 'shook', 'shooshingsound', 'shoot', 'shooter', 'shootwho', 'shop', 'shopcasu', 'shopkeep', 'shopp', 'shopparadis', 'shopper', 'shopperiod', 'shoppingdin', 'shoppingnot', 'shorba', 'short', 'shortag', 'shortbreadtast', 'shorten', 'shorter', 'shorthand', 'shorti', 'shortleashdog', 'shortli', 'shortpar', 'shot', 'shotgun', 'shoulder', 'shouldnt', 'shouldv', 'shout', 'shoutout', 'shove', 'shovel', 'show', 'showcas', 'shower', 'shown', 'showroom', 'showstopp', 'shrapnel', 'shred', 'shrimp', 'shrimppork', 'shrink', 'shroom', 'shrug', 'sht', 'shtti', 'shu', 'shudder', 'shuffl', 'shuffleboard', 'shui', 'shuro', 'shut', 'shuttl', 'shwarma', 'shwarmasp', 'shyness', 'shyt', 'si', 'siam', 'sibl', 'sicilian', 'sick', 'sicken', 'sickeningli', 'sickli', 'side', 'sideal', 'sidecar', 'sidego', 'sidekick', 'sidepal', 'sideway', 'sidl', 'siebel', 'sift', 'sigh', 'sight', 'sign', 'signag', 'signal', 'signatur', 'signer', 'signific', 'significantli', 'signin', 'siider', 'silberschlag', 'silenc', 'silent', 'silk', 'silki', 'silklin', 'silkysmooth', 'silli', 'silvana', 'silver', 'silvermin', 'silverwar', 'sima', 'similar', 'similarli', 'simmer', 'simpl', 'simplest', 'simpli', 'simplic', 'simplifi', 'simplist', 'simpson', 'simultan', 'sin', 'sinatra', 'sinc', 'sincer', 'sincewel', 'sinfuland', 'sing', 'singapor', 'singer', 'singl', 'singleterriblehostess', 'singleton', 'sink', 'sinker', 'sinner', 'sinsr', 'sip', 'siphon', 'siptast', 'sir', 'sirloin', 'sissi', 'sister', 'sisterinlaw', 'sit', 'sitdown', 'site', 'sitsin', 'sitter', 'situat', 'situationbut', 'siu', 'sivananda', 'six', 'sixth', 'sixti', 'sixyear', 'sizabl', 'size', 'sizerann', 'sizzl', 'skate', 'skateboard', 'skeptic', 'sketchbook', 'sketchi', 'skew', 'skewer', 'skiba', 'skill', 'skillet', 'skillsal', 'skim', 'skimp', 'skimpi', 'skin', 'skinni', 'skip', 'skirt', 'skit', 'skull', 'sky', 'skylight', 'slab', 'slack', 'slam', 'slander', 'slang', 'slant', 'slap', 'slash', 'slate', 'slather', 'slaw', 'slawmi', 'sleazer', 'sleek', 'sleep', 'sleepi', 'sleev', 'slept', 'slew', 'slice', 'slide', 'slider', 'slight', 'slightest', 'slighti', 'slightli', 'slim', 'slimi', 'slinger', 'slip', 'slipper', 'slipperi', 'sliver', 'sllluuuurrrpp', 'slogan', 'slop', 'slope', 'sloppi', 'slouch', 'slow', 'slowest', 'slowli', 'slownot', 'slowroast', 'slur', 'slurp', 'slurper', 'slushi', 'sm', 'smack', 'small', 'smaller', 'smallest', 'smalli', 'smallish', 'smallshar', 'smart', 'smarten', 'smarter', 'smash', 'smashboxx', 'smatter', 'smear', 'smeek', 'smell', 'smelli', 'smile', 'smiley', 'smitti', 'smock', 'smoke', 'smokehouseoooh', 'smoker', 'smokey', 'smoki', 'smokin', 'smooth', 'smoother', 'smoothi', 'smoothli', 'smore', 'smother', 'smucker', 'smuggl', 'snack', 'snag', 'snail', 'snake', 'snap', 'snapper', 'snappi', 'snarl', 'sneak', 'sneaki', 'sneer', 'sneez', 'snicker', 'snickerdoodl', 'snif', 'sniff', 'sniffl', 'sniffster', 'snikerdoodl', 'snob', 'snobbi', 'snobbish', 'snoooti', 'snooti', 'snort', 'snotti', 'snottili', 'snottsdal', 'snow', 'snowbird', 'snub', 'soa', 'soak', 'soap', 'soapi', 'soba', 'sober', 'socal', 'soccer', 'social', 'societi', 'societya', 'sock', 'socket', 'soda', 'sofa', 'sofiait', 'soft', 'softbal', 'softdrink', 'softe', 'soften', 'softer', 'softshel', 'softwar', 'soggi', 'soi', 'sol', 'solar', 'sold', 'soldier', 'sole', 'solemnli', 'solicit', 'solid', 'solidli', 'solitair', 'solitari', 'solitud', 'solo', 'solstic', 'solut', 'solv', 'sombra', 'sombrero', 'somebodi', 'someday', 'somehow', 'somehwer', 'someon', 'someplac', 'someth', 'somethingsom', 'sometim', 'somewhat', 'somewher', 'somewherell', 'sommeli', 'sommersault', 'somtim', 'son', 'song', 'soni', 'sonic', 'sonni', 'sonora', 'sonoran', 'soo', 'soon', 'sooner', 'soontob', 'sooo', 'soooo', 'sooooo', 'soooooo', 'sooooooo', 'soooooooo', 'sooooooooo', 'sooooow', 'sooth', 'sop', 'sopa', 'sopapilla', 'sophi', 'sophia', 'sophist', 'sophomor', 'soprano', 'sorbet', 'sordid', 'sore', 'sorento', 'soror', 'sorrentino', 'sorri', 'sorrow', 'sort', 'sorta', 'sosinc', 'soso', 'sou', 'souchong', 'souffl', 'sought', 'soul', 'sound', 'soundtrack', 'soup', 'soupi', 'soupnazi', 'soupreal', 'soupsalad', 'sour', 'sourc', 'sourdough', 'south', 'southbridg', 'southeast', 'southern', 'southernspanish', 'southwest', 'southwestern', 'soutwest', 'souveni', 'souvia', 'souvlaki', 'sowil', 'sox', 'soy', 'soylent', 'soynami', 'sp', 'spa', 'space', 'spaciou', 'spackl', 'spade', 'spaetzl', 'spagetti', 'spaghetti', 'spain', 'spam', 'span', 'spandex', 'spandwex', 'spanish', 'spanishmexican', 'spank', 'spare', 'spark', 'sparkl', 'sparkli', 'spars', 'spastic', 'spat', 'spawn', 'spay', 'speak', 'speakeasi', 'speaker', 'speci', 'special', 'specialist', 'specialstri', 'specialti', 'specialtli', 'specif', 'spectacular', 'spectrum', 'specul', 'speech', 'speed', 'speedi', 'spell', 'spend', 'spent', 'spew', 'spic', 'spice', 'spicedherb', 'spicey', 'spici', 'spicier', 'spicoli', 'spicollilik', 'spicyfood', 'spicylov', 'spicysmooth', 'spiddl', 'spider', 'spiiiccyyyy', 'spike', 'spikyheel', 'spill', 'spin', 'spinach', 'spinachy', 'spinal', 'spinato', 'spincach', 'spirit', 'spit', 'spite', 'splash', 'splay', 'splendid', 'splinter', 'split', 'splleeeendid', 'splurg', 'spoil', 'spoilt', 'spoke', 'spoken', 'spongi', 'sponsor', 'spontan', 'spooki', 'spoon', 'sporad', 'sport', 'sportbarpool', 'sportman', 'sportsman', 'spot', 'spotless', 'spotlessli', 'spotoh', 'spoton', 'spotonlemon', 'spotti', 'spout', 'sprawl', 'spray', 'sprayer', 'spread', 'spreadsheet', 'spring', 'springfield', 'springrol', 'sprinkl', 'sprint', 'sprite', 'sprout', 'spumoni', 'spun', 'spur', 'sq', 'sqawapologist', 'squar', 'squash', 'squat', 'squaw', 'squeaki', 'squeal', 'squeege', 'squeek', 'squeez', 'squid', 'squint', 'squirm', 'squirrel', 'squirt', 'squish', 'squishi', 'sr', 'sriacha', 'sriracha', 'ssc', 'sslowest', 'ssssshhhhhh', 'st', 'stab', 'stabl', 'stack', 'stadium', 'stadiumjobingcom', 'staf', 'staff', 'staffa', 'staffchef', 'staffer', 'stage', 'stagecoach', 'stageshow', 'stagger', 'stain', 'stainless', 'stair', 'staircas', 'stake', 'stale', 'stalehard', 'stalelook', 'stalk', 'stall', 'stamina', 'stammer', 'stamp', 'stan', 'stand', 'standard', 'standbi', 'standout', 'stanley', 'stapl', 'stapley', 'star', 'starbuck', 'starbucksand', 'starbut', 'starch', 'stare', 'stark', 'starrbut', 'starri', 'starsperhap', 'start', 'starter', 'startersi', 'startl', 'startup', 'starv', 'starwhybecaus', 'starwood', 'stash', 'state', 'statement', 'statesid', 'static', 'station', 'stationari', 'statist', 'statu', 'stave', 'stay', 'staycat', 'steadi', 'steak', 'steakbon', 'steakburg', 'steakhous', 'steakmelt', 'steal', 'stealthi', 'steam', 'steamer', 'stedson', 'steelhead', 'steep', 'steer', 'steinway', 'stella', 'stellar', 'stem', 'stemwar', 'stench', 'step', 'stepdad', 'stephen', 'stepper', 'stepsist', 'stereo', 'stereotyp', 'steril', 'steroid', 'stetson', 'steve', 'stew', 'stewart', 'stewbut', 'stewth', 'stick', 'sticker', 'sticki', 'stickler', 'stiff', 'stiffi', 'stigma', 'stigmata', 'still', 'stilll', 'stilton', 'stimul', 'stingi', 'stingray', 'stink', 'stinkey', 'stinki', 'stinkwe', 'stipul', 'stir', 'stirfri', 'stirrup', 'stitch', 'stl', 'stock', 'stockyard', 'stoke', 'stole', 'stolen', 'stomach', 'stomp', 'stone', 'stood', 'stool', 'stop', 'stopso', 'storag', 'store', 'storebut', 'storedont', 'storefront', 'storespark', 'storeto', 'storewhat', 'stori', 'storm', 'stormi', 'stouffer', 'stout', 'stracciatella', 'straddl', 'straight', 'straightaway', 'straightforward', 'strain', 'strait', 'strand', 'strang', 'stranger', 'strangest', 'strap', 'strapless', 'strateg', 'strategi', 'straw', 'strawberri', 'stray', 'strbuck', 'streak', 'stream', 'streamlin', 'street', 'streetso', 'streetwalkin', 'strength', 'strenuou', 'stress', 'stretch', 'strict', 'strictli', 'strike', 'string', 'stringent', 'stringi', 'stringier', 'strip', 'stripe', 'stripmal', 'stripon', 'stripper', 'stripsand', 'strive', 'stroke', 'stroll', 'strong', 'stronger', 'stronghold', 'strongli', 'strongveri', 'struck', 'structur', 'struggl', 'strum', 'strut', 'stub', 'stubb', 'stucco', 'stuck', 'stucki', 'stud', 'studebak', 'student', 'studi', 'studio', 'stuf', 'stuff', 'stuffi', 'stuffthi', 'stuffwhat', 'stumbl', 'stun', 'stunk', 'stunner', 'stupend', 'stupid', 'stupidli', 'stupor', 'stutter', 'style', 'stylekinda', 'stylish', 'stylist', 'styrofoam', 'su', 'sua', 'sub', 'subcompar', 'subconci', 'subdu', 'suberb', 'subject', 'sublim', 'submit', 'subpar', 'subscript', 'subsequ', 'substanc', 'substandard', 'substanti', 'substitut', 'subtl', 'subtract', 'suburb', 'suburban', 'suburbia', 'subway', 'succe', 'succeed', 'success', 'succul', 'succumb', 'sucha', 'suck', 'sucker', 'sud', 'sudden', 'suddenli', 'sue', 'suffer', 'suffic', 'sugar', 'sugarfre', 'sugari', 'suggest', 'suicid', 'suit', 'suitabl', 'sullungtang', 'sultryseduct', 'sum', 'sumibiyaki', 'summar', 'summari', 'summer', 'summeri', 'summertim', 'summit', 'summitt', 'sumptuou', 'sun', 'sunburn', 'sunchok', 'sunda', 'sunday', 'sundayand', 'sundaysboo', 'sundevil', 'sundri', 'sunflow', 'sunglass', 'sunken', 'sunni', 'sunnysid', 'sunnyslop', 'sunridg', 'sunris', 'sunscreen', 'sunset', 'sunshin', 'sunsin', 'sunthur', 'sup', 'super', 'superb', 'superbowl', 'supercheap', 'supercut', 'superdri', 'superfantasticdelici', 'superfood', 'superfoodior', 'superfriendli', 'superhighend', 'superior', 'superman', 'supermarket', 'supershort', 'supersp', 'superspici', 'superstar', 'superstit', 'supervis', 'supervisor', 'supper', 'supplement', 'suppli', 'supplier', 'support', 'suppos', 'supposedli', 'suprem', 'sur', 'surcharg', 'sure', 'surf', 'surfac', 'surgeri', 'surli', 'surnam', 'surpass', 'surpris', 'surprisedimpress', 'surprisesun', 'surprisingli', 'surround', 'suruki', 'surviv', 'susan', 'sushi', 'sushigrad', 'sushipoo', 'susi', 'suspect', 'suspend', 'suspens', 'suspici', 'sustain', 'sustainableorgan', 'sutra', 'sven', 'sw', 'swadde', 'swade', 'swag', 'swallow', 'swam', 'swamp', 'swank', 'swanki', 'swap', 'sware', 'swarma', 'swash', 'swb', 'swear', 'sweat', 'sweater', 'sweatfil', 'sweatshop', 'sweden', 'swedish', 'sweep', 'sweet', 'sweetand', 'sweeten', 'sweeter', 'sweetest', 'sweetheart', 'sweeti', 'sweetish', 'sweetli', 'sweetrepubl', 'sweetsour', 'swelter', 'swift', 'swill', 'swim', 'swimmer', 'swimsuit', 'swing', 'swipe', 'swipeandsign', 'swirl', 'swiss', 'switch', 'switchback', 'swivel', 'swizzl', 'swollen', 'swoop', 'sword', 'swordfish', 'swore', 'sworn', 'syd', 'syllabl', 'symbol', 'sympathet', 'sympathi', 'symphoni', 'symptom', 'sync', 'synergi', 'syrup', 'syrupmmmm', 'syrupyummmmi', 'sysco', 'system', 'szechuan', 'tab', 'tabassco', 'tabbouleh', 'tabl', 'tablebar', 'tablecloth', 'tableoh', 'tablesbig', 'tablesid', 'tablespoon', 'tablet', 'tabooli', 'tabooliridicul', 'tabouli', 'tacki', 'taco', 'tacoburrito', 'tacoshow', 'tacosmayb', 'tacoswow', 'tact', 'tad', 'taffi', 'tag', 'taglin', 'tahini', 'tahiti', 'tai', 'tail', 'tailgat', 'tailor', 'taint', 'taipei', 'taiwanes', 'takamatsu', 'take', 'takeaway', 'takehom', 'takein', 'taken', 'takeout', 'taker', 'takingmak', 'takoyaki', 'talavera', 'tale', 'talent', 'talibanish', 'talisha', 'talk', 'talker', 'talkin', 'tall', 'tam', 'tamal', 'tamaletaco', 'tamarindo', 'tame', 'tamfooleri', 'tami', 'tammi', 'tampiquena', 'tampon', 'tan', 'tandem', 'tandoori', 'tang', 'tangerin', 'tangi', 'tangibl', 'tango', 'tank', 'tannat', 'tanzanian', 'tanzi', 'taook', 'tap', 'tapa', 'tapcheap', 'tape', 'tapenad', 'taqueria', 'taquito', 'tar', 'tara', 'tarantino', 'tarbel', 'tardi', 'targer', 'target', 'targetlet', 'taro', 'tart', 'tartar', 'tartiflettewow', 'tartpi', 'tartspi', 'tartufa', 'tartufo', 'tasi', 'task', 'tasson', 'tast', 'tasteand', 'tastebud', 'tastegasm', 'tasteless', 'tastelessmess', 'tasteodor', 'taster', 'tastey', 'tasti', 'tastier', 'tastiest', 'tastysound', 'tat', 'tataki', 'tater', 'tatt', 'tatter', 'tattoo', 'tatum', 'tatumshea', 'taught', 'taunt', 'tavern', 'tawnya', 'tax', 'taxi', 'taxicab', 'taylor', 'taylortasson', 'tb', 'tbone', 'tc', 'tchatchki', 'tcpa', 'tea', 'teach', 'teacher', 'teak', 'teakwood', 'teal', 'team', 'teamwork', 'teapot', 'tear', 'teat', 'teatasti', 'teauneufdupap', 'teavana', 'tech', 'technic', 'technician', 'techniqu', 'techno', 'technolog', 'ted', 'teddi', 'tee', 'teed', 'teehe', 'teem', 'teen', 'teenag', 'teeni', 'teensi', 'tees', 'teeter', 'teeth', 'teethth', 'teetogreen', 'teja', 'telegraph', 'telephon', 'televis', 'tell', 'teller', 'tellin', 'temp', 'tempemesa', 'tempephoenix', 'temper', 'temperatur', 'temperm', 'temporari', 'tempt', 'temptat', 'temptationseri', 'tempur', 'tempura', 'ten', 'tenant', 'tenantown', 'tend', 'tendenc', 'tender', 'tenderbelli', 'tenderi', 'tenderloin', 'tendon', 'tennese', 'tenni', 'tent', 'tepan', 'tepenyaki', 'teppen', 'teppiniyaki', 'tequila', 'teresa', 'teriff', 'teriyaki', 'term', 'termial', 'termin', 'terra', 'terrac', 'terracotta', 'terrain', 'terrayki', 'terrazzo', 'terribl', 'terrier', 'terrif', 'terrifi', 'terril', 'terrimisu', 'territori', 'tess', 'test', 'testament', 'testosteron', 'texa', 'texan', 'texasstyl', 'texaz', 'texmex', 'texmexnot', 'text', 'textur', 'th', 'tha', 'thai', 'thaiawesom', 'thaiger', 'thang', 'thanh', 'thank', 'thankgsiv', 'thankmi', 'thanksgiv', 'thanksliv', 'thankyou', 'that', 'thatbut', 'thatdonut', 'thatidiot', 'thaw', 'thay', 'theater', 'theaterse', 'theaterstaff', 'theatr', 'theatric', 'thee', 'theft', 'theiv', 'theme', 'theori', 'thepanko', 'thepric', 'ther', 'therapeut', 'therapi', 'therapist', 'therapistintr', 'there', 'thereaft', 'thereeat', 'therefor', 'thereim', 'therelot', 'theremak', 'theremust', 'thereof', 'therey', 'thermostat', 'thestandard', 'they', 'theyd', 'theyll', 'theyr', 'theyv', 'thhe', 'thick', 'thickcut', 'thickdoughi', 'thicker', 'thie', 'thier', 'thigh', 'thin', 'thincrust', 'thing', 'thingi', 'thingmi', 'thingsjust', 'thingther', 'thingtheyr', 'think', 'thinkin', 'thinli', 'thinner', 'thinslic', 'third', 'thirst', 'thirsti', 'thirti', 'thisal', 'thisgo', 'tho', 'thoma', 'thompson', 'thorough', 'thoroughfar', 'thoroughli', 'thou', 'though', 'thoughgiv', 'thoughit', 'thought', 'thoughth', 'thouhgt', 'thousand', 'thr', 'thrasher', 'thread', 'threat', 'threaten', 'three', 'threesom', 'threetop', 'threw', 'thrice', 'thrift', 'thrifti', 'thrill', 'thrive', 'throat', 'throne', 'throrugh', 'throughout', 'throught', 'throw', 'throwback', 'throwin', 'thrown', 'thru', 'thruoghout', 'thta', 'thu', 'thug', 'thumb', 'thumbsdown', 'thumbsup', 'thump', 'thunder', 'thunderbird', 'thunk', 'thur', 'thursday', 'thursdayguess', 'thursdaysunday', 'thyme', 'ti', 'tiara', 'tibi', 'tick', 'ticket', 'ticketth', 'tickl', 'ticoz', 'tidbit', 'tide', 'tidi', 'tie', 'tier', 'tieu', 'tiffani', 'tiffanysmi', 'tiger', 'tight', 'tighter', 'tijuana', 'tika', 'tike', 'tikil', 'tikka', 'tikki', 'til', 'tilapia', 'tile', 'tiler', 'till', 'tilli', 'tim', 'time', 'timei', 'timeit', 'timer', 'timesavoid', 'timesnot', 'timetotim', 'timid', 'tin', 'tina', 'tinga', 'tini', 'tiniest', 'tinkl', 'tint', 'tip', 'tipalia', 'tipif', 'tipoff', 'tipsi', 'tipwith', 'tiramisu', 'tire', 'tirelessli', 'tish', 'tissu', 'tissuemed', 'tit', 'titan', 'titl', 'tix', 'tj', 'tjsnow', 'tk', 'tlc', 'toad', 'toast', 'toastednow', 'toaster', 'toasti', 'tobacco', 'tobi', 'today', 'todd', 'toddi', 'toddler', 'todiefor', 'todip', 'todo', 'toe', 'toenail', 'toffe', 'tofu', 'togeth', 'togetherbut', 'togetherdoubl', 'togo', 'toilet', 'token', 'tokyo', 'told', 'toledo', 'toler', 'toliet', 'tolteca', 'tom', 'tomatillo', 'tomato', 'tomatochanterel', 'tomatomozzarella', 'tomb', 'tommi', 'tomorrow', 'ton', 'tone', 'tongu', 'tonguesound', 'toni', 'tonic', 'tonight', 'tono', 'tooagain', 'toodidnt', 'toodisgustingli', 'tooexpos', 'toof', 'toojust', 'took', 'tool', 'tooooo', 'tooth', 'toothey', 'tootin', 'tootsi', 'tootzi', 'top', 'tope', 'topic', 'topless', 'topnotch', 'topp', 'topslarg', 'torch', 'tore', 'torment', 'torn', 'torr', 'tort', 'torta', 'tortellini', 'tortilla', 'torturousattim', 'toss', 'tossedwond', 'tostada', 'tot', 'total', 'tote', 'totti', 'touch', 'tough', 'tougher', 'toung', 'tour', 'tourism', 'tourist', 'tournament', 'touryou', 'tout', 'tovar', 'tow', 'toward', 'towel', 'tower', 'town', 'towner', 'townhom', 'townin', 'townso', 'townthat', 'toxin', 'toy', 'toyshop', 'tqla', 'traci', 'track', 'traction', 'trade', 'trademark', 'trader', 'tradersthey', 'tradit', 'traditionalbut', 'traffic', 'tragu', 'trail', 'trailhead', 'train', 'trainer', 'traips', 'tranquil', 'transact', 'transactionso', 'transcendent', 'transcript', 'transfer', 'transform', 'transformersveri', 'transient', 'transit', 'translat', 'transmiss', 'transpar', 'transplant', 'transport', 'trap', 'trash', 'trashi', 'trauma', 'travel', 'travelairfar', 'travelzoo', 'travers', 'travesti', 'travi', 'tray', 'tre', 'treacher', 'treacheri', 'treadmil', 'treasur', 'treat', 'treat9', 'treati', 'treatment', 'tree', 'treehous', 'treelin', 'treesmessi', 'trek', 'tremend', 'trend', 'trendi', 'trepid', 'treslemm', 'tri', 'triangl', 'triangular', 'tribut', 'trick', 'tricki', 'trickiest', 'tricycl', 'triedit', 'trifecta', 'trifl', 'trigger', 'trike', 'trim', 'trimmer', 'trinket', 'trio', 'trip', 'tripe', 'tripgreat', 'tripl', 'trippin', 'triscuit', 'trish', 'trisha', 'trite', 'trivia', 'troon', 'trophi', 'trot', 'troubl', 'trough', 'trouser', 'trout', 'troutjust', 'truck', 'true', 'trueli', 'truetostyl', 'truffl', 'trufflesi', 'truli', 'trump', 'trumpet', 'trunk', 'trust', 'trusti', 'trustworthi', 'truth', 'tryst', 'ts', 'tsa', 'tshirt', 'tshirtandjeanswear', 'tso', 'tsoynami', 'tub', 'tube', 'tubokay', 'tuck', 'tucker', 'tucson', 'tuesday', 'tuition', 'tum', 'tumbl', 'tumer', 'tummi', 'tuna', 'tune', 'tuneup', 'tunnel', 'turbo', 'turbul', 'turd', 'turkey', 'turkish', 'turn', 'turnov', 'turntabl', 'turtl', 'tuscan', 'tuscana', 'tuscani', 'tush', 'tutelag', 'tutor', 'tutori', 'tv', 'tvsalso', 'tvthe', 'twa', 'tween', 'tweet', 'tweeter', 'tweez', 'twelv', 'twenti', 'twice', 'twig', 'twilight', 'twin', 'twinkl', 'twinkli', 'twist', 'twisti', 'twitter', 'twix', 'two', 'twoactor', 'twopound', 'twostori', 'twothre', 'twotop', 'twoyear', 'twss', 'tx', 'tyler', 'tylor', 'type', 'typebut', 'typic', 'tyson', 'tzatziki', 'ua', 'uber', 'ubiquit', 'uchi', 'udder', 'udon', 'udupi', 'ufc', 'ugh', 'ughin', 'ugli', 'uh', 'uhaul', 'uhh', 'uhhh', 'uhmaz', 'uhmazin', 'uk', 'ukrainian', 'ulta', 'ultim', 'ultra', 'ultracool', 'ultrasound', 'ultratend', 'um', 'umbrella', 'umbria', 'umm', 'umph', 'umpteen', 'umther', 'un', 'unabl', 'unaccept', 'unadulter', 'unagi', 'unaircondit', 'unansw', 'unapologet', 'unappet', 'unassum', 'unawar', 'unbear', 'unbeat', 'unbeliev', 'unbridl', 'uncaffein', 'uncanni', 'uncar', 'uncl', 'unclear', 'unclutt', 'uncomfort', 'uncomfortableysweati', 'uncomfot', 'uncommon', 'uncompl', 'uncool', 'uncoop', 'uncount', 'uncouth', 'uncrisp', 'uncrowd', 'uncrumbl', 'uncut', 'undecid', 'under21', 'underag', 'underappreci', 'underarm', 'undercook', 'underdon', 'undergrad', 'underhand', 'underneath', 'underr', 'underst', 'understaf', 'understand', 'understat', 'understood', 'underwear', 'underwhelm', 'undet', 'undi', 'undoubtedli', 'undr', 'undress', 'undrink', 'uneaten', 'uneduc', 'unemploy', 'unend', 'unentertain', 'uneth', 'unexcept', 'unexpect', 'unexplain', 'unfaz', 'unfin', 'unfinish', 'unflatt', 'unflavor', 'unflex', 'unfocus', 'unforgett', 'unfortun', 'unfound', 'unfriendli', 'unfulfil', 'ungreasi', 'unhappi', 'unhealthi', 'unhealthili', 'unhelp', 'uni', 'unidentifi', 'unidientifi', 'uniform', 'uniformli', 'uniformssometh', 'unimagin', 'uninspir', 'unintend', 'uninterest', 'uninterrupt', 'uninterupt', 'uninvit', 'union', 'uniqu', 'uniquelyarizonan', 'unisex', 'unison', 'unit', 'univers', 'unkept', 'unknowingli', 'unknown', 'unleash', 'unless', 'unlik', 'unlimit', 'unlock', 'unmanipul', 'unmark', 'unmatch', 'unneccesari', 'unnecessari', 'unneut', 'unnot', 'uno', 'unoffici', 'unorgan', 'unorigin', 'unparallel', 'unparalleledbaklava', 'unpleas', 'unples', 'unpretenti', 'unprocess', 'unprofession', 'unreal', 'unreason', 'unrefin', 'unriv', 'unsatisfactori', 'unsatisfi', 'unseason', 'unseen', 'unselfishli', 'unsolicit', 'unstop', 'unstopp', 'unstress', 'unsuccess', 'unsur', 'unsuspect', 'unsweeten', 'unt', 'unthink', 'until', 'untradit', 'unus', 'unusu', 'unwant', 'unwelcom', 'unwil', 'unwind', 'unyield', 'uopx', 'up', 'upandcom', 'upbeat', 'upbring', 'upc', 'upcharg', 'upchuck', 'upcom', 'updat', 'updateth', 'upfront', 'upgrad', 'uphil', 'upholsteri', 'upload', 'upo', 'upon', 'upper', 'uproot', 'upsal', 'upscal', 'upsel', 'upset', 'upseti', 'upsid', 'upstag', 'upstair', 'upstairswel', 'uptight', 'upto', 'uptod', 'uptown', 'ur', 'urban', 'urbanspooncom', 'urg', 'urgebut', 'urgent', 'uruguay', 'us', 'usa', 'usain', 'usd', 'use', 'useless', 'uselessif', 'user', 'uslul', 'usp', 'usual', 'usus', 'utah', 'utensil', 'uter', 'uteru', 'util', 'utmost', 'utter', 'utterli', 'uturn', 'uye', 'vac', 'vacat', 'vacay', 'vaccil', 'vaccin', 'vacuum', 'vagu', 'vain', 'val', 'valentin', 'valet', 'valid', 'valley', 'valleyno', 'valomilk', 'valu', 'valuabl', 'valuead', 'vampir', 'vampiro', 'van', 'vancouv', 'vandal', 'vanilla', 'vaniti', 'vantag', 'vapor', 'vari', 'variat', 'variet', 'varieti', 'varietyallnatur', 'variou', 'vase', 'vast', 'vat', 'vatican', 'vatra', 'vaultoftheheaven', 'vday', 'veal', 'vealstuf', 'veer', 'veerrrrrryyyyyyyyi', 'veg', 'vega', 'vegan', 'veget', 'vegetablesand', 'vegetarian', 'vegetarianthey', 'vegetarianvegan', 'veggi', 'veggiesmeatfruit', 'vegii', 'vegtabl', 'vehicl', 'veil', 'vein', 'velvet', 'velveta', 'vender', 'vendor', 'vendorsput', 'vengenc', 'venic', 'venom', 'vent', 'ventur', 'venu', 'venuewev', 'venys', 'vera', 'verbal', 'verd', 'verdict', 'verifi', 'verisimilitud', 'verit', 'verizon', 'vermicelli', 'vermont', 'veroniqu', 'verrado', 'vers', 'version', 'versu', 'vert', 'verv', 'vesper', 'vestibul', 'vet', 'veteran', 'vey', 'via', 'viad', 'vibe', 'vibeif', 'vibrant', 'vibrat', 'vic', 'vice', 'vicin', 'vicki', 'victoria', 'vid', 'vide', 'video', 'videogamegod', 'vieja', 'vien', 'viet', 'vietnam', 'vietnames', 'vietri', 'view', 'viewpoint', 'vig', 'vignett', 'vike', 'vile', 'villag', 'vinagrett', 'vinaigrett', 'vinaigretteit', 'vincent', 'vindaloo', 'vine', 'vinegar', 'vinegarett', 'vinegari', 'vino', 'vintag', 'vintagelook', 'viola', 'violat', 'violenc', 'violent', 'vip', 'virgin', 'virginia', 'virtual', 'viru', 'viscou', 'visi', 'visibl', 'vision', 'visit', 'visitor', 'vista', 'vistal', 'visual', 'vital', 'vitamin', 'vittl', 'vivid', 'vocho', 'vodka', 'voga', 'voic', 'void', 'voila', 'volcano', 'volleybal', 'volum', 'volunt', 'vomit', 'von', 'voodoo', 'voraci', 'vote', 'vouch', 'voucher', 'vow', 'vs', 'vuev', 'vulgar', 'vultur', 'vw', 'w5', 'wa', 'waaaaaaaaay', 'waayi', 'wac', 'wach', 'wacki', 'wacko', 'wad', 'wader', 'waffl', 'wafflesa', 'wag', 'wagyu', 'wah', 'wahoo', 'waikiki', 'waist', 'waistband', 'wait', 'waiter', 'waiterhostessmanagerbartend', 'waitermayb', 'waiti', 'waitingth', 'waitless', 'waitor', 'waitress', 'waitressbartend', 'waitresswait', 'waitstaff', 'waiv', 'wake', 'waldorf', 'walet', 'walgreen', 'walk', 'walkin', 'walkway', 'wall', 'wallet', 'wallhang', 'walli', 'wallmount', 'wallnut', 'wallow', 'wallpap', 'walmart', 'walnut', 'waltz', 'wand', 'wander', 'wanna', 'wannab', 'want', 'wanton', 'war', 'ward', 'warden', 'wardrob', 'ware', 'wareh', 'warehous', 'warm', 'warmer', 'warmli', 'warmth', 'warn', 'warner', 'warp', 'warrant', 'warranti', 'warrior', 'wasab', 'wasabi', 'wash', 'washcloth', 'washday', 'washdri', 'washedit', 'washer', 'washington', 'wasit', 'wasnt', 'wasp', 'wast', 'waster', 'wasw', 'watch', 'watcher', 'water', 'watera', 'waterfal', 'waterfront', 'wateri', 'watermelon', 'waterslid', 'waterwork', 'watt', 'wave', 'wax', 'waxedwhat', 'way', 'wayeverydayyeeeaaaahhh', 'waygreat', 'wayh', 'wayn', 'wayward', 'wayyy', 'wayyyi', 'wayyyyyyy', 'wazoooo', 'wbacon', 'wbc', 'wcg', 'we', 'weak', 'wealthier', 'weapon', 'wear', 'wearer', 'weari', 'weather', 'weav', 'web', 'webe', 'websit', 'wed', 'wedg', 'wednesday', 'wednesdaysaturday', 'wee', 'weed', 'week', 'weekday', 'weekend', 'weekendactu', 'weekendsi', 'weekli', 'weeklong', 'weeknight', 'wei', 'weigh', 'weight', 'weightedbas', 'weihenstephan', 'weil', 'weird', 'weirdest', 'weirdli', 'weirdo', 'weirdth', 'wekopa', 'welcom', 'welcomeand', 'well', 'wellbehav', 'wellchil', 'welldecor', 'welldon', 'wellestablish', 'welleven', 'wellhard', 'wellintent', 'wellit', 'wellkept', 'wellknown', 'welllit', 'welllov', 'wellmad', 'wellmaintain', 'wellnot', 'wellof', 'wellorgan', 'wellpric', 'wellqualifi', 'wellrespect', 'wellstock', 'wellsuit', 'wellvers', 'wellwait', 'wellwritten', 'welly', 'wendi', 'went', 'wentmi', 'wentsom', 'werent', 'wernet', 'west', 'western', 'westgat', 'westin', 'westminst', 'westsid', 'westward', 'wet', 'weve', 'wginger', 'wha', 'whaat', 'whack', 'whale', 'what', 'whatev', 'whatnot', 'whatsleftoflastseasonscollect', 'whatsoev', 'whatsosev', 'whatsov', 'wheat', 'wheel', 'wheez', 'whenev', 'whenharrymets', 'whenwher', 'where', 'wherea', 'whereupon', 'wherev', 'whether', 'whew', 'whi', 'whilea', 'whilst', 'whim', 'whimi', 'whimsic', 'whine', 'whinin', 'whinni', 'whip', 'whipmmmmfood', 'whirl', 'whirlpool', 'whisk', 'whiskey', 'whiskeys8', 'whisper', 'whistlinggotta', 'white', 'whiteboard', 'whitedark', 'whitesand', 'whitetrash', 'whitney', 'whiz', 'who', 'whoa', 'whoah', 'whod', 'whoever', 'whole', 'wholeheartedli', 'wholesom', 'wholli', 'whoop', 'whop', 'whopper', 'whore', 'whoreish', 'whorestyl', 'whose', 'whyd', 'whyse', 'wick', 'wide', 'widen', 'wider', 'wideric', 'widow', 'width', 'wiener', 'wife', 'wifey', 'wifi', 'wig', 'wiggl', 'wigwam', 'wih', 'wikipedia', 'wil', 'wild', 'wildcat', 'wilder', 'wildest', 'wildfish', 'wildflow', 'wildhors', 'wildli', 'wildlif', 'will', 'willi', 'willpow', 'wilt', 'wimp', 'wimper', 'win', 'wind', 'windex', 'windi', 'window', 'windowcan', 'windowpan', 'windshield', 'windsor', 'wine', 'wineb', 'wing', 'wink', 'winki', 'winner', 'winningsorri', 'wino', 'winter', 'winwin', 'wipe', 'wiper', 'wipesorri', 'wire', 'wireless', 'wisconsin', 'wisdom', 'wise', 'wiseguy', 'wish', 'wit', 'witch', 'with', 'withaspoon', 'withdraw', 'withdrawn', 'withheld', 'withhi', 'within', 'without', 'withstand', 'witti', 'wive', 'wm', 'wo', 'woah', 'wobbl', 'wobblese', 'woe', 'woefil', 'wok', 'woke', 'woken', 'wolf', 'wolfpack', 'wolverin', 'woman', 'women', 'wonder', 'wonderfuland', 'wonderfulth', 'wondrou', 'wong', 'wont', 'wonton', 'woo', 'wood', 'woodcarv', 'wooden', 'woodfir', 'woodpanel', 'woodwork', 'woohoo', 'wool', 'wooooooooo', 'word', 'wordexcel', 'wordi', 'wordli', 'wordsit', 'wore', 'work', 'worker', 'workmanship', 'workout', 'workschool', 'workshop', 'workstudyread', 'world', 'worldand', 'worldloli', 'worldtyson', 'worldwid', 'worm', 'worn', 'worri', 'worrisom', 'wors', 'worst', 'worth', 'worthi', 'worthless', 'worthwhil', 'woudnt', 'would', 'woulda', 'wouldnt', 'wouldv', 'wow', 'wowd', 'wowexcit', 'wowner', 'wrap', 'wrapper', 'wrath', 'wreck', 'wrestl', 'wrice', 'wright', 'wrigleyvillechicago', 'wrinkl', 'wrist', 'wristband', 'write', 'writer', 'written', 'wrkout', 'wrong', 'wrongth', 'wrote', 'ws', 'wt', 'wtf', 'wth', 'wthi', 'wthin', 'wtih', 'wussi', 'wwine', 'wwwaddictionovercomecom', 'wwwphoenixrodandgun', 'wã¼rze', 'x2', 'xavier', 'xcp', 'xeriscap', 'xl', 'xlv', 'xma', 'xray', 'xã', 'ya', 'yack', 'yahoo', 'yahumme', 'yakaguru', 'yaki', 'yakisoba', 'yall', 'yam', 'yank', 'yankin', 'yard', 'yardsal', 'yasu', 'yay', 'yc', 'yd', 'ye', 'yea', 'yeah', 'yeahim', 'yeahnotsomuch', 'year', 'yearli', 'yearn', 'yearsif', 'yearsso', 'yearsth', 'yearsuntil', 'yearthough', 'yeast', 'yelena', 'yell', 'yellow', 'yellowfin', 'yellowish', 'yelp', 'yelpadvertis', 'yelpcom', 'yelper', 'yen', 'yep', 'yeppi', 'yer', 'yerba', 'yesssss', 'yesterday', 'yet', 'yetd', 'yetth', 'yew', 'ygl', 'yield', 'yike', 'yknow', 'ymca', 'yo', 'yodel', 'yoga', 'yogal', 'yoghund', 'yogi', 'yogurt', 'yogurtcucumbermint', 'yogurtini', 'yogurtland', 'yogurtolog', 'yogurtopia', 'yoli', 'yon', 'york', 'yorker', 'youd', 'youll', 'young', 'younger', 'youngest', 'youngtown', 'younight', 'your', 'youth', 'youtub', 'youv', 'yow', 'yowza', 'yr', 'yragui', 'yu', 'yuck', 'yucki', 'yuk', 'yukgejang', 'yukon', 'yum', 'yumgasm', 'yumjust', 'yumm', 'yummi', 'yummier', 'yummm', 'yummmayyyi', 'yummmm', 'yummmmm', 'yummmmmm', 'yummmmmmer', 'yummo', 'yummyalthough', 'yummydont', 'yummythat', 'yung', 'yup', 'yupha', 'yusef', 'yuuuuummmmmyyi', 'yuuuuuuum', 'yuzu', 'yyyeeaahhhhsoooooth', 'zach', 'zam', 'zanella', 'zankou', 'zappo', 'zatsiki', 'zen', 'zenlik', 'zenroad', 'zero', 'zerostar', 'zesti', 'zgrill', 'zha', 'zhou', 'zia', 'zilch', 'zillion', 'zin', 'zinburg', 'zinc', 'zinfandel', 'zing', 'zipcar', 'zipp', 'zipper', 'ziti', 'zoe', 'zombi', 'zone', 'zoner', 'zoo', 'zoom', 'zucca', 'zucchini', 'zuccini', 'zuchinni', 'zumba', 'zupa', 'zwiebelkrã']\n"
          ],
          "name": "stdout"
        }
      ]
    },
    {
      "cell_type": "code",
      "metadata": {
        "id": "UbGM6vahltX6",
        "colab_type": "code",
        "colab": {
          "base_uri": "https://localhost:8080/",
          "height": 34
        },
        "outputId": "531014a3-3b38-4873-d1a8-a21fde7239b2"
      },
      "source": [
        "from sklearn.linear_model import LogisticRegression\n",
        "from sklearn.model_selection import cross_val_score\n",
        "lr = LogisticRegression(C=1.0, max_iter=10000)\n",
        "scores = cross_val_score(lr, X_new, y_train, cv=5, scoring=\"f1\")\n",
        "scores"
      ],
      "execution_count": 44,
      "outputs": [
        {
          "output_type": "execute_result",
          "data": {
            "text/plain": [
              "array([0.75531915, 0.74074074, 0.76086957, 0.73743017, 0.75      ])"
            ]
          },
          "metadata": {
            "tags": []
          },
          "execution_count": 44
        }
      ]
    },
    {
      "cell_type": "code",
      "metadata": {
        "id": "rteSBp7PmtSF",
        "colab_type": "code",
        "colab": {}
      },
      "source": [
        "lr.fit(X_new,y_train)\n",
        "predictions = lr.predict(X_test_new)"
      ],
      "execution_count": 47,
      "outputs": []
    },
    {
      "cell_type": "code",
      "metadata": {
        "id": "1GkfZmCzmiO-",
        "colab_type": "code",
        "colab": {
          "base_uri": "https://localhost:8080/",
          "height": 255
        },
        "outputId": "01ad1825-8164-47c7-948b-c06175a38450"
      },
      "source": [
        "from sklearn.metrics import accuracy_score, confusion_matrix,classification_report, f1_score\n",
        "matrix=confusion_matrix(y_test,predictions)\n",
        "print(matrix)\n",
        "print('\\n')\n",
        "score=accuracy_score(y_test,predictions)\n",
        "print(score)\n",
        "report=classification_report(y_test,predictions)\n",
        "print(report)"
      ],
      "execution_count": 50,
      "outputs": [
        {
          "output_type": "stream",
          "text": [
            "[[168  60]\n",
            " [ 27 971]]\n",
            "\n",
            "\n",
            "0.9290375203915171\n",
            "              precision    recall  f1-score   support\n",
            "\n",
            "           1       0.86      0.74      0.79       228\n",
            "           5       0.94      0.97      0.96       998\n",
            "\n",
            "    accuracy                           0.93      1226\n",
            "   macro avg       0.90      0.85      0.88      1226\n",
            "weighted avg       0.93      0.93      0.93      1226\n",
            "\n"
          ],
          "name": "stdout"
        }
      ]
    },
    {
      "cell_type": "markdown",
      "metadata": {
        "id": "o0glJu8UJ8zW",
        "colab_type": "text"
      },
      "source": [
        "# Apply TF-IDF"
      ]
    },
    {
      "cell_type": "code",
      "metadata": {
        "id": "2ldd4wcpJ8zW",
        "colab_type": "code",
        "colab": {}
      },
      "source": [
        "def clean_text(text):\n",
        "    text = \"\".join([word.lower() for word in text if word not in string.punctuation])\n",
        "    tokens = re.split('\\W+', text)\n",
        "    text = [ps.stem(word) for word in tokens if word not in stopwords]\n",
        "    return text"
      ],
      "execution_count": null,
      "outputs": []
    },
    {
      "cell_type": "code",
      "metadata": {
        "id": "MtELif2UJ8zY",
        "colab_type": "code",
        "colab": {
          "base_uri": "https://localhost:8080/",
          "height": 71
        },
        "outputId": "61846d1c-a0ae-49bd-8c2c-adc42c2f552d"
      },
      "source": [
        "from sklearn.feature_extraction.text import TfidfVectorizer\n",
        "\n",
        "tfidf_vect = TfidfVectorizer(max_features=5000,ngram_range=(2,2))\n",
        "X_tfidf = tfidf_vect.fit_transform(yelp_class['text'])\n",
        "print(X_tfidf.shape)\n",
        "print(tfidf_vect.get_feature_names())"
      ],
      "execution_count": null,
      "outputs": [
        {
          "output_type": "stream",
          "text": [
            "(4086, 5000)\n",
            "['10 minutes', '10 years', '15 minutes', '15 years', '20 minutes', '20 years', '30 minutes', '30 years', '45 minutes', 'able to', 'about 10', 'about 15', 'about 20', 'about how', 'about it', 'about my', 'about that', 'about the', 'about their', 'about them', 'about this', 'about to', 'about what', 'above and', 'absolute favorite', 'absolutely amazing', 'absolutely delicious', 'absolutely love', 'across the', 'add some', 'add to', 'added to', 'addicted to', 'addition to', 'advantage of', 'after all', 'after dinner', 'after eating', 'after few', 'after having', 'after my', 'after our', 'after reading', 'after that', 'after the', 'after they', 'after this', 'after we', 'after you', 'again and', 'again but', 'again for', 'again the', 'again to', 'ago and', 'agree with', 'ahead and', 'ahead of', 'all about', 'all and', 'all around', 'all but', 'all can', 'all day', 'all for', 'all good', 'all have', 'all in', 'all it', 'all kinds', 'all my', 'all night', 'all of', 'all over', 'all sorts', 'all that', 'all the', 'all their', 'all they', 'all this', 'all three', 'all time', 'all very', 'all was', 'all we', 'all were', 'all you', 'almost always', 'almost every', 'along the', 'along with', 'also get', 'also got', 'also great', 'also had', 'also has', 'also have', 'also like', 'also love', 'also ordered', 'also the', 'also they', 'also tried', 'also very', 'although it', 'although the', 'although they', 'always been', 'always clean', 'always fresh', 'always friendly', 'always get', 'always good', 'always great', 'always had', 'always have', 'always make', 'always nice', 'always the', 'always very', 'am always', 'am going', 'am huge', 'am in', 'am not', 'am so', 'am sure', 'am very', 'amazing and', 'amazing food', 'amazing it', 'amazing the', 'ambiance is', 'among the', 'amount of', 'an amazing', 'an appetizer', 'an appointment', 'an awesome', 'an emergency', 'an employee', 'an event', 'an excellent', 'an experience', 'an extra', 'an hour', 'an issue', 'an old', 'an order', 'and about', 'and accommodating', 'and actually', 'and after', 'and again', 'and all', 'and also', 'and although', 'and always', 'and am', 'and amazing', 'and an', 'and another', 'and are', 'and as', 'and ask', 'and asked', 'and at', 'and ate', 'and atmosphere', 'and attentive', 'and awesome', 'and bacon', 'and be', 'and beans', 'and being', 'and both', 'and breakfast', 'and bring', 'and brought', 'and by', 'and came', 'and can', 'and cheese', 'and chicken', 'and chips', 'and chocolate', 'and clean', 'and comfortable', 'and could', 'and couldn', 'and creamy', 'and decided', 'and delicious', 'and did', 'and didn', 'and dinner', 'and do', 'and don', 'and down', 'and drink', 'and drinks', 'and each', 'and easy', 'and eat', 'and eating', 'and efficient', 'and ended', 'and enjoy', 'and enjoyed', 'and even', 'and every', 'and everyone', 'and everything', 'and excellent', 'and family', 'and feel', 'and felt', 'and few', 'and finally', 'and find', 'and flavorful', 'and food', 'and for', 'and found', 'and free', 'and fresh', 'and fried', 'and friendly', 'and fries', 'and full', 'and fun', 'and garlic', 'and gave', 'and get', 'and give', 'and go', 'and good', 'and got', 'and great', 'and had', 'and half', 'and happy', 'and has', 'and have', 'and haven', 'and he', 'and helpful', 'and her', 'and his', 'and hope', 'and hot', 'and how', 'and if', 'and in', 'and is', 'and it', 'and its', 'and juicy', 'and just', 'and kept', 'and knowledgeable', 'and left', 'and let', 'and like', 'and live', 'and local', 'and looked', 'and lots', 'and love', 'and loved', 'and made', 'and make', 'and making', 'and many', 'and mean', 'and money', 'and more', 'and most', 'and must', 'and my', 'and needed', 'and never', 'and nice', 'and no', 'and none', 'and not', 'and nothing', 'and now', 'and of', 'and offered', 'and on', 'and once', 'and one', 'and onion', 'and onions', 'and only', 'and or', 'and order', 'and ordered', 'and other', 'and our', 'and out', 'and over', 'and overall', 'and perfect', 'and pretty', 'and prices', 'and professional', 'and put', 'and quality', 'and quick', 'and quite', 'and really', 'and red', 'and rice', 'and said', 'and salsa', 'and sandwiches', 'and sat', 'and saw', 'and say', 'and see', 'and service', 'and shared', 'and she', 'and shrimp', 'and side', 'and since', 'and small', 'and so', 'and some', 'and sometimes', 'and sour', 'and spicy', 'and split', 'and staff', 'and started', 'and still', 'and stopped', 'and such', 'and super', 'and sweet', 'and take', 'and taste', 'and tasted', 'and tasty', 'and tell', 'and tender', 'and that', 'and the', 'and their', 'and then', 'and there', 'and they', 'and think', 'and this', 'and thought', 'and to', 'and told', 'and tomato', 'and took', 'and tried', 'and try', 'and two', 'and ve', 'and very', 'and waffles', 'and waited', 'and walked', 'and want', 'and wanted', 'and warm', 'and was', 'and watch', 'and water', 'and we', 'and well', 'and went', 'and were', 'and what', 'and when', 'and while', 'and will', 'and wine', 'and with', 'and worth', 'and would', 'and yes', 'and you', 'and your', 'and yummy', 'another one', 'any better', 'any day', 'any good', 'any of', 'any other', 'any questions', 'any time', 'anyone who', 'anything but', 'anything else', 'anything like', 'anything that', 'anything to', 'anything you', 'anywhere else', 'appetizer and', 'are all', 'are also', 'are always', 'are amazing', 'are at', 'are awesome', 'are better', 'are both', 'are delicious', 'are doing', 'are excellent', 'are extremely', 'are fantastic', 'are few', 'are fresh', 'are friendly', 'are going', 'are good', 'are great', 'are huge', 'are in', 'are just', 'are like', 'are looking', 'are made', 'are more', 'are my', 'are nice', 'are no', 'are not', 'are on', 'are open', 'are pretty', 'are really', 'are reasonable', 'are so', 'are some', 'are still', 'are super', 'are the', 'are there', 'are to', 'are too', 'are usually', 'are very', 'are wonderful', 'are you', 'area and', 'area is', 'area with', 'arizona and', 'around and', 'around for', 'around the', 'around to', 'around with', 'array of', 'arrived at', 'artichoke dip', 'as always', 'as an', 'as can', 'as far', 'as for', 'as good', 'as he', 'as if', 'as is', 'as it', 'as long', 'as many', 'as much', 'as my', 'as one', 'as opposed', 'as possible', 'as she', 'as soon', 'as the', 'as they', 'as this', 'as to', 'as was', 'as we', 'as well', 'as you', 'asian food', 'aside from', 'ask for', 'ask if', 'ask me', 'ask the', 'asked about', 'asked for', 'asked her', 'asked if', 'asked me', 'asked the', 'asked to', 'asking for', 'assortment of', 'at 00', 'at 30', 'at all', 'at an', 'at any', 'at best', 'at first', 'at home', 'at how', 'at it', 'at least', 'at lunch', 'at me', 'at my', 'at night', 'at one', 'at other', 'at our', 'at restaurant', 'at that', 'at the', 'at their', 'at this', 'at times', 'at your', 'ate at', 'ate here', 'ate the', 'atmosphere and', 'atmosphere is', 'atmosphere was', 'attempt to', 'attention to', 'attentive and', 'away and', 'away by', 'away from', 'away the', 'awesome and', 'awesome food', 'awesome the', 'back again', 'back and', 'back at', 'back but', 'back for', 'back from', 'back here', 'back home', 'back in', 'back of', 'back on', 'back soon', 'back the', 'back there', 'back to', 'back with', 'bacon and', 'bad but', 'bad experience', 'bad for', 'bad meal', 'bad service', 'bar and', 'bar area', 'bar food', 'bar for', 'bar in', 'bar is', 'bar the', 'bar to', 'bar was', 'bar we', 'bar with', 'based on', 'bbq sauce', 'be able', 'be an', 'be and', 'be at', 'be back', 'be beat', 'be better', 'be bit', 'be coming', 'be disappointed', 'be going', 'be good', 'be great', 'be happy', 'be here', 'be honest', 'be in', 'be little', 'be my', 'be on', 'be one', 'be prepared', 'be returning', 'be seated', 'be seen', 'be so', 'be sure', 'be the', 'be there', 'be too', 'be treated', 'be very', 'beans and', 'beautiful and', 'because he', 'because it', 'because of', 'because she', 'because that', 'because the', 'because there', 'because they', 'because this', 'because was', 'because we', 'because you', 'beef and', 'been able', 'been better', 'been coming', 'been disappointed', 'been eating', 'been for', 'been going', 'been great', 'been here', 'been in', 'been more', 'been the', 'been there', 'been to', 'been very', 'beer and', 'beer is', 'beer selection', 'beers and', 'before and', 'before but', 'before it', 'before my', 'before the', 'before they', 'before we', 'before you', 'behind the', 'being able', 'being in', 'being said', 'being the', 'believe it', 'believe the', 'best and', 'best breakfast', 'best ever', 'best food', 'best have', 'best in', 'best of', 'best part', 'best pizza', 'best place', 'best sushi', 'best the', 'best thing', 'best to', 'best ve', 'better and', 'better than', 'better the', 'between the', 'bf and', 'big and', 'big deal', 'big enough', 'big fan', 'bill was', 'birthday and', 'bit more', 'bit of', 'bit on', 'bite and', 'bite of', 'black beans', 'bloody mary', 'blown away', 'blue cheese', 'both of', 'both the', 'both times', 'both were', 'bottle of', 'bottles of', 'bottom line', 'bottom of', 'bowl of', 'boyfriend and', 'brand new', 'bread and', 'bread is', 'bread pudding', 'bread was', 'bread with', 'breakfast and', 'breakfast burrito', 'bring in', 'bring it', 'brought in', 'brought it', 'brought me', 'brought my', 'brought out', 'brought the', 'brought us', 'brown rice', 'bucks for', 'bunch of', 'burger and', 'burger was', 'burger with', 'burgers and', 'burgers are', 'burrito and', 'business and', 'busy but', 'but after', 'but also', 'but am', 'but as', 'but can', 'but did', 'but didn', 'but do', 'but don', 'but for', 'but good', 'but great', 'but had', 'but have', 'but he', 'but if', 'but in', 'but is', 'but it', 'but its', 'but just', 'but like', 'but love', 'but my', 'but no', 'but not', 'but now', 'but once', 'but our', 'but really', 'but she', 'but still', 'but that', 'but the', 'but their', 'but then', 'but there', 'but they', 'but think', 'but this', 'but to', 'but ve', 'but very', 'but was', 'but we', 'but what', 'but when', 'but will', 'but with', 'but worth', 'but would', 'but you', 'butter and', 'buy the', 'by and', 'by far', 'by it', 'by my', 'by name', 'by our', 'by saying', 'by the', 'by this', 'by to', 'cake and', 'call and', 'call it', 'call me', 'call the', 'called the', 'called to', 'came back', 'came by', 'came here', 'came in', 'came out', 'came over', 'came to', 'came with', 'can also', 'can always', 'can be', 'can beat', 'can believe', 'can choose', 'can do', 'can eat', 'can enjoy', 'can even', 'can find', 'can get', 'can go', 'can have', 'can help', 'can imagine', 'can just', 'can make', 'can not', 'can only', 'can order', 'can really', 'can remember', 'can say', 'can see', 'can take', 'can tell', 'can think', 'can wait', 'can you', 'cannot be', 'car and', 'card and', 'care about', 'care and', 'care for', 'care of', 'cares about', 'carne asada', 'central phoenix', 'chance to', 'cheap and', 'cheaper than', 'check in', 'check it', 'check on', 'check out', 'check the', 'check this', 'checked out', 'checking out', 'cheese and', 'cheese is', 'cheese on', 'cheese the', 'cheese was', 'chicken and', 'chicken fried', 'chicken is', 'chicken salad', 'chicken sandwich', 'chicken the', 'chicken was', 'chicken wings', 'chicken with', 'chinese food', 'chips and', 'chips are', 'chocolate chip', 'choice of', 'choose from', 'chopped salad', 'chose the', 'clean and', 'clean the', 'close by', 'close to', 'closer to', 'co workers', 'coffee and', 'coffee is', 'coffee shop', 'combination of', 'come and', 'come back', 'come here', 'come in', 'come on', 'come out', 'come to', 'come with', 'comes in', 'comes out', 'comes to', 'comes with', 'comfort food', 'comfortable and', 'coming back', 'coming from', 'coming here', 'coming to', 'compared to', 'complain about', 'contact with', 'continue to', 'cooked and', 'cooked perfectly', 'cooked to', 'cool and', 'corner of', 'could be', 'could do', 'could easily', 'could eat', 'could get', 'could give', 'could go', 'could have', 'could make', 'could not', 'could see', 'could take', 'could you', 'couldn find', 'couldn get', 'couldn have', 'couple of', 'coupon for', 'course the', 'courteous and', 'covered in', 'cream and', 'cream cheese', 'cream sauce', 'creative and', 'credit card', 'creme brulee', 'crisp and', 'crispy and', 'crust is', 'cup of', 'customer service', 'customers and', 'cut and', 'cute and', 'cute little', 'damn good', 'dark and', 'date night', 'daughter and', 'day and', 'day but', 'day in', 'day it', 'day of', 'day the', 'deal with', 'decided to', 'decor and', 'decor is', 'deep fried', 'definitely be', 'definitely go', 'definitely not', 'definitely one', 'definitely recommend', 'definitely the', 'definitely worth', 'delicious and', 'delicious but', 'delicious food', 'delicious it', 'delicious my', 'delicious the', 'dessert and', 'dessert was', 'did and', 'did have', 'did it', 'did mention', 'did not', 'did the', 'did you', 'didn care', 'didn even', 'didn feel', 'didn get', 'didn have', 'didn know', 'didn like', 'didn think', 'didn want', 'die for', 'difficult to', 'dim sum', 'dining area', 'dining at', 'dining experience', 'dining room', 'dinner and', 'dinner at', 'dinner but', 'dinner for', 'dinner the', 'dinner we', 'disappointed the', 'disappointed with', 'dish and', 'dish was', 'dishes and', 'dishes are', 'dishes that', 'do and', 'do great', 'do have', 'do it', 'do not', 'do so', 'do that', 'do the', 'do they', 'do this', 'do with', 'do you', 'do yourself', 'does it', 'does not', 'does that', 'does the', 'doesn get', 'doesn have', 'doesn matter', 'dog and', 'don be', 'don bother', 'don care', 'don eat', 'don even', 'don expect', 'don forget', 'don get', 'don go', 'don have', 'don know', 'don let', 'don like', 'don mind', 'don miss', 'don need', 'don think', 'don understand', 'don want', 'done and', 'done in', 'done the', 'done with', 'donuts are', 'door and', 'door to', 'down and', 'down my', 'down the', 'down to', 'down with', 'downtown phoenix', 'drink and', 'drink it', 'drinks and', 'drinks are', 'drinks were', 'drive by', 'drive thru', 'drive to', 'dry and', 'due to', 'during happy', 'during our', 'during the', 'each and', 'each of', 'each one', 'each other', 'each time', 'east coast', 'east valley', 'easy and', 'easy to', 'eat and', 'eat at', 'eat here', 'eat in', 'eat it', 'eat the', 'eat there', 'eaten here', 'eating at', 'eating here', 'eating it', 'eating there', 'effort to', 'eggs and', 'eggs benedict', 'either the', 'else in', 'else to', 'employees are', 'end of', 'end up', 'ended up', 'enjoy the', 'enjoy their', 'enjoyed it', 'enjoyed the', 'enough for', 'enough good', 'enough of', 'enough to', 'especially for', 'especially if', 'especially since', 'especially the', 'especially when', 'even after', 'even better', 'even had', 'even have', 'even if', 'even in', 'even know', 'even more', 'even the', 'even though', 'even when', 'even with', 'event and', 'ever been', 'ever eaten', 'ever had', 'ever have', 'ever seen', 'ever since', 'ever tasted', 'every bite', 'every day', 'every one', 'every other', 'every penny', 'every single', 'every time', 'every week', 'everyone else', 'everyone is', 'everyone was', 'everyone who', 'everything about', 'everything else', 'everything from', 'everything in', 'everything is', 'everything on', 'everything was', 'everything we', 'everything you', 'exactly what', 'excellent and', 'excellent customer', 'excellent food', 'excellent my', 'excellent service', 'excellent the', 'except for', 'excited to', 'expect to', 'experience and', 'experience at', 'experience here', 'experience in', 'experience the', 'experience was', 'experience with', 'extremely friendly', 'fact that', 'family and', 'family owned', 'family style', 'fan of', 'fantastic and', 'fantastic the', 'far as', 'far away', 'far from', 'far my', 'far the', 'fast and', 'fast food', 'favor and', 'favorite and', 'favorite is', 'favorite part', 'favorite place', 'favorite places', 'favorite restaurant', 'favorite restaurants', 'favorites are', 'feel comfortable', 'feel like', 'feel the', 'fell in', 'felt like', 'few days', 'few hours', 'few minutes', 'few months', 'few of', 'few things', 'few times', 'few weeks', 'few years', 'figure out', 'filled with', 'finally found', 'find in', 'find it', 'find out', 'find that', 'find the', 'find this', 'fine dining', 'finish it', 'first and', 'first bite', 'first class', 'first of', 'first off', 'first place', 'first thing', 'first time', 'first visit', 'fish and', 'fish tacos', 'five minutes', 'five stars', 'flavor and', 'flavor the', 'flavorful and', 'flavors and', 'flavors are', 'flavors of', 'food and', 'food as', 'food at', 'food but', 'food came', 'food court', 'food for', 'food great', 'food have', 'food here', 'food in', 'food is', 'food it', 'food or', 'food quality', 'food service', 'food that', 'food the', 'food they', 'food this', 'food to', 'food ve', 'food was', 'food we', 'food when', 'food with', 'food you', 'for 10', 'for 12', 'for 20', 'for 30', 'for 99', 'for about', 'for all', 'for an', 'for and', 'for another', 'for any', 'for anyone', 'for being', 'for both', 'for breakfast', 'for brunch', 'for business', 'for couple', 'for date', 'for desert', 'for dessert', 'for dinner', 'for each', 'for every', 'for everyone', 'for everything', 'for few', 'for food', 'for free', 'for good', 'for great', 'for happy', 'for her', 'for hours', 'for it', 'for just', 'for large', 'for less', 'for long', 'for lunch', 'for making', 'for me', 'for more', 'for my', 'for myself', 'for new', 'for not', 'for one', 'for our', 'for over', 'for people', 'for place', 'for quick', 'for quite', 'for service', 'for some', 'for something', 'for special', 'for sure', 'for table', 'for that', 'for the', 'for their', 'for them', 'for this', 'for those', 'for two', 'for under', 'for us', 'for very', 'for what', 'for while', 'for work', 'for years', 'for you', 'for your', 'forget about', 'forget the', 'forget to', 'forgot to', 'forward to', 'found in', 'found it', 'found my', 'found out', 'found that', 'found the', 'found this', 'four peaks', 'free and', 'free pizza', 'french fries', 'french toast', 'fresh and', 'fresh ingredients', 'fresh the', 'friday night', 'fried chicken', 'fried rice', 'friend and', 'friend who', 'friendly and', 'friendly service', 'friendly staff', 'friendly the', 'friends and', 'fries and', 'fries are', 'fries the', 'fries were', 'from all', 'from an', 'from another', 'from here', 'from me', 'from my', 'from other', 'from our', 'from out', 'from the', 'from their', 'from them', 'from there', 'from this', 'from work', 'front desk', 'front of', 'frozen yogurt', 'fruit and', 'full of', 'fun and', 'fun to', 'game and', 'garlic and', 'gave me', 'gave us', 'get an', 'get any', 'get back', 'get better', 'get enough', 'get good', 'get in', 'get into', 'get it', 'get me', 'get more', 'get much', 'get my', 'get one', 'get out', 'get over', 'get some', 'get that', 'get the', 'get their', 'get them', 'get there', 'get this', 'get to', 'get what', 'get you', 'get your', 'getting the', 'getting to', 'give it', 'give me', 'give the', 'give them', 'give this', 'give us', 'give you', 'given the', 'glad to', 'glad we', 'glass of', 'glasses of', 'gluten free', 'go again', 'go and', 'go anywhere', 'go back', 'go check', 'go for', 'go here', 'go home', 'go in', 'go into', 'go on', 'go out', 'go somewhere', 'go the', 'go there', 'go to', 'go with', 'go wrong', 'goat cheese', 'going back', 'going for', 'going here', 'going in', 'going on', 'going there', 'going to', 'gone to', 'good and', 'good as', 'good at', 'good but', 'good don', 'good enough', 'good experience', 'good food', 'good for', 'good if', 'good it', 'good job', 'good my', 'good not', 'good pizza', 'good place', 'good prices', 'good reviews', 'good selection', 'good service', 'good so', 'good stuff', 'good the', 'good they', 'good thing', 'good things', 'good time', 'good to', 'good too', 'good way', 'good we', 'got home', 'got it', 'got me', 'got my', 'got our', 'got some', 'got the', 'got there', 'got to', 'greasy and', 'great and', 'great as', 'great atmosphere', 'great beer', 'great but', 'great customer', 'great deal', 'great experience', 'great flavor', 'great food', 'great for', 'great happy', 'great it', 'great job', 'great little', 'great meal', 'great people', 'great place', 'great price', 'great prices', 'great selection', 'great service', 'great the', 'great they', 'great time', 'great to', 'great too', 'great variety', 'great way', 'great we', 'green chile', 'green chili', 'green tea', 'greeted by', 'grew up', 'grilled cheese', 'grocery store', 'group of', 'guacamole and', 'guess what', 'guy who', 'guys are', 'had all', 'had already', 'had an', 'had and', 'had anything', 'had at', 'had bad', 'had been', 'had better', 'had few', 'had good', 'had great', 'had in', 'had it', 'had just', 'had lunch', 'had my', 'had never', 'had nice', 'had no', 'had not', 'had one', 'had ordered', 'had some', 'had such', 'had the', 'had their', 'had them', 'had to', 'had two', 'had very', 'had was', 'had wonderful', 'hadn been', 'half of', 'hands down', 'hang out', 'happen to', 'happened to', 'happy and', 'happy hour', 'happy that', 'happy to', 'happy with', 'hard time', 'hard to', 'has always', 'has an', 'has become', 'has been', 'has great', 'has never', 'has really', 'has some', 'has the', 'has to', 'hate to', 'have all', 'have also', 'have always', 'have an', 'have any', 'have been', 'have dinner', 'have done', 'have eaten', 'have ever', 'have few', 'have found', 'have fun', 'have gone', 'have good', 'have great', 'have had', 'have in', 'have it', 'have made', 'have many', 'have my', 'have never', 'have nice', 'have no', 'have not', 'have one', 'have only', 'have seen', 'have some', 'have taken', 'have the', 'have their', 'have them', 'have this', 'have to', 'have tried', 'have very', 'have yet', 'have you', 'haven been', 'haven tried', 'having to', 'he also', 'he asked', 'he brought', 'he could', 'he did', 'he didn', 'he does', 'he gave', 'he had', 'he has', 'he is', 'he said', 'he took', 'he was', 'he will', 'he would', 'head to', 'hear the', 'heard of', 'help you', 'helped me', 'helped us', 'helpful and', 'her and', 'her name', 'her the', 'her to', 'here about', 'here again', 'here all', 'here and', 'here are', 'here as', 'here at', 'here because', 'here before', 'here but', 'here every', 'here few', 'here for', 'here from', 'here if', 'here in', 'here is', 'here it', 'here last', 'here more', 'here my', 'here on', 'here once', 'here since', 'here so', 'here that', 'here the', 'here they', 'here this', 'here to', 'here twice', 'here was', 'here we', 'here with', 'here you', 'high end', 'high quality', 'high school', 'highly recommend', 'highly recommended', 'him and', 'him the', 'him to', 'hint of', 'his name', 'hit the', 'hit up', 'hole in', 'home and', 'home cooked', 'home from', 'home in', 'home made', 'home to', 'home with', 'honest and', 'hope they', 'hot and', 'hot dog', 'hot dogs', 'hot sauce', 'hotel and', 'hour and', 'hour is', 'hour the', 'hour wait', 'hours and', 'hours of', 'house and', 'how can', 'how do', 'how good', 'how great', 'how it', 'how long', 'how many', 'how much', 'how the', 'how they', 'how to', 'how you', 'however the', 'http www', 'huge and', 'huge fan', 'hummus and', 'husband and', 'husband had', 'husband ordered', 'ice cream', 'iced tea', 'idea of', 'if could', 'if ever', 'if had', 'if he', 'if it', 'if needed', 'if not', 'if only', 'if she', 'if that', 'if the', 'if there', 'if they', 'if this', 'if wanted', 'if was', 'if we', 'if you', 'if your', 'impressed by', 'impressed with', 'in addition', 'in all', 'in an', 'in and', 'in any', 'in arizona', 'in at', 'in az', 'in business', 'in case', 'in chandler', 'in chicago', 'in downtown', 'in every', 'in fact', 'in few', 'in for', 'in front', 'in good', 'in heaven', 'in her', 'in here', 'in his', 'in house', 'in it', 'in its', 'in line', 'in long', 'in love', 'in mesa', 'in mind', 'in my', 'in new', 'in no', 'in north', 'in old', 'in on', 'in one', 'in order', 'in other', 'in our', 'in phoenix', 'in phx', 'in san', 'in scottsdale', 'in so', 'in some', 'in strip', 'in tempe', 'in terms', 'in that', 'in the', 'in their', 'in there', 'in this', 'in timely', 'in to', 'in town', 'in very', 'in was', 'in what', 'in which', 'in while', 'in with', 'in your', 'including the', 'ingredients and', 'inside and', 'inside is', 'inside the', 'instead of', 'interior and', 'interior is', 'into my', 'into the', 'into this', 'is about', 'is absolutely', 'is actually', 'is all', 'is almost', 'is also', 'is always', 'is amazing', 'is an', 'is and', 'is as', 'is awesome', 'is beautiful', 'is because', 'is better', 'is big', 'is bit', 'is by', 'is clean', 'is definitely', 'is delicious', 'is excellent', 'is extremely', 'is fantastic', 'is for', 'is fresh', 'is friendly', 'is from', 'is fun', 'is going', 'is good', 'is great', 'is hands', 'is here', 'is how', 'is huge', 'is in', 'is incredible', 'is it', 'is just', 'is kind', 'is like', 'is little', 'is located', 'is lot', 'is made', 'is more', 'is much', 'is must', 'is my', 'is nice', 'is no', 'is not', 'is nothing', 'is now', 'is off', 'is on', 'is one', 'is only', 'is open', 'is our', 'is perfect', 'is pretty', 'is probably', 'is quite', 'is real', 'is really', 'is right', 'is simply', 'is small', 'is so', 'is some', 'is something', 'is still', 'is such', 'is super', 'is that', 'is the', 'is their', 'is there', 'is they', 'is this', 'is to', 'is too', 'is top', 'is true', 'is truly', 'is usually', 'is very', 'is way', 'is well', 'is what', 'is where', 'is why', 'is wonderful', 'is worth', 'is your', 'it about', 'it again', 'it all', 'it also', 'it always', 'it amazing', 'it an', 'it and', 'it another', 'it as', 'it at', 'it back', 'it be', 'it because', 'it been', 'it before', 'it but', 'it came', 'it can', 'it comes', 'it could', 'it definitely', 'it did', 'it didn', 'it does', 'it doesn', 'it easy', 'it even', 'it for', 'it from', 'it gets', 'it go', 'it good', 'it got', 'it great', 'it had', 'it hard', 'it has', 'it here', 'it if', 'it in', 'it is', 'it isn', 'it it', 'it just', 'it like', 'it little', 'it ll', 'it looked', 'it looks', 'it love', 'it made', 'it makes', 'it might', 'it must', 'it my', 'it never', 'it nice', 'it not', 'it off', 'it on', 'it one', 'it only', 'it or', 'it out', 'it over', 'it point', 'it pretty', 'it really', 'it right', 'it seemed', 'it seems', 'it should', 'it so', 'it sounds', 'it still', 'it takes', 'it tasted', 'it tastes', 'it that', 'it the', 'it then', 'it there', 'it they', 'it this', 'it to', 'it too', 'it took', 'it try', 'it up', 'it very', 'it was', 'it wasn', 'it we', 'it well', 'it what', 'it when', 'it will', 'it with', 'it worth', 'it would', 'it you', 'italian beef', 'italian food', 'items and', 'items are', 'items on', 'items that', 'its not', 'its own', 'itself is', 'itself was', 'jerk chicken', 'job and', 'job of', 'just about', 'just an', 'just as', 'just be', 'just because', 'just can', 'just don', 'just enough', 'just few', 'just for', 'just get', 'just go', 'just got', 'just had', 'just have', 'just like', 'just love', 'just not', 'just one', 'just right', 'just say', 'just so', 'just that', 'just the', 'just thinking', 'just to', 'just want', 'just went', 'just wish', 'kids love', 'kind and', 'kind of', 'kinds of', 'kitchen and', 'knew the', 'know about', 'know how', 'know if', 'know it', 'know that', 'know the', 'know this', 'know what', 'know where', 'know why', 'know you', 'knowledge of', 'knowledgeable and', 'known for', 'knows what', 'lack of', 'laid back', 'last night', 'last time', 'last week', 'last year', 'later and', 'least once', 'left me', 'left the', 'less than', 'let me', 'let the', 'let us', 'let you', 'level of', 'light and', 'light rail', 'like about', 'like an', 'like and', 'like had', 'like it', 'like me', 'like my', 'like some', 'like that', 'like the', 'like their', 'like they', 'like this', 'like to', 'like was', 'like we', 'like you', 'liked it', 'liked the', 'list of', 'listen to', 'listening to', 'little bit', 'little gem', 'little more', 'little place', 'live in', 'live music', 'lived in', 'living in', 'll be', 'll find', 'll get', 'll have', 'll never', 'loaded with', 'local business', 'local businesses', 'located in', 'location and', 'location in', 'location is', 'long and', 'long as', 'long it', 'long time', 'long to', 'long wait', 'look at', 'look for', 'look forward', 'look like', 'looked at', 'looked like', 'looking at', 'looking for', 'looking forward', 'looking to', 'looks like', 'lot and', 'lot more', 'lot of', 'lot to', 'lots of', 'love how', 'love it', 'love love', 'love that', 'love the', 'love their', 'love this', 'love to', 'love with', 'love you', 'loved it', 'loved the', 'loved this', 'loves the', 'lucky to', 'lunch and', 'lunch at', 'lunch or', 'lunch special', 'lunch specials', 'lunch the', 'mac and', 'mac cheese', 'made from', 'made in', 'made it', 'made me', 'made my', 'made sure', 'made the', 'made this', 'made to', 'made us', 'made with', 'main course', 'make an', 'make it', 'make me', 'make my', 'make sure', 'make the', 'make their', 'make this', 'make up', 'make you', 'make your', 'makes it', 'makes me', 'makes the', 'makes this', 'makes you', 'making sure', 'managed to', 'manager and', 'manager was', 'mani pedi', 'many different', 'many of', 'many other', 'many people', 'many places', 'many times', 'mashed potatoes', 'matter what', 'may be', 'may have', 'may not', 'maybe it', 'mayo and', 'me about', 'me all', 'me and', 'me as', 'me at', 'me back', 'me because', 'me but', 'me by', 'me feel', 'me for', 'me from', 'me he', 'me here', 'me how', 'me if', 'me in', 'me it', 'me just', 'me my', 'me of', 'me on', 'me out', 'me over', 'me she', 'me so', 'me some', 'me that', 'me the', 'me they', 'me this', 'me through', 'me to', 'me up', 'me want', 'me was', 'me what', 'me when', 'me with', 'me you', 'meal and', 'meal but', 'meal for', 'meal in', 'meal the', 'meal was', 'meal we', 'meal with', 'meat and', 'meat is', 'meat was', 'meats and', 'medium rare', 'melt in', 'mention that', 'mention the', 'menu and', 'menu but', 'menu for', 'menu has', 'menu is', 'menu items', 'menu that', 'menu the', 'menu was', 'metro area', 'mexican food', 'mexican restaurant', 'middle of', 'might be', 'might have', 'miles away', 'milk and', 'minute wait', 'minutes after', 'minutes and', 'minutes before', 'minutes for', 'minutes later', 'minutes of', 'minutes to', 'mix of', 'moist and', 'mom and', 'moment you', 'money and', 'money on', 'month and', 'months ago', 'mood for', 'more and', 'more could', 'more expensive', 'more for', 'more like', 'more of', 'more often', 'more than', 'more the', 'more time', 'more to', 'morning and', 'most amazing', 'most importantly', 'most of', 'most part', 'mouth and', 'mouth watering', 'moved to', 'much as', 'much better', 'much food', 'much for', 'much more', 'much of', 'much to', 'music and', 'must be', 'must have', 'must say', 'must try', 'my birthday', 'my book', 'my boyfriend', 'my brother', 'my business', 'my car', 'my coworkers', 'my dad', 'my date', 'my daughter', 'my day', 'my dog', 'my drink', 'my expectations', 'my experience', 'my face', 'my family', 'my fav', 'my fave', 'my favorite', 'my favorites', 'my fiance', 'my first', 'my food', 'my friend', 'my friends', 'my girlfriend', 'my go', 'my hair', 'my heart', 'my home', 'my house', 'my hubby', 'my husband', 'my kids', 'my last', 'my life', 'my list', 'my little', 'my meal', 'my mind', 'my mom', 'my money', 'my mother', 'my mouth', 'my nails', 'my name', 'my neighborhood', 'my new', 'my next', 'my office', 'my only', 'my opinion', 'my order', 'my other', 'my own', 'my parents', 'my party', 'my personal', 'my phone', 'my plate', 'my review', 'my salad', 'my sandwich', 'my second', 'my sister', 'my son', 'my stomach', 'my table', 'my taste', 'my time', 'my top', 'my usual', 'my very', 'my visit', 'my water', 'my way', 'my wife', 'my work', 'my year', 'myself and', 'name and', 'name of', 'near the', 'need to', 'needed to', 'needless to', 'needs to', 'never again', 'never been', 'never ever', 'never get', 'never go', 'never had', 'never have', 'never heard', 'never seen', 'never tried', 'new and', 'new favorite', 'new location', 'new mexico', 'new to', 'new york', 'next day', 'next door', 'next time', 'next to', 'next week', 'nice and', 'nice place', 'nice the', 'nice to', 'nice touch', 'night and', 'night but', 'night for', 'night of', 'night out', 'night the', 'night was', 'night we', 'night with', 'no idea', 'no longer', 'no matter', 'no more', 'no one', 'no other', 'no problem', 'no way', 'none of', 'north scottsdale', 'not all', 'not an', 'not as', 'not at', 'not bad', 'not be', 'not been', 'not being', 'not big', 'not disappoint', 'not disappointed', 'not even', 'not fan', 'not for', 'not get', 'not go', 'not going', 'not good', 'not have', 'not having', 'not huge', 'not in', 'not just', 'not like', 'not much', 'not on', 'not one', 'not only', 'not overly', 'not so', 'not sure', 'not that', 'not the', 'not to', 'not too', 'not very', 'not want', 'not worth', 'not your', 'nothing but', 'nothing like', 'nothing to', 'noticed that', 'now am', 'now and', 'now my', 'now on', 'now that', 'now the', 'number of', 'ocean club', 'of 10', 'of all', 'of an', 'of any', 'of beer', 'of beers', 'of being', 'of bread', 'of business', 'of cheese', 'of chicken', 'of coffee', 'of course', 'of customer', 'of delicious', 'of different', 'of each', 'of everything', 'of flavor', 'of flavors', 'of food', 'of fresh', 'of fried', 'of friends', 'of fun', 'of good', 'of great', 'of green', 'of heaven', 'of her', 'of his', 'of how', 'of ice', 'of it', 'of items', 'of its', 'of kind', 'of me', 'of meat', 'of mexican', 'of mine', 'of money', 'of my', 'of new', 'of one', 'of other', 'of our', 'of parking', 'of people', 'of phoenix', 'of pizza', 'of place', 'of places', 'of rice', 'of seating', 'of service', 'of some', 'of sweet', 'of that', 'of the', 'of their', 'of them', 'of there', 'of these', 'of things', 'of this', 'of those', 'of time', 'of times', 'of town', 'of two', 'of us', 'of water', 'of what', 'of which', 'of white', 'of wine', 'of you', 'of your', 'off and', 'off my', 'off of', 'off on', 'off the', 'off to', 'off with', 'offered to', 'office and', 'often as', 'oh and', 'oh my', 'oh so', 'oh the', 'oh well', 'oh yeah', 'ok so', 'old daughter', 'old school', 'old town', 'olive oil', 'on an', 'on and', 'on friday', 'on her', 'on here', 'on his', 'on how', 'on it', 'on its', 'on me', 'on my', 'on one', 'on our', 'on regular', 'on sale', 'on saturday', 'on site', 'on sunday', 'on tap', 'on that', 'on the', 'on their', 'on them', 'on there', 'on this', 'on thursday', 'on time', 'on to', 'on top', 'on us', 'on what', 'on yelp', 'on you', 'on your', 'once again', 'once and', 'once in', 'once the', 'once we', 'once week', 'once you', 'one and', 'one bite', 'one can', 'one day', 'one for', 'one in', 'one is', 'one more', 'one night', 'one of', 'one on', 'one side', 'one star', 'one that', 'one the', 'one thing', 'one time', 'one to', 'one was', 'onion rings', 'onions and', 'only been', 'only complaint', 'only had', 'only is', 'only one', 'only place', 'only the', 'only thing', 'only to', 'onto the', 'open for', 'open up', 'opened up', 'opportunity to', 'opposed to', 'or any', 'or dinner', 'or even', 'or if', 'or just', 'or not', 'or so', 'or something', 'or the', 'or two', 'or you', 'order and', 'order for', 'order it', 'order of', 'order the', 'order to', 'order was', 'ordered it', 'ordered my', 'ordered the', 'ordering the', 'other day', 'other dishes', 'other people', 'other places', 'other reviews', 'other side', 'other than', 'other things', 'our bill', 'our drink', 'our drinks', 'our family', 'our favorite', 'our first', 'our food', 'our friends', 'our group', 'our meal', 'our next', 'our order', 'our own', 'our party', 'our room', 'our server', 'our table', 'our waiter', 'our waitress', 'our way', 'out and', 'out at', 'out for', 'out here', 'out if', 'out in', 'out it', 'out my', 'out of', 'out on', 'out so', 'out that', 'out the', 'out their', 'out there', 'out they', 'out this', 'out to', 'out with', 'out you', 'outdoor seating', 'outside and', 'outside of', 'over and', 'over it', 'over priced', 'over the', 'over to', 'overall experience', 'overall great', 'owned and', 'owner and', 'owner is', 'owner was', 'owners are', 'packed with', 'pad thai', 'pair of', 'par with', 'parking is', 'parking lot', 'part is', 'part of', 'part was', 'party of', 'pass up', 'pasta and', 'patio and', 'patio is', 'pay for', 'paying for', 'peanut butter', 'pei wei', 'people and', 'people are', 'people at', 'people in', 'people that', 'people the', 'people to', 'people watching', 'people were', 'people who', 'per person', 'perfect and', 'perfect for', 'perfect place', 'perfect the', 'perfectly cooked', 'person and', 'person who', 'phoenix and', 'phoenix area', 'phoenix for', 'phoenix the', 'phoenix this', 'pick up', 'picked up', 'piece of', 'pieces of', 'pile of', 'pita jungle', 'pizza and', 'pizza in', 'pizza is', 'pizza it', 'pizza ve', 'pizza was', 'pizza with', 'pizzeria bianco', 'place and', 'place as', 'place because', 'place but', 'place can', 'place does', 'place for', 'place great', 'place had', 'place has', 'place have', 'place if', 'place in', 'place is', 'place it', 'place just', 'place like', 'place my', 'place needs', 'place on', 'place out', 'place so', 'place that', 'place the', 'place they', 'place this', 'place to', 'place ve', 'place was', 'place we', 'place when', 'place where', 'place with', 'place would', 'place you', 'places in', 'places like', 'places that', 'places to', 'plan on', 'plan to', 'plate of', 'pleasant and', 'pleasantly surprised', 'pleased with', 'pleasure of', 'plenty of', 'plus it', 'plus the', 'plus they', 'point of', 'point to', 'polite and', 'pool and', 'poor service', 'pork and', 'pork belly', 'portion of', 'portions are', 'portions were', 'potato fries', 'potato salad', 'potatoes and', 'prefer to', 'prepared to', 'pretty cool', 'pretty good', 'pretty much', 'pretty sure', 'price and', 'price for', 'price is', 'price of', 'price was', 'priced and', 'prices and', 'prices are', 'prices for', 'prices were', 'pricey but', 'pride in', 'prior to', 'probably one', 'probably the', 'professional and', 'prompt and', 'pulled pork', 'put in', 'put it', 'put on', 'quality and', 'quality food', 'quality is', 'quality of', 'questions and', 'quick and', 'quickly and', 'quite few', 'rather than', 'raved about', 're going', 're in', 're looking', 're not', 're on', 'read the', 'reading the', 'ready for', 'ready to', 'really bad', 'really can', 'really cool', 'really don', 'really enjoy', 'really enjoyed', 'really friendly', 'really good', 'really great', 'really is', 'really like', 'really love', 'really nice', 'really really', 'really wanted', 'reasonable and', 'reasonable price', 'reasonable prices', 'reasonably priced', 'recommend it', 'recommend the', 'recommend them', 'recommend this', 'recommend you', 'red velvet', 'refused to', 'regardless of', 'regular basis', 'regular menu', 'relaxed and', 'remember the', 'reminded me', 'reminds me', 'rest of', 'restaurant and', 'restaurant in', 'restaurant is', 'restaurant it', 'restaurant on', 'restaurant that', 'restaurant the', 'restaurant was', 'restaurant with', 'restaurants and', 'restaurants in', 'return to', 'returning to', 'review for', 'review is', 'review of', 'review the', 'reviews and', 'reviews on', 'rice and', 'rice is', 'rice the', 'rice was', 'right amount', 'right and', 'right at', 'right away', 'right in', 'right next', 'right now', 'right off', 'right on', 'right the', 'right there', 'right up', 'roast beef', 'roasted red', 'roll and', 'room and', 'room for', 'room is', 'room was', 'room with', 'royal palms', 'rude and', 'run the', 'sad to', 'said he', 'said it', 'said no', 'said she', 'said that', 'said the', 'said they', 'said to', 'salad and', 'salad bar', 'salad is', 'salad it', 'salad the', 'salad was', 'salad with', 'salads and', 'salsa and', 'salsa bar', 'same thing', 'same time', 'san francisco', 'sandwich and', 'sandwich is', 'sandwich the', 'sandwich was', 'sandwich with', 'sandwiches and', 'sandwiches are', 'sat at', 'sat down', 'saturday night', 'sauce and', 'sauce is', 'sauce on', 'sauce that', 'sauce the', 'sauce was', 'sauce with', 'save room', 'saw the', 'say about', 'say enough', 'say is', 'say it', 'say that', 'say the', 'say they', 'say this', 'say we', 'say you', 'saying that', 'scottsdale and', 'scottsdale location', 'searching for', 'second time', 'see how', 'see if', 'see that', 'see the', 'see them', 'see this', 'see what', 'seem like', 'seem to', 'seemed to', 'seems like', 'seems to', 'selection and', 'selection is', 'selection of', 'sense of', 'served in', 'served on', 'served with', 'server and', 'server to', 'server was', 'servers are', 'service and', 'service at', 'service but', 'service from', 'service great', 'service has', 'service is', 'service it', 'service that', 'service the', 'service they', 'service to', 'service was', 'service we', 'set up', 'several times', 'several years', 'shared the', 'she also', 'she asked', 'she brought', 'she came', 'she could', 'she did', 'she didn', 'she does', 'she got', 'she had', 'she has', 'she is', 'she just', 'she said', 'she told', 'she was', 'she would', 'shop and', 'shop is', 'shopping at', 'shopping center', 'short of', 'short ribs', 'should be', 'should have', 'should not', 'show up', 'showed up', 'shrimp and', 'side and', 'side but', 'side of', 'sign up', 'simple and', 'simply the', 'since it', 'since my', 'since the', 'since then', 'since there', 'since they', 'since was', 'since we', 'sit and', 'sit at', 'sit down', 'sit in', 'sit outside', 'sitting at', 'sitting in', 'sitting on', 'size of', 'slice of', 'slices of', 'small and', 'small but', 'smile and', 'so am', 'so bad', 'so be', 'so can', 'so could', 'so delicious', 'so did', 'so don', 'so far', 'so fresh', 'so friendly', 'so glad', 'so good', 'so great', 'so had', 'so happy', 'so if', 'so in', 'so it', 'so long', 'so many', 'so much', 'so my', 'so nice', 'so no', 'so not', 'so she', 'so so', 'so that', 'so the', 'so there', 'so they', 'so this', 'so very', 'so was', 'so we', 'so went', 'so when', 'so you', 'so yummy', 'soft and', 'some good', 'some great', 'some kind', 'some more', 'some of', 'some other', 'some people', 'some reason', 'some sort', 'some time', 'some very', 'someone else', 'someone to', 'someone who', 'something different', 'something else', 'something for', 'something like', 'something new', 'something that', 'something to', 'something you', 'somewhere else', 'soon as', 'sort of', 'sorts of', 'sounds like', 'soup and', 'soup was', 'sour cream', 'speak to', 'special occasion', 'special occasions', 'specials are', 'spicy and', 'spinach and', 'split the', 'sports bar', 'spot for', 'spot on', 'spring rolls', 'spring training', 'staff and', 'staff are', 'staff is', 'staff the', 'staff to', 'staff was', 'staff were', 'star for', 'star review', 'stars but', 'stars for', 'start to', 'start with', 'started off', 'started to', 'started with', 'stay away', 'stay here', 'stay in', 'stayed at', 'staying at', 'steak and', 'stick to', 'still had', 'still in', 'stop by', 'stop in', 'stopped by', 'stopped in', 'store and', 'store in', 'store is', 'store the', 'store was', 'street and', 'street from', 'strip mall', 'stuff and', 'stuffed with', 'style and', 'sub par', 'such an', 'such as', 'such good', 'such great', 'suggest you', 'sunday afternoon', 'sunday morning', 'super friendly', 'super nice', 'supposed to', 'sure if', 'sure it', 'sure that', 'sure the', 'sure they', 'sure to', 'sure we', 'sure what', 'sure you', 'surprised at', 'sushi and', 'sushi in', 'sushi is', 'sweet and', 'sweet potato', 'table and', 'table for', 'table the', 'tables and', 'taco bell', 'tacos and', 'tacos are', 'take advantage', 'take care', 'take home', 'take in', 'take it', 'take my', 'take our', 'take out', 'take the', 'take your', 'taken care', 'taking the', 'talk about', 'talk to', 'talking about', 'talking to', 'taste and', 'taste buds', 'taste like', 'taste of', 'taste the', 'tasted like', 'tastes like', 'tasty and', 'tasty the', 'tea and', 'tell me', 'tell you', 'telling me', 'tells me', 'ten minutes', 'tend to', 'tender and', 'terms of', 'thai food', 'than any', 'than it', 'than one', 'than that', 'than the', 'than this', 'thank you', 'thanks for', 'thanks to', 'that actually', 'that all', 'that am', 'that and', 'that are', 'that being', 'that but', 'that came', 'that can', 'that comes', 'that could', 'that day', 'that did', 'that didn', 'that does', 'that doesn', 'that don', 'that feel', 'that for', 'that good', 'that great', 'that had', 'that has', 'that have', 'that he', 'that how', 'that if', 'that in', 'that is', 'that it', 'that just', 'that love', 'that made', 'that make', 'that makes', 'that most', 'that much', 'that my', 'that never', 'that night', 'that not', 'that on', 'that one', 'that only', 'that our', 'that place', 'that point', 'that really', 'that right', 'that said', 'that she', 'that the', 'that their', 'that there', 'that they', 'that this', 'that time', 'that ve', 'that was', 'that wasn', 'that way', 'that we', 'that were', 'that what', 'that when', 'that will', 'that would', 'that you', 'the air', 'the airport', 'the amazing', 'the ambiance', 'the amount', 'the appetizer', 'the area', 'the arizona', 'the art', 'the atmosphere', 'the back', 'the bacon', 'the bag', 'the bakery', 'the bar', 'the bartender', 'the bartenders', 'the bathroom', 'the bathrooms', 'the bbq', 'the beans', 'the beef', 'the beer', 'the best', 'the better', 'the big', 'the biggest', 'the bill', 'the blue', 'the bottom', 'the bowl', 'the box', 'the bread', 'the breakfast', 'the brisket', 'the broth', 'the building', 'the bun', 'the burger', 'the burgers', 'the cafe', 'the cake', 'the calamari', 'the car', 'the carne', 'the case', 'the cashier', 'the center', 'the chance', 'the cheapest', 'the check', 'the cheese', 'the chef', 'the chefs', 'the chicken', 'the chips', 'the chocolate', 'the city', 'the closest', 'the coconut', 'the coffee', 'the combination', 'the company', 'the cook', 'the corn', 'the corner', 'the correct', 'the cost', 'the counter', 'the country', 'the coupon', 'the course', 'the crab', 'the cream', 'the crowd', 'the crust', 'the customer', 'the customers', 'the dark', 'the day', 'the decor', 'the delicious', 'the dentist', 'the desert', 'the dessert', 'the difference', 'the different', 'the dining', 'the dinner', 'the dish', 'the dishes', 'the doctor', 'the dog', 'the donuts', 'the door', 'the drink', 'the drinks', 'the drive', 'the east', 'the egg', 'the employees', 'the end', 'the entire', 'the entrees', 'the evening', 'the event', 'the experience', 'the extra', 'the fact', 'the family', 'the few', 'the first', 'the fish', 'the flavor', 'the flavors', 'the floor', 'the food', 'the free', 'the french', 'the fresh', 'the fried', 'the fries', 'the front', 'the frozen', 'the fruit', 'the full', 'the future', 'the game', 'the garden', 'the garlic', 'the girl', 'the girls', 'the glass', 'the good', 'the great', 'the greatest', 'the green', 'the grill', 'the grilled', 'the grocery', 'the ground', 'the guy', 'the guys', 'the gym', 'the happy', 'the heat', 'the hell', 'the high', 'the homemade', 'the hostess', 'the hot', 'the hotel', 'the hours', 'the house', 'the huge', 'the hummus', 'the hype', 'the ice', 'the idea', 'the ingredients', 'the inside', 'the interior', 'the internet', 'the italian', 'the items', 'the kids', 'the kind', 'the kitchen', 'the lack', 'the ladies', 'the lady', 'the lamb', 'the large', 'the last', 'the least', 'the lemon', 'the light', 'the line', 'the list', 'the little', 'the lobby', 'the lobster', 'the local', 'the location', 'the look', 'the lunch', 'the mac', 'the main', 'the mall', 'the man', 'the management', 'the manager', 'the many', 'the margaritas', 'the market', 'the meal', 'the meat', 'the menu', 'the mexican', 'the middle', 'the moment', 'the money', 'the mood', 'the more', 'the morning', 'the most', 'the movie', 'the museum', 'the mushroom', 'the mushrooms', 'the music', 'the name', 'the neighborhood', 'the new', 'the next', 'the nicest', 'the night', 'the ocean', 'the office', 'the old', 'the olive', 'the one', 'the ones', 'the only', 'the opportunity', 'the option', 'the orange', 'the order', 'the original', 'the other', 'the others', 'the outside', 'the oven', 'the overall', 'the owner', 'the owners', 'the pad', 'the park', 'the parking', 'the past', 'the pasta', 'the patio', 'the people', 'the perfect', 'the person', 'the pho', 'the phoenix', 'the phone', 'the picture', 'the pizza', 'the place', 'the plate', 'the pleasure', 'the point', 'the pool', 'the pork', 'the portion', 'the portions', 'the potato', 'the presentation', 'the previous', 'the price', 'the prices', 'the problem', 'the process', 'the property', 'the pulled', 'the quality', 'the real', 'the reason', 'the red', 'the register', 'the regular', 'the resort', 'the rest', 'the restaurant', 'the reviews', 'the ribs', 'the rice', 'the right', 'the road', 'the room', 'the rooms', 'the salad', 'the salads', 'the sales', 'the salmon', 'the salsa', 'the same', 'the sandwich', 'the sandwiches', 'the sauce', 'the sauces', 'the scallops', 'the scottsdale', 'the seafood', 'the second', 'the selection', 'the server', 'the servers', 'the service', 'the shop', 'the short', 'the show', 'the shrimp', 'the side', 'the sides', 'the sign', 'the situation', 'the size', 'the small', 'the smell', 'the sound', 'the soup', 'the spa', 'the space', 'the special', 'the spicy', 'the spinach', 'the spot', 'the spring', 'the staff', 'the state', 'the steak', 'the store', 'the street', 'the summer', 'the sun', 'the sushi', 'the sweet', 'the table', 'the tables', 'the tacos', 'the taste', 'the tempe', 'the thai', 'the the', 'the theater', 'the three', 'the time', 'the top', 'the total', 'the trip', 'the truth', 'the turkey', 'the two', 'the type', 'the usual', 'the valley', 'the veggie', 'the very', 'the vibe', 'the view', 'the wait', 'the waiter', 'the waitress', 'the wall', 'the walls', 'the water', 'the way', 'the weather', 'the website', 'the week', 'the weekend', 'the weekends', 'the west', 'the white', 'the whole', 'the window', 'the wine', 'the wings', 'the woman', 'the wonderful', 'the word', 'the work', 'the world', 'the worst', 'the wrong', 'the year', 'the years', 'the yelp', 'the young', 'their chicken', 'their customer', 'their customers', 'their food', 'their happy', 'their lunch', 'their menu', 'their own', 'their pizza', 'their prices', 'their service', 'their way', 'their website', 'them all', 'them and', 'them at', 'them but', 'them for', 'them in', 'them on', 'them out', 'them that', 'them the', 'them they', 'them to', 'them with', 'then again', 'then he', 'then it', 'then the', 'then they', 'then we', 'then you', 'there again', 'there and', 'there are', 'there as', 'there at', 'there before', 'there but', 'there early', 'there for', 'there in', 'there is', 'there isn', 'there it', 'there just', 'there last', 'there no', 'there on', 'there really', 'there so', 'there that', 'there the', 'there they', 'there to', 'there was', 'there we', 'there were', 'there will', 'there with', 'there you', 'these are', 'these days', 'these guys', 'these people', 'these things', 'these were', 'they actually', 'they all', 'they also', 'they always', 'they are', 'they bring', 'they call', 'they came', 'they can', 'they carry', 'they could', 'they couldn', 'they did', 'they didn', 'they do', 'they don', 'they even', 'they gave', 'they get', 'they give', 'they got', 'they had', 'they have', 'they just', 'they know', 'they let', 'they ll', 'they made', 'they make', 'they might', 'they need', 'they offer', 'they offered', 'they only', 'they opened', 'they put', 'they re', 'they really', 'they said', 'they say', 'they sell', 'they serve', 'they should', 'they still', 'they take', 'they told', 'they took', 'they use', 'they ve', 'they want', 'they were', 'they weren', 'they will', 'they would', 'thin crust', 'thing about', 'thing is', 'thing on', 'thing that', 'thing to', 'things about', 'things on', 'things that', 'things to', 'think about', 'think it', 'think of', 'think that', 'think the', 'think they', 'think this', 'think we', 'think you', 'thinking about', 'this and', 'this area', 'this bar', 'this company', 'this day', 'this dish', 'this establishment', 'this for', 'this guy', 'this gym', 'this has', 'this in', 'this is', 'this isn', 'this joint', 'this little', 'this location', 'this morning', 'this my', 'this office', 'this one', 'this past', 'this place', 'this point', 'this restaurant', 'this review', 'this spot', 'this store', 'this the', 'this time', 'this to', 'this was', 'this week', 'this weekend', 'this will', 'this world', 'this would', 'those of', 'those who', 'though it', 'though the', 'though they', 'thought it', 'thought that', 'thought the', 'thought they', 'thought was', 'thought we', 'thought would', 'three times', 'three years', 'through the', 'throughout the', 'thumbs up', 'time and', 'time at', 'time but', 'time for', 'time go', 'time had', 'time have', 'time here', 'time in', 'time is', 'time it', 'time of', 'time so', 'time that', 'time the', 'time there', 'time they', 'time to', 'time ve', 'time was', 'time we', 'time went', 'time with', 'time you', 'times and', 'times but', 'times for', 'times in', 'times the', 'times week', 'to actually', 'to add', 'to admit', 'to all', 'to an', 'to and', 'to another', 'to any', 'to anyone', 'to arrive', 'to ask', 'to avoid', 'to az', 'to be', 'to bring', 'to buy', 'to call', 'to catch', 'to celebrate', 'to check', 'to choose', 'to clean', 'to come', 'to complain', 'to cook', 'to create', 'to deal', 'to describe', 'to detail', 'to die', 'to dine', 'to do', 'to drink', 'to drive', 'to each', 'to eat', 'to end', 'to enjoy', 'to ensure', 'to every', 'to everyone', 'to expect', 'to experience', 'to explain', 'to feel', 'to figure', 'to find', 'to finish', 'to fit', 'to fix', 'to get', 'to give', 'to go', 'to grab', 'to great', 'to hang', 'to have', 'to hear', 'to help', 'to her', 'to hit', 'to home', 'to in', 'to it', 'to just', 'to keep', 'to know', 'to learn', 'to leave', 'to let', 'to like', 'to live', 'to look', 'to love', 'to make', 'to many', 'to me', 'to meet', 'to mention', 'to my', 'to not', 'to offer', 'to one', 'to open', 'to order', 'to other', 'to our', 'to pass', 'to pay', 'to perfection', 'to phoenix', 'to pick', 'to place', 'to play', 'to please', 'to purchase', 'to put', 'to read', 'to receive', 'to return', 'to review', 'to run', 'to save', 'to say', 'to scottsdale', 'to see', 'to send', 'to serve', 'to share', 'to shop', 'to show', 'to sit', 'to some', 'to speak', 'to spend', 'to start', 'to stay', 'to stop', 'to support', 'to take', 'to talk', 'to taste', 'to tell', 'to that', 'to the', 'to their', 'to them', 'to think', 'to this', 'to top', 'to try', 'to turn', 'to us', 'to use', 'to visit', 'to wait', 'to walk', 'to watch', 'to what', 'to where', 'to work', 'to worry', 'to write', 'to you', 'to your', 'today and', 'today was', 'told her', 'told him', 'told me', 'told that', 'told the', 'told us', 'tomato and', 'tomatoes and', 'ton of', 'tons of', 'too and', 'too bad', 'too busy', 'too but', 'too long', 'too many', 'too much', 'too sweet', 'too the', 'too they', 'took it', 'took me', 'took my', 'took one', 'took our', 'took the', 'took us', 'top it', 'top notch', 'top of', 'topped with', 'totally worth', 'town and', 'town scottsdale', 'town the', 'tried it', 'tried the', 'tried to', 'trip to', 'trust me', 'truth is', 'try and', 'try it', 'try out', 'try some', 'try something', 'try the', 'try their', 'try them', 'try this', 'try to', 'trying to', 'tucked away', 'turned out', 'twice and', 'two of', 'two years', 'type of', 'types of', 'under the', 'understand the', 'unique and', 'unless you', 'until the', 'until they', 'up and', 'up at', 'up for', 'up in', 'up my', 'up on', 'up some', 'up the', 'up there', 'up to', 'up was', 'up with', 'up your', 'us and', 'us feel', 'us for', 'us had', 'us in', 'us our', 'us some', 'us that', 'us the', 'us to', 'us we', 'us with', 'use the', 'use them', 'use to', 'used to', 'using the', 'valley and', 'valley ho', 'variety of', 've also', 've always', 've been', 've done', 've eaten', 've ever', 've found', 've got', 've had', 've heard', 've never', 've only', 've seen', 've tried', 'vegetables and', 'veggies and', 'version of', 'very attentive', 'very clean', 'very comfortable', 'very fresh', 'very friendly', 'very good', 'very happy', 'very helpful', 'very impressed', 'very little', 'very much', 'very nice', 'very pleasant', 'very professional', 'very reasonable', 'very reasonably', 'very tasty', 'very unique', 'very very', 'very well', 'view of', 'visit and', 'visit the', 'visit to', 'visit was', 'visited the', 'wait for', 'wait in', 'wait staff', 'wait time', 'wait to', 'wait until', 'waited and', 'waited for', 'waiter was', 'waiting for', 'waiting to', 'waitress was', 'walk in', 'walk into', 'walked in', 'walked out', 'walking distance', 'walking in', 'wall and', 'want more', 'want the', 'want to', 'wanted to', 'wanting to', 'wants to', 'warm and', 'was able', 'was about', 'was absolutely', 'was actually', 'was all', 'was almost', 'was already', 'was also', 'was always', 'was amazed', 'was amazing', 'was an', 'was and', 'was as', 'was at', 'was awesome', 'was awful', 'was better', 'was bit', 'was blown', 'was busy', 'was but', 'was clean', 'was completely', 'was cooked', 'was definitely', 'was delicious', 'was delish', 'was different', 'was disappointed', 'was done', 'was even', 'was excellent', 'was excited', 'was expecting', 'was extremely', 'was fabulous', 'was fantastic', 'was for', 'was fresh', 'was friendly', 'was full', 'was fun', 'was getting', 'was given', 'was going', 'was good', 'was great', 'was greeted', 'was happy', 'was horrible', 'was huge', 'was impressed', 'was in', 'was incredible', 'was it', 'was just', 'was kind', 'was like', 'was little', 'was looking', 'was made', 'was more', 'was much', 'was my', 'was never', 'was nice', 'was no', 'was not', 'was nothing', 'was ok', 'was okay', 'was on', 'was one', 'was only', 'was our', 'was out', 'was outstanding', 'was over', 'was packed', 'was perfect', 'was perfectly', 'was phenomenal', 'was pleasant', 'was pleasantly', 'was pretty', 'was probably', 'was quite', 'was ready', 'was really', 'was right', 'was served', 'was so', 'was some', 'was still', 'was super', 'was surprised', 'was tasty', 'was that', 'was the', 'was there', 'was this', 'was to', 'was told', 'was too', 'was top', 'was very', 'was way', 'was well', 'was with', 'was wonderful', 'was worth', 'wasn the', 'wasn too', 'waste your', 'watch the', 'watching the', 'water and', 'way home', 'way it', 'way out', 'way the', 'way they', 'way through', 'way to', 'way too', 'we all', 'we also', 'we always', 'we are', 'we arrived', 'we asked', 'we ate', 'we both', 'we came', 'we can', 'we chose', 'we could', 'we couldn', 'we decided', 'we did', 'we didn', 'we do', 'we don', 'we each', 'we ended', 'we enjoyed', 'we finally', 'we finished', 'we found', 'we get', 'we go', 'we got', 'we had', 'we have', 'we just', 'we left', 'we like', 'we live', 'we ll', 'we love', 'we loved', 'we made', 'we met', 'we moved', 'we need', 'we needed', 'we never', 'we ordered', 'we re', 'we really', 'we received', 'we sat', 'we saw', 'we shared', 'we spent', 'we split', 'we started', 'we still', 'we thought', 'we took', 'we tried', 'we ve', 'we waited', 'we walked', 'we wanted', 'we went', 'we were', 'we weren', 'we will', 'we would', 'week and', 'week for', 'week the', 'weeks ago', 'welcome to', 'welcoming and', 'well and', 'well as', 'well done', 'well it', 'well that', 'well the', 'well they', 'well we', 'well with', 'well worth', 'went back', 'went for', 'went here', 'went in', 'went out', 'went there', 'went to', 'went with', 'were able', 'were all', 'were also', 'were amazing', 'were both', 'were delicious', 'were doing', 'were excellent', 'were extremely', 'were given', 'were going', 'were good', 'were great', 'were greeted', 'were in', 'were just', 'were looking', 'were no', 'were not', 'were on', 'were only', 'were out', 'were pretty', 'were ready', 'were really', 'were seated', 'were served', 'were so', 'were some', 'were still', 'were the', 'were there', 'were too', 'were very', 'what an', 'what can', 'what great', 'what he', 'what is', 'what it', 'what makes', 'what more', 'what she', 'what the', 'what they', 'what to', 'what wanted', 'what was', 'what we', 'what would', 'what you', 'whatever you', 'when asked', 'when came', 'when first', 'when get', 'when go', 'when got', 'when he', 'when in', 'when it', 'when my', 'when our', 'when say', 'when she', 'when the', 'when they', 'when walked', 'when was', 'when we', 'when went', 'when you', 'where the', 'where they', 'where to', 'where we', 'where you', 'whether it', 'which are', 'which had', 'which has', 'which is', 'which makes', 'which was', 'which we', 'which were', 'which you', 'while it', 'while my', 'while the', 'while to', 'while was', 'while we', 'while you', 'white chocolate', 'who are', 'who can', 'who doesn', 'who had', 'who has', 'who have', 'who is', 'who was', 'who were', 'who works', 'whole foods', 'why it', 'why not', 'why the', 'why you', 'wi fi', 'wide variety', 'wife and', 'wife had', 'will always', 'will be', 'will continue', 'will definitely', 'will get', 'will give', 'will go', 'will have', 'will love', 'will make', 'will never', 'will not', 'will return', 'will say', 'will take', 'willing to', 'wine and', 'wine list', 'wine selection', 'wish could', 'wish had', 'wish they', 'with all', 'with an', 'with and', 'with any', 'with bunch', 'with cheese', 'with chicken', 'with couple', 'with each', 'with everything', 'with few', 'with fresh', 'with friend', 'with friends', 'with good', 'with great', 'with her', 'with him', 'with his', 'with it', 'with just', 'with little', 'with many', 'with me', 'with more', 'with my', 'with no', 'with one', 'with other', 'with our', 'with rice', 'with shrimp', 'with side', 'with small', 'with smile', 'with some', 'with someone', 'with that', 'with the', 'with their', 'with them', 'with this', 'with three', 'with us', 'with very', 'with what', 'with you', 'with your', 'within walking', 'without being', 'without the', 'won be', 'wonderful and', 'wonderful experience', 'work and', 'work in', 'work on', 'work out', 'work there', 'work with', 'worked in', 'working there', 'worry about', 'worth every', 'worth it', 'worth the', 'would be', 'would definitely', 'would eat', 'would expect', 'would get', 'would give', 'would go', 'would have', 'would highly', 'would like', 'would love', 'would make', 'would never', 'would not', 'would rather', 'would recommend', 'would say', 'would take', 'would ve', 'wouldn be', 'wouldn have', 'wow this', 'wrapped in', 'wrong with', 'yeah it', 'year ago', 'year and', 'year old', 'years ago', 'years and', 'years now', 'years of', 'years the', 'yelp and', 'yelp event', 'yelp reviews', 'yes it', 'yes the', 'yet to', 'you and', 'you are', 'you ask', 'you buy', 'you can', 'you choose', 'you come', 'you could', 'you did', 'you do', 'you don', 'you eat', 'you ever', 'you expect', 'you feel', 'you find', 'you for', 'you get', 'you go', 'you guys', 'you had', 'you have', 'you haven', 'you how', 'you if', 'you in', 'you just', 'you know', 'you like', 'you live', 'you ll', 'you love', 'you make', 'you may', 'you might', 'you must', 'you need', 'you not', 'you on', 'you order', 'you pay', 'you re', 'you really', 'you see', 'you should', 'you sit', 'you take', 'you that', 'you the', 'you think', 'you this', 'you to', 'you ve', 'you walk', 'you want', 'you were', 'you who', 'you will', 'you with', 'you won', 'you would', 'you you', 'your car', 'your choice', 'your face', 'your favorite', 'your first', 'your food', 'your life', 'your meal', 'your money', 'your mouth', 'your order', 'your own', 'your table', 'your time', 'your typical', 'your way', 'yourself favor']\n"
          ],
          "name": "stdout"
        }
      ]
    },
    {
      "cell_type": "code",
      "metadata": {
        "id": "Y4Muvy99J8zZ",
        "colab_type": "code",
        "colab": {
          "base_uri": "https://localhost:8080/",
          "height": 238
        },
        "outputId": "d49113b9-e551-4b60-efe1-3338031d5355"
      },
      "source": [
        "X_tfidf.toarray()"
      ],
      "execution_count": null,
      "outputs": [
        {
          "output_type": "execute_result",
          "data": {
            "text/plain": [
              "array([[0.        , 0.        , 0.        , ..., 0.        , 0.        ,\n",
              "        0.12255384],\n",
              "       [0.        , 0.        , 0.        , ..., 0.        , 0.        ,\n",
              "        0.        ],\n",
              "       [0.        , 0.        , 0.        , ..., 0.        , 0.        ,\n",
              "        0.        ],\n",
              "       ...,\n",
              "       [0.        , 0.        , 0.        , ..., 0.        , 0.        ,\n",
              "        0.        ],\n",
              "       [0.        , 0.        , 0.        , ..., 0.        , 0.        ,\n",
              "        0.        ],\n",
              "       [0.        , 0.        , 0.        , ..., 0.        , 0.        ,\n",
              "        0.        ]])"
            ]
          },
          "metadata": {
            "tags": []
          },
          "execution_count": 14
        }
      ]
    },
    {
      "cell_type": "code",
      "metadata": {
        "id": "h6ar0y7HJ8za",
        "colab_type": "code",
        "colab": {
          "base_uri": "https://localhost:8080/",
          "height": 456
        },
        "outputId": "dc4ff130-afdd-4703-b027-8929fe29e96a"
      },
      "source": [
        "X_tfidf_df = pd.DataFrame(X_tfidf.toarray())\n",
        "X_tfidf_df.columns = tfidf_vect.get_feature_names()\n",
        "X_tfidf_df"
      ],
      "execution_count": null,
      "outputs": [
        {
          "output_type": "execute_result",
          "data": {
            "text/html": [
              "<div>\n",
              "<style scoped>\n",
              "    .dataframe tbody tr th:only-of-type {\n",
              "        vertical-align: middle;\n",
              "    }\n",
              "\n",
              "    .dataframe tbody tr th {\n",
              "        vertical-align: top;\n",
              "    }\n",
              "\n",
              "    .dataframe thead th {\n",
              "        text-align: right;\n",
              "    }\n",
              "</style>\n",
              "<table border=\"1\" class=\"dataframe\">\n",
              "  <thead>\n",
              "    <tr style=\"text-align: right;\">\n",
              "      <th></th>\n",
              "      <th>10 minutes</th>\n",
              "      <th>10 years</th>\n",
              "      <th>15 minutes</th>\n",
              "      <th>15 years</th>\n",
              "      <th>20 minutes</th>\n",
              "      <th>20 years</th>\n",
              "      <th>30 minutes</th>\n",
              "      <th>30 years</th>\n",
              "      <th>45 minutes</th>\n",
              "      <th>able to</th>\n",
              "      <th>about 10</th>\n",
              "      <th>about 15</th>\n",
              "      <th>about 20</th>\n",
              "      <th>about how</th>\n",
              "      <th>about it</th>\n",
              "      <th>about my</th>\n",
              "      <th>about that</th>\n",
              "      <th>about the</th>\n",
              "      <th>about their</th>\n",
              "      <th>about them</th>\n",
              "      <th>about this</th>\n",
              "      <th>about to</th>\n",
              "      <th>about what</th>\n",
              "      <th>above and</th>\n",
              "      <th>absolute favorite</th>\n",
              "      <th>absolutely amazing</th>\n",
              "      <th>absolutely delicious</th>\n",
              "      <th>absolutely love</th>\n",
              "      <th>across the</th>\n",
              "      <th>add some</th>\n",
              "      <th>add to</th>\n",
              "      <th>added to</th>\n",
              "      <th>addicted to</th>\n",
              "      <th>addition to</th>\n",
              "      <th>advantage of</th>\n",
              "      <th>after all</th>\n",
              "      <th>after dinner</th>\n",
              "      <th>after eating</th>\n",
              "      <th>after few</th>\n",
              "      <th>after having</th>\n",
              "      <th>...</th>\n",
              "      <th>you order</th>\n",
              "      <th>you pay</th>\n",
              "      <th>you re</th>\n",
              "      <th>you really</th>\n",
              "      <th>you see</th>\n",
              "      <th>you should</th>\n",
              "      <th>you sit</th>\n",
              "      <th>you take</th>\n",
              "      <th>you that</th>\n",
              "      <th>you the</th>\n",
              "      <th>you think</th>\n",
              "      <th>you this</th>\n",
              "      <th>you to</th>\n",
              "      <th>you ve</th>\n",
              "      <th>you walk</th>\n",
              "      <th>you want</th>\n",
              "      <th>you were</th>\n",
              "      <th>you who</th>\n",
              "      <th>you will</th>\n",
              "      <th>you with</th>\n",
              "      <th>you won</th>\n",
              "      <th>you would</th>\n",
              "      <th>you you</th>\n",
              "      <th>your car</th>\n",
              "      <th>your choice</th>\n",
              "      <th>your face</th>\n",
              "      <th>your favorite</th>\n",
              "      <th>your first</th>\n",
              "      <th>your food</th>\n",
              "      <th>your life</th>\n",
              "      <th>your meal</th>\n",
              "      <th>your money</th>\n",
              "      <th>your mouth</th>\n",
              "      <th>your order</th>\n",
              "      <th>your own</th>\n",
              "      <th>your table</th>\n",
              "      <th>your time</th>\n",
              "      <th>your typical</th>\n",
              "      <th>your way</th>\n",
              "      <th>yourself favor</th>\n",
              "    </tr>\n",
              "  </thead>\n",
              "  <tbody>\n",
              "    <tr>\n",
              "      <th>0</th>\n",
              "      <td>0.0</td>\n",
              "      <td>0.0</td>\n",
              "      <td>0.0</td>\n",
              "      <td>0.0</td>\n",
              "      <td>0.0</td>\n",
              "      <td>0.0</td>\n",
              "      <td>0.0</td>\n",
              "      <td>0.0</td>\n",
              "      <td>0.0</td>\n",
              "      <td>0.0</td>\n",
              "      <td>0.0</td>\n",
              "      <td>0.0</td>\n",
              "      <td>0.0</td>\n",
              "      <td>0.0</td>\n",
              "      <td>0.0</td>\n",
              "      <td>0.000000</td>\n",
              "      <td>0.0</td>\n",
              "      <td>0.00000</td>\n",
              "      <td>0.0</td>\n",
              "      <td>0.0</td>\n",
              "      <td>0.000000</td>\n",
              "      <td>0.0</td>\n",
              "      <td>0.0</td>\n",
              "      <td>0.0</td>\n",
              "      <td>0.0</td>\n",
              "      <td>0.0</td>\n",
              "      <td>0.0</td>\n",
              "      <td>0.0</td>\n",
              "      <td>0.0</td>\n",
              "      <td>0.0</td>\n",
              "      <td>0.0</td>\n",
              "      <td>0.0</td>\n",
              "      <td>0.0</td>\n",
              "      <td>0.0</td>\n",
              "      <td>0.0</td>\n",
              "      <td>0.0</td>\n",
              "      <td>0.0</td>\n",
              "      <td>0.0</td>\n",
              "      <td>0.0</td>\n",
              "      <td>0.0</td>\n",
              "      <td>...</td>\n",
              "      <td>0.11344</td>\n",
              "      <td>0.0</td>\n",
              "      <td>0.000000</td>\n",
              "      <td>0.0</td>\n",
              "      <td>0.0</td>\n",
              "      <td>0.0</td>\n",
              "      <td>0.0</td>\n",
              "      <td>0.0</td>\n",
              "      <td>0.00000</td>\n",
              "      <td>0.0</td>\n",
              "      <td>0.000000</td>\n",
              "      <td>0.0</td>\n",
              "      <td>0.0</td>\n",
              "      <td>0.000000</td>\n",
              "      <td>0.0</td>\n",
              "      <td>0.0</td>\n",
              "      <td>0.0</td>\n",
              "      <td>0.0</td>\n",
              "      <td>0.0</td>\n",
              "      <td>0.0</td>\n",
              "      <td>0.0</td>\n",
              "      <td>0.0</td>\n",
              "      <td>0.000000</td>\n",
              "      <td>0.0</td>\n",
              "      <td>0.0</td>\n",
              "      <td>0.0</td>\n",
              "      <td>0.0</td>\n",
              "      <td>0.0</td>\n",
              "      <td>0.0</td>\n",
              "      <td>0.0</td>\n",
              "      <td>0.0</td>\n",
              "      <td>0.0</td>\n",
              "      <td>0.0</td>\n",
              "      <td>0.0</td>\n",
              "      <td>0.0</td>\n",
              "      <td>0.0</td>\n",
              "      <td>0.0</td>\n",
              "      <td>0.0</td>\n",
              "      <td>0.0</td>\n",
              "      <td>0.122554</td>\n",
              "    </tr>\n",
              "    <tr>\n",
              "      <th>1</th>\n",
              "      <td>0.0</td>\n",
              "      <td>0.0</td>\n",
              "      <td>0.0</td>\n",
              "      <td>0.0</td>\n",
              "      <td>0.0</td>\n",
              "      <td>0.0</td>\n",
              "      <td>0.0</td>\n",
              "      <td>0.0</td>\n",
              "      <td>0.0</td>\n",
              "      <td>0.0</td>\n",
              "      <td>0.0</td>\n",
              "      <td>0.0</td>\n",
              "      <td>0.0</td>\n",
              "      <td>0.0</td>\n",
              "      <td>0.0</td>\n",
              "      <td>0.000000</td>\n",
              "      <td>0.0</td>\n",
              "      <td>0.00000</td>\n",
              "      <td>0.0</td>\n",
              "      <td>0.0</td>\n",
              "      <td>0.073123</td>\n",
              "      <td>0.0</td>\n",
              "      <td>0.0</td>\n",
              "      <td>0.0</td>\n",
              "      <td>0.0</td>\n",
              "      <td>0.0</td>\n",
              "      <td>0.0</td>\n",
              "      <td>0.0</td>\n",
              "      <td>0.0</td>\n",
              "      <td>0.0</td>\n",
              "      <td>0.0</td>\n",
              "      <td>0.0</td>\n",
              "      <td>0.0</td>\n",
              "      <td>0.0</td>\n",
              "      <td>0.0</td>\n",
              "      <td>0.0</td>\n",
              "      <td>0.0</td>\n",
              "      <td>0.0</td>\n",
              "      <td>0.0</td>\n",
              "      <td>0.0</td>\n",
              "      <td>...</td>\n",
              "      <td>0.00000</td>\n",
              "      <td>0.0</td>\n",
              "      <td>0.000000</td>\n",
              "      <td>0.0</td>\n",
              "      <td>0.0</td>\n",
              "      <td>0.0</td>\n",
              "      <td>0.0</td>\n",
              "      <td>0.0</td>\n",
              "      <td>0.10058</td>\n",
              "      <td>0.0</td>\n",
              "      <td>0.000000</td>\n",
              "      <td>0.0</td>\n",
              "      <td>0.0</td>\n",
              "      <td>0.000000</td>\n",
              "      <td>0.0</td>\n",
              "      <td>0.0</td>\n",
              "      <td>0.0</td>\n",
              "      <td>0.0</td>\n",
              "      <td>0.0</td>\n",
              "      <td>0.0</td>\n",
              "      <td>0.0</td>\n",
              "      <td>0.0</td>\n",
              "      <td>0.106927</td>\n",
              "      <td>0.0</td>\n",
              "      <td>0.0</td>\n",
              "      <td>0.0</td>\n",
              "      <td>0.0</td>\n",
              "      <td>0.0</td>\n",
              "      <td>0.0</td>\n",
              "      <td>0.0</td>\n",
              "      <td>0.0</td>\n",
              "      <td>0.0</td>\n",
              "      <td>0.0</td>\n",
              "      <td>0.0</td>\n",
              "      <td>0.0</td>\n",
              "      <td>0.0</td>\n",
              "      <td>0.0</td>\n",
              "      <td>0.0</td>\n",
              "      <td>0.0</td>\n",
              "      <td>0.000000</td>\n",
              "    </tr>\n",
              "    <tr>\n",
              "      <th>2</th>\n",
              "      <td>0.0</td>\n",
              "      <td>0.0</td>\n",
              "      <td>0.0</td>\n",
              "      <td>0.0</td>\n",
              "      <td>0.0</td>\n",
              "      <td>0.0</td>\n",
              "      <td>0.0</td>\n",
              "      <td>0.0</td>\n",
              "      <td>0.0</td>\n",
              "      <td>0.0</td>\n",
              "      <td>0.0</td>\n",
              "      <td>0.0</td>\n",
              "      <td>0.0</td>\n",
              "      <td>0.0</td>\n",
              "      <td>0.0</td>\n",
              "      <td>0.000000</td>\n",
              "      <td>0.0</td>\n",
              "      <td>0.00000</td>\n",
              "      <td>0.0</td>\n",
              "      <td>0.0</td>\n",
              "      <td>0.000000</td>\n",
              "      <td>0.0</td>\n",
              "      <td>0.0</td>\n",
              "      <td>0.0</td>\n",
              "      <td>0.0</td>\n",
              "      <td>0.0</td>\n",
              "      <td>0.0</td>\n",
              "      <td>0.0</td>\n",
              "      <td>0.0</td>\n",
              "      <td>0.0</td>\n",
              "      <td>0.0</td>\n",
              "      <td>0.0</td>\n",
              "      <td>0.0</td>\n",
              "      <td>0.0</td>\n",
              "      <td>0.0</td>\n",
              "      <td>0.0</td>\n",
              "      <td>0.0</td>\n",
              "      <td>0.0</td>\n",
              "      <td>0.0</td>\n",
              "      <td>0.0</td>\n",
              "      <td>...</td>\n",
              "      <td>0.00000</td>\n",
              "      <td>0.0</td>\n",
              "      <td>0.000000</td>\n",
              "      <td>0.0</td>\n",
              "      <td>0.0</td>\n",
              "      <td>0.0</td>\n",
              "      <td>0.0</td>\n",
              "      <td>0.0</td>\n",
              "      <td>0.00000</td>\n",
              "      <td>0.0</td>\n",
              "      <td>0.000000</td>\n",
              "      <td>0.0</td>\n",
              "      <td>0.0</td>\n",
              "      <td>0.000000</td>\n",
              "      <td>0.0</td>\n",
              "      <td>0.0</td>\n",
              "      <td>0.0</td>\n",
              "      <td>0.0</td>\n",
              "      <td>0.0</td>\n",
              "      <td>0.0</td>\n",
              "      <td>0.0</td>\n",
              "      <td>0.0</td>\n",
              "      <td>0.000000</td>\n",
              "      <td>0.0</td>\n",
              "      <td>0.0</td>\n",
              "      <td>0.0</td>\n",
              "      <td>0.0</td>\n",
              "      <td>0.0</td>\n",
              "      <td>0.0</td>\n",
              "      <td>0.0</td>\n",
              "      <td>0.0</td>\n",
              "      <td>0.0</td>\n",
              "      <td>0.0</td>\n",
              "      <td>0.0</td>\n",
              "      <td>0.0</td>\n",
              "      <td>0.0</td>\n",
              "      <td>0.0</td>\n",
              "      <td>0.0</td>\n",
              "      <td>0.0</td>\n",
              "      <td>0.000000</td>\n",
              "    </tr>\n",
              "    <tr>\n",
              "      <th>3</th>\n",
              "      <td>0.0</td>\n",
              "      <td>0.0</td>\n",
              "      <td>0.0</td>\n",
              "      <td>0.0</td>\n",
              "      <td>0.0</td>\n",
              "      <td>0.0</td>\n",
              "      <td>0.0</td>\n",
              "      <td>0.0</td>\n",
              "      <td>0.0</td>\n",
              "      <td>0.0</td>\n",
              "      <td>0.0</td>\n",
              "      <td>0.0</td>\n",
              "      <td>0.0</td>\n",
              "      <td>0.0</td>\n",
              "      <td>0.0</td>\n",
              "      <td>0.000000</td>\n",
              "      <td>0.0</td>\n",
              "      <td>0.00000</td>\n",
              "      <td>0.0</td>\n",
              "      <td>0.0</td>\n",
              "      <td>0.000000</td>\n",
              "      <td>0.0</td>\n",
              "      <td>0.0</td>\n",
              "      <td>0.0</td>\n",
              "      <td>0.0</td>\n",
              "      <td>0.0</td>\n",
              "      <td>0.0</td>\n",
              "      <td>0.0</td>\n",
              "      <td>0.0</td>\n",
              "      <td>0.0</td>\n",
              "      <td>0.0</td>\n",
              "      <td>0.0</td>\n",
              "      <td>0.0</td>\n",
              "      <td>0.0</td>\n",
              "      <td>0.0</td>\n",
              "      <td>0.0</td>\n",
              "      <td>0.0</td>\n",
              "      <td>0.0</td>\n",
              "      <td>0.0</td>\n",
              "      <td>0.0</td>\n",
              "      <td>...</td>\n",
              "      <td>0.00000</td>\n",
              "      <td>0.0</td>\n",
              "      <td>0.000000</td>\n",
              "      <td>0.0</td>\n",
              "      <td>0.0</td>\n",
              "      <td>0.0</td>\n",
              "      <td>0.0</td>\n",
              "      <td>0.0</td>\n",
              "      <td>0.00000</td>\n",
              "      <td>0.0</td>\n",
              "      <td>0.000000</td>\n",
              "      <td>0.0</td>\n",
              "      <td>0.0</td>\n",
              "      <td>0.204681</td>\n",
              "      <td>0.0</td>\n",
              "      <td>0.0</td>\n",
              "      <td>0.0</td>\n",
              "      <td>0.0</td>\n",
              "      <td>0.0</td>\n",
              "      <td>0.0</td>\n",
              "      <td>0.0</td>\n",
              "      <td>0.0</td>\n",
              "      <td>0.000000</td>\n",
              "      <td>0.0</td>\n",
              "      <td>0.0</td>\n",
              "      <td>0.0</td>\n",
              "      <td>0.0</td>\n",
              "      <td>0.0</td>\n",
              "      <td>0.0</td>\n",
              "      <td>0.0</td>\n",
              "      <td>0.0</td>\n",
              "      <td>0.0</td>\n",
              "      <td>0.0</td>\n",
              "      <td>0.0</td>\n",
              "      <td>0.0</td>\n",
              "      <td>0.0</td>\n",
              "      <td>0.0</td>\n",
              "      <td>0.0</td>\n",
              "      <td>0.0</td>\n",
              "      <td>0.000000</td>\n",
              "    </tr>\n",
              "    <tr>\n",
              "      <th>4</th>\n",
              "      <td>0.0</td>\n",
              "      <td>0.0</td>\n",
              "      <td>0.0</td>\n",
              "      <td>0.0</td>\n",
              "      <td>0.0</td>\n",
              "      <td>0.0</td>\n",
              "      <td>0.0</td>\n",
              "      <td>0.0</td>\n",
              "      <td>0.0</td>\n",
              "      <td>0.0</td>\n",
              "      <td>0.0</td>\n",
              "      <td>0.0</td>\n",
              "      <td>0.0</td>\n",
              "      <td>0.0</td>\n",
              "      <td>0.0</td>\n",
              "      <td>0.000000</td>\n",
              "      <td>0.0</td>\n",
              "      <td>0.00000</td>\n",
              "      <td>0.0</td>\n",
              "      <td>0.0</td>\n",
              "      <td>0.000000</td>\n",
              "      <td>0.0</td>\n",
              "      <td>0.0</td>\n",
              "      <td>0.0</td>\n",
              "      <td>0.0</td>\n",
              "      <td>0.0</td>\n",
              "      <td>0.0</td>\n",
              "      <td>0.0</td>\n",
              "      <td>0.0</td>\n",
              "      <td>0.0</td>\n",
              "      <td>0.0</td>\n",
              "      <td>0.0</td>\n",
              "      <td>0.0</td>\n",
              "      <td>0.0</td>\n",
              "      <td>0.0</td>\n",
              "      <td>0.0</td>\n",
              "      <td>0.0</td>\n",
              "      <td>0.0</td>\n",
              "      <td>0.0</td>\n",
              "      <td>0.0</td>\n",
              "      <td>...</td>\n",
              "      <td>0.00000</td>\n",
              "      <td>0.0</td>\n",
              "      <td>0.066283</td>\n",
              "      <td>0.0</td>\n",
              "      <td>0.0</td>\n",
              "      <td>0.0</td>\n",
              "      <td>0.0</td>\n",
              "      <td>0.0</td>\n",
              "      <td>0.00000</td>\n",
              "      <td>0.0</td>\n",
              "      <td>0.000000</td>\n",
              "      <td>0.0</td>\n",
              "      <td>0.0</td>\n",
              "      <td>0.000000</td>\n",
              "      <td>0.0</td>\n",
              "      <td>0.0</td>\n",
              "      <td>0.0</td>\n",
              "      <td>0.0</td>\n",
              "      <td>0.0</td>\n",
              "      <td>0.0</td>\n",
              "      <td>0.0</td>\n",
              "      <td>0.0</td>\n",
              "      <td>0.000000</td>\n",
              "      <td>0.0</td>\n",
              "      <td>0.0</td>\n",
              "      <td>0.0</td>\n",
              "      <td>0.0</td>\n",
              "      <td>0.0</td>\n",
              "      <td>0.0</td>\n",
              "      <td>0.0</td>\n",
              "      <td>0.0</td>\n",
              "      <td>0.0</td>\n",
              "      <td>0.0</td>\n",
              "      <td>0.0</td>\n",
              "      <td>0.0</td>\n",
              "      <td>0.0</td>\n",
              "      <td>0.0</td>\n",
              "      <td>0.0</td>\n",
              "      <td>0.0</td>\n",
              "      <td>0.000000</td>\n",
              "    </tr>\n",
              "    <tr>\n",
              "      <th>...</th>\n",
              "      <td>...</td>\n",
              "      <td>...</td>\n",
              "      <td>...</td>\n",
              "      <td>...</td>\n",
              "      <td>...</td>\n",
              "      <td>...</td>\n",
              "      <td>...</td>\n",
              "      <td>...</td>\n",
              "      <td>...</td>\n",
              "      <td>...</td>\n",
              "      <td>...</td>\n",
              "      <td>...</td>\n",
              "      <td>...</td>\n",
              "      <td>...</td>\n",
              "      <td>...</td>\n",
              "      <td>...</td>\n",
              "      <td>...</td>\n",
              "      <td>...</td>\n",
              "      <td>...</td>\n",
              "      <td>...</td>\n",
              "      <td>...</td>\n",
              "      <td>...</td>\n",
              "      <td>...</td>\n",
              "      <td>...</td>\n",
              "      <td>...</td>\n",
              "      <td>...</td>\n",
              "      <td>...</td>\n",
              "      <td>...</td>\n",
              "      <td>...</td>\n",
              "      <td>...</td>\n",
              "      <td>...</td>\n",
              "      <td>...</td>\n",
              "      <td>...</td>\n",
              "      <td>...</td>\n",
              "      <td>...</td>\n",
              "      <td>...</td>\n",
              "      <td>...</td>\n",
              "      <td>...</td>\n",
              "      <td>...</td>\n",
              "      <td>...</td>\n",
              "      <td>...</td>\n",
              "      <td>...</td>\n",
              "      <td>...</td>\n",
              "      <td>...</td>\n",
              "      <td>...</td>\n",
              "      <td>...</td>\n",
              "      <td>...</td>\n",
              "      <td>...</td>\n",
              "      <td>...</td>\n",
              "      <td>...</td>\n",
              "      <td>...</td>\n",
              "      <td>...</td>\n",
              "      <td>...</td>\n",
              "      <td>...</td>\n",
              "      <td>...</td>\n",
              "      <td>...</td>\n",
              "      <td>...</td>\n",
              "      <td>...</td>\n",
              "      <td>...</td>\n",
              "      <td>...</td>\n",
              "      <td>...</td>\n",
              "      <td>...</td>\n",
              "      <td>...</td>\n",
              "      <td>...</td>\n",
              "      <td>...</td>\n",
              "      <td>...</td>\n",
              "      <td>...</td>\n",
              "      <td>...</td>\n",
              "      <td>...</td>\n",
              "      <td>...</td>\n",
              "      <td>...</td>\n",
              "      <td>...</td>\n",
              "      <td>...</td>\n",
              "      <td>...</td>\n",
              "      <td>...</td>\n",
              "      <td>...</td>\n",
              "      <td>...</td>\n",
              "      <td>...</td>\n",
              "      <td>...</td>\n",
              "      <td>...</td>\n",
              "      <td>...</td>\n",
              "    </tr>\n",
              "    <tr>\n",
              "      <th>4081</th>\n",
              "      <td>0.0</td>\n",
              "      <td>0.0</td>\n",
              "      <td>0.0</td>\n",
              "      <td>0.0</td>\n",
              "      <td>0.0</td>\n",
              "      <td>0.0</td>\n",
              "      <td>0.0</td>\n",
              "      <td>0.0</td>\n",
              "      <td>0.0</td>\n",
              "      <td>0.0</td>\n",
              "      <td>0.0</td>\n",
              "      <td>0.0</td>\n",
              "      <td>0.0</td>\n",
              "      <td>0.0</td>\n",
              "      <td>0.0</td>\n",
              "      <td>0.000000</td>\n",
              "      <td>0.0</td>\n",
              "      <td>0.00000</td>\n",
              "      <td>0.0</td>\n",
              "      <td>0.0</td>\n",
              "      <td>0.000000</td>\n",
              "      <td>0.0</td>\n",
              "      <td>0.0</td>\n",
              "      <td>0.0</td>\n",
              "      <td>0.0</td>\n",
              "      <td>0.0</td>\n",
              "      <td>0.0</td>\n",
              "      <td>0.0</td>\n",
              "      <td>0.0</td>\n",
              "      <td>0.0</td>\n",
              "      <td>0.0</td>\n",
              "      <td>0.0</td>\n",
              "      <td>0.0</td>\n",
              "      <td>0.0</td>\n",
              "      <td>0.0</td>\n",
              "      <td>0.0</td>\n",
              "      <td>0.0</td>\n",
              "      <td>0.0</td>\n",
              "      <td>0.0</td>\n",
              "      <td>0.0</td>\n",
              "      <td>...</td>\n",
              "      <td>0.00000</td>\n",
              "      <td>0.0</td>\n",
              "      <td>0.000000</td>\n",
              "      <td>0.0</td>\n",
              "      <td>0.0</td>\n",
              "      <td>0.0</td>\n",
              "      <td>0.0</td>\n",
              "      <td>0.0</td>\n",
              "      <td>0.00000</td>\n",
              "      <td>0.0</td>\n",
              "      <td>0.000000</td>\n",
              "      <td>0.0</td>\n",
              "      <td>0.0</td>\n",
              "      <td>0.000000</td>\n",
              "      <td>0.0</td>\n",
              "      <td>0.0</td>\n",
              "      <td>0.0</td>\n",
              "      <td>0.0</td>\n",
              "      <td>0.0</td>\n",
              "      <td>0.0</td>\n",
              "      <td>0.0</td>\n",
              "      <td>0.0</td>\n",
              "      <td>0.000000</td>\n",
              "      <td>0.0</td>\n",
              "      <td>0.0</td>\n",
              "      <td>0.0</td>\n",
              "      <td>0.0</td>\n",
              "      <td>0.0</td>\n",
              "      <td>0.0</td>\n",
              "      <td>0.0</td>\n",
              "      <td>0.0</td>\n",
              "      <td>0.0</td>\n",
              "      <td>0.0</td>\n",
              "      <td>0.0</td>\n",
              "      <td>0.0</td>\n",
              "      <td>0.0</td>\n",
              "      <td>0.0</td>\n",
              "      <td>0.0</td>\n",
              "      <td>0.0</td>\n",
              "      <td>0.000000</td>\n",
              "    </tr>\n",
              "    <tr>\n",
              "      <th>4082</th>\n",
              "      <td>0.0</td>\n",
              "      <td>0.0</td>\n",
              "      <td>0.0</td>\n",
              "      <td>0.0</td>\n",
              "      <td>0.0</td>\n",
              "      <td>0.0</td>\n",
              "      <td>0.0</td>\n",
              "      <td>0.0</td>\n",
              "      <td>0.0</td>\n",
              "      <td>0.0</td>\n",
              "      <td>0.0</td>\n",
              "      <td>0.0</td>\n",
              "      <td>0.0</td>\n",
              "      <td>0.0</td>\n",
              "      <td>0.0</td>\n",
              "      <td>0.000000</td>\n",
              "      <td>0.0</td>\n",
              "      <td>0.00000</td>\n",
              "      <td>0.0</td>\n",
              "      <td>0.0</td>\n",
              "      <td>0.000000</td>\n",
              "      <td>0.0</td>\n",
              "      <td>0.0</td>\n",
              "      <td>0.0</td>\n",
              "      <td>0.0</td>\n",
              "      <td>0.0</td>\n",
              "      <td>0.0</td>\n",
              "      <td>0.0</td>\n",
              "      <td>0.0</td>\n",
              "      <td>0.0</td>\n",
              "      <td>0.0</td>\n",
              "      <td>0.0</td>\n",
              "      <td>0.0</td>\n",
              "      <td>0.0</td>\n",
              "      <td>0.0</td>\n",
              "      <td>0.0</td>\n",
              "      <td>0.0</td>\n",
              "      <td>0.0</td>\n",
              "      <td>0.0</td>\n",
              "      <td>0.0</td>\n",
              "      <td>...</td>\n",
              "      <td>0.00000</td>\n",
              "      <td>0.0</td>\n",
              "      <td>0.000000</td>\n",
              "      <td>0.0</td>\n",
              "      <td>0.0</td>\n",
              "      <td>0.0</td>\n",
              "      <td>0.0</td>\n",
              "      <td>0.0</td>\n",
              "      <td>0.00000</td>\n",
              "      <td>0.0</td>\n",
              "      <td>0.000000</td>\n",
              "      <td>0.0</td>\n",
              "      <td>0.0</td>\n",
              "      <td>0.000000</td>\n",
              "      <td>0.0</td>\n",
              "      <td>0.0</td>\n",
              "      <td>0.0</td>\n",
              "      <td>0.0</td>\n",
              "      <td>0.0</td>\n",
              "      <td>0.0</td>\n",
              "      <td>0.0</td>\n",
              "      <td>0.0</td>\n",
              "      <td>0.000000</td>\n",
              "      <td>0.0</td>\n",
              "      <td>0.0</td>\n",
              "      <td>0.0</td>\n",
              "      <td>0.0</td>\n",
              "      <td>0.0</td>\n",
              "      <td>0.0</td>\n",
              "      <td>0.0</td>\n",
              "      <td>0.0</td>\n",
              "      <td>0.0</td>\n",
              "      <td>0.0</td>\n",
              "      <td>0.0</td>\n",
              "      <td>0.0</td>\n",
              "      <td>0.0</td>\n",
              "      <td>0.0</td>\n",
              "      <td>0.0</td>\n",
              "      <td>0.0</td>\n",
              "      <td>0.000000</td>\n",
              "    </tr>\n",
              "    <tr>\n",
              "      <th>4083</th>\n",
              "      <td>0.0</td>\n",
              "      <td>0.0</td>\n",
              "      <td>0.0</td>\n",
              "      <td>0.0</td>\n",
              "      <td>0.0</td>\n",
              "      <td>0.0</td>\n",
              "      <td>0.0</td>\n",
              "      <td>0.0</td>\n",
              "      <td>0.0</td>\n",
              "      <td>0.0</td>\n",
              "      <td>0.0</td>\n",
              "      <td>0.0</td>\n",
              "      <td>0.0</td>\n",
              "      <td>0.0</td>\n",
              "      <td>0.0</td>\n",
              "      <td>0.115351</td>\n",
              "      <td>0.0</td>\n",
              "      <td>0.00000</td>\n",
              "      <td>0.0</td>\n",
              "      <td>0.0</td>\n",
              "      <td>0.000000</td>\n",
              "      <td>0.0</td>\n",
              "      <td>0.0</td>\n",
              "      <td>0.0</td>\n",
              "      <td>0.0</td>\n",
              "      <td>0.0</td>\n",
              "      <td>0.0</td>\n",
              "      <td>0.0</td>\n",
              "      <td>0.0</td>\n",
              "      <td>0.0</td>\n",
              "      <td>0.0</td>\n",
              "      <td>0.0</td>\n",
              "      <td>0.0</td>\n",
              "      <td>0.0</td>\n",
              "      <td>0.0</td>\n",
              "      <td>0.0</td>\n",
              "      <td>0.0</td>\n",
              "      <td>0.0</td>\n",
              "      <td>0.0</td>\n",
              "      <td>0.0</td>\n",
              "      <td>...</td>\n",
              "      <td>0.00000</td>\n",
              "      <td>0.0</td>\n",
              "      <td>0.000000</td>\n",
              "      <td>0.0</td>\n",
              "      <td>0.0</td>\n",
              "      <td>0.0</td>\n",
              "      <td>0.0</td>\n",
              "      <td>0.0</td>\n",
              "      <td>0.00000</td>\n",
              "      <td>0.0</td>\n",
              "      <td>0.000000</td>\n",
              "      <td>0.0</td>\n",
              "      <td>0.0</td>\n",
              "      <td>0.000000</td>\n",
              "      <td>0.0</td>\n",
              "      <td>0.0</td>\n",
              "      <td>0.0</td>\n",
              "      <td>0.0</td>\n",
              "      <td>0.0</td>\n",
              "      <td>0.0</td>\n",
              "      <td>0.0</td>\n",
              "      <td>0.0</td>\n",
              "      <td>0.000000</td>\n",
              "      <td>0.0</td>\n",
              "      <td>0.0</td>\n",
              "      <td>0.0</td>\n",
              "      <td>0.0</td>\n",
              "      <td>0.0</td>\n",
              "      <td>0.0</td>\n",
              "      <td>0.0</td>\n",
              "      <td>0.0</td>\n",
              "      <td>0.0</td>\n",
              "      <td>0.0</td>\n",
              "      <td>0.0</td>\n",
              "      <td>0.0</td>\n",
              "      <td>0.0</td>\n",
              "      <td>0.0</td>\n",
              "      <td>0.0</td>\n",
              "      <td>0.0</td>\n",
              "      <td>0.000000</td>\n",
              "    </tr>\n",
              "    <tr>\n",
              "      <th>4084</th>\n",
              "      <td>0.0</td>\n",
              "      <td>0.0</td>\n",
              "      <td>0.0</td>\n",
              "      <td>0.0</td>\n",
              "      <td>0.0</td>\n",
              "      <td>0.0</td>\n",
              "      <td>0.0</td>\n",
              "      <td>0.0</td>\n",
              "      <td>0.0</td>\n",
              "      <td>0.0</td>\n",
              "      <td>0.0</td>\n",
              "      <td>0.0</td>\n",
              "      <td>0.0</td>\n",
              "      <td>0.0</td>\n",
              "      <td>0.0</td>\n",
              "      <td>0.000000</td>\n",
              "      <td>0.0</td>\n",
              "      <td>0.07034</td>\n",
              "      <td>0.0</td>\n",
              "      <td>0.0</td>\n",
              "      <td>0.000000</td>\n",
              "      <td>0.0</td>\n",
              "      <td>0.0</td>\n",
              "      <td>0.0</td>\n",
              "      <td>0.0</td>\n",
              "      <td>0.0</td>\n",
              "      <td>0.0</td>\n",
              "      <td>0.0</td>\n",
              "      <td>0.0</td>\n",
              "      <td>0.0</td>\n",
              "      <td>0.0</td>\n",
              "      <td>0.0</td>\n",
              "      <td>0.0</td>\n",
              "      <td>0.0</td>\n",
              "      <td>0.0</td>\n",
              "      <td>0.0</td>\n",
              "      <td>0.0</td>\n",
              "      <td>0.0</td>\n",
              "      <td>0.0</td>\n",
              "      <td>0.0</td>\n",
              "      <td>...</td>\n",
              "      <td>0.00000</td>\n",
              "      <td>0.0</td>\n",
              "      <td>0.196792</td>\n",
              "      <td>0.0</td>\n",
              "      <td>0.0</td>\n",
              "      <td>0.0</td>\n",
              "      <td>0.0</td>\n",
              "      <td>0.0</td>\n",
              "      <td>0.00000</td>\n",
              "      <td>0.0</td>\n",
              "      <td>0.000000</td>\n",
              "      <td>0.0</td>\n",
              "      <td>0.0</td>\n",
              "      <td>0.000000</td>\n",
              "      <td>0.0</td>\n",
              "      <td>0.0</td>\n",
              "      <td>0.0</td>\n",
              "      <td>0.0</td>\n",
              "      <td>0.0</td>\n",
              "      <td>0.0</td>\n",
              "      <td>0.0</td>\n",
              "      <td>0.0</td>\n",
              "      <td>0.000000</td>\n",
              "      <td>0.0</td>\n",
              "      <td>0.0</td>\n",
              "      <td>0.0</td>\n",
              "      <td>0.0</td>\n",
              "      <td>0.0</td>\n",
              "      <td>0.0</td>\n",
              "      <td>0.0</td>\n",
              "      <td>0.0</td>\n",
              "      <td>0.0</td>\n",
              "      <td>0.0</td>\n",
              "      <td>0.0</td>\n",
              "      <td>0.0</td>\n",
              "      <td>0.0</td>\n",
              "      <td>0.0</td>\n",
              "      <td>0.0</td>\n",
              "      <td>0.0</td>\n",
              "      <td>0.000000</td>\n",
              "    </tr>\n",
              "    <tr>\n",
              "      <th>4085</th>\n",
              "      <td>0.0</td>\n",
              "      <td>0.0</td>\n",
              "      <td>0.0</td>\n",
              "      <td>0.0</td>\n",
              "      <td>0.0</td>\n",
              "      <td>0.0</td>\n",
              "      <td>0.0</td>\n",
              "      <td>0.0</td>\n",
              "      <td>0.0</td>\n",
              "      <td>0.0</td>\n",
              "      <td>0.0</td>\n",
              "      <td>0.0</td>\n",
              "      <td>0.0</td>\n",
              "      <td>0.0</td>\n",
              "      <td>0.0</td>\n",
              "      <td>0.000000</td>\n",
              "      <td>0.0</td>\n",
              "      <td>0.00000</td>\n",
              "      <td>0.0</td>\n",
              "      <td>0.0</td>\n",
              "      <td>0.000000</td>\n",
              "      <td>0.0</td>\n",
              "      <td>0.0</td>\n",
              "      <td>0.0</td>\n",
              "      <td>0.0</td>\n",
              "      <td>0.0</td>\n",
              "      <td>0.0</td>\n",
              "      <td>0.0</td>\n",
              "      <td>0.0</td>\n",
              "      <td>0.0</td>\n",
              "      <td>0.0</td>\n",
              "      <td>0.0</td>\n",
              "      <td>0.0</td>\n",
              "      <td>0.0</td>\n",
              "      <td>0.0</td>\n",
              "      <td>0.0</td>\n",
              "      <td>0.0</td>\n",
              "      <td>0.0</td>\n",
              "      <td>0.0</td>\n",
              "      <td>0.0</td>\n",
              "      <td>...</td>\n",
              "      <td>0.00000</td>\n",
              "      <td>0.0</td>\n",
              "      <td>0.000000</td>\n",
              "      <td>0.0</td>\n",
              "      <td>0.0</td>\n",
              "      <td>0.0</td>\n",
              "      <td>0.0</td>\n",
              "      <td>0.0</td>\n",
              "      <td>0.00000</td>\n",
              "      <td>0.0</td>\n",
              "      <td>0.242329</td>\n",
              "      <td>0.0</td>\n",
              "      <td>0.0</td>\n",
              "      <td>0.000000</td>\n",
              "      <td>0.0</td>\n",
              "      <td>0.0</td>\n",
              "      <td>0.0</td>\n",
              "      <td>0.0</td>\n",
              "      <td>0.0</td>\n",
              "      <td>0.0</td>\n",
              "      <td>0.0</td>\n",
              "      <td>0.0</td>\n",
              "      <td>0.000000</td>\n",
              "      <td>0.0</td>\n",
              "      <td>0.0</td>\n",
              "      <td>0.0</td>\n",
              "      <td>0.0</td>\n",
              "      <td>0.0</td>\n",
              "      <td>0.0</td>\n",
              "      <td>0.0</td>\n",
              "      <td>0.0</td>\n",
              "      <td>0.0</td>\n",
              "      <td>0.0</td>\n",
              "      <td>0.0</td>\n",
              "      <td>0.0</td>\n",
              "      <td>0.0</td>\n",
              "      <td>0.0</td>\n",
              "      <td>0.0</td>\n",
              "      <td>0.0</td>\n",
              "      <td>0.000000</td>\n",
              "    </tr>\n",
              "  </tbody>\n",
              "</table>\n",
              "<p>4086 rows × 5000 columns</p>\n",
              "</div>"
            ],
            "text/plain": [
              "      10 minutes  10 years  15 minutes  ...  your typical  your way  yourself favor\n",
              "0            0.0       0.0         0.0  ...           0.0       0.0        0.122554\n",
              "1            0.0       0.0         0.0  ...           0.0       0.0        0.000000\n",
              "2            0.0       0.0         0.0  ...           0.0       0.0        0.000000\n",
              "3            0.0       0.0         0.0  ...           0.0       0.0        0.000000\n",
              "4            0.0       0.0         0.0  ...           0.0       0.0        0.000000\n",
              "...          ...       ...         ...  ...           ...       ...             ...\n",
              "4081         0.0       0.0         0.0  ...           0.0       0.0        0.000000\n",
              "4082         0.0       0.0         0.0  ...           0.0       0.0        0.000000\n",
              "4083         0.0       0.0         0.0  ...           0.0       0.0        0.000000\n",
              "4084         0.0       0.0         0.0  ...           0.0       0.0        0.000000\n",
              "4085         0.0       0.0         0.0  ...           0.0       0.0        0.000000\n",
              "\n",
              "[4086 rows x 5000 columns]"
            ]
          },
          "metadata": {
            "tags": []
          },
          "execution_count": 15
        }
      ]
    },
    {
      "cell_type": "code",
      "metadata": {
        "id": "ObY9rMmvJ8zc",
        "colab_type": "code",
        "colab": {}
      },
      "source": [
        "X_train, X_test, y_train, y_test = train_test_split(X_tfidf_df, y,test_size=0.3,random_state=101)"
      ],
      "execution_count": null,
      "outputs": []
    },
    {
      "cell_type": "code",
      "metadata": {
        "id": "bKwgX40ZJ8ze",
        "colab_type": "code",
        "colab": {}
      },
      "source": [
        "from sklearn.naive_bayes import MultinomialNB\n",
        "nb = MultinomialNB()"
      ],
      "execution_count": null,
      "outputs": []
    },
    {
      "cell_type": "code",
      "metadata": {
        "id": "y3lOyThiJ8zf",
        "colab_type": "code",
        "colab": {
          "base_uri": "https://localhost:8080/",
          "height": 34
        },
        "outputId": "353e40b2-92c3-45c4-fbb1-acc709b03af8"
      },
      "source": [
        "nb.fit(X_train,y_train)"
      ],
      "execution_count": null,
      "outputs": [
        {
          "output_type": "execute_result",
          "data": {
            "text/plain": [
              "MultinomialNB(alpha=1.0, class_prior=None, fit_prior=True)"
            ]
          },
          "metadata": {
            "tags": []
          },
          "execution_count": 18
        }
      ]
    },
    {
      "cell_type": "code",
      "metadata": {
        "id": "cILuQ2HqJ8zj",
        "colab_type": "code",
        "colab": {
          "base_uri": "https://localhost:8080/",
          "height": 255
        },
        "outputId": "c1312115-7b01-4206-ed42-b27b885fc93a"
      },
      "source": [
        "\n",
        "predictions = nb.predict(X_test)\n",
        "from sklearn.metrics import confusion_matrix,classification_report,accuracy_score\n",
        "print(confusion_matrix(y_test,predictions))\n",
        "print('\\n')\n",
        "print(classification_report(y_test,predictions))\n",
        "print(accuracy_score(y_test,predictions))"
      ],
      "execution_count": null,
      "outputs": [
        {
          "output_type": "stream",
          "text": [
            "[[ 57 171]\n",
            " [  3 995]]\n",
            "\n",
            "\n",
            "              precision    recall  f1-score   support\n",
            "\n",
            "           1       0.95      0.25      0.40       228\n",
            "           5       0.85      1.00      0.92       998\n",
            "\n",
            "    accuracy                           0.86      1226\n",
            "   macro avg       0.90      0.62      0.66      1226\n",
            "weighted avg       0.87      0.86      0.82      1226\n",
            "\n",
            "0.8580750407830342\n"
          ],
          "name": "stdout"
        }
      ]
    },
    {
      "cell_type": "code",
      "metadata": {
        "id": "Po78wbJOJ8zk",
        "colab_type": "code",
        "colab": {}
      },
      "source": [
        "from sklearn.ensemble import RandomForestClassifier, GradientBoostingClassifier"
      ],
      "execution_count": null,
      "outputs": []
    },
    {
      "cell_type": "code",
      "metadata": {
        "id": "mNk9GIDCJ8zm",
        "colab_type": "code",
        "colab": {}
      },
      "source": [
        "rf = RandomForestClassifier(n_estimators=150, max_depth=None, n_jobs=-1)"
      ],
      "execution_count": null,
      "outputs": []
    },
    {
      "cell_type": "code",
      "metadata": {
        "id": "3WsMwxfaJ8zo",
        "colab_type": "code",
        "colab": {
          "base_uri": "https://localhost:8080/",
          "height": 153
        },
        "outputId": "b9c77903-bf04-4d31-9dcb-57718108be81"
      },
      "source": [
        "rf.fit(X_train,y_train)"
      ],
      "execution_count": null,
      "outputs": [
        {
          "output_type": "execute_result",
          "data": {
            "text/plain": [
              "RandomForestClassifier(bootstrap=True, ccp_alpha=0.0, class_weight=None,\n",
              "                       criterion='gini', max_depth=None, max_features='auto',\n",
              "                       max_leaf_nodes=None, max_samples=None,\n",
              "                       min_impurity_decrease=0.0, min_impurity_split=None,\n",
              "                       min_samples_leaf=1, min_samples_split=2,\n",
              "                       min_weight_fraction_leaf=0.0, n_estimators=150,\n",
              "                       n_jobs=-1, oob_score=False, random_state=None, verbose=0,\n",
              "                       warm_start=False)"
            ]
          },
          "metadata": {
            "tags": []
          },
          "execution_count": 23
        }
      ]
    },
    {
      "cell_type": "code",
      "metadata": {
        "id": "8fUKUjUSJ8zs",
        "colab_type": "code",
        "colab": {}
      },
      "source": [
        "predictions = rf.predict(X_test)"
      ],
      "execution_count": null,
      "outputs": []
    },
    {
      "cell_type": "code",
      "metadata": {
        "id": "rIym12HfJ8zt",
        "colab_type": "code",
        "colab": {
          "base_uri": "https://localhost:8080/",
          "height": 255
        },
        "outputId": "ca333e1c-b7e5-447f-9f66-a337d9838a58"
      },
      "source": [
        "print(confusion_matrix(y_test,predictions))\n",
        "print('\\n')\n",
        "print(classification_report(y_test,predictions))\n",
        "print(accuracy_score(y_test,predictions))"
      ],
      "execution_count": null,
      "outputs": [
        {
          "output_type": "stream",
          "text": [
            "[[ 72 156]\n",
            " [  9 989]]\n",
            "\n",
            "\n",
            "              precision    recall  f1-score   support\n",
            "\n",
            "           1       0.89      0.32      0.47       228\n",
            "           5       0.86      0.99      0.92       998\n",
            "\n",
            "    accuracy                           0.87      1226\n",
            "   macro avg       0.88      0.65      0.69      1226\n",
            "weighted avg       0.87      0.87      0.84      1226\n",
            "\n",
            "0.865415986949429\n"
          ],
          "name": "stdout"
        }
      ]
    },
    {
      "cell_type": "code",
      "metadata": {
        "id": "IgDUQ5BqJ8zu",
        "colab_type": "code",
        "colab": {
          "base_uri": "https://localhost:8080/",
          "height": 187
        },
        "outputId": "58859a06-37da-459f-c2c8-f7aa17e40943"
      },
      "source": [
        "gb = GradientBoostingClassifier(n_estimators=200, max_depth=30)\n",
        "gb.fit(X_train,y_train)"
      ],
      "execution_count": null,
      "outputs": [
        {
          "output_type": "execute_result",
          "data": {
            "text/plain": [
              "GradientBoostingClassifier(ccp_alpha=0.0, criterion='friedman_mse', init=None,\n",
              "                           learning_rate=0.1, loss='deviance', max_depth=30,\n",
              "                           max_features=None, max_leaf_nodes=None,\n",
              "                           min_impurity_decrease=0.0, min_impurity_split=None,\n",
              "                           min_samples_leaf=1, min_samples_split=2,\n",
              "                           min_weight_fraction_leaf=0.0, n_estimators=200,\n",
              "                           n_iter_no_change=None, presort='deprecated',\n",
              "                           random_state=None, subsample=1.0, tol=0.0001,\n",
              "                           validation_fraction=0.1, verbose=0,\n",
              "                           warm_start=False)"
            ]
          },
          "metadata": {
            "tags": []
          },
          "execution_count": 28
        }
      ]
    },
    {
      "cell_type": "code",
      "metadata": {
        "id": "vi-w_QdZxlX1",
        "colab_type": "code",
        "colab": {
          "base_uri": "https://localhost:8080/",
          "height": 255
        },
        "outputId": "8e23f24f-6f2b-4351-c88d-f81cba774c03"
      },
      "source": [
        "print(confusion_matrix(y_test,predictions))\n",
        "print('\\n')\n",
        "print(classification_report(y_test,predictions))\n",
        "print(accuracy_score(y_test,predictions))"
      ],
      "execution_count": null,
      "outputs": [
        {
          "output_type": "stream",
          "text": [
            "[[ 72 156]\n",
            " [  9 989]]\n",
            "\n",
            "\n",
            "              precision    recall  f1-score   support\n",
            "\n",
            "           1       0.89      0.32      0.47       228\n",
            "           5       0.86      0.99      0.92       998\n",
            "\n",
            "    accuracy                           0.87      1226\n",
            "   macro avg       0.88      0.65      0.69      1226\n",
            "weighted avg       0.87      0.87      0.84      1226\n",
            "\n",
            "0.865415986949429\n"
          ],
          "name": "stdout"
        }
      ]
    },
    {
      "cell_type": "code",
      "metadata": {
        "id": "BMHj7ozsyTK-",
        "colab_type": "code",
        "colab": {}
      },
      "source": [
        "from xgboost import XGBClassifier\n",
        "xgb = XGBClassifier(n_estimators=100, max_depth=10)"
      ],
      "execution_count": null,
      "outputs": []
    },
    {
      "cell_type": "code",
      "metadata": {
        "id": "Bpt9JmT7yqx2",
        "colab_type": "code",
        "colab": {
          "base_uri": "https://localhost:8080/",
          "height": 136
        },
        "outputId": "58998460-8fe0-4b84-836f-a4197b68ddf0"
      },
      "source": [
        "xgb.fit(X_train,y_train)"
      ],
      "execution_count": null,
      "outputs": [
        {
          "output_type": "execute_result",
          "data": {
            "text/plain": [
              "XGBClassifier(base_score=0.5, booster='gbtree', colsample_bylevel=1,\n",
              "              colsample_bynode=1, colsample_bytree=1, gamma=0,\n",
              "              learning_rate=0.1, max_delta_step=0, max_depth=10,\n",
              "              min_child_weight=1, missing=None, n_estimators=100, n_jobs=1,\n",
              "              nthread=None, objective='binary:logistic', random_state=0,\n",
              "              reg_alpha=0, reg_lambda=1, scale_pos_weight=1, seed=None,\n",
              "              silent=None, subsample=1, verbosity=1)"
            ]
          },
          "metadata": {
            "tags": []
          },
          "execution_count": 34
        }
      ]
    },
    {
      "cell_type": "code",
      "metadata": {
        "id": "2hiC5K2PJ8zw",
        "colab_type": "code",
        "colab": {
          "base_uri": "https://localhost:8080/",
          "height": 255
        },
        "outputId": "a2f3412d-0aac-40fb-fc09-60cfd13620d4"
      },
      "source": [
        "print(confusion_matrix(y_test,predictions))\n",
        "print('\\n')\n",
        "print(classification_report(y_test,predictions))\n",
        "print(accuracy_score(y_test,predictions))"
      ],
      "execution_count": null,
      "outputs": [
        {
          "output_type": "stream",
          "text": [
            "[[ 88 140]\n",
            " [ 15 983]]\n",
            "\n",
            "\n",
            "              precision    recall  f1-score   support\n",
            "\n",
            "           1       0.85      0.39      0.53       228\n",
            "           5       0.88      0.98      0.93       998\n",
            "\n",
            "    accuracy                           0.87      1226\n",
            "   macro avg       0.86      0.69      0.73      1226\n",
            "weighted avg       0.87      0.87      0.85      1226\n",
            "\n",
            "0.8735725938009788\n"
          ],
          "name": "stdout"
        }
      ]
    },
    {
      "cell_type": "code",
      "metadata": {
        "id": "TXG8QGvyyw2t",
        "colab_type": "code",
        "colab": {}
      },
      "source": [
        ""
      ],
      "execution_count": null,
      "outputs": []
    },
    {
      "cell_type": "code",
      "metadata": {
        "id": "eHYRrPnHJ8z3",
        "colab_type": "code",
        "colab": {}
      },
      "source": [
        "from sklearn.feature_extraction.text import CountVectorizer\n",
        "cv = CountVectorizer()"
      ],
      "execution_count": null,
      "outputs": []
    },
    {
      "cell_type": "code",
      "metadata": {
        "id": "0vpPWVzhJ8z5",
        "colab_type": "code",
        "colab": {}
      },
      "source": [
        "X = cv.fit_transform(X)"
      ],
      "execution_count": null,
      "outputs": []
    },
    {
      "cell_type": "code",
      "metadata": {
        "id": "5psfvuRZJ8z6",
        "colab_type": "code",
        "colab": {}
      },
      "source": [
        "X_train, X_test, y_train, y_test = train_test_split(X, y,test_size=0.3,random_state=101)"
      ],
      "execution_count": null,
      "outputs": []
    },
    {
      "cell_type": "code",
      "metadata": {
        "id": "ZRq5zswaJ8z7",
        "colab_type": "code",
        "colab": {}
      },
      "source": [
        "from sklearn.naive_bayes import MultinomialNB\n",
        "nb = MultinomialNB()"
      ],
      "execution_count": null,
      "outputs": []
    },
    {
      "cell_type": "code",
      "metadata": {
        "id": "9YamBTWwJ8z8",
        "colab_type": "code",
        "colab": {}
      },
      "source": [
        "nb.fit(X_train,y_train)"
      ],
      "execution_count": null,
      "outputs": []
    },
    {
      "cell_type": "code",
      "metadata": {
        "id": "oAKxILltJ8z-",
        "colab_type": "code",
        "colab": {}
      },
      "source": [
        "predictions = nb.predict(X_test)"
      ],
      "execution_count": null,
      "outputs": []
    },
    {
      "cell_type": "code",
      "metadata": {
        "id": "du9oSw5lJ8z_",
        "colab_type": "code",
        "colab": {}
      },
      "source": [
        "from sklearn.metrics import confusion_matrix,classification_report"
      ],
      "execution_count": null,
      "outputs": []
    },
    {
      "cell_type": "code",
      "metadata": {
        "id": "btHmkQhVJ80B",
        "colab_type": "code",
        "colab": {}
      },
      "source": [
        "print(confusion_matrix(y_test,predictions))\n",
        "print('\\n')\n",
        "print(classification_report(y_test,predictions))"
      ],
      "execution_count": null,
      "outputs": []
    },
    {
      "cell_type": "code",
      "metadata": {
        "id": "ojqe_9SsJ80C",
        "colab_type": "code",
        "colab": {}
      },
      "source": [
        "from sklearn.ensemble import RandomForestClassifier, GradientBoostingClassifier"
      ],
      "execution_count": null,
      "outputs": []
    },
    {
      "cell_type": "code",
      "metadata": {
        "id": "V4_kRRLcJ80D",
        "colab_type": "code",
        "colab": {}
      },
      "source": [
        "rf = RandomForestClassifier(n_estimators=150, max_depth=None, n_jobs=-1)"
      ],
      "execution_count": null,
      "outputs": []
    },
    {
      "cell_type": "code",
      "metadata": {
        "id": "5Bl5fs0gJ80E",
        "colab_type": "code",
        "colab": {}
      },
      "source": [
        "rf.fit(X_train,y_train)"
      ],
      "execution_count": null,
      "outputs": []
    },
    {
      "cell_type": "code",
      "metadata": {
        "id": "NzOYq68MJ80F",
        "colab_type": "code",
        "colab": {}
      },
      "source": [
        "predictions = nb.predict(X_test)"
      ],
      "execution_count": null,
      "outputs": []
    },
    {
      "cell_type": "code",
      "metadata": {
        "id": "-srdxHu3J80H",
        "colab_type": "code",
        "colab": {}
      },
      "source": [
        "print(confusion_matrix(y_test,predictions))\n",
        "print('\\n')\n",
        "print(classification_report(y_test,predictions))"
      ],
      "execution_count": null,
      "outputs": []
    },
    {
      "cell_type": "code",
      "metadata": {
        "id": "_ul0ROEyJ80I",
        "colab_type": "code",
        "colab": {}
      },
      "source": [
        "gb = GradientBoostingClassifier(n_estimators=200, max_depth=30)"
      ],
      "execution_count": null,
      "outputs": []
    },
    {
      "cell_type": "code",
      "metadata": {
        "id": "ZKQWku1EJ80J",
        "colab_type": "code",
        "colab": {}
      },
      "source": [
        "gb.fit(X_train,y_train)"
      ],
      "execution_count": null,
      "outputs": []
    },
    {
      "cell_type": "code",
      "metadata": {
        "id": "Bzz6GGziJ80L",
        "colab_type": "code",
        "colab": {}
      },
      "source": [
        "predictions = nb.predict(X_test)"
      ],
      "execution_count": null,
      "outputs": []
    },
    {
      "cell_type": "code",
      "metadata": {
        "id": "J-08juIvJ80L",
        "colab_type": "code",
        "colab": {}
      },
      "source": [
        "print(confusion_matrix(y_test,predictions))\n",
        "print('\\n')\n",
        "print(classification_report(y_test,predictions))"
      ],
      "execution_count": null,
      "outputs": []
    },
    {
      "cell_type": "code",
      "metadata": {
        "id": "CirZi7KOJ80O",
        "colab_type": "code",
        "colab": {}
      },
      "source": [
        "from sklearn.model_selection import train_test_split\n",
        "X_train, X_test, y_train, y_test = train_test_split(yelp_class[['text', 'length','punct %']], yelp_class['stars'], test_size=0.2)"
      ],
      "execution_count": null,
      "outputs": []
    },
    {
      "cell_type": "code",
      "metadata": {
        "id": "30q3texEJ80O",
        "colab_type": "code",
        "colab": {}
      },
      "source": [
        "from sklearn.feature_extraction.text import TfidfVectorizer"
      ],
      "execution_count": null,
      "outputs": []
    },
    {
      "cell_type": "code",
      "metadata": {
        "id": "FL6BI791J80Q",
        "colab_type": "code",
        "colab": {}
      },
      "source": [
        "tfidf_vect = TfidfVectorizer(analyzer=clean_text)\n",
        "tfidf_vect_fit = tfidf_vect.fit(X_train['text'])\n",
        "\n",
        "tfidf_train = tfidf_vect_fit.transform(X_train['text'])\n",
        "tfidf_test = tfidf_vect_fit.transform(X_test['text'])\n",
        "\n",
        "X_train_vect = pd.concat([X_train[[ 'length','punct %']].reset_index(drop=True), \n",
        "           pd.DataFrame(tfidf_train.toarray())], axis=1)\n",
        "X_test_vect = pd.concat([X_test[[ 'length','punct %']].reset_index(drop=True), \n",
        "           pd.DataFrame(tfidf_test.toarray())], axis=1)\n",
        "\n",
        "X_train_vect.head()"
      ],
      "execution_count": null,
      "outputs": []
    },
    {
      "cell_type": "code",
      "metadata": {
        "id": "vx7-uSbkJ80R",
        "colab_type": "code",
        "colab": {}
      },
      "source": [
        "import time\n",
        "from sklearn.metrics import precision_recall_fscore_support as score\n",
        "rf = RandomForestClassifier(n_estimators=150, max_depth=None, n_jobs=-1)\n",
        "\n",
        "start = time.time()\n",
        "rf_model = rf.fit(X_train_vect, y_train)\n",
        "end = time.time()\n",
        "fit_time = (end - start)\n",
        "\n",
        "start = time.time()\n",
        "y_pred = rf_model.predict(X_test_vect)\n",
        "end = time.time()\n",
        "pred_time = (end - start)\n",
        "\n",
        "precision, recall, fscore, train_support = score(y_test, y_pred, average='binary')\n",
        "print('Fit time: {} / Predict time: {} ---- Precision: {} / Recall: {} / Accuracy: {}'.format(\n",
        "    round(fit_time, 3), round(pred_time, 3), round(precision, 3), round(recall, 3), round((y_pred==y_test).sum()/len(y_pred), 3)))"
      ],
      "execution_count": null,
      "outputs": []
    },
    {
      "cell_type": "code",
      "metadata": {
        "id": "PLJXnCQ7J80S",
        "colab_type": "code",
        "colab": {}
      },
      "source": [
        "print(confusion_matrix(y_test,y_pred))"
      ],
      "execution_count": null,
      "outputs": []
    },
    {
      "cell_type": "code",
      "metadata": {
        "id": "mwGHr-B8J80T",
        "colab_type": "code",
        "colab": {}
      },
      "source": [
        "import time\n",
        "from sklearn.metrics import precision_recall_fscore_support as score\n",
        "gb = GradientBoostingClassifier(n_estimators=300, max_depth=20)\n",
        "\n",
        "start = time.time()\n",
        "rf_model = rf.fit(X_train_vect, y_train)\n",
        "end = time.time()\n",
        "fit_time = (end - start)\n",
        "\n",
        "start = time.time()\n",
        "y_pred = rf_model.predict(X_test_vect)\n",
        "end = time.time()\n",
        "pred_time = (end - start)\n",
        "\n",
        "precision, recall, fscore, train_support = score(y_test, y_pred, average='binary')\n",
        "print('Fit time: {} / Predict time: {} ---- Precision: {} / Recall: {} / Accuracy: {}'.format(\n",
        "    round(fit_time, 3), round(pred_time, 3), round(precision, 3), round(recall, 3), round((y_pred==y_test).sum()/len(y_pred), 3)))\n",
        "\n",
        "print(confusion_matrix(y_pred,y_test))"
      ],
      "execution_count": null,
      "outputs": []
    }
  ]
}